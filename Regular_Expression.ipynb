{
 "cells": [
  {
   "cell_type": "code",
   "execution_count": 10,
   "id": "c21c4047",
   "metadata": {},
   "outputs": [
    {
     "name": "stdout",
     "output_type": "stream",
     "text": [
      "Python:Excercises:PHP:Excercises:\n"
     ]
    }
   ],
   "source": [
    "# 1 write a python program to replace all the occurances of space ,coma or dot with colon \n",
    "import regex as re\n",
    "sample_text='Python Excercises,PHP Excercises.'\n",
    "pattern=r'[ ,.]'\n",
    "match=re.sub(pattern, ':',sample_text)\n",
    "print(match)"
   ]
  },
  {
   "cell_type": "code",
   "execution_count": 18,
   "id": "3feadc29",
   "metadata": {},
   "outputs": [],
   "source": [
    "# 2 create a dataframe using the dictionery below and remove everything (commas(,),!,XXXX,;) from column except words\n",
    "import pandas as pd\n",
    "dict={'Summary':['hello,world','XXXXXtest','123four,five:;six...']}"
   ]
  },
  {
   "cell_type": "code",
   "execution_count": 19,
   "id": "5286cbba",
   "metadata": {},
   "outputs": [],
   "source": [
    "df=pd.DataFrame(dict)"
   ]
  },
  {
   "cell_type": "raw",
   "id": "36170100",
   "metadata": {},
   "source": [
    "df\n"
   ]
  },
  {
   "cell_type": "code",
   "execution_count": 30,
   "id": "595b2fe6",
   "metadata": {},
   "outputs": [
    {
     "name": "stdout",
     "output_type": "stream",
     "text": [
      "       Summary\n",
      "0   helloworld\n",
      "1         test\n",
      "2  fourfivesix\n"
     ]
    },
    {
     "name": "stderr",
     "output_type": "stream",
     "text": [
      "C:\\Users\\a\\AppData\\Local\\Temp\\ipykernel_13064\\792135694.py:1: FutureWarning: The default value of regex will change from True to False in a future version.\n",
      "  df['Summary']=df['Summary'].str.replace(r'[ X,!:;.0-9]+','')\n"
     ]
    }
   ],
   "source": [
    "df['Summary']=df['Summary'].str.replace(r'[ X,!:;.0-9]+','')\n",
    "\n",
    "print(df)"
   ]
  },
  {
   "cell_type": "code",
   "execution_count": 47,
   "id": "0c2a5c84",
   "metadata": {},
   "outputs": [
    {
     "name": "stdout",
     "output_type": "stream",
     "text": [
      "<class '_regex.Pattern'> \n",
      "\n",
      "words with 4 charcter : ['RegE', 'powe', 'rful', 'tool', 'patt', 'matc', 'hing', 'text', 'mani', 'pula', 'tion']\n"
     ]
    }
   ],
   "source": [
    "# 3  create a function in python to find all words that are atleast 4 characters long in a string use re.compile\n",
    "text='RegEx is a powerful tool for pattern matching and text manipulation'\n",
    "pattern=r'\\w{4}' \n",
    "\n",
    "regex_match=re.compile(pattern)\n",
    "\n",
    "print(type(regex_match),'\\n')\n",
    "result=regex_match.findall(text)\n",
    "\n",
    "print('words with 4 charcter :',result)"
   ]
  },
  {
   "cell_type": "code",
   "execution_count": 48,
   "id": "b6030be2",
   "metadata": {},
   "outputs": [
    {
     "name": "stdout",
     "output_type": "stream",
     "text": [
      "<class '_regex.Pattern'> \n",
      "\n",
      "words with 3 charcter : ['Reg', 'pow', 'erf', 'too', 'for', 'pat', 'ter', 'mat', 'chi', 'and', 'tex', 'man', 'ipu', 'lat', 'ion']\n",
      "words with 4 charcter : ['RegE', 'powe', 'rful', 'tool', 'patt', 'matc', 'hing', 'text', 'mani', 'pula', 'tion']\n",
      "words with 5 charcter : ['RegEx', 'power', 'patte', 'match', 'manip', 'ulati']\n"
     ]
    }
   ],
   "source": [
    "# 4 create a function in python to find all words that are atleast 3,4,5 characters long in a string use re.compile\n",
    "text='RegEx is a powerful tool for pattern matching and text manipulation'\n",
    "pattern=r'\\w{3}' \n",
    "pattern1=r'\\w{4}' \n",
    "pattern2=r'\\w{5}' \n",
    "regex_match=re.compile(pattern)\n",
    "regex_match1=re.compile(pattern1)\n",
    "regex_match2=re.compile(pattern2)\n",
    "print(type(regex_match),'\\n')\n",
    "result=regex_match.findall(text)\n",
    "result1=regex_match1.findall(text)\n",
    "result2=regex_match2.findall(text)\n",
    "print('words with 3 charcter :',result)\n",
    "print('words with 4 charcter :',result1)\n",
    "print('words with 5 charcter :',result2)"
   ]
  },
  {
   "cell_type": "code",
   "execution_count": 50,
   "id": "8a065b12",
   "metadata": {},
   "outputs": [
    {
     "name": "stdout",
     "output_type": "stream",
     "text": [
      "cleaned string  ['Example', 'hr@fliprobo', 'Hello', 'Data']\n"
     ]
    }
   ],
   "source": [
    "# 5 create a regex function in python to remove the paranthesis in listof string  the use of re.compile() is mandatory \n",
    "text=['Example(.com)','hr@fliprobo(.com)','Hello(Data science world)','Data(scientist)']\n",
    "pattern=re.compile(r'\\([^)]*\\)')\n",
    "result=[pattern.sub('',s) for s in text]\n",
    "print('cleaned string ',result)"
   ]
  },
  {
   "cell_type": "code",
   "execution_count": 64,
   "id": "409e9a0a",
   "metadata": {},
   "outputs": [
    {
     "name": "stdout",
     "output_type": "stream",
     "text": [
      "cleaned string  Example.com\n",
      "cleaned string  hr@fliprobo.com\n",
      "cleaned string  HelloData science world\n",
      "cleaned string  Datascientist\n"
     ]
    }
   ],
   "source": [
    "# 5 create a regex function in python to remove the paranthesis in listof string  the use of re.compile() is mandatory \n",
    "text=['Example(.com)','hr@fliprobo(.com)','Hello(Data science world)','Data(scientist)']\n",
    "pattern=re.compile(r'[()]')\n",
    "for s in text:\n",
    "    result=pattern.sub('',s) \n",
    "    print('cleaned string ',result)"
   ]
  },
  {
   "cell_type": "code",
   "execution_count": 106,
   "id": "951a3d4e",
   "metadata": {},
   "outputs": [
    {
     "name": "stdout",
     "output_type": "stream",
     "text": [
      "cleaned string  E.\n",
      "cleaned string  @.\n",
      "cleaned string  HD  \n",
      "cleaned string  D\n"
     ]
    }
   ],
   "source": [
    "# 6 create regex python program to remove the paranthesis in a area from text stored in the text file\n",
    "\n",
    "text=['Example(.com)','hr@fliprobo(.com)','Hello(Data science world)','Data(scientist)']\n",
    "pattern=re.compile(r'[(\\b)]')\n",
    "for s in text:\n",
    "    result=pattern.sub('',s) \n",
    "    print('cleaned string ',result)\n"
   ]
  },
  {
   "cell_type": "code",
   "execution_count": 128,
   "id": "fa411993",
   "metadata": {},
   "outputs": [
    {
     "name": "stdout",
     "output_type": "stream",
     "text": [
      "['', 'Importance', 'Of', 'Regular', 'Expressionsin', 'Python ']\n"
     ]
    }
   ],
   "source": [
    "# 7 write a regex patternin python to split a string into uppercase letter\n",
    "\n",
    "text='ImportanceOfRegularExpressionsinPython '\n",
    "\n",
    "result=re.split(r'(?=[A-Z])',text)\n",
    "print(result)\n"
   ]
  },
  {
   "cell_type": "code",
   "execution_count": null,
   "id": "5fdab561",
   "metadata": {},
   "outputs": [],
   "source": []
  },
  {
   "cell_type": "code",
   "execution_count": 134,
   "id": "659f8a4e",
   "metadata": {},
   "outputs": [
    {
     "name": "stdout",
     "output_type": "stream",
     "text": [
      "['RegularExpression', '1IsAn', '2ImportantTopic', '3InPython ']\n"
     ]
    }
   ],
   "source": [
    "#8 ceeate a function in python to insert spacesbetween words starting with numbers\n",
    "\n",
    "text='RegularExpression1IsAn2ImportantTopic3InPython '\n",
    "\n",
    "result=re.split(r'(?=[0-9])',text)\n",
    "print(result)"
   ]
  },
  {
   "cell_type": "code",
   "execution_count": 142,
   "id": "e8a6f620",
   "metadata": {},
   "outputs": [
    {
     "name": "stdout",
     "output_type": "stream",
     "text": [
      "RegularExpression\u00011IsAn\u00012ImportantTopic\u00013InPython\n"
     ]
    }
   ],
   "source": [
    "text='RegularExpression1IsAn2ImportantTopic3InPython '\n",
    "\n",
    "result=re.sub(r'(?=[0-9])','\\1',text)\n",
    "result=result[:-1]\n",
    "print(result)"
   ]
  },
  {
   "cell_type": "code",
   "execution_count": 145,
   "id": "adc4c1a4",
   "metadata": {},
   "outputs": [
    {
     "name": "stdout",
     "output_type": "stream",
     "text": [
      "\u0001Regular\u0001Expression\u00011\u0001Is\u0001An\u00012\u0001Important\u0001Topic\u00013\u0001In\u0001Python \n"
     ]
    }
   ],
   "source": [
    "#9 ceeate a function in python to insert spacesbetween words starting with capital letters or numbers\n",
    "text='RegularExpression1IsAn2ImportantTopic3InPython '\n",
    "result=re.sub(r'(?=[0-9A-Z])','\\1',text)\n",
    "print(result)"
   ]
  },
  {
   "cell_type": "code",
   "execution_count": 148,
   "id": "df117f70",
   "metadata": {},
   "outputs": [],
   "source": [
    "# 10 use the below to read github link to read and creste dataframe .after creating dataframe extract first 6 letters of each country and store in the dtata frame under new column called first_five_letters\n",
    "import pandas as pd\n",
    "import regex as re\n",
    "df=pd.read_csv('https://raw.githubusercontent.com/dsrscientist/DSData/master/happiness_score_dataset.csv')\n",
    "data=pd.DataFrame(df)"
   ]
  },
  {
   "cell_type": "code",
   "execution_count": 149,
   "id": "d8b40c9f",
   "metadata": {
    "collapsed": true
   },
   "outputs": [
    {
     "data": {
      "text/html": [
       "<div>\n",
       "<style scoped>\n",
       "    .dataframe tbody tr th:only-of-type {\n",
       "        vertical-align: middle;\n",
       "    }\n",
       "\n",
       "    .dataframe tbody tr th {\n",
       "        vertical-align: top;\n",
       "    }\n",
       "\n",
       "    .dataframe thead th {\n",
       "        text-align: right;\n",
       "    }\n",
       "</style>\n",
       "<table border=\"1\" class=\"dataframe\">\n",
       "  <thead>\n",
       "    <tr style=\"text-align: right;\">\n",
       "      <th></th>\n",
       "      <th>Country</th>\n",
       "      <th>Region</th>\n",
       "      <th>Happiness Rank</th>\n",
       "      <th>Happiness Score</th>\n",
       "      <th>Standard Error</th>\n",
       "      <th>Economy (GDP per Capita)</th>\n",
       "      <th>Family</th>\n",
       "      <th>Health (Life Expectancy)</th>\n",
       "      <th>Freedom</th>\n",
       "      <th>Trust (Government Corruption)</th>\n",
       "      <th>Generosity</th>\n",
       "      <th>Dystopia Residual</th>\n",
       "    </tr>\n",
       "  </thead>\n",
       "  <tbody>\n",
       "    <tr>\n",
       "      <th>0</th>\n",
       "      <td>Switzerland</td>\n",
       "      <td>Western Europe</td>\n",
       "      <td>1</td>\n",
       "      <td>7.587</td>\n",
       "      <td>0.03411</td>\n",
       "      <td>1.39651</td>\n",
       "      <td>1.34951</td>\n",
       "      <td>0.94143</td>\n",
       "      <td>0.66557</td>\n",
       "      <td>0.41978</td>\n",
       "      <td>0.29678</td>\n",
       "      <td>2.51738</td>\n",
       "    </tr>\n",
       "    <tr>\n",
       "      <th>1</th>\n",
       "      <td>Iceland</td>\n",
       "      <td>Western Europe</td>\n",
       "      <td>2</td>\n",
       "      <td>7.561</td>\n",
       "      <td>0.04884</td>\n",
       "      <td>1.30232</td>\n",
       "      <td>1.40223</td>\n",
       "      <td>0.94784</td>\n",
       "      <td>0.62877</td>\n",
       "      <td>0.14145</td>\n",
       "      <td>0.43630</td>\n",
       "      <td>2.70201</td>\n",
       "    </tr>\n",
       "    <tr>\n",
       "      <th>2</th>\n",
       "      <td>Denmark</td>\n",
       "      <td>Western Europe</td>\n",
       "      <td>3</td>\n",
       "      <td>7.527</td>\n",
       "      <td>0.03328</td>\n",
       "      <td>1.32548</td>\n",
       "      <td>1.36058</td>\n",
       "      <td>0.87464</td>\n",
       "      <td>0.64938</td>\n",
       "      <td>0.48357</td>\n",
       "      <td>0.34139</td>\n",
       "      <td>2.49204</td>\n",
       "    </tr>\n",
       "    <tr>\n",
       "      <th>3</th>\n",
       "      <td>Norway</td>\n",
       "      <td>Western Europe</td>\n",
       "      <td>4</td>\n",
       "      <td>7.522</td>\n",
       "      <td>0.03880</td>\n",
       "      <td>1.45900</td>\n",
       "      <td>1.33095</td>\n",
       "      <td>0.88521</td>\n",
       "      <td>0.66973</td>\n",
       "      <td>0.36503</td>\n",
       "      <td>0.34699</td>\n",
       "      <td>2.46531</td>\n",
       "    </tr>\n",
       "    <tr>\n",
       "      <th>4</th>\n",
       "      <td>Canada</td>\n",
       "      <td>North America</td>\n",
       "      <td>5</td>\n",
       "      <td>7.427</td>\n",
       "      <td>0.03553</td>\n",
       "      <td>1.32629</td>\n",
       "      <td>1.32261</td>\n",
       "      <td>0.90563</td>\n",
       "      <td>0.63297</td>\n",
       "      <td>0.32957</td>\n",
       "      <td>0.45811</td>\n",
       "      <td>2.45176</td>\n",
       "    </tr>\n",
       "  </tbody>\n",
       "</table>\n",
       "</div>"
      ],
      "text/plain": [
       "       Country          Region  Happiness Rank  Happiness Score  \\\n",
       "0  Switzerland  Western Europe               1            7.587   \n",
       "1      Iceland  Western Europe               2            7.561   \n",
       "2      Denmark  Western Europe               3            7.527   \n",
       "3       Norway  Western Europe               4            7.522   \n",
       "4       Canada   North America               5            7.427   \n",
       "\n",
       "   Standard Error  Economy (GDP per Capita)   Family  \\\n",
       "0         0.03411                   1.39651  1.34951   \n",
       "1         0.04884                   1.30232  1.40223   \n",
       "2         0.03328                   1.32548  1.36058   \n",
       "3         0.03880                   1.45900  1.33095   \n",
       "4         0.03553                   1.32629  1.32261   \n",
       "\n",
       "   Health (Life Expectancy)  Freedom  Trust (Government Corruption)  \\\n",
       "0                   0.94143  0.66557                        0.41978   \n",
       "1                   0.94784  0.62877                        0.14145   \n",
       "2                   0.87464  0.64938                        0.48357   \n",
       "3                   0.88521  0.66973                        0.36503   \n",
       "4                   0.90563  0.63297                        0.32957   \n",
       "\n",
       "   Generosity  Dystopia Residual  \n",
       "0     0.29678            2.51738  \n",
       "1     0.43630            2.70201  \n",
       "2     0.34139            2.49204  \n",
       "3     0.34699            2.46531  \n",
       "4     0.45811            2.45176  "
      ]
     },
     "execution_count": 149,
     "metadata": {},
     "output_type": "execute_result"
    }
   ],
   "source": [
    "data.head()"
   ]
  },
  {
   "cell_type": "code",
   "execution_count": 150,
   "id": "16f10375",
   "metadata": {},
   "outputs": [
    {
     "data": {
      "text/plain": [
       "0    Switzerland\n",
       "1        Iceland\n",
       "2        Denmark\n",
       "3         Norway\n",
       "4         Canada\n",
       "Name: Country, dtype: object"
      ]
     },
     "execution_count": 150,
     "metadata": {},
     "output_type": "execute_result"
    }
   ],
   "source": [
    "data['Country'].head()"
   ]
  },
  {
   "cell_type": "code",
   "execution_count": 158,
   "id": "35dd9c32",
   "metadata": {},
   "outputs": [],
   "source": [
    "pattern=r'(\\w{6})'\n",
    "first_five_letters=data['Country'].str.extract(pattern,expand=False)"
   ]
  },
  {
   "cell_type": "code",
   "execution_count": 159,
   "id": "b2295f78",
   "metadata": {
    "collapsed": true
   },
   "outputs": [
    {
     "data": {
      "text/plain": [
       "0      Switze\n",
       "1      Icelan\n",
       "2      Denmar\n",
       "3      Norway\n",
       "4      Canada\n",
       "        ...  \n",
       "153    Rwanda\n",
       "154       NaN\n",
       "155       NaN\n",
       "156    Burund\n",
       "157       NaN\n",
       "Name: Country, Length: 158, dtype: object"
      ]
     },
     "execution_count": 159,
     "metadata": {},
     "output_type": "execute_result"
    }
   ],
   "source": [
    "first_five_letters"
   ]
  },
  {
   "cell_type": "code",
   "execution_count": 165,
   "id": "7f09b1b3",
   "metadata": {},
   "outputs": [
    {
     "name": "stdout",
     "output_type": "stream",
     "text": [
      "['Virat', 'Kohli', 'is', 'a', 'cricketer', 'born', 'on', 'Nov_5', '1988']\n"
     ]
    }
   ],
   "source": [
    "# 11 write a python program tomatch a stringthat contains only upper and lowwercase letters  ,numbers ,underscore\n",
    "text='Virat Kohli is a cricketer born on Nov_5 1988 '\n",
    "pattern=r'(\\w+)'\n",
    "result=re.findall(pattern,text)\n",
    "print(result)"
   ]
  },
  {
   "cell_type": "code",
   "execution_count": 226,
   "id": "6ca3cc91",
   "metadata": {},
   "outputs": [
    {
     "name": "stdout",
     "output_type": "stream",
     "text": [
      "<regex.Match object; span=(0, 17), match='1 apple cost 60 r'>\n"
     ]
    }
   ],
   "source": [
    "# 12 write a python program where a string start with a specific number\n",
    "text='1 apple cost 60 rs'\n",
    "pattern=r'(^1\\s+).+(\\b[a-zA-Z])'\n",
    "result=re.match(pattern,text)\n",
    "print(result)"
   ]
  },
  {
   "cell_type": "code",
   "execution_count": 219,
   "id": "0418a936",
   "metadata": {},
   "outputs": [
    {
     "name": "stdout",
     "output_type": "stream",
     "text": [
      "https://www.youtube.com/watch?v=qWq4J6ZfDA\n"
     ]
    }
   ],
   "source": [
    "# 13 write a python program to remove leading  zeros from IP address\n",
    "text='https://www.youtube.com/watch?v=qWq40J6ZfDA'\n",
    "result=re.sub(r'(0)','',text)\n",
    "print(result)"
   ]
  },
  {
   "cell_type": "code",
   "execution_count": 227,
   "id": "da40a8b0",
   "metadata": {},
   "outputs": [
    {
     "name": "stdout",
     "output_type": "stream",
     "text": [
      "['August 15 1947']\n"
     ]
    }
   ],
   "source": [
    "# 14 write a regex in python to match a date string in the form of month name followed by day number  and year stored in a textfile\n",
    "text='On August 15 1947 that india was declared independent from British colonialism and reins of control were handed over to the leaders of the country'\n",
    "pattern=r'(?:January|February|March|April|May|June|July|August|September|November|December)\\s+\\d[0-9]\\s+\\d{4}\\b'\n",
    "result=re.findall(pattern,text)\n",
    "print(result)"
   ]
  },
  {
   "cell_type": "code",
   "execution_count": 260,
   "id": "3ebe954d",
   "metadata": {},
   "outputs": [
    {
     "name": "stdout",
     "output_type": "stream",
     "text": [
      "['fox']\n",
      "['dog']\n"
     ]
    }
   ],
   "source": [
    "# 15 write a python program to search some literals strings in a string\n",
    "text='The quick brown fox jumps over the lazy dog'\n",
    "pattern=r'(\\bfox\\b)' \n",
    "pattern1=r'(\\bdog\\b)'\n",
    "\n",
    "result=re.findall(pattern,text)\n",
    "result1=re.findall(pattern1,text)\n",
    "print(result)\n",
    "print(result1)"
   ]
  },
  {
   "cell_type": "code",
   "execution_count": 261,
   "id": "02a8f491",
   "metadata": {},
   "outputs": [
    {
     "name": "stdout",
     "output_type": "stream",
     "text": [
      "<regex.Match object; span=(16, 19), match='fox'>\n"
     ]
    }
   ],
   "source": [
    "# 16 write a python program to search some literals in a string and also find location within the string where the pattern occurs\n",
    "text='The quick brown fox jumps over the lazy dog'\n",
    "pattern=r'(\\bfox\\b)'\n",
    "result=re.search(pattern,text)\n",
    "print(result)"
   ]
  },
  {
   "cell_type": "code",
   "execution_count": 304,
   "id": "21542dc4",
   "metadata": {},
   "outputs": [
    {
     "name": "stdout",
     "output_type": "stream",
     "text": [
      "exercises\n",
      "exercises\n",
      "exercises\n"
     ]
    }
   ],
   "source": [
    "# 17 write a python program to find substrings with in a string\n",
    "text='Python exercises,PHP exercises,c#exercises'\n",
    "pattern=r'\\b\\w*exercises\\w*\\b'\n",
    "matches=re.findall(pattern,text)\n",
    "for match in matches:\n",
    "    print(match)\n",
    "\n",
    "    \n",
    "  "
   ]
  },
  {
   "cell_type": "code",
   "execution_count": 309,
   "id": "e7e50601",
   "metadata": {},
   "outputs": [
    {
     "name": "stdout",
     "output_type": "stream",
     "text": [
      "<regex.Match object; span=(7, 16), match='exercises'>\n"
     ]
    }
   ],
   "source": [
    "# 18 write a python program to find occurance and position of the substrings with in a string\n",
    "text='Python exercises,PHP exercises,c#exercises'\n",
    "pattern=r'\\b\\w*exercises\\w*\\b'\n",
    "matches=re.search(pattern,text)\n",
    "print(matches)"
   ]
  },
  {
   "cell_type": "code",
   "execution_count": 313,
   "id": "b6e35ee9",
   "metadata": {},
   "outputs": [
    {
     "name": "stdout",
     "output_type": "stream",
     "text": [
      "date of birth 22-08-1944\n"
     ]
    }
   ],
   "source": [
    "#19 write a python program to convert a date of yyyy-mm-dd to dd-mm-yyyy format\n",
    "text='date of birth 1944-08-22'\n",
    "pattern=r'\\b(\\d{4})-\\b(\\d{2})-\\b(\\d{2})\\b'\n",
    "result=re.sub(pattern,r'\\3-\\2-\\1',text)\n",
    "print(result)"
   ]
  },
  {
   "cell_type": "code",
   "execution_count": 11,
   "id": "373f774f",
   "metadata": {},
   "outputs": [
    {
     "name": "stdout",
     "output_type": "stream",
     "text": [
      "['01.22', '145.8', '3.01', '27.55', '0.25']\n"
     ]
    }
   ],
   "source": [
    "# 20 create a function in python to find all decimal numbers with precision of 1 or 2 in a string the use of re.compile() methodmandatory\n",
    "\n",
    "import regex as re\n",
    "text='01.22 0123.123 2.3187 145.8 3.01 27.55 0.25'\n",
    "reg_pattern=re.compile(r'\\b\\d+\\.\\d{1,2}\\b')\n",
    "result=reg_pattern.findall(text)\n",
    "print(result)"
   ]
  },
  {
   "cell_type": "code",
   "execution_count": 18,
   "id": "db681146",
   "metadata": {},
   "outputs": [
    {
     "name": "stdout",
     "output_type": "stream",
     "text": [
      "number : 12 , position : (0,2)\n",
      "number : 25 , position : (3,5)\n",
      "number : 478 , position : (6,9)\n",
      "number : 542 , position : (10,13)\n"
     ]
    }
   ],
   "source": [
    "# 21 write a pyton program to separate and print numbers and their positions of a given string\n",
    "text='12 25 478 542'\n",
    "pattern=r'\\b\\d+\\b'\n",
    "matches=re.finditer(pattern,text)\n",
    "for match in matches:\n",
    "    number=match.group()\n",
    "    start_position=match.start()\n",
    "    end_position=match.end()\n",
    "    print(f'number : {number} , position : ({start_position},{end_position})')"
   ]
  },
  {
   "cell_type": "code",
   "execution_count": 42,
   "id": "ed9f0b39",
   "metadata": {},
   "outputs": [
    {
     "name": "stdout",
     "output_type": "stream",
     "text": [
      "number : 947\n",
      "number : 896\n",
      "number : 524\n",
      "number : 734\n",
      "number : 950\n",
      "number : 642\n"
     ]
    }
   ],
   "source": [
    "\n",
    "text='my marks in each semester are : 947,896,524,734,950,642'\n",
    "pattern=r'\\b\\d+\\b'\n",
    "\n",
    "matches=re.findall(pattern,text)\n",
    "\n",
    "for match in matches:\n",
    "    number=match\n",
    "    print('number :',number)\n",
    "    \n",
    "    \n",
    "    \n"
   ]
  },
  {
   "cell_type": "code",
   "execution_count": 41,
   "id": "b0385690",
   "metadata": {},
   "outputs": [
    {
     "name": "stdout",
     "output_type": "stream",
     "text": [
      "maximum number :950\n"
     ]
    }
   ],
   "source": [
    "# 22 write a regex in python program to extract maximum or largest number from a string\n",
    "text='my marks in each semester are : 947,896,524,734,950,642'\n",
    "pattern=r'\\b\\d+\\b'\n",
    "\n",
    "matches=(re.findall(pattern,text))\n",
    "\n",
    "numbers=[int(match) for match in matches]\n",
    "if numbers:\n",
    "    max_number=max(numbers)\n",
    "    print(f'maximum number :{max_number}')\n",
    "    "
   ]
  },
  {
   "cell_type": "code",
   "execution_count": 48,
   "id": "949711aa",
   "metadata": {},
   "outputs": [
    {
     "name": "stdout",
     "output_type": "stream",
     "text": [
      "Regular Expression Is An Important Topic In Python\n"
     ]
    }
   ],
   "source": [
    "# 23 write a function in python to insert space between words strarting with capital letters \n",
    "import regex as re\n",
    "text='RegularExpressionIsAnImportantTopicInPython'\n",
    "\n",
    "result=re.sub(r'([a-z])([A-Z])',r'\\1 \\2',text)\n",
    "print(result)"
   ]
  },
  {
   "cell_type": "code",
   "execution_count": 50,
   "id": "d1ab5ad4",
   "metadata": {},
   "outputs": [
    {
     "name": "stdout",
     "output_type": "stream",
     "text": [
      "[('R', 'e'), ('E', 'x'), ('I', 's'), ('A', 'n'), ('I', 'm'), ('T', 'o'), ('I', 'n'), ('P', 'y')]\n"
     ]
    }
   ],
   "source": [
    "# 24 python regex to find sequences of one uppercase letter followed by lowercase letters\n",
    "text='Regular Expression Is An Important Topic In Python'\n",
    "result=re.findall(r'([A-Z])([a-z])',text)\n",
    "print(result)"
   ]
  },
  {
   "cell_type": "code",
   "execution_count": 55,
   "id": "d660de11",
   "metadata": {},
   "outputs": [
    {
     "name": "stdout",
     "output_type": "stream",
     "text": [
      "Hello hello world\n"
     ]
    }
   ],
   "source": [
    "# 25 write a python program to remove continuous duplicate words from sentence using regex\n",
    "string='Hello hello world world'\n",
    "regex=r'\\b(\\w+)\\s+\\1\\b'\n",
    "x=re.sub(regex,r'\\1',string)\n",
    "print(x)\n"
   ]
  },
  {
   "cell_type": "code",
   "execution_count": null,
   "id": "a99c3cf6",
   "metadata": {},
   "outputs": [],
   "source": []
  }
 ],
 "metadata": {
  "kernelspec": {
   "display_name": "Python 3 (ipykernel)",
   "language": "python",
   "name": "python3"
  },
  "language_info": {
   "codemirror_mode": {
    "name": "ipython",
    "version": 3
   },
   "file_extension": ".py",
   "mimetype": "text/x-python",
   "name": "python",
   "nbconvert_exporter": "python",
   "pygments_lexer": "ipython3",
   "version": "3.10.9"
  }
 },
 "nbformat": 4,
 "nbformat_minor": 5
}
