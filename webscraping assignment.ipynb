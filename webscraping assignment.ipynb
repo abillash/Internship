{
 "cells": [
  {
   "cell_type": "code",
   "execution_count": null,
   "id": "a4ea9f12",
   "metadata": {},
   "outputs": [],
   "source": [
    "!pip install bs4\n",
    "!pip install requests"
   ]
  },
  {
   "cell_type": "code",
   "execution_count": 153,
   "id": "cf7023ec",
   "metadata": {},
   "outputs": [],
   "source": [
    "# write a python program to display all the header tags  from wipipedia.org and make a dataframe\n",
    "from bs4 import BeautifulSoup\n",
    "import requests\n",
    "import pandas as pd\n",
    "import regex as re"
   ]
  },
  {
   "cell_type": "code",
   "execution_count": 210,
   "id": "ce2d27a0",
   "metadata": {},
   "outputs": [
    {
     "data": {
      "text/plain": [
       "<Response [200]>"
      ]
     },
     "execution_count": 210,
     "metadata": {},
     "output_type": "execute_result"
    }
   ],
   "source": [
    "page=requests.get('https://en.wikipedia.org/wiki/Main_Page')\n",
    "page"
   ]
  },
  {
   "cell_type": "code",
   "execution_count": 211,
   "id": "10ef5f5e",
   "metadata": {},
   "outputs": [
    {
     "name": "stdout",
     "output_type": "stream",
     "text": [
      "                         Headers\n",
      "0                      Main Page\n",
      "1           Welcome to Wikipedia\n",
      "2  From today's featured article\n",
      "3               Did you know ...\n",
      "4                    In the news\n",
      "5                    On this day\n",
      "6       Today's featured picture\n",
      "7       Other areas of Wikipedia\n",
      "8    Wikipedia's sister projects\n",
      "9            Wikipedia languages\n"
     ]
    }
   ],
   "source": [
    "soup=BeautifulSoup(page.content)\n",
    "headers=[]\n",
    "for tag in soup.find_all(re.compile(r'h[1-6]$')):\n",
    "    headers.append(tag.text.strip())\n",
    "df=pd.DataFrame({'Headers':headers})\n",
    "print(df)"
   ]
  },
  {
   "cell_type": "code",
   "execution_count": 36,
   "id": "c5b911be",
   "metadata": {
    "collapsed": true
   },
   "outputs": [
    {
     "name": "stdout",
     "output_type": "stream",
     "text": [
      "  Headers\n",
      "0      []\n",
      "1      []\n",
      "2      []\n",
      "3      []\n",
      "4      []\n",
      "5      []\n"
     ]
    }
   ],
   "source": [
    "\n",
    "    \n"
   ]
  },
  {
   "cell_type": "code",
   "execution_count": 212,
   "id": "316b1954",
   "metadata": {},
   "outputs": [],
   "source": [
    "#2 write  a python program to display list of  respected former presidents of india (name, term of office)\n",
    "page=requests.get('https://presidentofindia.nic.in/former-presidents')"
   ]
  },
  {
   "cell_type": "code",
   "execution_count": 213,
   "id": "7ac425d7",
   "metadata": {},
   "outputs": [
    {
     "data": {
      "text/plain": [
       "<Response [200]>"
      ]
     },
     "execution_count": 213,
     "metadata": {},
     "output_type": "execute_result"
    }
   ],
   "source": [
    "page"
   ]
  },
  {
   "cell_type": "code",
   "execution_count": 55,
   "id": "2cab595f",
   "metadata": {
    "collapsed": true
   },
   "outputs": [
    {
     "ename": "SyntaxError",
     "evalue": "invalid syntax (1843409648.py, line 3)",
     "output_type": "error",
     "traceback": [
      "\u001b[1;36m  Cell \u001b[1;32mIn[55], line 3\u001b[1;36m\u001b[0m\n\u001b[1;33m    for i in soup.find_all(split(re.compile(r'[0-9]')('div',class_='desc-sec'):\u001b[0m\n\u001b[1;37m                                                                              ^\u001b[0m\n\u001b[1;31mSyntaxError\u001b[0m\u001b[1;31m:\u001b[0m invalid syntax\n"
     ]
    }
   ],
   "source": []
  },
  {
   "cell_type": "code",
   "execution_count": 214,
   "id": "e85bea80",
   "metadata": {
    "collapsed": true
   },
   "outputs": [
    {
     "data": {
      "text/plain": [
       "['\\nShri Ram Nath Kovind\\n14th President of India\\n',\n",
       " '\\nShri Pranab Mukherjee\\n13th President of India\\n',\n",
       " '\\nSmt Pratibha Devisingh Patil\\n12th President of India\\n',\n",
       " '\\nDR. A.P.J. Abdul Kalam\\n11th President of India\\n',\n",
       " '\\nShri K. R. Narayanan\\n10th President of India\\n',\n",
       " '\\nDr Shankar Dayal Sharma\\n9th  President of India\\n',\n",
       " '\\nShri R Venkataraman\\n8th President of India\\n',\n",
       " '\\nGiani Zail Singh\\n7th President of India\\n',\n",
       " '\\nShri Neelam Sanjiva Reddy\\n6th President of India\\n',\n",
       " '\\nDr. Fakhruddin Ali Ahmed\\n5th President of India\\n',\n",
       " '\\nShri Varahagiri Venkata Giri\\n4th President of India\\n',\n",
       " '\\nDr. Zakir Husain\\n3rd President of India\\n',\n",
       " '\\nDr. Sarvepalli Radhakrishnan\\n2nd President of India\\n',\n",
       " '\\nDr. Rajendra Prasad\\n1st President of India\\n']"
      ]
     },
     "execution_count": 214,
     "metadata": {},
     "output_type": "execute_result"
    }
   ],
   "source": [
    "soup=BeautifulSoup(page.content)\n",
    "name=[]\n",
    "for i in soup.find_all('div',class_='desc-sec'): \n",
    "    name.append(i.text)\n",
    "    \n",
    "name"
   ]
  },
  {
   "cell_type": "code",
   "execution_count": 126,
   "id": "46aef355",
   "metadata": {},
   "outputs": [
    {
     "name": "stdout",
     "output_type": "stream",
     "text": [
      "['Shri Ram Nath Kovind14th President of India', 'Shri Pranab Mukherjee13th President of India', 'Smt Pratibha Devisingh Patil12th President of India', 'DR. A.P.J. Abdul Kalam11th President of India', 'Shri K. R. Narayanan10th President of India', 'Dr Shankar Dayal Sharma9th  President of India', 'Shri R Venkataraman8th President of India', 'Giani Zail Singh7th President of India', 'Shri Neelam Sanjiva Reddy6th President of India', 'Dr. Fakhruddin Ali Ahmed5th President of India', 'Shri Varahagiri Venkata Giri4th President of India', 'Dr. Zakir Husain3rd President of India', 'Dr. Sarvepalli Radhakrishnan2nd President of India', 'Dr. Rajendra Prasad1st President of India']\n"
     ]
    }
   ],
   "source": [
    "clean_name=[word.replace('\\n','') for word in term]\n",
    "print(clean_name)\n",
    "    \n",
    "        "
   ]
  },
  {
   "cell_type": "code",
   "execution_count": 225,
   "id": "f29ad9a6",
   "metadata": {},
   "outputs": [
    {
     "data": {
      "text/plain": [
       "<Response [200]>"
      ]
     },
     "execution_count": 225,
     "metadata": {},
     "output_type": "execute_result"
    }
   ],
   "source": [
    "#3 write a python program to scrapcricket rankingfrom icici.com you have to make data frame\n",
    "page=requests.get('https://www.icc-cricket.com/rankings/mens/team-rankings/odi')\n",
    "page\n"
   ]
  },
  {
   "cell_type": "code",
   "execution_count": 138,
   "id": "babb4b32",
   "metadata": {
    "collapsed": true
   },
   "outputs": [
    {
     "data": {
      "text/plain": [
       "['Shri Ram Nath Kovind14th President of India',\n",
       " 'Shri Pranab Mukherjee13th President of India',\n",
       " 'Smt Pratibha Devisingh Patil12th President of India',\n",
       " 'DR. A.P.J. Abdul Kalam11th President of India',\n",
       " 'Shri K. R. Narayanan10th President of India',\n",
       " 'Dr Shankar Dayal Sharma9th  President of India',\n",
       " 'Shri R Venkataraman8th President of India',\n",
       " 'Giani Zail Singh7th President of India',\n",
       " 'Shri Neelam Sanjiva Reddy6th President of India',\n",
       " 'Dr. Fakhruddin Ali Ahmed5th President of India',\n",
       " 'Shri Varahagiri Venkata Giri4th President of India',\n",
       " 'Dr. Zakir Husain3rd President of India',\n",
       " 'Dr. Sarvepalli Radhakrishnan2nd President of India',\n",
       " 'Dr. Rajendra Prasad1st President of India']"
      ]
     },
     "execution_count": 138,
     "metadata": {},
     "output_type": "execute_result"
    }
   ],
   "source": []
  },
  {
   "cell_type": "code",
   "execution_count": 222,
   "id": "6577de5e",
   "metadata": {
    "collapsed": true
   },
   "outputs": [
    {
     "data": {
      "text/plain": [
       "['India',\n",
       " 'Australia',\n",
       " 'South Africa',\n",
       " 'Pakistan',\n",
       " 'New Zealand',\n",
       " 'England',\n",
       " 'Sri Lanka',\n",
       " 'Bangladesh',\n",
       " 'Afghanistan',\n",
       " 'West Indies',\n",
       " 'Zimbabwe',\n",
       " 'Scotland',\n",
       " 'Ireland',\n",
       " 'Netherlands',\n",
       " 'Nepal',\n",
       " 'Namibia',\n",
       " 'United States',\n",
       " 'Oman',\n",
       " 'UAE']"
      ]
     },
     "execution_count": 222,
     "metadata": {},
     "output_type": "execute_result"
    }
   ],
   "source": [
    "soup=BeautifulSoup(page.content)\n",
    "team=[]\n",
    "for i in soup.find_all('span',class_='u-hide-phablet'): \n",
    "    team.append(i.text)\n",
    "           \n",
    "team"
   ]
  },
  {
   "cell_type": "code",
   "execution_count": 223,
   "id": "1030f8b8",
   "metadata": {},
   "outputs": [
    {
     "data": {
      "text/plain": [
       "['55']"
      ]
     },
     "execution_count": 223,
     "metadata": {},
     "output_type": "execute_result"
    }
   ],
   "source": [
    "soup=BeautifulSoup(page.content)\n",
    "matches=[]\n",
    "for i in soup.find_all('td',class_='rankings-block__banner--matches'): \n",
    "    matches.append(i.text)\n",
    "matches"
   ]
  },
  {
   "cell_type": "code",
   "execution_count": 226,
   "id": "e4bae01c",
   "metadata": {},
   "outputs": [
    {
     "data": {
      "text/plain": [
       "['55',\n",
       " '42',\n",
       " '4,926',\n",
       " '34',\n",
       " '3,750',\n",
       " '36',\n",
       " '3,922',\n",
       " '43',\n",
       " '4,399',\n",
       " '38',\n",
       " '3,777',\n",
       " '47',\n",
       " '4,134',\n",
       " '44',\n",
       " '3,836',\n",
       " '30',\n",
       " '2,533',\n",
       " '38',\n",
       " '2,582',\n",
       " '30',\n",
       " '1,641',\n",
       " '33',\n",
       " '1,662',\n",
       " '25',\n",
       " '1,086',\n",
       " '37',\n",
       " '1,507',\n",
       " '42',\n",
       " '1,446',\n",
       " '28',\n",
       " '813',\n",
       " '31',\n",
       " '808',\n",
       " '24',\n",
       " '525',\n",
       " '41',\n",
       " '617']"
      ]
     },
     "execution_count": 226,
     "metadata": {},
     "output_type": "execute_result"
    }
   ],
   "source": [
    "soup=BeautifulSoup(page.content)\n",
    "for i in soup.find_all('td',class_=\"table-body__cell u-center-text\"): \n",
    "    matches.append(i.text)\n",
    "matches"
   ]
  },
  {
   "cell_type": "code",
   "execution_count": 227,
   "id": "09d2d59d",
   "metadata": {},
   "outputs": [
    {
     "data": {
      "text/plain": [
       "['6,640']"
      ]
     },
     "execution_count": 227,
     "metadata": {},
     "output_type": "execute_result"
    }
   ],
   "source": [
    "soup=BeautifulSoup(page.content)\n",
    "points=[]\n",
    "for i in soup.find_all('td',class_='rankings-block__banner--points'): \n",
    "    points.append(i.text)\n",
    "points\n",
    "                    "
   ]
  },
  {
   "cell_type": "code",
   "execution_count": 228,
   "id": "e78211c3",
   "metadata": {},
   "outputs": [],
   "source": [
    "soup=BeautifulSoup(page.content)\n",
    "matches1=[]\n",
    "\n",
    "for number in matches:\n",
    "    number=number.replace(',','')\n",
    "    if number.isdigit() and len(number)==2:\n",
    "        matches1.append(number)\n",
    "    else:\n",
    "        points.append(number)\n",
    "                    "
   ]
  },
  {
   "cell_type": "code",
   "execution_count": 229,
   "id": "4f1ed3a6",
   "metadata": {},
   "outputs": [
    {
     "data": {
      "text/plain": [
       "['55',\n",
       " '42',\n",
       " '34',\n",
       " '36',\n",
       " '43',\n",
       " '38',\n",
       " '47',\n",
       " '44',\n",
       " '30',\n",
       " '38',\n",
       " '30',\n",
       " '33',\n",
       " '25',\n",
       " '37',\n",
       " '42',\n",
       " '28',\n",
       " '31',\n",
       " '24',\n",
       " '41']"
      ]
     },
     "execution_count": 229,
     "metadata": {},
     "output_type": "execute_result"
    }
   ],
   "source": [
    "matches1"
   ]
  },
  {
   "cell_type": "code",
   "execution_count": 232,
   "id": "d6e7a90b",
   "metadata": {},
   "outputs": [
    {
     "data": {
      "text/plain": [
       "['6,640',\n",
       " '4926',\n",
       " '3750',\n",
       " '3922',\n",
       " '4399',\n",
       " '3777',\n",
       " '4134',\n",
       " '3836',\n",
       " '2533',\n",
       " '2582',\n",
       " '1641',\n",
       " '1662',\n",
       " '1086',\n",
       " '1507',\n",
       " '1446',\n",
       " '813',\n",
       " '808',\n",
       " '525',\n",
       " '617']"
      ]
     },
     "execution_count": 232,
     "metadata": {},
     "output_type": "execute_result"
    }
   ],
   "source": [
    "points\n",
    "\n",
    "\n"
   ]
  },
  {
   "cell_type": "code",
   "execution_count": 233,
   "id": "db158187",
   "metadata": {},
   "outputs": [],
   "source": [
    "odi=pd.DataFrame({'Team':team,'Matches':matches1,'Points':points})"
   ]
  },
  {
   "cell_type": "code",
   "execution_count": 234,
   "id": "de5060e3",
   "metadata": {
    "collapsed": true
   },
   "outputs": [
    {
     "data": {
      "text/html": [
       "<div>\n",
       "<style scoped>\n",
       "    .dataframe tbody tr th:only-of-type {\n",
       "        vertical-align: middle;\n",
       "    }\n",
       "\n",
       "    .dataframe tbody tr th {\n",
       "        vertical-align: top;\n",
       "    }\n",
       "\n",
       "    .dataframe thead th {\n",
       "        text-align: right;\n",
       "    }\n",
       "</style>\n",
       "<table border=\"1\" class=\"dataframe\">\n",
       "  <thead>\n",
       "    <tr style=\"text-align: right;\">\n",
       "      <th></th>\n",
       "      <th>Team</th>\n",
       "      <th>Matches</th>\n",
       "      <th>Points</th>\n",
       "    </tr>\n",
       "  </thead>\n",
       "  <tbody>\n",
       "    <tr>\n",
       "      <th>0</th>\n",
       "      <td>India</td>\n",
       "      <td>55</td>\n",
       "      <td>6,640</td>\n",
       "    </tr>\n",
       "    <tr>\n",
       "      <th>1</th>\n",
       "      <td>Australia</td>\n",
       "      <td>42</td>\n",
       "      <td>4926</td>\n",
       "    </tr>\n",
       "    <tr>\n",
       "      <th>2</th>\n",
       "      <td>South Africa</td>\n",
       "      <td>34</td>\n",
       "      <td>3750</td>\n",
       "    </tr>\n",
       "    <tr>\n",
       "      <th>3</th>\n",
       "      <td>Pakistan</td>\n",
       "      <td>36</td>\n",
       "      <td>3922</td>\n",
       "    </tr>\n",
       "    <tr>\n",
       "      <th>4</th>\n",
       "      <td>New Zealand</td>\n",
       "      <td>43</td>\n",
       "      <td>4399</td>\n",
       "    </tr>\n",
       "    <tr>\n",
       "      <th>5</th>\n",
       "      <td>England</td>\n",
       "      <td>38</td>\n",
       "      <td>3777</td>\n",
       "    </tr>\n",
       "    <tr>\n",
       "      <th>6</th>\n",
       "      <td>Sri Lanka</td>\n",
       "      <td>47</td>\n",
       "      <td>4134</td>\n",
       "    </tr>\n",
       "    <tr>\n",
       "      <th>7</th>\n",
       "      <td>Bangladesh</td>\n",
       "      <td>44</td>\n",
       "      <td>3836</td>\n",
       "    </tr>\n",
       "    <tr>\n",
       "      <th>8</th>\n",
       "      <td>Afghanistan</td>\n",
       "      <td>30</td>\n",
       "      <td>2533</td>\n",
       "    </tr>\n",
       "    <tr>\n",
       "      <th>9</th>\n",
       "      <td>West Indies</td>\n",
       "      <td>38</td>\n",
       "      <td>2582</td>\n",
       "    </tr>\n",
       "    <tr>\n",
       "      <th>10</th>\n",
       "      <td>Zimbabwe</td>\n",
       "      <td>30</td>\n",
       "      <td>1641</td>\n",
       "    </tr>\n",
       "    <tr>\n",
       "      <th>11</th>\n",
       "      <td>Scotland</td>\n",
       "      <td>33</td>\n",
       "      <td>1662</td>\n",
       "    </tr>\n",
       "    <tr>\n",
       "      <th>12</th>\n",
       "      <td>Ireland</td>\n",
       "      <td>25</td>\n",
       "      <td>1086</td>\n",
       "    </tr>\n",
       "    <tr>\n",
       "      <th>13</th>\n",
       "      <td>Netherlands</td>\n",
       "      <td>37</td>\n",
       "      <td>1507</td>\n",
       "    </tr>\n",
       "    <tr>\n",
       "      <th>14</th>\n",
       "      <td>Nepal</td>\n",
       "      <td>42</td>\n",
       "      <td>1446</td>\n",
       "    </tr>\n",
       "    <tr>\n",
       "      <th>15</th>\n",
       "      <td>Namibia</td>\n",
       "      <td>28</td>\n",
       "      <td>813</td>\n",
       "    </tr>\n",
       "    <tr>\n",
       "      <th>16</th>\n",
       "      <td>United States</td>\n",
       "      <td>31</td>\n",
       "      <td>808</td>\n",
       "    </tr>\n",
       "    <tr>\n",
       "      <th>17</th>\n",
       "      <td>Oman</td>\n",
       "      <td>24</td>\n",
       "      <td>525</td>\n",
       "    </tr>\n",
       "    <tr>\n",
       "      <th>18</th>\n",
       "      <td>UAE</td>\n",
       "      <td>41</td>\n",
       "      <td>617</td>\n",
       "    </tr>\n",
       "  </tbody>\n",
       "</table>\n",
       "</div>"
      ],
      "text/plain": [
       "             Team Matches Points\n",
       "0           India      55  6,640\n",
       "1       Australia      42   4926\n",
       "2    South Africa      34   3750\n",
       "3        Pakistan      36   3922\n",
       "4     New Zealand      43   4399\n",
       "5         England      38   3777\n",
       "6       Sri Lanka      47   4134\n",
       "7      Bangladesh      44   3836\n",
       "8     Afghanistan      30   2533\n",
       "9     West Indies      38   2582\n",
       "10       Zimbabwe      30   1641\n",
       "11       Scotland      33   1662\n",
       "12        Ireland      25   1086\n",
       "13    Netherlands      37   1507\n",
       "14          Nepal      42   1446\n",
       "15        Namibia      28    813\n",
       "16  United States      31    808\n",
       "17           Oman      24    525\n",
       "18            UAE      41    617"
      ]
     },
     "execution_count": 234,
     "metadata": {},
     "output_type": "execute_result"
    }
   ],
   "source": [
    "odi"
   ]
  },
  {
   "cell_type": "code",
   "execution_count": 235,
   "id": "379a5a2b",
   "metadata": {},
   "outputs": [
    {
     "data": {
      "text/plain": [
       "<Response [200]>"
      ]
     },
     "execution_count": 235,
     "metadata": {},
     "output_type": "execute_result"
    }
   ],
   "source": [
    "# top 10 odi batsman with record of their team and rating\n",
    "page=requests.get('https://www.icc-cricket.com/rankings/mens/player-rankings/odi/batting')\n",
    "page\n"
   ]
  },
  {
   "cell_type": "code",
   "execution_count": 236,
   "id": "739e172e",
   "metadata": {},
   "outputs": [
    {
     "data": {
      "text/plain": [
       "['Shubman Gill']"
      ]
     },
     "execution_count": 236,
     "metadata": {},
     "output_type": "execute_result"
    }
   ],
   "source": [
    "soup=BeautifulSoup(page.content)\n",
    "batter_name=[]\n",
    "for i in soup.find_all('div',class_='rankings-block__banner--name-large'): \n",
    "    batter_name.append(i.text)\n",
    "    \n",
    "batter_name"
   ]
  },
  {
   "cell_type": "raw",
   "id": "b0a62d73",
   "metadata": {},
   "source": []
  },
  {
   "cell_type": "code",
   "execution_count": 243,
   "id": "b138e0cb",
   "metadata": {
    "collapsed": true
   },
   "outputs": [
    {
     "data": {
      "text/plain": [
       "['Shubman Gill',\n",
       " '\\nBabar Azam\\n',\n",
       " '\\nVirat Kohli\\n',\n",
       " '\\nRohit Sharma\\n',\n",
       " '\\nQuinton de Kock\\n',\n",
       " '\\nDaryl Mitchell\\n',\n",
       " '\\nDavid Warner\\n',\n",
       " '\\nRassie van der Dussen\\n',\n",
       " '\\nHarry Tector\\n',\n",
       " '\\nDawid Malan\\n',\n",
       " '\\nHeinrich Klaasen\\n',\n",
       " '\\nShreyas Iyer\\n',\n",
       " '\\nIbrahim Zadran\\n',\n",
       " '\\nFakhar Zaman\\n',\n",
       " '\\nTravis Head\\n',\n",
       " '\\nShai Hope\\n',\n",
       " '\\nDavid Miller\\n',\n",
       " '\\nImam-ul-Haq\\n',\n",
       " '\\nLokesh Rahul\\n',\n",
       " '\\nSteve Smith\\n',\n",
       " '\\nAiden Markram\\n',\n",
       " '\\nMarnus Labuschagne\\n',\n",
       " '\\nKariyawasa Asalanka\\n',\n",
       " '\\nPaul Stirling\\n',\n",
       " '\\nRahmanullah Gurbaz\\n',\n",
       " '\\nScott Edwards\\n',\n",
       " '\\nGlenn Maxwell\\n',\n",
       " '\\nPathum Nissanka\\n',\n",
       " '\\nSikandar Raza\\n',\n",
       " '\\nGerhard Erasmus\\n',\n",
       " '\\nTemba Bavuma\\n',\n",
       " '\\nJos Buttler\\n',\n",
       " '\\nNicholas Pooran\\n',\n",
       " '\\nKane Williamson\\n',\n",
       " '\\nMushfiqur Rahim\\n',\n",
       " '\\nMohammad Rizwan\\n',\n",
       " '\\nBen Stokes\\n',\n",
       " '\\nJonny Bairstow\\n',\n",
       " '\\nJason Roy\\n',\n",
       " '\\nRahmat Shah\\n',\n",
       " '\\nJoe Root\\n',\n",
       " '\\nTom Latham\\n',\n",
       " '\\nDevon Conway\\n',\n",
       " '\\nMitchell Marsh\\n',\n",
       " '\\nShakib Al Hasan\\n',\n",
       " '\\nSean Williams\\n',\n",
       " '\\nIshan Kishan\\n',\n",
       " '\\nKusal Mendis\\n',\n",
       " '\\nRachin Ravindra\\n',\n",
       " '\\nMahmudullah\\n',\n",
       " '\\nLitton Das\\n',\n",
       " '\\nHashmatullah Shaidi\\n',\n",
       " '\\nAssad Vala\\n',\n",
       " '\\nSadeera Samarawickrama\\n',\n",
       " '\\nGeorge Munsey\\n',\n",
       " '\\nTamim Iqbal\\n',\n",
       " '\\nAlex Carey\\n',\n",
       " '\\nAndrew Balbirnie\\n',\n",
       " '\\nWill Young\\n',\n",
       " '\\nNazmul Shanto\\n',\n",
       " '\\nVriitya Aravind\\n',\n",
       " '\\nGajanand Singh\\n',\n",
       " '\\nAaron Jones\\n',\n",
       " \"\\nMax O'Dowd\\n\",\n",
       " '\\nKyle Coetzer\\n',\n",
       " '\\nAqib Ilyas\\n',\n",
       " '\\nMuhammad Waseem\\n',\n",
       " '\\nGlenn Phillips\\n',\n",
       " '\\nRichard Berrington\\n',\n",
       " '\\nMonank Patel\\n',\n",
       " '\\nZeeshan Maqsood\\n',\n",
       " '\\nMichael Leask\\n',\n",
       " '\\nAasif Sheikh\\n',\n",
       " '\\nAsif Khan\\n',\n",
       " '\\nAyaan Khan\\n',\n",
       " '\\nAzmatullah Omarzai\\n',\n",
       " '\\nMartin Guptill\\n',\n",
       " '\\nKashyap Prajapati\\n',\n",
       " '\\nCraig Ervine\\n',\n",
       " '\\nSteven Taylor\\n',\n",
       " '\\nR.K. Paudel\\n',\n",
       " '\\nNajibullah Zadran\\n',\n",
       " '\\nShikhar Dhawan\\n',\n",
       " '\\nGeorge Dockrell\\n',\n",
       " '\\nMohammad Nabi\\n',\n",
       " '\\nBrandon King\\n',\n",
       " '\\nMichael van Lingen\\n',\n",
       " '\\nJatinder Singh\\n',\n",
       " '\\nHenry Nicholls\\n',\n",
       " '\\nHardik Pandya\\n',\n",
       " '\\nIftikhar Ahmed\\n',\n",
       " '\\nTowhid Hridoy\\n',\n",
       " '\\nBrandon McMullen\\n',\n",
       " '\\nCurtis Campher\\n',\n",
       " '\\nRyan Burl\\n',\n",
       " '\\nTeja Nidamanuru\\n',\n",
       " '\\nSuryakumar Yadav\\n',\n",
       " '\\nHaris Sohail\\n',\n",
       " '\\nKushal Bhurtel\\n',\n",
       " '\\nVikramjit Singh\\n',\n",
       " '\\nBabar Azam\\n',\n",
       " '\\nVirat Kohli\\n',\n",
       " '\\nRohit Sharma\\n',\n",
       " '\\nQuinton de Kock\\n',\n",
       " '\\nDaryl Mitchell\\n',\n",
       " '\\nDavid Warner\\n',\n",
       " '\\nRassie van der Dussen\\n',\n",
       " '\\nHarry Tector\\n',\n",
       " '\\nDawid Malan\\n',\n",
       " '\\nHeinrich Klaasen\\n',\n",
       " '\\nBabar Azam\\n',\n",
       " '\\nVirat Kohli\\n',\n",
       " '\\nRohit Sharma\\n',\n",
       " '\\nQuinton de Kock\\n',\n",
       " '\\nDaryl Mitchell\\n',\n",
       " '\\nDavid Warner\\n',\n",
       " '\\nRassie van der Dussen\\n',\n",
       " '\\nHarry Tector\\n',\n",
       " '\\nDawid Malan\\n',\n",
       " '\\nHeinrich Klaasen\\n',\n",
       " '\\nShreyas Iyer\\n',\n",
       " '\\nIbrahim Zadran\\n',\n",
       " '\\nFakhar Zaman\\n',\n",
       " '\\nTravis Head\\n',\n",
       " '\\nShai Hope\\n',\n",
       " '\\nDavid Miller\\n',\n",
       " '\\nImam-ul-Haq\\n',\n",
       " '\\nLokesh Rahul\\n',\n",
       " '\\nSteve Smith\\n',\n",
       " '\\nAiden Markram\\n',\n",
       " '\\nMarnus Labuschagne\\n',\n",
       " '\\nKariyawasa Asalanka\\n',\n",
       " '\\nPaul Stirling\\n',\n",
       " '\\nRahmanullah Gurbaz\\n',\n",
       " '\\nScott Edwards\\n',\n",
       " '\\nGlenn Maxwell\\n',\n",
       " '\\nPathum Nissanka\\n',\n",
       " '\\nSikandar Raza\\n',\n",
       " '\\nGerhard Erasmus\\n',\n",
       " '\\nTemba Bavuma\\n',\n",
       " '\\nJos Buttler\\n',\n",
       " '\\nNicholas Pooran\\n',\n",
       " '\\nKane Williamson\\n',\n",
       " '\\nMushfiqur Rahim\\n',\n",
       " '\\nMohammad Rizwan\\n',\n",
       " '\\nBen Stokes\\n',\n",
       " '\\nJonny Bairstow\\n',\n",
       " '\\nJason Roy\\n',\n",
       " '\\nRahmat Shah\\n',\n",
       " '\\nJoe Root\\n',\n",
       " '\\nTom Latham\\n',\n",
       " '\\nDevon Conway\\n',\n",
       " '\\nMitchell Marsh\\n',\n",
       " '\\nShakib Al Hasan\\n',\n",
       " '\\nSean Williams\\n',\n",
       " '\\nIshan Kishan\\n',\n",
       " '\\nKusal Mendis\\n',\n",
       " '\\nRachin Ravindra\\n',\n",
       " '\\nMahmudullah\\n',\n",
       " '\\nLitton Das\\n',\n",
       " '\\nHashmatullah Shaidi\\n',\n",
       " '\\nAssad Vala\\n',\n",
       " '\\nSadeera Samarawickrama\\n',\n",
       " '\\nGeorge Munsey\\n',\n",
       " '\\nTamim Iqbal\\n',\n",
       " '\\nAlex Carey\\n',\n",
       " '\\nAndrew Balbirnie\\n',\n",
       " '\\nWill Young\\n',\n",
       " '\\nNazmul Shanto\\n',\n",
       " '\\nVriitya Aravind\\n',\n",
       " '\\nGajanand Singh\\n',\n",
       " '\\nAaron Jones\\n',\n",
       " \"\\nMax O'Dowd\\n\",\n",
       " '\\nKyle Coetzer\\n',\n",
       " '\\nAqib Ilyas\\n',\n",
       " '\\nMuhammad Waseem\\n',\n",
       " '\\nGlenn Phillips\\n',\n",
       " '\\nRichard Berrington\\n',\n",
       " '\\nMonank Patel\\n',\n",
       " '\\nZeeshan Maqsood\\n',\n",
       " '\\nMichael Leask\\n',\n",
       " '\\nAasif Sheikh\\n',\n",
       " '\\nAsif Khan\\n',\n",
       " '\\nAyaan Khan\\n',\n",
       " '\\nAzmatullah Omarzai\\n',\n",
       " '\\nMartin Guptill\\n',\n",
       " '\\nKashyap Prajapati\\n',\n",
       " '\\nCraig Ervine\\n',\n",
       " '\\nSteven Taylor\\n',\n",
       " '\\nR.K. Paudel\\n',\n",
       " '\\nNajibullah Zadran\\n',\n",
       " '\\nShikhar Dhawan\\n',\n",
       " '\\nGeorge Dockrell\\n',\n",
       " '\\nMohammad Nabi\\n',\n",
       " '\\nBrandon King\\n',\n",
       " '\\nMichael van Lingen\\n',\n",
       " '\\nJatinder Singh\\n',\n",
       " '\\nHenry Nicholls\\n',\n",
       " '\\nHardik Pandya\\n',\n",
       " '\\nIftikhar Ahmed\\n',\n",
       " '\\nTowhid Hridoy\\n',\n",
       " '\\nBrandon McMullen\\n',\n",
       " '\\nCurtis Campher\\n',\n",
       " '\\nRyan Burl\\n',\n",
       " '\\nTeja Nidamanuru\\n',\n",
       " '\\nSuryakumar Yadav\\n',\n",
       " '\\nHaris Sohail\\n',\n",
       " '\\nKushal Bhurtel\\n',\n",
       " '\\nVikramjit Singh\\n']"
      ]
     },
     "execution_count": 243,
     "metadata": {},
     "output_type": "execute_result"
    }
   ],
   "source": [
    "soup=BeautifulSoup(page.content)\n",
    "b=1\n",
    "for i in soup.find_all('td',class_='table-body__cell rankings-table__name name'): \n",
    "    batter_name.append(i.text)\n",
    "        \n",
    "    \n",
    "batter_name"
   ]
  },
  {
   "cell_type": "code",
   "execution_count": 250,
   "id": "0a603d37",
   "metadata": {},
   "outputs": [],
   "source": [
    "topten_batter=batter_name[:10]"
   ]
  },
  {
   "cell_type": "code",
   "execution_count": 251,
   "id": "bdf6157f",
   "metadata": {},
   "outputs": [
    {
     "data": {
      "text/plain": [
       "['Shubman Gill',\n",
       " '\\nBabar Azam\\n',\n",
       " '\\nVirat Kohli\\n',\n",
       " '\\nRohit Sharma\\n',\n",
       " '\\nQuinton de Kock\\n',\n",
       " '\\nDaryl Mitchell\\n',\n",
       " '\\nDavid Warner\\n',\n",
       " '\\nRassie van der Dussen\\n',\n",
       " '\\nHarry Tector\\n',\n",
       " '\\nDawid Malan\\n']"
      ]
     },
     "execution_count": 251,
     "metadata": {},
     "output_type": "execute_result"
    }
   ],
   "source": [
    "topten_batter"
   ]
  },
  {
   "cell_type": "code",
   "execution_count": 305,
   "id": "d59fd942",
   "metadata": {},
   "outputs": [
    {
     "name": "stdout",
     "output_type": "stream",
     "text": [
      "['Shubman Gill', 'Babar Azam', 'Virat Kohli', 'Rohit Sharma', 'Quinton de Kock', 'Daryl Mitchell', 'David Warner', 'Rassie van der Dussen', 'Harry Tector', 'Dawid Malan']\n"
     ]
    }
   ],
   "source": [
    "BATTER=[word.replace('\\n','') for word in topten_batter]\n",
    "print(BATTER)"
   ]
  },
  {
   "cell_type": "code",
   "execution_count": 306,
   "id": "b97d9461",
   "metadata": {},
   "outputs": [
    {
     "name": "stdout",
     "output_type": "stream",
     "text": [
      "Shubman Gill\n",
      "Babar Azam\n",
      "Virat Kohli\n",
      "Rohit Sharma\n",
      "Quinton de Kock\n",
      "Daryl Mitchell\n",
      "David Warner\n",
      "Rassie van der Dussen\n",
      "Harry Tector\n",
      "Dawid Malan\n"
     ]
    }
   ],
   "source": [
    "for player in BATTER:\n",
    "    print(player)"
   ]
  },
  {
   "cell_type": "code",
   "execution_count": 307,
   "id": "428c3073",
   "metadata": {},
   "outputs": [
    {
     "data": {
      "text/plain": [
       "['Shubman Gill',\n",
       " 'Babar Azam',\n",
       " 'Virat Kohli',\n",
       " 'Rohit Sharma',\n",
       " 'Quinton de Kock',\n",
       " 'Daryl Mitchell',\n",
       " 'David Warner',\n",
       " 'Rassie van der Dussen',\n",
       " 'Harry Tector',\n",
       " 'Dawid Malan']"
      ]
     },
     "execution_count": 307,
     "metadata": {},
     "output_type": "execute_result"
    }
   ],
   "source": [
    "BATTER"
   ]
  },
  {
   "cell_type": "code",
   "execution_count": 256,
   "id": "c02096e6",
   "metadata": {},
   "outputs": [
    {
     "data": {
      "text/plain": [
       "['\\n\\nIND\\n                    ']"
      ]
     },
     "execution_count": 256,
     "metadata": {},
     "output_type": "execute_result"
    }
   ],
   "source": [
    "soup=BeautifulSoup(page.content)\n",
    "team=[]\n",
    "for i in soup.find_all('div',class_='rankings-block__banner--nationality'): \n",
    "    team.append(i.text)\n",
    "        \n",
    "    \n",
    "team"
   ]
  },
  {
   "cell_type": "code",
   "execution_count": 261,
   "id": "17ec7c43",
   "metadata": {},
   "outputs": [],
   "source": [
    "soup=BeautifulSoup(page.content)\n",
    "\n",
    "for i in soup.find_all('span',class_='table-body__logo-text'): \n",
    "    team.append(i.text)\n",
    " "
   ]
  },
  {
   "cell_type": "code",
   "execution_count": 262,
   "id": "af04608d",
   "metadata": {
    "collapsed": true
   },
   "outputs": [
    {
     "data": {
      "text/plain": [
       "['\\n\\nIND\\n                    ',\n",
       " 'PAK',\n",
       " 'IND',\n",
       " 'IND',\n",
       " 'SA',\n",
       " 'NZ',\n",
       " 'AUS',\n",
       " 'SA',\n",
       " 'IRE',\n",
       " 'ENG',\n",
       " 'SA',\n",
       " 'IND',\n",
       " 'AFG',\n",
       " 'PAK',\n",
       " 'AUS',\n",
       " 'WI',\n",
       " 'SA',\n",
       " 'PAK',\n",
       " 'IND',\n",
       " 'AUS',\n",
       " 'SA',\n",
       " 'AUS',\n",
       " 'SL',\n",
       " 'IRE',\n",
       " 'AFG',\n",
       " 'NED',\n",
       " 'AUS',\n",
       " 'SL',\n",
       " 'ZIM',\n",
       " 'NAM',\n",
       " 'SA',\n",
       " 'ENG',\n",
       " 'WI',\n",
       " 'NZ',\n",
       " 'BAN',\n",
       " 'PAK',\n",
       " 'ENG',\n",
       " 'ENG',\n",
       " 'ENG',\n",
       " 'AFG',\n",
       " 'ENG',\n",
       " 'NZ',\n",
       " 'NZ',\n",
       " 'AUS',\n",
       " 'BAN',\n",
       " 'ZIM',\n",
       " 'IND',\n",
       " 'SL',\n",
       " 'NZ',\n",
       " 'BAN',\n",
       " 'BAN',\n",
       " 'AFG',\n",
       " 'PNG',\n",
       " 'SL',\n",
       " 'SCO',\n",
       " 'BAN',\n",
       " 'AUS',\n",
       " 'IRE',\n",
       " 'NZ',\n",
       " 'BAN',\n",
       " 'UAE',\n",
       " 'USA',\n",
       " 'USA',\n",
       " 'NED',\n",
       " 'SCO',\n",
       " 'OMA',\n",
       " 'UAE',\n",
       " 'NZ',\n",
       " 'SCO',\n",
       " 'USA',\n",
       " 'OMA',\n",
       " 'SCO',\n",
       " 'NEP',\n",
       " 'UAE',\n",
       " 'OMA',\n",
       " 'AFG',\n",
       " 'NZ',\n",
       " 'OMA',\n",
       " 'ZIM',\n",
       " 'USA',\n",
       " 'NEP',\n",
       " 'AFG',\n",
       " 'IND',\n",
       " 'IRE',\n",
       " 'AFG',\n",
       " 'WI',\n",
       " 'NAM',\n",
       " 'OMA',\n",
       " 'NZ',\n",
       " 'IND',\n",
       " 'PAK',\n",
       " 'BAN',\n",
       " 'SCO',\n",
       " 'IRE',\n",
       " 'ZIM',\n",
       " 'NED',\n",
       " 'IND',\n",
       " 'PAK',\n",
       " 'NEP',\n",
       " 'NED']"
      ]
     },
     "execution_count": 262,
     "metadata": {},
     "output_type": "execute_result"
    }
   ],
   "source": [
    "team"
   ]
  },
  {
   "cell_type": "code",
   "execution_count": 304,
   "id": "9318a7fa",
   "metadata": {
    "collapsed": true
   },
   "outputs": [
    {
     "data": {
      "text/plain": [
       "['\\n\\nIND\\n                    ',\n",
       " 'PAK',\n",
       " 'IND',\n",
       " 'IND',\n",
       " 'SA',\n",
       " 'NZ',\n",
       " 'AUS',\n",
       " 'SA',\n",
       " 'IRE',\n",
       " 'ENG']"
      ]
     },
     "execution_count": 304,
     "metadata": {},
     "output_type": "execute_result"
    }
   ],
   "source": [
    "TEAM=team[:10]\n",
    "TEAM\n"
   ]
  },
  {
   "cell_type": "code",
   "execution_count": 274,
   "id": "2d853297",
   "metadata": {},
   "outputs": [],
   "source": [
    "soup=BeautifulSoup(page.content)\n",
    "rating=[]\n",
    "for i in soup.find_all('div',class_='rankings-block__banner--rating'): \n",
    "    rating.append(i.text)\n",
    "        "
   ]
  },
  {
   "cell_type": "code",
   "execution_count": 275,
   "id": "6072256b",
   "metadata": {},
   "outputs": [
    {
     "data": {
      "text/plain": [
       "['826']"
      ]
     },
     "execution_count": 275,
     "metadata": {},
     "output_type": "execute_result"
    }
   ],
   "source": [
    "rating\n"
   ]
  },
  {
   "cell_type": "code",
   "execution_count": 278,
   "id": "a4edf7b9",
   "metadata": {},
   "outputs": [],
   "source": [
    "soup=BeautifulSoup(page.content)\n",
    "\n",
    "for i in soup.find_all('td',class_='table-body__cell rating'): \n",
    "    rating.append(i.text)"
   ]
  },
  {
   "cell_type": "code",
   "execution_count": 311,
   "id": "b8cd8fa4",
   "metadata": {},
   "outputs": [
    {
     "data": {
      "text/plain": [
       "'729'"
      ]
     },
     "execution_count": 311,
     "metadata": {},
     "output_type": "execute_result"
    }
   ],
   "source": [
    "rating"
   ]
  },
  {
   "cell_type": "code",
   "execution_count": 301,
   "id": "c54d611d",
   "metadata": {},
   "outputs": [
    {
     "ename": "TypeError",
     "evalue": "'str' object is not callable",
     "output_type": "error",
     "traceback": [
      "\u001b[1;31m---------------------------------------------------------------------------\u001b[0m",
      "\u001b[1;31mTypeError\u001b[0m                                 Traceback (most recent call last)",
      "Cell \u001b[1;32mIn[301], line 1\u001b[0m\n\u001b[1;32m----> 1\u001b[0m \u001b[38;5;28;01mfor\u001b[39;00m item \u001b[38;5;129;01min\u001b[39;00m \u001b[43mrating\u001b[49m\u001b[43m(\u001b[49m\u001b[38;5;28;43mrange\u001b[39;49m\u001b[43m(\u001b[49m\u001b[38;5;241;43m1\u001b[39;49m\u001b[43m,\u001b[49m\u001b[38;5;241;43m10\u001b[39;49m\u001b[43m)\u001b[49m\u001b[43m)\u001b[49m:\n\u001b[0;32m      2\u001b[0m     \u001b[38;5;28mprint\u001b[39m(item)\n",
      "\u001b[1;31mTypeError\u001b[0m: 'str' object is not callable"
     ]
    }
   ],
   "source": [
    "\n"
   ]
  },
  {
   "cell_type": "code",
   "execution_count": 312,
   "id": "30b67904",
   "metadata": {},
   "outputs": [
    {
     "data": {
      "text/plain": [
       "['826', '824', '791', '769', '760', '750', '745', '735', '729', '729']"
      ]
     },
     "execution_count": 312,
     "metadata": {},
     "output_type": "execute_result"
    }
   ],
   "source": [
    "Rating"
   ]
  },
  {
   "cell_type": "code",
   "execution_count": 313,
   "id": "f3905adb",
   "metadata": {},
   "outputs": [
    {
     "data": {
      "text/plain": [
       "['826', '824', '791', '769', '760', '750', '745', '735', '729', '729']"
      ]
     },
     "execution_count": 313,
     "metadata": {},
     "output_type": "execute_result"
    }
   ],
   "source": [
    "Rating\n"
   ]
  },
  {
   "cell_type": "code",
   "execution_count": null,
   "id": "eb37bf00",
   "metadata": {},
   "outputs": [],
   "source": []
  },
  {
   "cell_type": "code",
   "execution_count": 314,
   "id": "b83b4b6a",
   "metadata": {},
   "outputs": [],
   "source": [
    "odi_bat=pd.DataFrame({'Batsman':BATTER,'Team':TEAM,'RATING':Rating})"
   ]
  },
  {
   "cell_type": "code",
   "execution_count": 315,
   "id": "9343be11",
   "metadata": {
    "collapsed": true
   },
   "outputs": [
    {
     "data": {
      "text/html": [
       "<div>\n",
       "<style scoped>\n",
       "    .dataframe tbody tr th:only-of-type {\n",
       "        vertical-align: middle;\n",
       "    }\n",
       "\n",
       "    .dataframe tbody tr th {\n",
       "        vertical-align: top;\n",
       "    }\n",
       "\n",
       "    .dataframe thead th {\n",
       "        text-align: right;\n",
       "    }\n",
       "</style>\n",
       "<table border=\"1\" class=\"dataframe\">\n",
       "  <thead>\n",
       "    <tr style=\"text-align: right;\">\n",
       "      <th></th>\n",
       "      <th>Batsman</th>\n",
       "      <th>Team</th>\n",
       "      <th>RATING</th>\n",
       "    </tr>\n",
       "  </thead>\n",
       "  <tbody>\n",
       "    <tr>\n",
       "      <th>0</th>\n",
       "      <td>Shubman Gill</td>\n",
       "      <td>\\n\\nIND\\n</td>\n",
       "      <td>826</td>\n",
       "    </tr>\n",
       "    <tr>\n",
       "      <th>1</th>\n",
       "      <td>Babar Azam</td>\n",
       "      <td>PAK</td>\n",
       "      <td>824</td>\n",
       "    </tr>\n",
       "    <tr>\n",
       "      <th>2</th>\n",
       "      <td>Virat Kohli</td>\n",
       "      <td>IND</td>\n",
       "      <td>791</td>\n",
       "    </tr>\n",
       "    <tr>\n",
       "      <th>3</th>\n",
       "      <td>Rohit Sharma</td>\n",
       "      <td>IND</td>\n",
       "      <td>769</td>\n",
       "    </tr>\n",
       "    <tr>\n",
       "      <th>4</th>\n",
       "      <td>Quinton de Kock</td>\n",
       "      <td>SA</td>\n",
       "      <td>760</td>\n",
       "    </tr>\n",
       "    <tr>\n",
       "      <th>5</th>\n",
       "      <td>Daryl Mitchell</td>\n",
       "      <td>NZ</td>\n",
       "      <td>750</td>\n",
       "    </tr>\n",
       "    <tr>\n",
       "      <th>6</th>\n",
       "      <td>David Warner</td>\n",
       "      <td>AUS</td>\n",
       "      <td>745</td>\n",
       "    </tr>\n",
       "    <tr>\n",
       "      <th>7</th>\n",
       "      <td>Rassie van der Dussen</td>\n",
       "      <td>SA</td>\n",
       "      <td>735</td>\n",
       "    </tr>\n",
       "    <tr>\n",
       "      <th>8</th>\n",
       "      <td>Harry Tector</td>\n",
       "      <td>IRE</td>\n",
       "      <td>729</td>\n",
       "    </tr>\n",
       "    <tr>\n",
       "      <th>9</th>\n",
       "      <td>Dawid Malan</td>\n",
       "      <td>ENG</td>\n",
       "      <td>729</td>\n",
       "    </tr>\n",
       "  </tbody>\n",
       "</table>\n",
       "</div>"
      ],
      "text/plain": [
       "                 Batsman                           Team RATING\n",
       "0           Shubman Gill  \\n\\nIND\\n                        826\n",
       "1             Babar Azam                            PAK    824\n",
       "2            Virat Kohli                            IND    791\n",
       "3           Rohit Sharma                            IND    769\n",
       "4        Quinton de Kock                             SA    760\n",
       "5         Daryl Mitchell                             NZ    750\n",
       "6           David Warner                            AUS    745\n",
       "7  Rassie van der Dussen                             SA    735\n",
       "8           Harry Tector                            IRE    729\n",
       "9            Dawid Malan                            ENG    729"
      ]
     },
     "execution_count": 315,
     "metadata": {},
     "output_type": "execute_result"
    }
   ],
   "source": [
    "odi_bat"
   ]
  },
  {
   "cell_type": "code",
   "execution_count": 4,
   "id": "2371d8b2",
   "metadata": {},
   "outputs": [
    {
     "data": {
      "text/plain": [
       "<Response [200]>"
      ]
     },
     "execution_count": 4,
     "metadata": {},
     "output_type": "execute_result"
    }
   ],
   "source": [
    "# top 10 odi bowlers with record of their team and rating\n",
    "page=requests.get('https://www.icc-cricket.com/rankings/mens/player-rankings/odi/bowling')\n",
    "page\n"
   ]
  },
  {
   "cell_type": "code",
   "execution_count": 5,
   "id": "0e062205",
   "metadata": {},
   "outputs": [],
   "source": [
    "soup=BeautifulSoup(page.content)\n",
    "bowler=[]\n",
    "for i in soup.find_all('div',class_='rankings-block__banner--name-large'): \n",
    "    bowler.append(i.text)"
   ]
  },
  {
   "cell_type": "code",
   "execution_count": 6,
   "id": "6182f7a7",
   "metadata": {},
   "outputs": [
    {
     "data": {
      "text/plain": [
       "['Keshav Maharaj']"
      ]
     },
     "execution_count": 6,
     "metadata": {},
     "output_type": "execute_result"
    }
   ],
   "source": [
    "bowler"
   ]
  },
  {
   "cell_type": "code",
   "execution_count": 7,
   "id": "d45f72df",
   "metadata": {},
   "outputs": [],
   "source": [
    "for i in soup.find_all('td',class_='table-body__cell rankings-table__name name'): \n",
    "    bowler.append(i.text)"
   ]
  },
  {
   "cell_type": "code",
   "execution_count": 8,
   "id": "10743c73",
   "metadata": {},
   "outputs": [],
   "source": [
    "Bowler=bowler[:10]"
   ]
  },
  {
   "cell_type": "code",
   "execution_count": 9,
   "id": "7bc5b8f9",
   "metadata": {},
   "outputs": [
    {
     "data": {
      "text/plain": [
       "['Keshav Maharaj',\n",
       " '\\nJosh Hazlewood\\n',\n",
       " '\\nMohammed Siraj\\n',\n",
       " '\\nJasprit Bumrah\\n',\n",
       " '\\nAdam Zampa\\n',\n",
       " '\\nRashid Khan\\n',\n",
       " '\\nKuldeep Yadav\\n',\n",
       " '\\nTrent Boult\\n',\n",
       " '\\nShaheen Afridi\\n',\n",
       " '\\nMohammad Shami\\n']"
      ]
     },
     "execution_count": 9,
     "metadata": {},
     "output_type": "execute_result"
    }
   ],
   "source": [
    "Bowler"
   ]
  },
  {
   "cell_type": "code",
   "execution_count": null,
   "id": "60d5d4bd",
   "metadata": {},
   "outputs": [],
   "source": [
    "Bowler"
   ]
  },
  {
   "cell_type": "code",
   "execution_count": 10,
   "id": "5709b1c9",
   "metadata": {},
   "outputs": [],
   "source": [
    "team=[]\n",
    "for i in soup.find_all('div',class_='rankings-block__banner--nationality'): \n",
    "    team.append(i.text)"
   ]
  },
  {
   "cell_type": "code",
   "execution_count": 15,
   "id": "fb55943b",
   "metadata": {},
   "outputs": [],
   "source": [
    "for i in soup.find_all('span',class_='table-body__logo-text'): \n",
    "    team.append(i.text)"
   ]
  },
  {
   "cell_type": "code",
   "execution_count": 16,
   "id": "3e0eccbe",
   "metadata": {
    "collapsed": true
   },
   "outputs": [
    {
     "data": {
      "text/plain": [
       "['\\n\\nSA\\n                    ',\n",
       " 'AUS',\n",
       " 'IND',\n",
       " 'IND',\n",
       " 'AUS',\n",
       " 'AFG',\n",
       " 'IND',\n",
       " 'NZ',\n",
       " 'PAK',\n",
       " 'IND',\n",
       " 'AFG',\n",
       " 'AUS',\n",
       " 'AFG',\n",
       " 'SA',\n",
       " 'ENG',\n",
       " 'SL',\n",
       " 'SCO',\n",
       " 'NZ',\n",
       " 'NZ',\n",
       " 'IND',\n",
       " 'NAM',\n",
       " 'USA',\n",
       " 'ENG',\n",
       " 'BAN',\n",
       " 'WI',\n",
       " 'PAK',\n",
       " 'AUS',\n",
       " 'ENG',\n",
       " 'WI',\n",
       " 'SA',\n",
       " 'SA',\n",
       " 'IRE',\n",
       " 'NEP',\n",
       " 'ENG',\n",
       " 'IRE',\n",
       " 'BAN',\n",
       " 'SA',\n",
       " 'SL',\n",
       " 'ZIM',\n",
       " 'AFG',\n",
       " 'BAN',\n",
       " 'ENG',\n",
       " 'SCO',\n",
       " 'NAM',\n",
       " 'PAK',\n",
       " 'NED',\n",
       " 'UAE',\n",
       " 'NZ',\n",
       " 'OMA',\n",
       " 'NED',\n",
       " 'IRE',\n",
       " 'OMA',\n",
       " 'ZIM',\n",
       " 'OMA',\n",
       " 'USA',\n",
       " 'SA',\n",
       " 'SCO',\n",
       " 'UAE',\n",
       " 'BAN',\n",
       " 'PAK',\n",
       " 'ZIM',\n",
       " 'IRE',\n",
       " 'SL',\n",
       " 'PNG',\n",
       " 'PNG',\n",
       " 'ENG',\n",
       " 'NEP',\n",
       " 'AUS',\n",
       " 'IND',\n",
       " 'UAE',\n",
       " 'ENG',\n",
       " 'UAE',\n",
       " 'IND',\n",
       " 'BAN',\n",
       " 'SCO',\n",
       " 'PAK',\n",
       " 'WI',\n",
       " 'SL',\n",
       " 'NED',\n",
       " 'NZ',\n",
       " 'NAM',\n",
       " 'PAK',\n",
       " 'NEP',\n",
       " 'SCO',\n",
       " 'IRE',\n",
       " 'PAK',\n",
       " 'NED',\n",
       " 'WI',\n",
       " 'SL',\n",
       " 'USA',\n",
       " 'NEP',\n",
       " 'AUS',\n",
       " 'BAN',\n",
       " 'NZ',\n",
       " 'NEP',\n",
       " 'IND',\n",
       " 'SA',\n",
       " 'SL',\n",
       " 'ENG',\n",
       " 'SL']"
      ]
     },
     "execution_count": 16,
     "metadata": {},
     "output_type": "execute_result"
    }
   ],
   "source": [
    "team"
   ]
  },
  {
   "cell_type": "code",
   "execution_count": 17,
   "id": "ccbf77bf",
   "metadata": {},
   "outputs": [],
   "source": [
    "Team=team[:10]"
   ]
  },
  {
   "cell_type": "code",
   "execution_count": 18,
   "id": "9a01c9ff",
   "metadata": {
    "collapsed": true
   },
   "outputs": [
    {
     "data": {
      "text/plain": [
       "['\\n\\nSA\\n                    ',\n",
       " 'AUS',\n",
       " 'IND',\n",
       " 'IND',\n",
       " 'AUS',\n",
       " 'AFG',\n",
       " 'IND',\n",
       " 'NZ',\n",
       " 'PAK',\n",
       " 'IND']"
      ]
     },
     "execution_count": 18,
     "metadata": {},
     "output_type": "execute_result"
    }
   ],
   "source": [
    "Team"
   ]
  },
  {
   "cell_type": "code",
   "execution_count": 19,
   "id": "6b5f20b8",
   "metadata": {},
   "outputs": [],
   "source": [
    "rating=[]\n",
    "for i in soup.find_all('div',class_='rankings-block__banner--rating'): \n",
    "    rating.append(i.text)"
   ]
  },
  {
   "cell_type": "code",
   "execution_count": 20,
   "id": "a19f93c4",
   "metadata": {},
   "outputs": [
    {
     "data": {
      "text/plain": [
       "['741']"
      ]
     },
     "execution_count": 20,
     "metadata": {},
     "output_type": "execute_result"
    }
   ],
   "source": [
    "rating"
   ]
  },
  {
   "cell_type": "code",
   "execution_count": 21,
   "id": "f61d2573",
   "metadata": {},
   "outputs": [],
   "source": [
    "for i in soup.find_all('td',class_='table-body__cell rating'): \n",
    "    rating.append(i.text)"
   ]
  },
  {
   "cell_type": "code",
   "execution_count": 22,
   "id": "e3e3dfde",
   "metadata": {
    "collapsed": true
   },
   "outputs": [
    {
     "data": {
      "text/plain": [
       "['741',\n",
       " '703',\n",
       " '699',\n",
       " '685',\n",
       " '675',\n",
       " '667',\n",
       " '667',\n",
       " '663',\n",
       " '650',\n",
       " '648',\n",
       " '648',\n",
       " '622',\n",
       " '621',\n",
       " '617',\n",
       " '614',\n",
       " '611',\n",
       " '611',\n",
       " '611',\n",
       " '600',\n",
       " '590',\n",
       " '589',\n",
       " '586',\n",
       " '582',\n",
       " '578',\n",
       " '563',\n",
       " '563',\n",
       " '562',\n",
       " '558',\n",
       " '558',\n",
       " '553',\n",
       " '551',\n",
       " '545',\n",
       " '539',\n",
       " '531',\n",
       " '529',\n",
       " '522',\n",
       " '521',\n",
       " '518',\n",
       " '518',\n",
       " '516',\n",
       " '514',\n",
       " '513',\n",
       " '509',\n",
       " '508',\n",
       " '505',\n",
       " '501',\n",
       " '500',\n",
       " '499',\n",
       " '499',\n",
       " '493',\n",
       " '487',\n",
       " '483',\n",
       " '482',\n",
       " '481',\n",
       " '479',\n",
       " '479',\n",
       " '477',\n",
       " '473',\n",
       " '472',\n",
       " '468',\n",
       " '468',\n",
       " '465',\n",
       " '464',\n",
       " '464',\n",
       " '462',\n",
       " '461',\n",
       " '458',\n",
       " '456',\n",
       " '453',\n",
       " '446',\n",
       " '444',\n",
       " '439',\n",
       " '437',\n",
       " '436',\n",
       " '431',\n",
       " '429',\n",
       " '429',\n",
       " '428',\n",
       " '427',\n",
       " '424',\n",
       " '421',\n",
       " '418',\n",
       " '418',\n",
       " '417',\n",
       " '416',\n",
       " '415',\n",
       " '414',\n",
       " '411',\n",
       " '411',\n",
       " '409',\n",
       " '409',\n",
       " '408',\n",
       " '405',\n",
       " '400',\n",
       " '399',\n",
       " '399',\n",
       " '397',\n",
       " '397',\n",
       " '394',\n",
       " '393']"
      ]
     },
     "execution_count": 22,
     "metadata": {},
     "output_type": "execute_result"
    }
   ],
   "source": [
    "rating"
   ]
  },
  {
   "cell_type": "code",
   "execution_count": 23,
   "id": "46e90948",
   "metadata": {},
   "outputs": [],
   "source": [
    "Rating=rating[:10]"
   ]
  },
  {
   "cell_type": "code",
   "execution_count": 24,
   "id": "a35e3e7f",
   "metadata": {},
   "outputs": [
    {
     "data": {
      "text/plain": [
       "['741', '703', '699', '685', '675', '667', '667', '663', '650', '648']"
      ]
     },
     "execution_count": 24,
     "metadata": {},
     "output_type": "execute_result"
    }
   ],
   "source": [
    "Rating"
   ]
  },
  {
   "cell_type": "code",
   "execution_count": 25,
   "id": "914a6263",
   "metadata": {},
   "outputs": [],
   "source": [
    "odi_bowler=pd.DataFrame({'BOWLER':Bowler,'TEAM':Team,'RATING':Rating})"
   ]
  },
  {
   "cell_type": "code",
   "execution_count": 26,
   "id": "9462a684",
   "metadata": {
    "collapsed": true
   },
   "outputs": [
    {
     "data": {
      "text/html": [
       "<div>\n",
       "<style scoped>\n",
       "    .dataframe tbody tr th:only-of-type {\n",
       "        vertical-align: middle;\n",
       "    }\n",
       "\n",
       "    .dataframe tbody tr th {\n",
       "        vertical-align: top;\n",
       "    }\n",
       "\n",
       "    .dataframe thead th {\n",
       "        text-align: right;\n",
       "    }\n",
       "</style>\n",
       "<table border=\"1\" class=\"dataframe\">\n",
       "  <thead>\n",
       "    <tr style=\"text-align: right;\">\n",
       "      <th></th>\n",
       "      <th>BOWLER</th>\n",
       "      <th>TEAM</th>\n",
       "      <th>RATING</th>\n",
       "    </tr>\n",
       "  </thead>\n",
       "  <tbody>\n",
       "    <tr>\n",
       "      <th>0</th>\n",
       "      <td>Keshav Maharaj</td>\n",
       "      <td>\\n\\nSA\\n</td>\n",
       "      <td>741</td>\n",
       "    </tr>\n",
       "    <tr>\n",
       "      <th>1</th>\n",
       "      <td>\\nJosh Hazlewood\\n</td>\n",
       "      <td>AUS</td>\n",
       "      <td>703</td>\n",
       "    </tr>\n",
       "    <tr>\n",
       "      <th>2</th>\n",
       "      <td>\\nMohammed Siraj\\n</td>\n",
       "      <td>IND</td>\n",
       "      <td>699</td>\n",
       "    </tr>\n",
       "    <tr>\n",
       "      <th>3</th>\n",
       "      <td>\\nJasprit Bumrah\\n</td>\n",
       "      <td>IND</td>\n",
       "      <td>685</td>\n",
       "    </tr>\n",
       "    <tr>\n",
       "      <th>4</th>\n",
       "      <td>\\nAdam Zampa\\n</td>\n",
       "      <td>AUS</td>\n",
       "      <td>675</td>\n",
       "    </tr>\n",
       "    <tr>\n",
       "      <th>5</th>\n",
       "      <td>\\nRashid Khan\\n</td>\n",
       "      <td>AFG</td>\n",
       "      <td>667</td>\n",
       "    </tr>\n",
       "    <tr>\n",
       "      <th>6</th>\n",
       "      <td>\\nKuldeep Yadav\\n</td>\n",
       "      <td>IND</td>\n",
       "      <td>667</td>\n",
       "    </tr>\n",
       "    <tr>\n",
       "      <th>7</th>\n",
       "      <td>\\nTrent Boult\\n</td>\n",
       "      <td>NZ</td>\n",
       "      <td>663</td>\n",
       "    </tr>\n",
       "    <tr>\n",
       "      <th>8</th>\n",
       "      <td>\\nShaheen Afridi\\n</td>\n",
       "      <td>PAK</td>\n",
       "      <td>650</td>\n",
       "    </tr>\n",
       "    <tr>\n",
       "      <th>9</th>\n",
       "      <td>\\nMohammad Shami\\n</td>\n",
       "      <td>IND</td>\n",
       "      <td>648</td>\n",
       "    </tr>\n",
       "  </tbody>\n",
       "</table>\n",
       "</div>"
      ],
      "text/plain": [
       "               BOWLER                          TEAM RATING\n",
       "0      Keshav Maharaj  \\n\\nSA\\n                        741\n",
       "1  \\nJosh Hazlewood\\n                           AUS    703\n",
       "2  \\nMohammed Siraj\\n                           IND    699\n",
       "3  \\nJasprit Bumrah\\n                           IND    685\n",
       "4      \\nAdam Zampa\\n                           AUS    675\n",
       "5     \\nRashid Khan\\n                           AFG    667\n",
       "6   \\nKuldeep Yadav\\n                           IND    667\n",
       "7     \\nTrent Boult\\n                            NZ    663\n",
       "8  \\nShaheen Afridi\\n                           PAK    650\n",
       "9  \\nMohammad Shami\\n                           IND    648"
      ]
     },
     "execution_count": 26,
     "metadata": {},
     "output_type": "execute_result"
    }
   ],
   "source": [
    "odi_bowler"
   ]
  },
  {
   "cell_type": "code",
   "execution_count": 27,
   "id": "e06339e2",
   "metadata": {},
   "outputs": [
    {
     "data": {
      "text/plain": [
       "<Response [200]>"
      ]
     },
     "execution_count": 27,
     "metadata": {},
     "output_type": "execute_result"
    }
   ],
   "source": [
    "#4 Write a python program to scrape cricket rankings from icc-cricket.com. You have to scrape and make data frame\n",
    "page1=requests.get('https://www.icc-cricket.com/rankings/womens/team-rankings/odi')\n",
    "page1\n"
   ]
  },
  {
   "cell_type": "code",
   "execution_count": 29,
   "id": "d554219c",
   "metadata": {},
   "outputs": [],
   "source": [
    "soup=BeautifulSoup(page1.content)\n",
    "team=[]\n",
    "for i in soup.find_all('span',class_='u-hide-phablet'): \n",
    "    team.append(i.text)"
   ]
  },
  {
   "cell_type": "code",
   "execution_count": 30,
   "id": "465ae837",
   "metadata": {
    "collapsed": true
   },
   "outputs": [
    {
     "data": {
      "text/plain": [
       "['Australia',\n",
       " 'England',\n",
       " 'South Africa',\n",
       " 'India',\n",
       " 'New Zealand',\n",
       " 'West Indies',\n",
       " 'Sri Lanka',\n",
       " 'Bangladesh',\n",
       " 'Thailand',\n",
       " 'Pakistan',\n",
       " 'Ireland',\n",
       " 'Netherlands',\n",
       " 'Zimbabwe']"
      ]
     },
     "execution_count": 30,
     "metadata": {},
     "output_type": "execute_result"
    }
   ],
   "source": [
    "team"
   ]
  },
  {
   "cell_type": "code",
   "execution_count": 31,
   "id": "1e49fcd1",
   "metadata": {},
   "outputs": [],
   "source": [
    "Team_women=team[:10]"
   ]
  },
  {
   "cell_type": "code",
   "execution_count": 32,
   "id": "ca23ac9b",
   "metadata": {
    "collapsed": true
   },
   "outputs": [
    {
     "data": {
      "text/plain": [
       "['Australia',\n",
       " 'England',\n",
       " 'South Africa',\n",
       " 'India',\n",
       " 'New Zealand',\n",
       " 'West Indies',\n",
       " 'Sri Lanka',\n",
       " 'Bangladesh',\n",
       " 'Thailand',\n",
       " 'Pakistan']"
      ]
     },
     "execution_count": 32,
     "metadata": {},
     "output_type": "execute_result"
    }
   ],
   "source": [
    "Team_women"
   ]
  },
  {
   "cell_type": "code",
   "execution_count": 33,
   "id": "2f57e520",
   "metadata": {},
   "outputs": [],
   "source": [
    "soup=BeautifulSoup(page1.content)\n",
    "Matches_women=[]\n",
    "for i in soup.find_all('td',class_='rankings-block__banner--matches'): \n",
    "    Matches_women.append(i.text)"
   ]
  },
  {
   "cell_type": "code",
   "execution_count": 34,
   "id": "f1b4d891",
   "metadata": {},
   "outputs": [
    {
     "data": {
      "text/plain": [
       "['21']"
      ]
     },
     "execution_count": 34,
     "metadata": {},
     "output_type": "execute_result"
    }
   ],
   "source": [
    "Matches_women"
   ]
  },
  {
   "cell_type": "code",
   "execution_count": 35,
   "id": "5e5a72d8",
   "metadata": {},
   "outputs": [],
   "source": [
    "for i in soup.find_all('td',class_='table-body__cell u-center-text'): \n",
    "    Matches_women.append(i.text)"
   ]
  },
  {
   "cell_type": "code",
   "execution_count": 65,
   "id": "fad915ed",
   "metadata": {},
   "outputs": [
    {
     "data": {
      "text/plain": [
       "['21',\n",
       " '23',\n",
       " '2,991',\n",
       " '21',\n",
       " '2,446',\n",
       " '18',\n",
       " '1,745',\n",
       " '21',\n",
       " '2,014',\n",
       " '20',\n",
       " '1,768',\n",
       " '9',\n",
       " '714',\n",
       " '14',\n",
       " '1,074',\n",
       " '11',\n",
       " '753',\n",
       " '24',\n",
       " '1,602',\n",
       " '16',\n",
       " '571',\n",
       " '9',\n",
       " '94',\n",
       " '7',\n",
       " '0']"
      ]
     },
     "execution_count": 65,
     "metadata": {},
     "output_type": "execute_result"
    }
   ],
   "source": [
    "Matches_women"
   ]
  },
  {
   "cell_type": "code",
   "execution_count": 66,
   "id": "667a63c2",
   "metadata": {},
   "outputs": [],
   "source": [
    "soup=BeautifulSoup(page1.content)\n",
    "Points_women=[]\n",
    "for i in soup.find_all('td',class_='rankings-block__banner--points'): \n",
    "    Points_women.append(i.text)"
   ]
  },
  {
   "cell_type": "code",
   "execution_count": 67,
   "id": "10753f53",
   "metadata": {},
   "outputs": [
    {
     "data": {
      "text/plain": [
       "['3,429']"
      ]
     },
     "execution_count": 67,
     "metadata": {},
     "output_type": "execute_result"
    }
   ],
   "source": [
    "Points_women\n",
    "                    "
   ]
  },
  {
   "cell_type": "code",
   "execution_count": 68,
   "id": "b2be42c0",
   "metadata": {},
   "outputs": [],
   "source": [
    "soup=BeautifulSoup(page.content)\n",
    "matches_Women=[]\n",
    "\n",
    "for number in Matches_women:\n",
    "    number=number.replace(',','')\n",
    "    if number.isdigit() and len(number)<=2:\n",
    "        matches_Women.append(number)\n",
    "    else:\n",
    "        Points_women.append(number)"
   ]
  },
  {
   "cell_type": "code",
   "execution_count": 81,
   "id": "589b71cc",
   "metadata": {},
   "outputs": [
    {
     "data": {
      "text/plain": [
       "['21', '23', '21', '18', '21', '20', '9', '14', '11', '24']"
      ]
     },
     "execution_count": 81,
     "metadata": {},
     "output_type": "execute_result"
    }
   ],
   "source": [
    "matches_Women\n",
    "Matches_Women=matches_Women[:10]\n",
    "Matches_Women"
   ]
  },
  {
   "cell_type": "code",
   "execution_count": 70,
   "id": "98297d5d",
   "metadata": {
    "collapsed": true
   },
   "outputs": [
    {
     "data": {
      "text/plain": [
       "['3,429',\n",
       " '2991',\n",
       " '2446',\n",
       " '1745',\n",
       " '2014',\n",
       " '1768',\n",
       " '714',\n",
       " '1074',\n",
       " '753',\n",
       " '1602',\n",
       " '571']"
      ]
     },
     "execution_count": 70,
     "metadata": {},
     "output_type": "execute_result"
    }
   ],
   "source": [
    "Points_women\n",
    "\n"
   ]
  },
  {
   "cell_type": "code",
   "execution_count": 71,
   "id": "960ba29c",
   "metadata": {},
   "outputs": [],
   "source": [
    "Points_Women=Points_women[:10]"
   ]
  },
  {
   "cell_type": "code",
   "execution_count": 72,
   "id": "6b4bfbdb",
   "metadata": {},
   "outputs": [
    {
     "data": {
      "text/plain": [
       "['3,429', '2991', '2446', '1745', '2014', '1768', '714', '1074', '753', '1602']"
      ]
     },
     "execution_count": 72,
     "metadata": {},
     "output_type": "execute_result"
    }
   ],
   "source": [
    "Points_Women"
   ]
  },
  {
   "cell_type": "code",
   "execution_count": 73,
   "id": "044d16c9",
   "metadata": {},
   "outputs": [],
   "source": [
    "soup=BeautifulSoup(page1.content)\n",
    "Rating_women=[]\n",
    "for i in soup.find_all('td',class_='rankings-block__banner--rating u-text-right'): \n",
    "    Rating_women.append(i.text)"
   ]
  },
  {
   "cell_type": "code",
   "execution_count": 74,
   "id": "2ba81757",
   "metadata": {},
   "outputs": [
    {
     "data": {
      "text/plain": [
       "['\\n                            163\\n                            \\n\\n']"
      ]
     },
     "execution_count": 74,
     "metadata": {},
     "output_type": "execute_result"
    }
   ],
   "source": [
    "Rating_women"
   ]
  },
  {
   "cell_type": "code",
   "execution_count": 75,
   "id": "1cf1ad46",
   "metadata": {},
   "outputs": [],
   "source": [
    "for i in soup.find_all('td',class_='table-body__cell u-text-right rating'): \n",
    "    Rating_women.append(i.text)"
   ]
  },
  {
   "cell_type": "code",
   "execution_count": 76,
   "id": "d8788807",
   "metadata": {
    "collapsed": true
   },
   "outputs": [
    {
     "data": {
      "text/plain": [
       "['\\n                            163\\n                            \\n\\n',\n",
       " '130',\n",
       " '116',\n",
       " '97',\n",
       " '96',\n",
       " '88',\n",
       " '79',\n",
       " '77',\n",
       " '68',\n",
       " '67',\n",
       " '36',\n",
       " '10',\n",
       " '0']"
      ]
     },
     "execution_count": 76,
     "metadata": {},
     "output_type": "execute_result"
    }
   ],
   "source": [
    "Rating_women"
   ]
  },
  {
   "cell_type": "code",
   "execution_count": 77,
   "id": "2b701623",
   "metadata": {},
   "outputs": [],
   "source": [
    "Rating_Women=Rating_women[:10]"
   ]
  },
  {
   "cell_type": "code",
   "execution_count": 78,
   "id": "f294db4b",
   "metadata": {
    "collapsed": true
   },
   "outputs": [
    {
     "data": {
      "text/plain": [
       "['\\n                            163\\n                            \\n\\n',\n",
       " '130',\n",
       " '116',\n",
       " '97',\n",
       " '96',\n",
       " '88',\n",
       " '79',\n",
       " '77',\n",
       " '68',\n",
       " '67']"
      ]
     },
     "execution_count": 78,
     "metadata": {},
     "output_type": "execute_result"
    }
   ],
   "source": [
    "Rating_Women"
   ]
  },
  {
   "cell_type": "code",
   "execution_count": 82,
   "id": "3b767757",
   "metadata": {},
   "outputs": [],
   "source": [
    "odi_womenteam=pd.DataFrame({'Team':Team_women,'Matches':Matches_Women,'Points':Points_Women,'Rating':Rating_Women})"
   ]
  },
  {
   "cell_type": "code",
   "execution_count": 83,
   "id": "8be5d017",
   "metadata": {
    "collapsed": true
   },
   "outputs": [
    {
     "data": {
      "text/html": [
       "<div>\n",
       "<style scoped>\n",
       "    .dataframe tbody tr th:only-of-type {\n",
       "        vertical-align: middle;\n",
       "    }\n",
       "\n",
       "    .dataframe tbody tr th {\n",
       "        vertical-align: top;\n",
       "    }\n",
       "\n",
       "    .dataframe thead th {\n",
       "        text-align: right;\n",
       "    }\n",
       "</style>\n",
       "<table border=\"1\" class=\"dataframe\">\n",
       "  <thead>\n",
       "    <tr style=\"text-align: right;\">\n",
       "      <th></th>\n",
       "      <th>Team</th>\n",
       "      <th>Matches</th>\n",
       "      <th>Points</th>\n",
       "      <th>Rating</th>\n",
       "    </tr>\n",
       "  </thead>\n",
       "  <tbody>\n",
       "    <tr>\n",
       "      <th>0</th>\n",
       "      <td>Australia</td>\n",
       "      <td>21</td>\n",
       "      <td>3,429</td>\n",
       "      <td>\\n                            163\\n           ...</td>\n",
       "    </tr>\n",
       "    <tr>\n",
       "      <th>1</th>\n",
       "      <td>England</td>\n",
       "      <td>23</td>\n",
       "      <td>2991</td>\n",
       "      <td>130</td>\n",
       "    </tr>\n",
       "    <tr>\n",
       "      <th>2</th>\n",
       "      <td>South Africa</td>\n",
       "      <td>21</td>\n",
       "      <td>2446</td>\n",
       "      <td>116</td>\n",
       "    </tr>\n",
       "    <tr>\n",
       "      <th>3</th>\n",
       "      <td>India</td>\n",
       "      <td>18</td>\n",
       "      <td>1745</td>\n",
       "      <td>97</td>\n",
       "    </tr>\n",
       "    <tr>\n",
       "      <th>4</th>\n",
       "      <td>New Zealand</td>\n",
       "      <td>21</td>\n",
       "      <td>2014</td>\n",
       "      <td>96</td>\n",
       "    </tr>\n",
       "    <tr>\n",
       "      <th>5</th>\n",
       "      <td>West Indies</td>\n",
       "      <td>20</td>\n",
       "      <td>1768</td>\n",
       "      <td>88</td>\n",
       "    </tr>\n",
       "    <tr>\n",
       "      <th>6</th>\n",
       "      <td>Sri Lanka</td>\n",
       "      <td>9</td>\n",
       "      <td>714</td>\n",
       "      <td>79</td>\n",
       "    </tr>\n",
       "    <tr>\n",
       "      <th>7</th>\n",
       "      <td>Bangladesh</td>\n",
       "      <td>14</td>\n",
       "      <td>1074</td>\n",
       "      <td>77</td>\n",
       "    </tr>\n",
       "    <tr>\n",
       "      <th>8</th>\n",
       "      <td>Thailand</td>\n",
       "      <td>11</td>\n",
       "      <td>753</td>\n",
       "      <td>68</td>\n",
       "    </tr>\n",
       "    <tr>\n",
       "      <th>9</th>\n",
       "      <td>Pakistan</td>\n",
       "      <td>24</td>\n",
       "      <td>1602</td>\n",
       "      <td>67</td>\n",
       "    </tr>\n",
       "  </tbody>\n",
       "</table>\n",
       "</div>"
      ],
      "text/plain": [
       "           Team Matches Points  \\\n",
       "0     Australia      21  3,429   \n",
       "1       England      23   2991   \n",
       "2  South Africa      21   2446   \n",
       "3         India      18   1745   \n",
       "4   New Zealand      21   2014   \n",
       "5   West Indies      20   1768   \n",
       "6     Sri Lanka       9    714   \n",
       "7    Bangladesh      14   1074   \n",
       "8      Thailand      11    753   \n",
       "9      Pakistan      24   1602   \n",
       "\n",
       "                                              Rating  \n",
       "0  \\n                            163\\n           ...  \n",
       "1                                                130  \n",
       "2                                                116  \n",
       "3                                                 97  \n",
       "4                                                 96  \n",
       "5                                                 88  \n",
       "6                                                 79  \n",
       "7                                                 77  \n",
       "8                                                 68  \n",
       "9                                                 67  "
      ]
     },
     "execution_count": 83,
     "metadata": {},
     "output_type": "execute_result"
    }
   ],
   "source": [
    "odi_womenteam"
   ]
  },
  {
   "cell_type": "code",
   "execution_count": 84,
   "id": "5fd309ab",
   "metadata": {},
   "outputs": [
    {
     "data": {
      "text/plain": [
       "<Response [200]>"
      ]
     },
     "execution_count": 84,
     "metadata": {},
     "output_type": "execute_result"
    }
   ],
   "source": [
    "# Top 10 women’s ODI Batting players along with the records of their team and rating.\n",
    "pages=requests.get('https://www.icc-cricket.com/rankings/womens/player-rankings/odi/batting')\n",
    "pages"
   ]
  },
  {
   "cell_type": "code",
   "execution_count": 87,
   "id": "fc5b82b5",
   "metadata": {},
   "outputs": [],
   "source": [
    "soup=BeautifulSoup(pages.content)\n",
    "player=[]\n",
    "for i in soup.find_all('div',class_='rankings-block__banner--name-large'): \n",
    "    player.append(i.text)"
   ]
  },
  {
   "cell_type": "code",
   "execution_count": 88,
   "id": "bb898ae0",
   "metadata": {},
   "outputs": [
    {
     "data": {
      "text/plain": [
       "['Natalie Sciver-Brunt']"
      ]
     },
     "execution_count": 88,
     "metadata": {},
     "output_type": "execute_result"
    }
   ],
   "source": [
    "player"
   ]
  },
  {
   "cell_type": "code",
   "execution_count": 89,
   "id": "63a99b98",
   "metadata": {},
   "outputs": [],
   "source": [
    "for i in soup.find_all('td',class_='table-body__cell rankings-table__name name'): \n",
    "    player.append(i.text)"
   ]
  },
  {
   "cell_type": "code",
   "execution_count": 90,
   "id": "1782dc8e",
   "metadata": {
    "collapsed": true
   },
   "outputs": [
    {
     "data": {
      "text/plain": [
       "['Natalie Sciver-Brunt',\n",
       " '\\nBeth Mooney\\n',\n",
       " '\\nChamari Athapaththu\\n',\n",
       " '\\nLaura Wolvaardt\\n',\n",
       " '\\nSmriti Mandhana\\n',\n",
       " '\\nAlyssa Healy\\n',\n",
       " '\\nEllyse Perry\\n',\n",
       " '\\nHarmanpreet Kaur\\n',\n",
       " '\\nMeg Lanning\\n',\n",
       " '\\nMarizanne Kapp\\n',\n",
       " '\\nAmelia Kerr\\n',\n",
       " '\\nHeather Knight\\n',\n",
       " '\\nTammy Beaumont\\n',\n",
       " '\\nChloe-Lesleigh Tryon\\n',\n",
       " '\\nAshleigh Gardner\\n',\n",
       " '\\nFargana Hoque\\n',\n",
       " '\\nHayley Matthews\\n',\n",
       " '\\nStafanie Taylor\\n',\n",
       " '\\nDanielle Wyatt\\n',\n",
       " '\\nSophie Devine\\n',\n",
       " '\\nSidra Ameen\\n',\n",
       " '\\nGaby Lewis\\n',\n",
       " '\\nNattakan Chantam\\n',\n",
       " '\\nSuzie Bates\\n',\n",
       " '\\nDeepti Sharma\\n',\n",
       " '\\nSune Luus\\n',\n",
       " '\\nAmy Jones\\n',\n",
       " '\\nNigar Sultana\\n',\n",
       " '\\nLaura Delany\\n',\n",
       " '\\nBismah Maroof\\n',\n",
       " '\\nAliya Riaz\\n',\n",
       " '\\nNida Dar\\n',\n",
       " '\\nMaddie Green\\n',\n",
       " '\\nTahlia McGrath\\n',\n",
       " '\\nOrla Prendergast\\n',\n",
       " '\\nLeah Paul\\n',\n",
       " '\\nAnnabel Sutherland\\n',\n",
       " '\\nSophia Dunkley\\n',\n",
       " '\\nYastika Bhatia\\n',\n",
       " '\\nAmy Hunter\\n',\n",
       " '\\nNaruemol Chaiwai\\n',\n",
       " '\\nPhoebe Litchfield\\n',\n",
       " '\\nShafali Verma\\n',\n",
       " '\\nEmma Lamb\\n',\n",
       " '\\nBrooke Halliday\\n',\n",
       " '\\nUmaima Sohail\\n',\n",
       " '\\nBabette de Leede\\n',\n",
       " '\\nHarshitha Madavi\\n',\n",
       " '\\nRumana Ahmed\\n',\n",
       " '\\nLara Goodall\\n',\n",
       " '\\nPooja Vastrakar\\n',\n",
       " '\\nMuneeba Ali\\n',\n",
       " '\\nNilakshi Silva\\n',\n",
       " '\\nHarleen Deol\\n',\n",
       " '\\nKavisha Dilhari\\n',\n",
       " '\\nJess Jonassen\\n',\n",
       " '\\nLauren Down\\n',\n",
       " '\\nJemimah Rodriques\\n',\n",
       " '\\nHasini Perera\\n',\n",
       " '\\nSharne Mayers\\n',\n",
       " '\\nKathryn Bryce\\n',\n",
       " '\\nGeorgia Wareham\\n',\n",
       " '\\nNannapat Koncharoenkai\\n',\n",
       " '\\nTazmin Brits\\n',\n",
       " '\\nTrisha Chetty\\n',\n",
       " '\\nSalma Khatun\\n',\n",
       " '\\nSadaf Shamas\\n',\n",
       " '\\nShemaine Campbelle\\n',\n",
       " '\\nRicha Ghosh\\n',\n",
       " '\\nNadine Klerk\\n',\n",
       " '\\nAndrie Steyn\\n',\n",
       " '\\nCharlotte Dean\\n',\n",
       " '\\nHeather Siegers\\n',\n",
       " '\\nChinelle Henry\\n',\n",
       " '\\nChedean Nation\\n',\n",
       " '\\nSharmin Supta\\n',\n",
       " '\\nPrasadani Weerakkody\\n',\n",
       " '\\nLata Mondal\\n',\n",
       " '\\nMurshida Khatun\\n',\n",
       " '\\nRitu Moni\\n',\n",
       " '\\nRashada Williams\\n',\n",
       " '\\nRobine Rijke\\n',\n",
       " '\\nJosephine Nkomo\\n',\n",
       " '\\nShamima Sultana\\n',\n",
       " '\\nKycia Knight\\n',\n",
       " '\\nMary Waldron\\n',\n",
       " '\\nArlene Kelly\\n',\n",
       " '\\nSophie Ecclestone\\n',\n",
       " '\\nAlice Capsey\\n',\n",
       " '\\nSobhana Mostari\\n',\n",
       " '\\nKate Cross\\n',\n",
       " '\\nHannah Rowe\\n',\n",
       " '\\nRosenan Kanoh\\n',\n",
       " '\\nFatima Sana\\n',\n",
       " '\\nGeorgina Dempsey\\n',\n",
       " '\\nJess Kerr\\n',\n",
       " '\\nEimear Richardson\\n',\n",
       " '\\nFrederique Overdijk\\n',\n",
       " '\\nDiana Baig\\n',\n",
       " '\\nMeghna Singh\\n']"
      ]
     },
     "execution_count": 90,
     "metadata": {},
     "output_type": "execute_result"
    }
   ],
   "source": [
    "player"
   ]
  },
  {
   "cell_type": "code",
   "execution_count": 91,
   "id": "19acf03a",
   "metadata": {},
   "outputs": [],
   "source": [
    "Player_women=player[:10]"
   ]
  },
  {
   "cell_type": "code",
   "execution_count": 92,
   "id": "2a0dc080",
   "metadata": {
    "collapsed": true
   },
   "outputs": [
    {
     "data": {
      "text/plain": [
       "['Natalie Sciver-Brunt',\n",
       " '\\nBeth Mooney\\n',\n",
       " '\\nChamari Athapaththu\\n',\n",
       " '\\nLaura Wolvaardt\\n',\n",
       " '\\nSmriti Mandhana\\n',\n",
       " '\\nAlyssa Healy\\n',\n",
       " '\\nEllyse Perry\\n',\n",
       " '\\nHarmanpreet Kaur\\n',\n",
       " '\\nMeg Lanning\\n',\n",
       " '\\nMarizanne Kapp\\n']"
      ]
     },
     "execution_count": 92,
     "metadata": {},
     "output_type": "execute_result"
    }
   ],
   "source": [
    "Player_women"
   ]
  },
  {
   "cell_type": "code",
   "execution_count": 93,
   "id": "e062d356",
   "metadata": {},
   "outputs": [],
   "source": [
    "soup=BeautifulSoup(pages.content)\n",
    "team=[]\n",
    "for i in soup.find_all('div',class_='rankings-block__banner--nationality'): \n",
    "    team.append(i.text)"
   ]
  },
  {
   "cell_type": "code",
   "execution_count": 94,
   "id": "1a4cbf36",
   "metadata": {},
   "outputs": [
    {
     "data": {
      "text/plain": [
       "['\\n\\nENG\\n                    ']"
      ]
     },
     "execution_count": 94,
     "metadata": {},
     "output_type": "execute_result"
    }
   ],
   "source": [
    "team"
   ]
  },
  {
   "cell_type": "code",
   "execution_count": 95,
   "id": "e8f596ee",
   "metadata": {},
   "outputs": [],
   "source": [
    "for i in soup.find_all('td',class_='table-body__cell nationality-logo rankings-table__team'): \n",
    "    team.append(i.text)"
   ]
  },
  {
   "cell_type": "code",
   "execution_count": 96,
   "id": "8ebbe465",
   "metadata": {
    "collapsed": true
   },
   "outputs": [
    {
     "data": {
      "text/plain": [
       "['\\n\\nENG\\n                    ',\n",
       " '\\n\\nAUS\\n',\n",
       " '\\n\\nSL\\n',\n",
       " '\\n\\nSA\\n',\n",
       " '\\n\\nIND\\n',\n",
       " '\\n\\nAUS\\n',\n",
       " '\\n\\nAUS\\n',\n",
       " '\\n\\nIND\\n',\n",
       " '\\n\\nAUS\\n',\n",
       " '\\n\\nSA\\n',\n",
       " '\\n\\nNZ\\n',\n",
       " '\\n\\nENG\\n',\n",
       " '\\n\\nENG\\n',\n",
       " '\\n\\nSA\\n',\n",
       " '\\n\\nAUS\\n',\n",
       " '\\n\\nBAN\\n',\n",
       " '\\n\\nWI\\n',\n",
       " '\\n\\nWI\\n',\n",
       " '\\n\\nENG\\n',\n",
       " '\\n\\nNZ\\n',\n",
       " '\\n\\nPAK\\n',\n",
       " '\\n\\nIRE\\n',\n",
       " '\\n\\nTHA\\n',\n",
       " '\\n\\nNZ\\n',\n",
       " '\\n\\nIND\\n',\n",
       " '\\n\\nSA\\n',\n",
       " '\\n\\nENG\\n',\n",
       " '\\n\\nBAN\\n',\n",
       " '\\n\\nIRE\\n',\n",
       " '\\n\\nPAK\\n',\n",
       " '\\n\\nPAK\\n',\n",
       " '\\n\\nPAK\\n',\n",
       " '\\n\\nNZ\\n',\n",
       " '\\n\\nAUS\\n',\n",
       " '\\n\\nIRE\\n',\n",
       " '\\n\\nIRE\\n',\n",
       " '\\n\\nAUS\\n',\n",
       " '\\n\\nENG\\n',\n",
       " '\\n\\nIND\\n',\n",
       " '\\n\\nIRE\\n',\n",
       " '\\n\\nTHA\\n',\n",
       " '\\n\\nAUS\\n',\n",
       " '\\n\\nIND\\n',\n",
       " '\\n\\nENG\\n',\n",
       " '\\n\\nNZ\\n',\n",
       " '\\n\\nPAK\\n',\n",
       " '\\n\\nNED\\n',\n",
       " '\\n\\nSL\\n',\n",
       " '\\n\\nBAN\\n',\n",
       " '\\n\\nSA\\n',\n",
       " '\\n\\nIND\\n',\n",
       " '\\n\\nPAK\\n',\n",
       " '\\n\\nSL\\n',\n",
       " '\\n\\nIND\\n',\n",
       " '\\n\\nSL\\n',\n",
       " '\\n\\nAUS\\n',\n",
       " '\\n\\nNZ\\n',\n",
       " '\\n\\nIND\\n',\n",
       " '\\n\\nSL\\n',\n",
       " '\\n\\nZIM\\n',\n",
       " '\\n\\nSCO\\n',\n",
       " '\\n\\nAUS\\n',\n",
       " '\\n\\nTHA\\n',\n",
       " '\\n\\nSA\\n',\n",
       " '\\n\\nSA\\n',\n",
       " '\\n\\nBAN\\n',\n",
       " '\\n\\nPAK\\n',\n",
       " '\\n\\nWI\\n',\n",
       " '\\n\\nIND\\n',\n",
       " '\\n\\nSA\\n',\n",
       " '\\n\\nSA\\n',\n",
       " '\\n\\nENG\\n',\n",
       " '\\n\\nNED\\n',\n",
       " '\\n\\nWI\\n',\n",
       " '\\n\\nWI\\n',\n",
       " '\\n\\nBAN\\n',\n",
       " '\\n\\nSL\\n',\n",
       " '\\n\\nBAN\\n',\n",
       " '\\n\\nBAN\\n',\n",
       " '\\n\\nBAN\\n',\n",
       " '\\n\\nWI\\n',\n",
       " '\\n\\nNED\\n',\n",
       " '\\n\\nZIM\\n',\n",
       " '\\n\\nBAN\\n',\n",
       " '\\n\\nWI\\n',\n",
       " '\\n\\nIRE\\n',\n",
       " '\\n\\nIRE\\n',\n",
       " '\\n\\nENG\\n',\n",
       " '\\n\\nENG\\n',\n",
       " '\\n\\nBAN\\n',\n",
       " '\\n\\nENG\\n',\n",
       " '\\n\\nNZ\\n',\n",
       " '\\n\\nTHA\\n',\n",
       " '\\n\\nPAK\\n',\n",
       " '\\n\\nIRE\\n',\n",
       " '\\n\\nNZ\\n',\n",
       " '\\n\\nIRE\\n',\n",
       " '\\n\\nNED\\n',\n",
       " '\\n\\nPAK\\n',\n",
       " '\\n\\nIND\\n']"
      ]
     },
     "execution_count": 96,
     "metadata": {},
     "output_type": "execute_result"
    }
   ],
   "source": [
    "team"
   ]
  },
  {
   "cell_type": "code",
   "execution_count": 97,
   "id": "0e228ae6",
   "metadata": {},
   "outputs": [],
   "source": [
    "Team_women=team[:10]"
   ]
  },
  {
   "cell_type": "code",
   "execution_count": 98,
   "id": "3093add3",
   "metadata": {
    "collapsed": true
   },
   "outputs": [
    {
     "data": {
      "text/plain": [
       "['\\n\\nENG\\n                    ',\n",
       " '\\n\\nAUS\\n',\n",
       " '\\n\\nSL\\n',\n",
       " '\\n\\nSA\\n',\n",
       " '\\n\\nIND\\n',\n",
       " '\\n\\nAUS\\n',\n",
       " '\\n\\nAUS\\n',\n",
       " '\\n\\nIND\\n',\n",
       " '\\n\\nAUS\\n',\n",
       " '\\n\\nSA\\n']"
      ]
     },
     "execution_count": 98,
     "metadata": {},
     "output_type": "execute_result"
    }
   ],
   "source": [
    "Team_women"
   ]
  },
  {
   "cell_type": "code",
   "execution_count": 99,
   "id": "008b336a",
   "metadata": {},
   "outputs": [],
   "source": [
    "soup=BeautifulSoup(pages.content)\n",
    "rating_wo=[]\n",
    "for i in soup.find_all('div',class_='rankings-block__banner--rating'): \n",
    "    rating_wo.append(i.text)"
   ]
  },
  {
   "cell_type": "code",
   "execution_count": 100,
   "id": "d0e4bcd4",
   "metadata": {},
   "outputs": [
    {
     "data": {
      "text/plain": [
       "['807']"
      ]
     },
     "execution_count": 100,
     "metadata": {},
     "output_type": "execute_result"
    }
   ],
   "source": [
    "rating_wo"
   ]
  },
  {
   "cell_type": "code",
   "execution_count": 101,
   "id": "11fa501b",
   "metadata": {},
   "outputs": [],
   "source": [
    "for i in soup.find_all('td',class_='table-body__cell rating'): \n",
    "    rating_wo.append(i.text)"
   ]
  },
  {
   "cell_type": "code",
   "execution_count": 102,
   "id": "7234f9b1",
   "metadata": {
    "collapsed": true
   },
   "outputs": [
    {
     "data": {
      "text/plain": [
       "['807',\n",
       " '750',\n",
       " '736',\n",
       " '727',\n",
       " '708',\n",
       " '698',\n",
       " '697',\n",
       " '694',\n",
       " '662',\n",
       " '642',\n",
       " '628',\n",
       " '597',\n",
       " '596',\n",
       " '582',\n",
       " '579',\n",
       " '575',\n",
       " '574',\n",
       " '569',\n",
       " '553',\n",
       " '553',\n",
       " '552',\n",
       " '536',\n",
       " '535',\n",
       " '531',\n",
       " '515',\n",
       " '503',\n",
       " '502',\n",
       " '488',\n",
       " '488',\n",
       " '483',\n",
       " '481',\n",
       " '472',\n",
       " '463',\n",
       " '431',\n",
       " '425',\n",
       " '418',\n",
       " '417',\n",
       " '414',\n",
       " '413',\n",
       " '412',\n",
       " '412',\n",
       " '384',\n",
       " '382',\n",
       " '380',\n",
       " '377',\n",
       " '376',\n",
       " '375',\n",
       " '375',\n",
       " '368',\n",
       " '366',\n",
       " '363',\n",
       " '352',\n",
       " '352',\n",
       " '349',\n",
       " '348',\n",
       " '343',\n",
       " '326',\n",
       " '326',\n",
       " '325',\n",
       " '324',\n",
       " '324',\n",
       " '308',\n",
       " '304',\n",
       " '296',\n",
       " '296',\n",
       " '295',\n",
       " '294',\n",
       " '294',\n",
       " '293',\n",
       " '293',\n",
       " '293',\n",
       " '292',\n",
       " '288',\n",
       " '286',\n",
       " '286',\n",
       " '285',\n",
       " '284',\n",
       " '277',\n",
       " '275',\n",
       " '275',\n",
       " '274',\n",
       " '263',\n",
       " '260',\n",
       " '258',\n",
       " '256',\n",
       " '255',\n",
       " '253',\n",
       " '253',\n",
       " '247',\n",
       " '247',\n",
       " '245',\n",
       " '243',\n",
       " '240',\n",
       " '237',\n",
       " '234',\n",
       " '228',\n",
       " '227',\n",
       " '225',\n",
       " '223',\n",
       " '215']"
      ]
     },
     "execution_count": 102,
     "metadata": {},
     "output_type": "execute_result"
    }
   ],
   "source": [
    "rating_wo"
   ]
  },
  {
   "cell_type": "code",
   "execution_count": 103,
   "id": "470cf6bf",
   "metadata": {},
   "outputs": [],
   "source": [
    "Rating_women=rating_wo[:10]"
   ]
  },
  {
   "cell_type": "code",
   "execution_count": 104,
   "id": "836d95d7",
   "metadata": {},
   "outputs": [
    {
     "data": {
      "text/plain": [
       "['807', '750', '736', '727', '708', '698', '697', '694', '662', '642']"
      ]
     },
     "execution_count": 104,
     "metadata": {},
     "output_type": "execute_result"
    }
   ],
   "source": [
    "Rating_women"
   ]
  },
  {
   "cell_type": "code",
   "execution_count": 105,
   "id": "a6b17a2a",
   "metadata": {},
   "outputs": [],
   "source": [
    "odi_women_batter=pd.DataFrame({'Player':Player_women,'Team':Team_women,'Rating':Rating_women})"
   ]
  },
  {
   "cell_type": "code",
   "execution_count": 106,
   "id": "9948e47c",
   "metadata": {
    "collapsed": true
   },
   "outputs": [
    {
     "data": {
      "text/html": [
       "<div>\n",
       "<style scoped>\n",
       "    .dataframe tbody tr th:only-of-type {\n",
       "        vertical-align: middle;\n",
       "    }\n",
       "\n",
       "    .dataframe tbody tr th {\n",
       "        vertical-align: top;\n",
       "    }\n",
       "\n",
       "    .dataframe thead th {\n",
       "        text-align: right;\n",
       "    }\n",
       "</style>\n",
       "<table border=\"1\" class=\"dataframe\">\n",
       "  <thead>\n",
       "    <tr style=\"text-align: right;\">\n",
       "      <th></th>\n",
       "      <th>Player</th>\n",
       "      <th>Team</th>\n",
       "      <th>Rating</th>\n",
       "    </tr>\n",
       "  </thead>\n",
       "  <tbody>\n",
       "    <tr>\n",
       "      <th>0</th>\n",
       "      <td>Natalie Sciver-Brunt</td>\n",
       "      <td>\\n\\nENG\\n</td>\n",
       "      <td>807</td>\n",
       "    </tr>\n",
       "    <tr>\n",
       "      <th>1</th>\n",
       "      <td>\\nBeth Mooney\\n</td>\n",
       "      <td>\\n\\nAUS\\n</td>\n",
       "      <td>750</td>\n",
       "    </tr>\n",
       "    <tr>\n",
       "      <th>2</th>\n",
       "      <td>\\nChamari Athapaththu\\n</td>\n",
       "      <td>\\n\\nSL\\n</td>\n",
       "      <td>736</td>\n",
       "    </tr>\n",
       "    <tr>\n",
       "      <th>3</th>\n",
       "      <td>\\nLaura Wolvaardt\\n</td>\n",
       "      <td>\\n\\nSA\\n</td>\n",
       "      <td>727</td>\n",
       "    </tr>\n",
       "    <tr>\n",
       "      <th>4</th>\n",
       "      <td>\\nSmriti Mandhana\\n</td>\n",
       "      <td>\\n\\nIND\\n</td>\n",
       "      <td>708</td>\n",
       "    </tr>\n",
       "    <tr>\n",
       "      <th>5</th>\n",
       "      <td>\\nAlyssa Healy\\n</td>\n",
       "      <td>\\n\\nAUS\\n</td>\n",
       "      <td>698</td>\n",
       "    </tr>\n",
       "    <tr>\n",
       "      <th>6</th>\n",
       "      <td>\\nEllyse Perry\\n</td>\n",
       "      <td>\\n\\nAUS\\n</td>\n",
       "      <td>697</td>\n",
       "    </tr>\n",
       "    <tr>\n",
       "      <th>7</th>\n",
       "      <td>\\nHarmanpreet Kaur\\n</td>\n",
       "      <td>\\n\\nIND\\n</td>\n",
       "      <td>694</td>\n",
       "    </tr>\n",
       "    <tr>\n",
       "      <th>8</th>\n",
       "      <td>\\nMeg Lanning\\n</td>\n",
       "      <td>\\n\\nAUS\\n</td>\n",
       "      <td>662</td>\n",
       "    </tr>\n",
       "    <tr>\n",
       "      <th>9</th>\n",
       "      <td>\\nMarizanne Kapp\\n</td>\n",
       "      <td>\\n\\nSA\\n</td>\n",
       "      <td>642</td>\n",
       "    </tr>\n",
       "  </tbody>\n",
       "</table>\n",
       "</div>"
      ],
      "text/plain": [
       "                    Player                           Team Rating\n",
       "0     Natalie Sciver-Brunt  \\n\\nENG\\n                        807\n",
       "1          \\nBeth Mooney\\n                      \\n\\nAUS\\n    750\n",
       "2  \\nChamari Athapaththu\\n                       \\n\\nSL\\n    736\n",
       "3      \\nLaura Wolvaardt\\n                       \\n\\nSA\\n    727\n",
       "4      \\nSmriti Mandhana\\n                      \\n\\nIND\\n    708\n",
       "5         \\nAlyssa Healy\\n                      \\n\\nAUS\\n    698\n",
       "6         \\nEllyse Perry\\n                      \\n\\nAUS\\n    697\n",
       "7     \\nHarmanpreet Kaur\\n                      \\n\\nIND\\n    694\n",
       "8          \\nMeg Lanning\\n                      \\n\\nAUS\\n    662\n",
       "9       \\nMarizanne Kapp\\n                       \\n\\nSA\\n    642"
      ]
     },
     "execution_count": 106,
     "metadata": {},
     "output_type": "execute_result"
    }
   ],
   "source": [
    "odi_women_batter"
   ]
  },
  {
   "cell_type": "code",
   "execution_count": 107,
   "id": "73e0c395",
   "metadata": {},
   "outputs": [
    {
     "data": {
      "text/plain": [
       "<Response [200]>"
      ]
     },
     "execution_count": 107,
     "metadata": {},
     "output_type": "execute_result"
    }
   ],
   "source": [
    "# Top 10 women’s ODI all-rounder along with the records of their team and rating.\n",
    "pagess=requests.get('https://www.icc-cricket.com/rankings/womens/player-rankings/odi/all-rounder')\n",
    "pagess"
   ]
  },
  {
   "cell_type": "code",
   "execution_count": 108,
   "id": "367fb111",
   "metadata": {},
   "outputs": [],
   "source": [
    "soup=BeautifulSoup(pagess.content)\n",
    "playerr=[]\n",
    "for i in soup.find_all('div',class_='rankings-block__banner--name-large'): \n",
    "    playerr.append(i.text)"
   ]
  },
  {
   "cell_type": "code",
   "execution_count": 109,
   "id": "514e0512",
   "metadata": {},
   "outputs": [
    {
     "data": {
      "text/plain": [
       "['Marizanne Kapp']"
      ]
     },
     "execution_count": 109,
     "metadata": {},
     "output_type": "execute_result"
    }
   ],
   "source": [
    "playerr"
   ]
  },
  {
   "cell_type": "code",
   "execution_count": 110,
   "id": "8b2aee1e",
   "metadata": {},
   "outputs": [],
   "source": [
    "for i in soup.find_all('td',class_='table-body__cell rankings-table__name name'): \n",
    "    playerr.append(i.text)"
   ]
  },
  {
   "cell_type": "code",
   "execution_count": 111,
   "id": "1ed733a1",
   "metadata": {
    "collapsed": true
   },
   "outputs": [
    {
     "data": {
      "text/plain": [
       "['Marizanne Kapp',\n",
       " '\\nAshleigh Gardner\\n',\n",
       " '\\nNatalie Sciver-Brunt\\n',\n",
       " '\\nHayley Matthews\\n',\n",
       " '\\nAmelia Kerr\\n',\n",
       " '\\nDeepti Sharma\\n',\n",
       " '\\nEllyse Perry\\n',\n",
       " '\\nNida Dar\\n',\n",
       " '\\nJess Jonassen\\n',\n",
       " '\\nSophie Devine\\n',\n",
       " '\\nChloe-Lesleigh Tryon\\n',\n",
       " '\\nChamari Athapaththu\\n',\n",
       " '\\nSophie Ecclestone\\n',\n",
       " '\\nLaura Delany\\n',\n",
       " '\\nCharlotte Dean\\n',\n",
       " '\\nRumana Ahmed\\n',\n",
       " '\\nAnnabel Sutherland\\n',\n",
       " '\\nGeorgia Wareham\\n',\n",
       " '\\nKate Cross\\n',\n",
       " '\\nStafanie Taylor\\n']"
      ]
     },
     "execution_count": 111,
     "metadata": {},
     "output_type": "execute_result"
    }
   ],
   "source": [
    "playerr"
   ]
  },
  {
   "cell_type": "code",
   "execution_count": 112,
   "id": "3402607e",
   "metadata": {},
   "outputs": [],
   "source": [
    "Player_all_women=playerr[:10]"
   ]
  },
  {
   "cell_type": "code",
   "execution_count": 113,
   "id": "d904af6c",
   "metadata": {
    "collapsed": true
   },
   "outputs": [
    {
     "data": {
      "text/plain": [
       "['Marizanne Kapp',\n",
       " '\\nAshleigh Gardner\\n',\n",
       " '\\nNatalie Sciver-Brunt\\n',\n",
       " '\\nHayley Matthews\\n',\n",
       " '\\nAmelia Kerr\\n',\n",
       " '\\nDeepti Sharma\\n',\n",
       " '\\nEllyse Perry\\n',\n",
       " '\\nNida Dar\\n',\n",
       " '\\nJess Jonassen\\n',\n",
       " '\\nSophie Devine\\n']"
      ]
     },
     "execution_count": 113,
     "metadata": {},
     "output_type": "execute_result"
    }
   ],
   "source": [
    "Player_all_women"
   ]
  },
  {
   "cell_type": "code",
   "execution_count": 114,
   "id": "f87d87cc",
   "metadata": {},
   "outputs": [],
   "source": [
    "soup=BeautifulSoup(pagess.content)\n",
    "team_all_women=[]\n",
    "for i in soup.find_all('div',class_='rankings-block__banner--nationality'): \n",
    "    team_all_women.append(i.text)"
   ]
  },
  {
   "cell_type": "code",
   "execution_count": 115,
   "id": "12ab102f",
   "metadata": {},
   "outputs": [
    {
     "data": {
      "text/plain": [
       "['\\n\\nSA\\n                    ']"
      ]
     },
     "execution_count": 115,
     "metadata": {},
     "output_type": "execute_result"
    }
   ],
   "source": [
    "team_all_women"
   ]
  },
  {
   "cell_type": "code",
   "execution_count": 116,
   "id": "4b9089fe",
   "metadata": {},
   "outputs": [],
   "source": [
    "for i in soup.find_all('span',class_='table-body__logo-text'): \n",
    "    team_all_women.append(i.text)"
   ]
  },
  {
   "cell_type": "code",
   "execution_count": 117,
   "id": "f4bc9758",
   "metadata": {
    "collapsed": true
   },
   "outputs": [
    {
     "data": {
      "text/plain": [
       "['\\n\\nSA\\n                    ',\n",
       " 'AUS',\n",
       " 'ENG',\n",
       " 'WI',\n",
       " 'NZ',\n",
       " 'IND',\n",
       " 'AUS',\n",
       " 'PAK',\n",
       " 'AUS',\n",
       " 'NZ',\n",
       " 'SA',\n",
       " 'SL',\n",
       " 'ENG',\n",
       " 'IRE',\n",
       " 'ENG',\n",
       " 'BAN',\n",
       " 'AUS',\n",
       " 'AUS',\n",
       " 'ENG',\n",
       " 'WI']"
      ]
     },
     "execution_count": 117,
     "metadata": {},
     "output_type": "execute_result"
    }
   ],
   "source": [
    "team_all_women"
   ]
  },
  {
   "cell_type": "code",
   "execution_count": 118,
   "id": "6e12362e",
   "metadata": {},
   "outputs": [],
   "source": [
    "Team_all_women=team_all_women[:10]"
   ]
  },
  {
   "cell_type": "code",
   "execution_count": 119,
   "id": "9088de73",
   "metadata": {
    "collapsed": true
   },
   "outputs": [
    {
     "data": {
      "text/plain": [
       "['\\n\\nSA\\n                    ',\n",
       " 'AUS',\n",
       " 'ENG',\n",
       " 'WI',\n",
       " 'NZ',\n",
       " 'IND',\n",
       " 'AUS',\n",
       " 'PAK',\n",
       " 'AUS',\n",
       " 'NZ']"
      ]
     },
     "execution_count": 119,
     "metadata": {},
     "output_type": "execute_result"
    }
   ],
   "source": [
    "Team_all_women"
   ]
  },
  {
   "cell_type": "code",
   "execution_count": 120,
   "id": "86728a69",
   "metadata": {},
   "outputs": [],
   "source": [
    "soup=BeautifulSoup(pagess.content)\n",
    "rating_all_women=[]\n",
    "for i in soup.find_all('div',class_='rankings-block__banner--rating'): \n",
    "    rating_all_women.append(i.text)"
   ]
  },
  {
   "cell_type": "code",
   "execution_count": 121,
   "id": "4891e4f4",
   "metadata": {},
   "outputs": [
    {
     "data": {
      "text/plain": [
       "['385']"
      ]
     },
     "execution_count": 121,
     "metadata": {},
     "output_type": "execute_result"
    }
   ],
   "source": [
    "rating_all_women"
   ]
  },
  {
   "cell_type": "code",
   "execution_count": 122,
   "id": "97f2098e",
   "metadata": {},
   "outputs": [],
   "source": [
    "for i in soup.find_all('td',class_='table-body__cell rating'): \n",
    "    rating_all_women.append(i.text)"
   ]
  },
  {
   "cell_type": "code",
   "execution_count": 123,
   "id": "1d7ab464",
   "metadata": {
    "collapsed": true
   },
   "outputs": [
    {
     "data": {
      "text/plain": [
       "['385',\n",
       " '377',\n",
       " '360',\n",
       " '358',\n",
       " '346',\n",
       " '312',\n",
       " '282',\n",
       " '240',\n",
       " '227',\n",
       " '227',\n",
       " '212',\n",
       " '190',\n",
       " '188',\n",
       " '172',\n",
       " '166',\n",
       " '156',\n",
       " '153',\n",
       " '153',\n",
       " '153',\n",
       " '147']"
      ]
     },
     "execution_count": 123,
     "metadata": {},
     "output_type": "execute_result"
    }
   ],
   "source": [
    "rating_all_women"
   ]
  },
  {
   "cell_type": "code",
   "execution_count": 124,
   "id": "cd5061c2",
   "metadata": {},
   "outputs": [],
   "source": [
    "Rating_all_women=rating_all_women[:10]"
   ]
  },
  {
   "cell_type": "code",
   "execution_count": 125,
   "id": "37b7e3e3",
   "metadata": {},
   "outputs": [
    {
     "data": {
      "text/plain": [
       "['385', '377', '360', '358', '346', '312', '282', '240', '227', '227']"
      ]
     },
     "execution_count": 125,
     "metadata": {},
     "output_type": "execute_result"
    }
   ],
   "source": [
    "Rating_all_women"
   ]
  },
  {
   "cell_type": "code",
   "execution_count": 126,
   "id": "7cf4d43e",
   "metadata": {},
   "outputs": [],
   "source": [
    "odi_all_women=pd.DataFrame({'Player':Player_all_women,'Team':Team_all_women,'Rating':Rating_all_women})"
   ]
  },
  {
   "cell_type": "code",
   "execution_count": 127,
   "id": "fbd129f7",
   "metadata": {
    "collapsed": true
   },
   "outputs": [
    {
     "data": {
      "text/html": [
       "<div>\n",
       "<style scoped>\n",
       "    .dataframe tbody tr th:only-of-type {\n",
       "        vertical-align: middle;\n",
       "    }\n",
       "\n",
       "    .dataframe tbody tr th {\n",
       "        vertical-align: top;\n",
       "    }\n",
       "\n",
       "    .dataframe thead th {\n",
       "        text-align: right;\n",
       "    }\n",
       "</style>\n",
       "<table border=\"1\" class=\"dataframe\">\n",
       "  <thead>\n",
       "    <tr style=\"text-align: right;\">\n",
       "      <th></th>\n",
       "      <th>Player</th>\n",
       "      <th>Team</th>\n",
       "      <th>Rating</th>\n",
       "    </tr>\n",
       "  </thead>\n",
       "  <tbody>\n",
       "    <tr>\n",
       "      <th>0</th>\n",
       "      <td>Marizanne Kapp</td>\n",
       "      <td>\\n\\nSA\\n</td>\n",
       "      <td>385</td>\n",
       "    </tr>\n",
       "    <tr>\n",
       "      <th>1</th>\n",
       "      <td>\\nAshleigh Gardner\\n</td>\n",
       "      <td>AUS</td>\n",
       "      <td>377</td>\n",
       "    </tr>\n",
       "    <tr>\n",
       "      <th>2</th>\n",
       "      <td>\\nNatalie Sciver-Brunt\\n</td>\n",
       "      <td>ENG</td>\n",
       "      <td>360</td>\n",
       "    </tr>\n",
       "    <tr>\n",
       "      <th>3</th>\n",
       "      <td>\\nHayley Matthews\\n</td>\n",
       "      <td>WI</td>\n",
       "      <td>358</td>\n",
       "    </tr>\n",
       "    <tr>\n",
       "      <th>4</th>\n",
       "      <td>\\nAmelia Kerr\\n</td>\n",
       "      <td>NZ</td>\n",
       "      <td>346</td>\n",
       "    </tr>\n",
       "    <tr>\n",
       "      <th>5</th>\n",
       "      <td>\\nDeepti Sharma\\n</td>\n",
       "      <td>IND</td>\n",
       "      <td>312</td>\n",
       "    </tr>\n",
       "    <tr>\n",
       "      <th>6</th>\n",
       "      <td>\\nEllyse Perry\\n</td>\n",
       "      <td>AUS</td>\n",
       "      <td>282</td>\n",
       "    </tr>\n",
       "    <tr>\n",
       "      <th>7</th>\n",
       "      <td>\\nNida Dar\\n</td>\n",
       "      <td>PAK</td>\n",
       "      <td>240</td>\n",
       "    </tr>\n",
       "    <tr>\n",
       "      <th>8</th>\n",
       "      <td>\\nJess Jonassen\\n</td>\n",
       "      <td>AUS</td>\n",
       "      <td>227</td>\n",
       "    </tr>\n",
       "    <tr>\n",
       "      <th>9</th>\n",
       "      <td>\\nSophie Devine\\n</td>\n",
       "      <td>NZ</td>\n",
       "      <td>227</td>\n",
       "    </tr>\n",
       "  </tbody>\n",
       "</table>\n",
       "</div>"
      ],
      "text/plain": [
       "                     Player                          Team Rating\n",
       "0            Marizanne Kapp  \\n\\nSA\\n                        385\n",
       "1      \\nAshleigh Gardner\\n                           AUS    377\n",
       "2  \\nNatalie Sciver-Brunt\\n                           ENG    360\n",
       "3       \\nHayley Matthews\\n                            WI    358\n",
       "4           \\nAmelia Kerr\\n                            NZ    346\n",
       "5         \\nDeepti Sharma\\n                           IND    312\n",
       "6          \\nEllyse Perry\\n                           AUS    282\n",
       "7              \\nNida Dar\\n                           PAK    240\n",
       "8         \\nJess Jonassen\\n                           AUS    227\n",
       "9         \\nSophie Devine\\n                            NZ    227"
      ]
     },
     "execution_count": 127,
     "metadata": {},
     "output_type": "execute_result"
    }
   ],
   "source": [
    "odi_all_women"
   ]
  },
  {
   "cell_type": "code",
   "execution_count": 131,
   "id": "61fdff7a",
   "metadata": {},
   "outputs": [
    {
     "data": {
      "text/plain": [
       "<Response [200]>"
      ]
     },
     "execution_count": 131,
     "metadata": {},
     "output_type": "execute_result"
    }
   ],
   "source": [
    "# 6 Write a python program to scrape mentioned news details from https://www.cnbc.com/world/?region=world and make a dataframe\n",
    "Page=requests.get('https://www.journals.elsevier.com/artificial-intelligence/most-downloaded-articles')\n",
    "Page"
   ]
  },
  {
   "cell_type": "code",
   "execution_count": 139,
   "id": "6f7b8a30",
   "metadata": {},
   "outputs": [],
   "source": [
    "soup=BeautifulSoup(Page.content)\n",
    "paper_title=[]\n",
    "for i in soup.find_all('h2',class_='sc-1qrq3sd-1 gRGSUS sc-1nmom32-0 sc-1nmom32-1 btcbYu goSKRg'): \n",
    "    paper_title.append(i.text)"
   ]
  },
  {
   "cell_type": "code",
   "execution_count": 140,
   "id": "ee53a00e",
   "metadata": {
    "collapsed": true
   },
   "outputs": [
    {
     "data": {
      "text/plain": [
       "['Reward is enough',\n",
       " 'Explanation in artificial intelligence: Insights from the social sciences',\n",
       " 'Creativity and artificial intelligence',\n",
       " 'Conflict-based search for optimal multi-agent pathfinding',\n",
       " 'Knowledge graphs as tools for explainable machine learning: A survey',\n",
       " 'Law and logic: A review from an argumentation perspective',\n",
       " 'Between MDPs and semi-MDPs: A framework for temporal abstraction in reinforcement learning',\n",
       " 'Explaining individual predictions when features are dependent: More accurate approximations to Shapley values',\n",
       " 'Multiple object tracking: A literature review',\n",
       " 'A survey of inverse reinforcement learning: Challenges, methods and progress',\n",
       " 'Evaluating XAI: A comparison of rule-based and example-based explanations',\n",
       " 'Explainable AI tools for legal reasoning about cases: A study on the European Court of Human Rights',\n",
       " 'Hard choices in artificial intelligence',\n",
       " 'Assessing the communication gap between AI models and healthcare professionals: Explainability, utility and trust in AI-driven clinical decision-making',\n",
       " 'Explaining black-box classifiers using post-hoc explanations-by-example: The effect of explanations and error-rates in XAI user studies',\n",
       " 'The Hanabi challenge: A new frontier for AI research',\n",
       " 'Wrappers for feature subset selection',\n",
       " 'Artificial cognition for social human–robot interaction: An implementation',\n",
       " 'A review of possible effects of cognitive biases on interpretation of rule-based machine learning models',\n",
       " 'The multifaceted impact of Ada Lovelace in the digital age',\n",
       " 'Robot ethics: Mapping the issues for a mechanized world',\n",
       " 'Reward (Mis)design for autonomous driving',\n",
       " 'Planning and acting in partially observable stochastic domains',\n",
       " 'What do we want from Explainable Artificial Intelligence (XAI)? – A stakeholder perspective on XAI and a conceptual model guiding interdisciplinary XAI research']"
      ]
     },
     "execution_count": 140,
     "metadata": {},
     "output_type": "execute_result"
    }
   ],
   "source": [
    "paper_title"
   ]
  },
  {
   "cell_type": "code",
   "execution_count": 141,
   "id": "da2c9460",
   "metadata": {},
   "outputs": [],
   "source": [
    "soup=BeautifulSoup(Page.content)\n",
    "author_name=[]\n",
    "for i in soup.find_all('span',class_='sc-1w3fpd7-0 dnCnAO'): \n",
    "    author_name.append(i.text)"
   ]
  },
  {
   "cell_type": "code",
   "execution_count": 142,
   "id": "3bf199d2",
   "metadata": {
    "collapsed": true
   },
   "outputs": [
    {
     "data": {
      "text/plain": [
       "['David Silver, Satinder Singh, Doina Precup, Richard S. Sutton ',\n",
       " 'Tim Miller ',\n",
       " 'Margaret A. Boden ',\n",
       " 'Guni Sharon, Roni Stern, Ariel Felner, Nathan R. Sturtevant ',\n",
       " 'Ilaria Tiddi, Stefan Schlobach ',\n",
       " 'Henry Prakken, Giovanni Sartor ',\n",
       " 'Richard S. Sutton, Doina Precup, Satinder Singh ',\n",
       " 'Kjersti Aas, Martin Jullum, Anders Løland ',\n",
       " 'Wenhan Luo, Junliang Xing and 4 more',\n",
       " 'Saurabh Arora, Prashant Doshi ',\n",
       " 'Jasper van der Waa, Elisabeth Nieuwburg, Anita Cremers, Mark Neerincx ',\n",
       " 'Joe Collenette, Katie Atkinson, Trevor Bench-Capon ',\n",
       " 'Roel Dobbe, Thomas Krendl Gilbert, Yonatan Mintz ',\n",
       " 'Oskar Wysocki, Jessica Katharine Davies and 5 more',\n",
       " 'Eoin M. Kenny, Courtney Ford, Molly Quinn, Mark T. Keane ',\n",
       " 'Nolan Bard, Jakob N. Foerster and 13 more',\n",
       " 'Ron Kohavi, George H. John ',\n",
       " 'Séverin Lemaignan, Mathieu Warnier and 3 more',\n",
       " 'Tomáš Kliegr, Štěpán Bahník, Johannes Fürnkranz ',\n",
       " 'Luigia Carlucci Aiello ',\n",
       " 'Patrick Lin, Keith Abney, George Bekey ',\n",
       " 'W. Bradley Knox, Alessandro Allievi and 3 more',\n",
       " 'Leslie Pack Kaelbling, Michael L. Littman, Anthony R. Cassandra ',\n",
       " 'Markus Langer, Daniel Oster and 6 more']"
      ]
     },
     "execution_count": 142,
     "metadata": {},
     "output_type": "execute_result"
    }
   ],
   "source": [
    "author_name"
   ]
  },
  {
   "cell_type": "code",
   "execution_count": 143,
   "id": "768b6886",
   "metadata": {},
   "outputs": [],
   "source": [
    "soup=BeautifulSoup(Page.content)\n",
    "publish_date=[]\n",
    "for i in soup.find_all('span',class_='sc-1thf9ly-2 dvggWt'): \n",
    "    publish_date.append(i.text)"
   ]
  },
  {
   "cell_type": "code",
   "execution_count": 145,
   "id": "5328e004",
   "metadata": {
    "collapsed": true
   },
   "outputs": [
    {
     "data": {
      "text/plain": [
       "['October 2021',\n",
       " 'February 2019',\n",
       " 'August 1998',\n",
       " 'February 2015',\n",
       " 'January 2022',\n",
       " 'October 2015',\n",
       " 'August 1999',\n",
       " 'September 2021',\n",
       " 'April 2021',\n",
       " 'August 2021',\n",
       " 'February 2021',\n",
       " 'April 2023',\n",
       " 'November 2021',\n",
       " 'March 2023',\n",
       " 'May 2021',\n",
       " 'March 2020',\n",
       " 'December 1997',\n",
       " 'June 2017',\n",
       " 'June 2021',\n",
       " 'June 2016',\n",
       " 'April 2011',\n",
       " 'March 2023',\n",
       " 'May 1998',\n",
       " 'July 2021']"
      ]
     },
     "execution_count": 145,
     "metadata": {},
     "output_type": "execute_result"
    }
   ],
   "source": [
    "publish_date"
   ]
  },
  {
   "cell_type": "code",
   "execution_count": 150,
   "id": "3edac041",
   "metadata": {},
   "outputs": [],
   "source": [
    "soup=BeautifulSoup(Page.content)\n",
    "paper_url=[]\n",
    "for i in soup.find_all('span',class_='anchor-text'): \n",
    "    paper_url.append(i.text)"
   ]
  },
  {
   "cell_type": "code",
   "execution_count": 151,
   "id": "d1c19894",
   "metadata": {},
   "outputs": [
    {
     "data": {
      "text/plain": [
       "[]"
      ]
     },
     "execution_count": 151,
     "metadata": {},
     "output_type": "execute_result"
    }
   ],
   "source": [
    "paper_url"
   ]
  },
  {
   "cell_type": "code",
   "execution_count": 148,
   "id": "aaaca393",
   "metadata": {},
   "outputs": [],
   "source": [
    "most_download=pd.DataFrame({'Paper title':paper_title,'Author':author_name,'Published date':publish_date})"
   ]
  },
  {
   "cell_type": "code",
   "execution_count": 149,
   "id": "3f325274",
   "metadata": {
    "collapsed": true
   },
   "outputs": [
    {
     "data": {
      "text/html": [
       "<div>\n",
       "<style scoped>\n",
       "    .dataframe tbody tr th:only-of-type {\n",
       "        vertical-align: middle;\n",
       "    }\n",
       "\n",
       "    .dataframe tbody tr th {\n",
       "        vertical-align: top;\n",
       "    }\n",
       "\n",
       "    .dataframe thead th {\n",
       "        text-align: right;\n",
       "    }\n",
       "</style>\n",
       "<table border=\"1\" class=\"dataframe\">\n",
       "  <thead>\n",
       "    <tr style=\"text-align: right;\">\n",
       "      <th></th>\n",
       "      <th>Paper title</th>\n",
       "      <th>Author</th>\n",
       "      <th>Published date</th>\n",
       "    </tr>\n",
       "  </thead>\n",
       "  <tbody>\n",
       "    <tr>\n",
       "      <th>0</th>\n",
       "      <td>Reward is enough</td>\n",
       "      <td>David Silver, Satinder Singh, Doina Precup, Ri...</td>\n",
       "      <td>October 2021</td>\n",
       "    </tr>\n",
       "    <tr>\n",
       "      <th>1</th>\n",
       "      <td>Explanation in artificial intelligence: Insigh...</td>\n",
       "      <td>Tim Miller</td>\n",
       "      <td>February 2019</td>\n",
       "    </tr>\n",
       "    <tr>\n",
       "      <th>2</th>\n",
       "      <td>Creativity and artificial intelligence</td>\n",
       "      <td>Margaret A. Boden</td>\n",
       "      <td>August 1998</td>\n",
       "    </tr>\n",
       "    <tr>\n",
       "      <th>3</th>\n",
       "      <td>Conflict-based search for optimal multi-agent ...</td>\n",
       "      <td>Guni Sharon, Roni Stern, Ariel Felner, Nathan ...</td>\n",
       "      <td>February 2015</td>\n",
       "    </tr>\n",
       "    <tr>\n",
       "      <th>4</th>\n",
       "      <td>Knowledge graphs as tools for explainable mach...</td>\n",
       "      <td>Ilaria Tiddi, Stefan Schlobach</td>\n",
       "      <td>January 2022</td>\n",
       "    </tr>\n",
       "    <tr>\n",
       "      <th>5</th>\n",
       "      <td>Law and logic: A review from an argumentation ...</td>\n",
       "      <td>Henry Prakken, Giovanni Sartor</td>\n",
       "      <td>October 2015</td>\n",
       "    </tr>\n",
       "    <tr>\n",
       "      <th>6</th>\n",
       "      <td>Between MDPs and semi-MDPs: A framework for te...</td>\n",
       "      <td>Richard S. Sutton, Doina Precup, Satinder Singh</td>\n",
       "      <td>August 1999</td>\n",
       "    </tr>\n",
       "    <tr>\n",
       "      <th>7</th>\n",
       "      <td>Explaining individual predictions when feature...</td>\n",
       "      <td>Kjersti Aas, Martin Jullum, Anders Løland</td>\n",
       "      <td>September 2021</td>\n",
       "    </tr>\n",
       "    <tr>\n",
       "      <th>8</th>\n",
       "      <td>Multiple object tracking: A literature review</td>\n",
       "      <td>Wenhan Luo, Junliang Xing and 4 more</td>\n",
       "      <td>April 2021</td>\n",
       "    </tr>\n",
       "    <tr>\n",
       "      <th>9</th>\n",
       "      <td>A survey of inverse reinforcement learning: Ch...</td>\n",
       "      <td>Saurabh Arora, Prashant Doshi</td>\n",
       "      <td>August 2021</td>\n",
       "    </tr>\n",
       "    <tr>\n",
       "      <th>10</th>\n",
       "      <td>Evaluating XAI: A comparison of rule-based and...</td>\n",
       "      <td>Jasper van der Waa, Elisabeth Nieuwburg, Anita...</td>\n",
       "      <td>February 2021</td>\n",
       "    </tr>\n",
       "    <tr>\n",
       "      <th>11</th>\n",
       "      <td>Explainable AI tools for legal reasoning about...</td>\n",
       "      <td>Joe Collenette, Katie Atkinson, Trevor Bench-C...</td>\n",
       "      <td>April 2023</td>\n",
       "    </tr>\n",
       "    <tr>\n",
       "      <th>12</th>\n",
       "      <td>Hard choices in artificial intelligence</td>\n",
       "      <td>Roel Dobbe, Thomas Krendl Gilbert, Yonatan Mintz</td>\n",
       "      <td>November 2021</td>\n",
       "    </tr>\n",
       "    <tr>\n",
       "      <th>13</th>\n",
       "      <td>Assessing the communication gap between AI mod...</td>\n",
       "      <td>Oskar Wysocki, Jessica Katharine Davies and 5 ...</td>\n",
       "      <td>March 2023</td>\n",
       "    </tr>\n",
       "    <tr>\n",
       "      <th>14</th>\n",
       "      <td>Explaining black-box classifiers using post-ho...</td>\n",
       "      <td>Eoin M. Kenny, Courtney Ford, Molly Quinn, Mar...</td>\n",
       "      <td>May 2021</td>\n",
       "    </tr>\n",
       "    <tr>\n",
       "      <th>15</th>\n",
       "      <td>The Hanabi challenge: A new frontier for AI re...</td>\n",
       "      <td>Nolan Bard, Jakob N. Foerster and 13 more</td>\n",
       "      <td>March 2020</td>\n",
       "    </tr>\n",
       "    <tr>\n",
       "      <th>16</th>\n",
       "      <td>Wrappers for feature subset selection</td>\n",
       "      <td>Ron Kohavi, George H. John</td>\n",
       "      <td>December 1997</td>\n",
       "    </tr>\n",
       "    <tr>\n",
       "      <th>17</th>\n",
       "      <td>Artificial cognition for social human–robot in...</td>\n",
       "      <td>Séverin Lemaignan, Mathieu Warnier and 3 more</td>\n",
       "      <td>June 2017</td>\n",
       "    </tr>\n",
       "    <tr>\n",
       "      <th>18</th>\n",
       "      <td>A review of possible effects of cognitive bias...</td>\n",
       "      <td>Tomáš Kliegr, Štěpán Bahník, Johannes Fürnkranz</td>\n",
       "      <td>June 2021</td>\n",
       "    </tr>\n",
       "    <tr>\n",
       "      <th>19</th>\n",
       "      <td>The multifaceted impact of Ada Lovelace in the...</td>\n",
       "      <td>Luigia Carlucci Aiello</td>\n",
       "      <td>June 2016</td>\n",
       "    </tr>\n",
       "    <tr>\n",
       "      <th>20</th>\n",
       "      <td>Robot ethics: Mapping the issues for a mechani...</td>\n",
       "      <td>Patrick Lin, Keith Abney, George Bekey</td>\n",
       "      <td>April 2011</td>\n",
       "    </tr>\n",
       "    <tr>\n",
       "      <th>21</th>\n",
       "      <td>Reward (Mis)design for autonomous driving</td>\n",
       "      <td>W. Bradley Knox, Alessandro Allievi and 3 more</td>\n",
       "      <td>March 2023</td>\n",
       "    </tr>\n",
       "    <tr>\n",
       "      <th>22</th>\n",
       "      <td>Planning and acting in partially observable st...</td>\n",
       "      <td>Leslie Pack Kaelbling, Michael L. Littman, Ant...</td>\n",
       "      <td>May 1998</td>\n",
       "    </tr>\n",
       "    <tr>\n",
       "      <th>23</th>\n",
       "      <td>What do we want from Explainable Artificial In...</td>\n",
       "      <td>Markus Langer, Daniel Oster and 6 more</td>\n",
       "      <td>July 2021</td>\n",
       "    </tr>\n",
       "  </tbody>\n",
       "</table>\n",
       "</div>"
      ],
      "text/plain": [
       "                                          Paper title  \\\n",
       "0                                    Reward is enough   \n",
       "1   Explanation in artificial intelligence: Insigh...   \n",
       "2              Creativity and artificial intelligence   \n",
       "3   Conflict-based search for optimal multi-agent ...   \n",
       "4   Knowledge graphs as tools for explainable mach...   \n",
       "5   Law and logic: A review from an argumentation ...   \n",
       "6   Between MDPs and semi-MDPs: A framework for te...   \n",
       "7   Explaining individual predictions when feature...   \n",
       "8       Multiple object tracking: A literature review   \n",
       "9   A survey of inverse reinforcement learning: Ch...   \n",
       "10  Evaluating XAI: A comparison of rule-based and...   \n",
       "11  Explainable AI tools for legal reasoning about...   \n",
       "12            Hard choices in artificial intelligence   \n",
       "13  Assessing the communication gap between AI mod...   \n",
       "14  Explaining black-box classifiers using post-ho...   \n",
       "15  The Hanabi challenge: A new frontier for AI re...   \n",
       "16              Wrappers for feature subset selection   \n",
       "17  Artificial cognition for social human–robot in...   \n",
       "18  A review of possible effects of cognitive bias...   \n",
       "19  The multifaceted impact of Ada Lovelace in the...   \n",
       "20  Robot ethics: Mapping the issues for a mechani...   \n",
       "21          Reward (Mis)design for autonomous driving   \n",
       "22  Planning and acting in partially observable st...   \n",
       "23  What do we want from Explainable Artificial In...   \n",
       "\n",
       "                                               Author  Published date  \n",
       "0   David Silver, Satinder Singh, Doina Precup, Ri...    October 2021  \n",
       "1                                         Tim Miller    February 2019  \n",
       "2                                  Margaret A. Boden      August 1998  \n",
       "3   Guni Sharon, Roni Stern, Ariel Felner, Nathan ...   February 2015  \n",
       "4                     Ilaria Tiddi, Stefan Schlobach     January 2022  \n",
       "5                     Henry Prakken, Giovanni Sartor     October 2015  \n",
       "6    Richard S. Sutton, Doina Precup, Satinder Singh      August 1999  \n",
       "7          Kjersti Aas, Martin Jullum, Anders Løland   September 2021  \n",
       "8                Wenhan Luo, Junliang Xing and 4 more      April 2021  \n",
       "9                      Saurabh Arora, Prashant Doshi      August 2021  \n",
       "10  Jasper van der Waa, Elisabeth Nieuwburg, Anita...   February 2021  \n",
       "11  Joe Collenette, Katie Atkinson, Trevor Bench-C...      April 2023  \n",
       "12  Roel Dobbe, Thomas Krendl Gilbert, Yonatan Mintz    November 2021  \n",
       "13  Oskar Wysocki, Jessica Katharine Davies and 5 ...      March 2023  \n",
       "14  Eoin M. Kenny, Courtney Ford, Molly Quinn, Mar...        May 2021  \n",
       "15          Nolan Bard, Jakob N. Foerster and 13 more      March 2020  \n",
       "16                        Ron Kohavi, George H. John    December 1997  \n",
       "17      Séverin Lemaignan, Mathieu Warnier and 3 more       June 2017  \n",
       "18   Tomáš Kliegr, Štěpán Bahník, Johannes Fürnkranz        June 2021  \n",
       "19                            Luigia Carlucci Aiello        June 2016  \n",
       "20            Patrick Lin, Keith Abney, George Bekey       April 2011  \n",
       "21     W. Bradley Knox, Alessandro Allievi and 3 more      March 2023  \n",
       "22  Leslie Pack Kaelbling, Michael L. Littman, Ant...        May 1998  \n",
       "23             Markus Langer, Daniel Oster and 6 more       July 2021  "
      ]
     },
     "execution_count": 149,
     "metadata": {},
     "output_type": "execute_result"
    }
   ],
   "source": [
    "most_download"
   ]
  },
  {
   "cell_type": "code",
   "execution_count": 174,
   "id": "29c9ae9c",
   "metadata": {},
   "outputs": [
    {
     "data": {
      "text/plain": [
       "<Response [200]>"
      ]
     },
     "execution_count": 174,
     "metadata": {},
     "output_type": "execute_result"
    }
   ],
   "source": [
    "# 7 Write a python program to scrape mentioned details from dineout.co.inand make data frame\n",
    "Pages=requests.get('https://www.dineout.co.in/delhi-restaurants?search_str=restaurants')\n",
    "Pages"
   ]
  },
  {
   "cell_type": "code",
   "execution_count": 175,
   "id": "c40ec66b",
   "metadata": {},
   "outputs": [],
   "source": [
    "from bs4 import BeautifulSoup\n",
    "import requests\n",
    "import pandas as pd\n",
    "import regex as re\n"
   ]
  },
  {
   "cell_type": "code",
   "execution_count": 184,
   "id": "3a373a68",
   "metadata": {},
   "outputs": [],
   "source": [
    "soup=BeautifulSoup(Pages.content)\n",
    "Restaurant_name=[]\n",
    "for i in soup.find_all('div',class_=\"restnt-info cursor\"):\n",
    "    Restaurant_name.append(i.text)"
   ]
  },
  {
   "cell_type": "code",
   "execution_count": 185,
   "id": "6b2c8df0",
   "metadata": {
    "collapsed": true
   },
   "outputs": [
    {
     "data": {
      "text/plain": [
       "['Kwality RestaurantRegal Cinema Complex,Connaught Place, Central Delhi',\n",
       " 'Ardor 2.1 Restaurant and LoungeConnaught Place, Central Delhi',\n",
       " 'The G.T. RoadM-Block,Connaught Place, Central Delhi',\n",
       " 'Ghoomar Traditional Thali RestaurantConnaught Place, Central Delhi',\n",
       " 'Connaught Club HouseConnaught Place, Central Delhi',\n",
       " 'SandozConnaught Place, Central Delhi',\n",
       " 'Somewhere Restaurant & BarConnaught Place, Central Delhi',\n",
       " 'Minar RestaurantConnaught Place, Central Delhi',\n",
       " 'My Bar HeadquartersConnaught Place, Central Delhi',\n",
       " 'THE ART HOUSE RestaurantConnaught Place, Central Delhi',\n",
       " 'Unplugged CourtyardConnaught Place, Central Delhi',\n",
       " 'Ministry Of BeerM-Block,Connaught Place, Central Delhi',\n",
       " 'Openhouse CafeConnaught Place, Central Delhi',\n",
       " 'TamashaConnaught Place, Central Delhi',\n",
       " 'LocalScindia House,Connaught Place, Central Delhi',\n",
       " 'Farzi CafeConnaught Place, Central Delhi',\n",
       " 'The Gem Bar & RestaurantPaharganj, Central Delhi',\n",
       " 'Yeti - The Himalayan KitchenThe Colonnade,Connaught Place, Central Delhi',\n",
       " 'Preamble RestaurantConnaught Place, Central Delhi',\n",
       " \"Sam's Restaurant & BarVivek Hotel,Paharganj, Central Delhi\",\n",
       " '38 BarracksM-Block,Connaught Place, Central Delhi']"
      ]
     },
     "execution_count": 185,
     "metadata": {},
     "output_type": "execute_result"
    }
   ],
   "source": [
    "Restaurant_name"
   ]
  },
  {
   "cell_type": "code",
   "execution_count": 179,
   "id": "94d5daeb",
   "metadata": {},
   "outputs": [],
   "source": [
    "soup=BeautifulSoup(Pages.content)\n",
    "Restaurant_location=[]\n",
    "for i in soup.find_all('div',class_=\"restnt-loc ellipsis\"):\n",
    "    Restaurant_location.append(i.text)"
   ]
  },
  {
   "cell_type": "code",
   "execution_count": 180,
   "id": "7886ce53",
   "metadata": {
    "collapsed": true
   },
   "outputs": [
    {
     "data": {
      "text/plain": [
       "['Regal Cinema Complex,Connaught Place, Central Delhi',\n",
       " 'Connaught Place, Central Delhi',\n",
       " 'M-Block,Connaught Place, Central Delhi',\n",
       " 'Connaught Place, Central Delhi',\n",
       " 'Connaught Place, Central Delhi',\n",
       " 'Connaught Place, Central Delhi',\n",
       " 'Connaught Place, Central Delhi',\n",
       " 'Connaught Place, Central Delhi',\n",
       " 'Connaught Place, Central Delhi',\n",
       " 'Connaught Place, Central Delhi',\n",
       " 'Connaught Place, Central Delhi',\n",
       " 'M-Block,Connaught Place, Central Delhi',\n",
       " 'Connaught Place, Central Delhi',\n",
       " 'Connaught Place, Central Delhi',\n",
       " 'Scindia House,Connaught Place, Central Delhi',\n",
       " 'Connaught Place, Central Delhi',\n",
       " 'Paharganj, Central Delhi',\n",
       " 'The Colonnade,Connaught Place, Central Delhi',\n",
       " 'Connaught Place, Central Delhi',\n",
       " 'Vivek Hotel,Paharganj, Central Delhi',\n",
       " 'M-Block,Connaught Place, Central Delhi']"
      ]
     },
     "execution_count": 180,
     "metadata": {},
     "output_type": "execute_result"
    }
   ],
   "source": [
    "Restaurant_location"
   ]
  },
  {
   "cell_type": "code",
   "execution_count": 186,
   "id": "0aed6550",
   "metadata": {},
   "outputs": [],
   "source": [
    "soup=BeautifulSoup(Pages.content)\n",
    "Restaurant_rating=[]\n",
    "for i in soup.find_all('div',class_=\"restnt-rating rating-4\"):\n",
    "    Restaurant_rating.append(i.text)"
   ]
  },
  {
   "cell_type": "code",
   "execution_count": 187,
   "id": "657ef843",
   "metadata": {
    "collapsed": true
   },
   "outputs": [
    {
     "data": {
      "text/plain": [
       "['4.4',\n",
       " '4.1',\n",
       " '4.3',\n",
       " '4.1',\n",
       " '4.2',\n",
       " '4',\n",
       " '4.1',\n",
       " '4.4',\n",
       " '4',\n",
       " '3.8',\n",
       " '4',\n",
       " '4',\n",
       " '4.1',\n",
       " '4.2',\n",
       " '4',\n",
       " '4.1',\n",
       " '4',\n",
       " '4.3',\n",
       " '4.3',\n",
       " '4.1',\n",
       " '4.3']"
      ]
     },
     "execution_count": 187,
     "metadata": {},
     "output_type": "execute_result"
    }
   ],
   "source": [
    "Restaurant_rating"
   ]
  },
  {
   "cell_type": "code",
   "execution_count": 209,
   "id": "0d4ca3f2",
   "metadata": {},
   "outputs": [],
   "source": [
    "soup=BeautifulSoup(Pages.content)\n",
    "Restaurant_image=[]\n",
    "for i in soup.find_all('img',class_=\"no-img\"):\n",
    "    Restaurant_image.append(i['data-src'])"
   ]
  },
  {
   "cell_type": "code",
   "execution_count": 210,
   "id": "766355c0",
   "metadata": {},
   "outputs": [
    {
     "data": {
      "text/plain": [
       "['https://im1.dineout.co.in/images/uploads/restaurant/sharpen/2/z/l/p2898-15451127095c188c853d291.jpg?tr=tr:n-medium',\n",
       " 'https://im1.dineout.co.in/images/uploads/restaurant/sharpen/2/y/m/p221-16455303976214cd1d7a086.jpg?tr=tr:n-medium',\n",
       " 'https://im1.dineout.co.in/images/uploads/restaurant/sharpen/3/m/u/p31393-15972091555f337a43bb961.jpg?tr=tr:n-medium',\n",
       " 'https://im1.dineout.co.in/images/uploads/restaurant/sharpen/5/e/z/p53380-15544492915ca7038b700f1.jpg?tr=tr:n-medium',\n",
       " 'https://im1.dineout.co.in/images/uploads/restaurant/sharpen/7/m/h/p77626-1700647555655dd283a16dc.jpg?tr=tr:n-medium',\n",
       " 'https://im1.dineout.co.in/images/uploads/restaurant/sharpen/8/e/u/p80493-16064603115fc0a397716de.jpg?tr=tr:n-medium',\n",
       " 'https://im1.dineout.co.in/images/uploads/restaurant/sharpen/1/m/p/p105609-16509585496267a0d52450f.jpg?tr=tr:n-medium',\n",
       " 'https://im1.dineout.co.in/images/uploads/restaurant/sharpen/2/u/a/p2845-14496435275667ce07ceeae.jpg?tr=tr:n-medium',\n",
       " 'https://im1.dineout.co.in/images/uploads/restaurant/sharpen/1/d/f/p19636-16463919576221f295ae1f1.jpg?tr=tr:n-medium',\n",
       " 'https://im1.dineout.co.in/images/uploads/restaurant/sharpen/4/x/d/p49746-16615135396308af43345a3.jpg?tr=tr:n-medium',\n",
       " 'https://im1.dineout.co.in/images/uploads/restaurant/sharpen/2/e/y/p20941-168915645564ae7b673b872.jpg?tr=tr:n-medium',\n",
       " 'https://im1.dineout.co.in/images/uploads/restaurant/sharpen/3/a/d/p32381-1495943585592a49a166fe7.jpg?tr=tr:n-medium',\n",
       " 'https://im1.dineout.co.in/images/uploads/restaurant/sharpen/1/e/q/p19748-169217151564dc7cfba4753.jpg?tr=tr:n-medium',\n",
       " 'https://im1.dineout.co.in/images/uploads/restaurant/sharpen/2/a/j/p20996-145631488756cd9a0796608.jpg?tr=tr:n-medium',\n",
       " 'https://im1.dineout.co.in/images/uploads/restaurant/sharpen/2/b/t/p27452-15020105505986dcb6d147f.jpg?tr=tr:n-medium',\n",
       " 'https://im1.dineout.co.in/images/uploads/restaurant/sharpen/4/y/y/p4199-164188203361dd21b1a3174.jpg?tr=tr:n-medium',\n",
       " 'https://im1.dineout.co.in/images/uploads/restaurant/sharpen/1/f/v/p12701-15016594065981810e0ff0c.jpg?tr=tr:n-medium',\n",
       " 'https://im1.dineout.co.in/images/uploads/restaurant/sharpen/3/n/c/p3007-15706949095d9ee6fd0b8b4.jpg?tr=tr:n-medium',\n",
       " 'https://im1.dineout.co.in/images/uploads/restaurant/sharpen/9/q/m/p98458-1634647496616ebdc8bfc26.jpg?tr=tr:n-medium',\n",
       " 'https://im1.dineout.co.in/images/uploads/restaurant/sharpen/1/j/q/p18230-14628683175731995d9d0cb.jpg?tr=tr:n-medium',\n",
       " 'https://im1.dineout.co.in/images/uploads/restaurant/sharpen/2/y/j/p21171-166019927162f4a167b10af.jpg?tr=tr:n-medium']"
      ]
     },
     "execution_count": 210,
     "metadata": {},
     "output_type": "execute_result"
    }
   ],
   "source": [
    "Restaurant_image"
   ]
  },
  {
   "cell_type": "code",
   "execution_count": 203,
   "id": "d8b9f209",
   "metadata": {},
   "outputs": [],
   "source": [
    "soup=BeautifulSoup(Pages.content)\n",
    "Restaurant_cuisine=[]\n",
    "for i in soup.find_all('span',class_=\"double-line-ellipsis\"):\n",
    "    Restaurant_cuisine.append(i.text)"
   ]
  },
  {
   "cell_type": "code",
   "execution_count": 204,
   "id": "1d9abb5a",
   "metadata": {
    "collapsed": true
   },
   "outputs": [
    {
     "data": {
      "text/plain": [
       "['₹ 2,000 for 2 (approx) | North Indian, Continental, Mughlai',\n",
       " '₹ 2,000 for 2 (approx) | North Indian, Chinese, Italian, Continental',\n",
       " '₹ 2,000 for 2 (approx) | North Indian',\n",
       " '₹ 1,200 for 2 (approx) | North Indian, Rajasthani',\n",
       " '₹ 1,800 for 2 (approx) | North Indian, Continental, Asian, Chinese',\n",
       " '₹ 1,400 for 2 (approx) | North Indian, Continental',\n",
       " '₹ 1,000 for 2 (approx) | North Indian, Continental, Asian',\n",
       " '₹ 1,800 for 2 (approx) | North Indian, Chinese',\n",
       " '₹ 1,500 for 2 (approx) | North Indian, Chinese',\n",
       " '₹ 1,600 for 2 (approx) | Continental, Chinese, North Indian, Fast Food',\n",
       " '₹ 2,500 for 2 (approx) | North Indian, Italian, Chinese, Turkish, Continental',\n",
       " '₹ 3,000 for 2 (approx) | North Indian, Continental, American, Asian',\n",
       " '₹ 2,000 for 2 (approx) | North Indian, Asian, Italian',\n",
       " '₹ 2,000 for 2 (approx) | Continental, Asian, Italian, North Indian',\n",
       " '₹ 2,000 for 2 (approx) | North Indian, Asian, Continental',\n",
       " '₹ 2,000 for 2 (approx) | Modern Indian, Continental, Finger Food',\n",
       " '₹ 1,000 for 2 (approx) | North Indian, Continental, Chinese',\n",
       " '₹ 1,500 for 2 (approx) | Tibetan, Nepalese',\n",
       " '₹ 1,000 for 2 (approx) | North Indian, Chinese, South Indian',\n",
       " '₹ 1,500 for 2 (approx) | North Indian, Chinese, Italian',\n",
       " '₹ 2,700 for 2 (approx) | North Indian, Chinese, Continental']"
      ]
     },
     "execution_count": 204,
     "metadata": {},
     "output_type": "execute_result"
    }
   ],
   "source": [
    "Restaurant_cuisine"
   ]
  },
  {
   "cell_type": "code",
   "execution_count": 211,
   "id": "37542203",
   "metadata": {},
   "outputs": [
    {
     "name": "stdout",
     "output_type": "stream",
     "text": [
      "21 21 21 21 21\n"
     ]
    }
   ],
   "source": [
    "print(len(Restaurant_name),len(Restaurant_cuisine),len(Restaurant_location),len(Restaurant_rating),len(Restaurant_image))"
   ]
  },
  {
   "cell_type": "code",
   "execution_count": 212,
   "id": "bf78be2a",
   "metadata": {},
   "outputs": [],
   "source": [
    "Restaurant_details=pd.DataFrame({'Restaurant Name':Restaurant_name,'Cuisine':Restaurant_cuisine,'Restaurant Loc':Restaurant_location,'Rating':Restaurant_rating,'Image url':Restaurant_image})"
   ]
  },
  {
   "cell_type": "code",
   "execution_count": 213,
   "id": "0b8fa675",
   "metadata": {
    "collapsed": true
   },
   "outputs": [
    {
     "data": {
      "text/html": [
       "<div>\n",
       "<style scoped>\n",
       "    .dataframe tbody tr th:only-of-type {\n",
       "        vertical-align: middle;\n",
       "    }\n",
       "\n",
       "    .dataframe tbody tr th {\n",
       "        vertical-align: top;\n",
       "    }\n",
       "\n",
       "    .dataframe thead th {\n",
       "        text-align: right;\n",
       "    }\n",
       "</style>\n",
       "<table border=\"1\" class=\"dataframe\">\n",
       "  <thead>\n",
       "    <tr style=\"text-align: right;\">\n",
       "      <th></th>\n",
       "      <th>Restaurant Name</th>\n",
       "      <th>Cuisine</th>\n",
       "      <th>Restaurant Loc</th>\n",
       "      <th>Rating</th>\n",
       "      <th>Image url</th>\n",
       "    </tr>\n",
       "  </thead>\n",
       "  <tbody>\n",
       "    <tr>\n",
       "      <th>0</th>\n",
       "      <td>Kwality RestaurantRegal Cinema Complex,Connaug...</td>\n",
       "      <td>₹ 2,000 for 2 (approx) | North Indian, Contine...</td>\n",
       "      <td>Regal Cinema Complex,Connaught Place, Central ...</td>\n",
       "      <td>4.4</td>\n",
       "      <td>https://im1.dineout.co.in/images/uploads/resta...</td>\n",
       "    </tr>\n",
       "    <tr>\n",
       "      <th>1</th>\n",
       "      <td>Ardor 2.1 Restaurant and LoungeConnaught Place...</td>\n",
       "      <td>₹ 2,000 for 2 (approx) | North Indian, Chinese...</td>\n",
       "      <td>Connaught Place, Central Delhi</td>\n",
       "      <td>4.1</td>\n",
       "      <td>https://im1.dineout.co.in/images/uploads/resta...</td>\n",
       "    </tr>\n",
       "    <tr>\n",
       "      <th>2</th>\n",
       "      <td>The G.T. RoadM-Block,Connaught Place, Central ...</td>\n",
       "      <td>₹ 2,000 for 2 (approx) | North Indian</td>\n",
       "      <td>M-Block,Connaught Place, Central Delhi</td>\n",
       "      <td>4.3</td>\n",
       "      <td>https://im1.dineout.co.in/images/uploads/resta...</td>\n",
       "    </tr>\n",
       "    <tr>\n",
       "      <th>3</th>\n",
       "      <td>Ghoomar Traditional Thali RestaurantConnaught ...</td>\n",
       "      <td>₹ 1,200 for 2 (approx) | North Indian, Rajasthani</td>\n",
       "      <td>Connaught Place, Central Delhi</td>\n",
       "      <td>4.1</td>\n",
       "      <td>https://im1.dineout.co.in/images/uploads/resta...</td>\n",
       "    </tr>\n",
       "    <tr>\n",
       "      <th>4</th>\n",
       "      <td>Connaught Club HouseConnaught Place, Central D...</td>\n",
       "      <td>₹ 1,800 for 2 (approx) | North Indian, Contine...</td>\n",
       "      <td>Connaught Place, Central Delhi</td>\n",
       "      <td>4.2</td>\n",
       "      <td>https://im1.dineout.co.in/images/uploads/resta...</td>\n",
       "    </tr>\n",
       "    <tr>\n",
       "      <th>5</th>\n",
       "      <td>SandozConnaught Place, Central Delhi</td>\n",
       "      <td>₹ 1,400 for 2 (approx) | North Indian, Contine...</td>\n",
       "      <td>Connaught Place, Central Delhi</td>\n",
       "      <td>4</td>\n",
       "      <td>https://im1.dineout.co.in/images/uploads/resta...</td>\n",
       "    </tr>\n",
       "    <tr>\n",
       "      <th>6</th>\n",
       "      <td>Somewhere Restaurant &amp; BarConnaught Place, Cen...</td>\n",
       "      <td>₹ 1,000 for 2 (approx) | North Indian, Contine...</td>\n",
       "      <td>Connaught Place, Central Delhi</td>\n",
       "      <td>4.1</td>\n",
       "      <td>https://im1.dineout.co.in/images/uploads/resta...</td>\n",
       "    </tr>\n",
       "    <tr>\n",
       "      <th>7</th>\n",
       "      <td>Minar RestaurantConnaught Place, Central Delhi</td>\n",
       "      <td>₹ 1,800 for 2 (approx) | North Indian, Chinese</td>\n",
       "      <td>Connaught Place, Central Delhi</td>\n",
       "      <td>4.4</td>\n",
       "      <td>https://im1.dineout.co.in/images/uploads/resta...</td>\n",
       "    </tr>\n",
       "    <tr>\n",
       "      <th>8</th>\n",
       "      <td>My Bar HeadquartersConnaught Place, Central Delhi</td>\n",
       "      <td>₹ 1,500 for 2 (approx) | North Indian, Chinese</td>\n",
       "      <td>Connaught Place, Central Delhi</td>\n",
       "      <td>4</td>\n",
       "      <td>https://im1.dineout.co.in/images/uploads/resta...</td>\n",
       "    </tr>\n",
       "    <tr>\n",
       "      <th>9</th>\n",
       "      <td>THE ART HOUSE RestaurantConnaught Place, Centr...</td>\n",
       "      <td>₹ 1,600 for 2 (approx) | Continental, Chinese,...</td>\n",
       "      <td>Connaught Place, Central Delhi</td>\n",
       "      <td>3.8</td>\n",
       "      <td>https://im1.dineout.co.in/images/uploads/resta...</td>\n",
       "    </tr>\n",
       "    <tr>\n",
       "      <th>10</th>\n",
       "      <td>Unplugged CourtyardConnaught Place, Central Delhi</td>\n",
       "      <td>₹ 2,500 for 2 (approx) | North Indian, Italian...</td>\n",
       "      <td>Connaught Place, Central Delhi</td>\n",
       "      <td>4</td>\n",
       "      <td>https://im1.dineout.co.in/images/uploads/resta...</td>\n",
       "    </tr>\n",
       "    <tr>\n",
       "      <th>11</th>\n",
       "      <td>Ministry Of BeerM-Block,Connaught Place, Centr...</td>\n",
       "      <td>₹ 3,000 for 2 (approx) | North Indian, Contine...</td>\n",
       "      <td>M-Block,Connaught Place, Central Delhi</td>\n",
       "      <td>4</td>\n",
       "      <td>https://im1.dineout.co.in/images/uploads/resta...</td>\n",
       "    </tr>\n",
       "    <tr>\n",
       "      <th>12</th>\n",
       "      <td>Openhouse CafeConnaught Place, Central Delhi</td>\n",
       "      <td>₹ 2,000 for 2 (approx) | North Indian, Asian, ...</td>\n",
       "      <td>Connaught Place, Central Delhi</td>\n",
       "      <td>4.1</td>\n",
       "      <td>https://im1.dineout.co.in/images/uploads/resta...</td>\n",
       "    </tr>\n",
       "    <tr>\n",
       "      <th>13</th>\n",
       "      <td>TamashaConnaught Place, Central Delhi</td>\n",
       "      <td>₹ 2,000 for 2 (approx) | Continental, Asian, I...</td>\n",
       "      <td>Connaught Place, Central Delhi</td>\n",
       "      <td>4.2</td>\n",
       "      <td>https://im1.dineout.co.in/images/uploads/resta...</td>\n",
       "    </tr>\n",
       "    <tr>\n",
       "      <th>14</th>\n",
       "      <td>LocalScindia House,Connaught Place, Central Delhi</td>\n",
       "      <td>₹ 2,000 for 2 (approx) | North Indian, Asian, ...</td>\n",
       "      <td>Scindia House,Connaught Place, Central Delhi</td>\n",
       "      <td>4</td>\n",
       "      <td>https://im1.dineout.co.in/images/uploads/resta...</td>\n",
       "    </tr>\n",
       "    <tr>\n",
       "      <th>15</th>\n",
       "      <td>Farzi CafeConnaught Place, Central Delhi</td>\n",
       "      <td>₹ 2,000 for 2 (approx) | Modern Indian, Contin...</td>\n",
       "      <td>Connaught Place, Central Delhi</td>\n",
       "      <td>4.1</td>\n",
       "      <td>https://im1.dineout.co.in/images/uploads/resta...</td>\n",
       "    </tr>\n",
       "    <tr>\n",
       "      <th>16</th>\n",
       "      <td>The Gem Bar &amp; RestaurantPaharganj, Central Delhi</td>\n",
       "      <td>₹ 1,000 for 2 (approx) | North Indian, Contine...</td>\n",
       "      <td>Paharganj, Central Delhi</td>\n",
       "      <td>4</td>\n",
       "      <td>https://im1.dineout.co.in/images/uploads/resta...</td>\n",
       "    </tr>\n",
       "    <tr>\n",
       "      <th>17</th>\n",
       "      <td>Yeti - The Himalayan KitchenThe Colonnade,Conn...</td>\n",
       "      <td>₹ 1,500 for 2 (approx) | Tibetan, Nepalese</td>\n",
       "      <td>The Colonnade,Connaught Place, Central Delhi</td>\n",
       "      <td>4.3</td>\n",
       "      <td>https://im1.dineout.co.in/images/uploads/resta...</td>\n",
       "    </tr>\n",
       "    <tr>\n",
       "      <th>18</th>\n",
       "      <td>Preamble RestaurantConnaught Place, Central Delhi</td>\n",
       "      <td>₹ 1,000 for 2 (approx) | North Indian, Chinese...</td>\n",
       "      <td>Connaught Place, Central Delhi</td>\n",
       "      <td>4.3</td>\n",
       "      <td>https://im1.dineout.co.in/images/uploads/resta...</td>\n",
       "    </tr>\n",
       "    <tr>\n",
       "      <th>19</th>\n",
       "      <td>Sam's Restaurant &amp; BarVivek Hotel,Paharganj, C...</td>\n",
       "      <td>₹ 1,500 for 2 (approx) | North Indian, Chinese...</td>\n",
       "      <td>Vivek Hotel,Paharganj, Central Delhi</td>\n",
       "      <td>4.1</td>\n",
       "      <td>https://im1.dineout.co.in/images/uploads/resta...</td>\n",
       "    </tr>\n",
       "    <tr>\n",
       "      <th>20</th>\n",
       "      <td>38 BarracksM-Block,Connaught Place, Central Delhi</td>\n",
       "      <td>₹ 2,700 for 2 (approx) | North Indian, Chinese...</td>\n",
       "      <td>M-Block,Connaught Place, Central Delhi</td>\n",
       "      <td>4.3</td>\n",
       "      <td>https://im1.dineout.co.in/images/uploads/resta...</td>\n",
       "    </tr>\n",
       "  </tbody>\n",
       "</table>\n",
       "</div>"
      ],
      "text/plain": [
       "                                      Restaurant Name  \\\n",
       "0   Kwality RestaurantRegal Cinema Complex,Connaug...   \n",
       "1   Ardor 2.1 Restaurant and LoungeConnaught Place...   \n",
       "2   The G.T. RoadM-Block,Connaught Place, Central ...   \n",
       "3   Ghoomar Traditional Thali RestaurantConnaught ...   \n",
       "4   Connaught Club HouseConnaught Place, Central D...   \n",
       "5                SandozConnaught Place, Central Delhi   \n",
       "6   Somewhere Restaurant & BarConnaught Place, Cen...   \n",
       "7      Minar RestaurantConnaught Place, Central Delhi   \n",
       "8   My Bar HeadquartersConnaught Place, Central Delhi   \n",
       "9   THE ART HOUSE RestaurantConnaught Place, Centr...   \n",
       "10  Unplugged CourtyardConnaught Place, Central Delhi   \n",
       "11  Ministry Of BeerM-Block,Connaught Place, Centr...   \n",
       "12       Openhouse CafeConnaught Place, Central Delhi   \n",
       "13              TamashaConnaught Place, Central Delhi   \n",
       "14  LocalScindia House,Connaught Place, Central Delhi   \n",
       "15           Farzi CafeConnaught Place, Central Delhi   \n",
       "16   The Gem Bar & RestaurantPaharganj, Central Delhi   \n",
       "17  Yeti - The Himalayan KitchenThe Colonnade,Conn...   \n",
       "18  Preamble RestaurantConnaught Place, Central Delhi   \n",
       "19  Sam's Restaurant & BarVivek Hotel,Paharganj, C...   \n",
       "20  38 BarracksM-Block,Connaught Place, Central Delhi   \n",
       "\n",
       "                                              Cuisine  \\\n",
       "0   ₹ 2,000 for 2 (approx) | North Indian, Contine...   \n",
       "1   ₹ 2,000 for 2 (approx) | North Indian, Chinese...   \n",
       "2               ₹ 2,000 for 2 (approx) | North Indian   \n",
       "3   ₹ 1,200 for 2 (approx) | North Indian, Rajasthani   \n",
       "4   ₹ 1,800 for 2 (approx) | North Indian, Contine...   \n",
       "5   ₹ 1,400 for 2 (approx) | North Indian, Contine...   \n",
       "6   ₹ 1,000 for 2 (approx) | North Indian, Contine...   \n",
       "7      ₹ 1,800 for 2 (approx) | North Indian, Chinese   \n",
       "8      ₹ 1,500 for 2 (approx) | North Indian, Chinese   \n",
       "9   ₹ 1,600 for 2 (approx) | Continental, Chinese,...   \n",
       "10  ₹ 2,500 for 2 (approx) | North Indian, Italian...   \n",
       "11  ₹ 3,000 for 2 (approx) | North Indian, Contine...   \n",
       "12  ₹ 2,000 for 2 (approx) | North Indian, Asian, ...   \n",
       "13  ₹ 2,000 for 2 (approx) | Continental, Asian, I...   \n",
       "14  ₹ 2,000 for 2 (approx) | North Indian, Asian, ...   \n",
       "15  ₹ 2,000 for 2 (approx) | Modern Indian, Contin...   \n",
       "16  ₹ 1,000 for 2 (approx) | North Indian, Contine...   \n",
       "17         ₹ 1,500 for 2 (approx) | Tibetan, Nepalese   \n",
       "18  ₹ 1,000 for 2 (approx) | North Indian, Chinese...   \n",
       "19  ₹ 1,500 for 2 (approx) | North Indian, Chinese...   \n",
       "20  ₹ 2,700 for 2 (approx) | North Indian, Chinese...   \n",
       "\n",
       "                                       Restaurant Loc Rating  \\\n",
       "0   Regal Cinema Complex,Connaught Place, Central ...    4.4   \n",
       "1                      Connaught Place, Central Delhi    4.1   \n",
       "2              M-Block,Connaught Place, Central Delhi    4.3   \n",
       "3                      Connaught Place, Central Delhi    4.1   \n",
       "4                      Connaught Place, Central Delhi    4.2   \n",
       "5                      Connaught Place, Central Delhi      4   \n",
       "6                      Connaught Place, Central Delhi    4.1   \n",
       "7                      Connaught Place, Central Delhi    4.4   \n",
       "8                      Connaught Place, Central Delhi      4   \n",
       "9                      Connaught Place, Central Delhi    3.8   \n",
       "10                     Connaught Place, Central Delhi      4   \n",
       "11             M-Block,Connaught Place, Central Delhi      4   \n",
       "12                     Connaught Place, Central Delhi    4.1   \n",
       "13                     Connaught Place, Central Delhi    4.2   \n",
       "14       Scindia House,Connaught Place, Central Delhi      4   \n",
       "15                     Connaught Place, Central Delhi    4.1   \n",
       "16                           Paharganj, Central Delhi      4   \n",
       "17       The Colonnade,Connaught Place, Central Delhi    4.3   \n",
       "18                     Connaught Place, Central Delhi    4.3   \n",
       "19               Vivek Hotel,Paharganj, Central Delhi    4.1   \n",
       "20             M-Block,Connaught Place, Central Delhi    4.3   \n",
       "\n",
       "                                            Image url  \n",
       "0   https://im1.dineout.co.in/images/uploads/resta...  \n",
       "1   https://im1.dineout.co.in/images/uploads/resta...  \n",
       "2   https://im1.dineout.co.in/images/uploads/resta...  \n",
       "3   https://im1.dineout.co.in/images/uploads/resta...  \n",
       "4   https://im1.dineout.co.in/images/uploads/resta...  \n",
       "5   https://im1.dineout.co.in/images/uploads/resta...  \n",
       "6   https://im1.dineout.co.in/images/uploads/resta...  \n",
       "7   https://im1.dineout.co.in/images/uploads/resta...  \n",
       "8   https://im1.dineout.co.in/images/uploads/resta...  \n",
       "9   https://im1.dineout.co.in/images/uploads/resta...  \n",
       "10  https://im1.dineout.co.in/images/uploads/resta...  \n",
       "11  https://im1.dineout.co.in/images/uploads/resta...  \n",
       "12  https://im1.dineout.co.in/images/uploads/resta...  \n",
       "13  https://im1.dineout.co.in/images/uploads/resta...  \n",
       "14  https://im1.dineout.co.in/images/uploads/resta...  \n",
       "15  https://im1.dineout.co.in/images/uploads/resta...  \n",
       "16  https://im1.dineout.co.in/images/uploads/resta...  \n",
       "17  https://im1.dineout.co.in/images/uploads/resta...  \n",
       "18  https://im1.dineout.co.in/images/uploads/resta...  \n",
       "19  https://im1.dineout.co.in/images/uploads/resta...  \n",
       "20  https://im1.dineout.co.in/images/uploads/resta...  "
      ]
     },
     "execution_count": 213,
     "metadata": {},
     "output_type": "execute_result"
    }
   ],
   "source": [
    "Restaurant_details"
   ]
  },
  {
   "cell_type": "code",
   "execution_count": null,
   "id": "9299b4ed",
   "metadata": {},
   "outputs": [],
   "source": []
  }
 ],
 "metadata": {
  "kernelspec": {
   "display_name": "Python 3 (ipykernel)",
   "language": "python",
   "name": "python3"
  },
  "language_info": {
   "codemirror_mode": {
    "name": "ipython",
    "version": 3
   },
   "file_extension": ".py",
   "mimetype": "text/x-python",
   "name": "python",
   "nbconvert_exporter": "python",
   "pygments_lexer": "ipython3",
   "version": "3.10.9"
  }
 },
 "nbformat": 4,
 "nbformat_minor": 5
}
