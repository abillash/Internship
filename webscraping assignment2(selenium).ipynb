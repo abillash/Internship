{
 "cells": [
  {
   "cell_type": "code",
   "execution_count": 77,
   "id": "69357b80",
   "metadata": {
    "collapsed": true
   },
   "outputs": [
    {
     "name": "stdout",
     "output_type": "stream",
     "text": [
      "Requirement already satisfied: selenium in c:\\users\\a\\anaconda3\\lib\\site-packages (4.15.2)\n",
      "Requirement already satisfied: trio~=0.17 in c:\\users\\a\\anaconda3\\lib\\site-packages (from selenium) (0.23.1)\n",
      "Requirement already satisfied: certifi>=2021.10.8 in c:\\users\\a\\anaconda3\\lib\\site-packages (from selenium) (2022.12.7)\n",
      "Requirement already satisfied: urllib3[socks]<3,>=1.26 in c:\\users\\a\\anaconda3\\lib\\site-packages (from selenium) (1.26.14)\n",
      "Requirement already satisfied: trio-websocket~=0.9 in c:\\users\\a\\anaconda3\\lib\\site-packages (from selenium) (0.11.1)\n",
      "Requirement already satisfied: sortedcontainers in c:\\users\\a\\anaconda3\\lib\\site-packages (from trio~=0.17->selenium) (2.4.0)\n",
      "Requirement already satisfied: exceptiongroup>=1.0.0rc9 in c:\\users\\a\\anaconda3\\lib\\site-packages (from trio~=0.17->selenium) (1.2.0)\n",
      "Requirement already satisfied: attrs>=20.1.0 in c:\\users\\a\\anaconda3\\lib\\site-packages (from trio~=0.17->selenium) (22.1.0)\n",
      "Requirement already satisfied: sniffio>=1.3.0 in c:\\users\\a\\anaconda3\\lib\\site-packages (from trio~=0.17->selenium) (1.3.0)\n",
      "Requirement already satisfied: cffi>=1.14 in c:\\users\\a\\anaconda3\\lib\\site-packages (from trio~=0.17->selenium) (1.15.1)\n",
      "Requirement already satisfied: idna in c:\\users\\a\\anaconda3\\lib\\site-packages (from trio~=0.17->selenium) (3.4)\n",
      "Requirement already satisfied: outcome in c:\\users\\a\\anaconda3\\lib\\site-packages (from trio~=0.17->selenium) (1.3.0.post0)\n",
      "Requirement already satisfied: wsproto>=0.14 in c:\\users\\a\\anaconda3\\lib\\site-packages (from trio-websocket~=0.9->selenium) (1.2.0)\n",
      "Requirement already satisfied: PySocks!=1.5.7,<2.0,>=1.5.6 in c:\\users\\a\\anaconda3\\lib\\site-packages (from urllib3[socks]<3,>=1.26->selenium) (1.7.1)\n",
      "Requirement already satisfied: pycparser in c:\\users\\a\\anaconda3\\lib\\site-packages (from cffi>=1.14->trio~=0.17->selenium) (2.21)\n",
      "Requirement already satisfied: h11<1,>=0.9.0 in c:\\users\\a\\anaconda3\\lib\\site-packages (from wsproto>=0.14->trio-websocket~=0.9->selenium) (0.14.0)\n"
     ]
    }
   ],
   "source": [
    "! pip install selenium"
   ]
  },
  {
   "cell_type": "code",
   "execution_count": 78,
   "id": "88940127",
   "metadata": {},
   "outputs": [],
   "source": [
    "#Q1: Write a python program to scrape data for “Data Analyst” Job position in “Bangalore” location. You\n",
    "# have to scrape the job-title, job-location, company_name, experience_required. You have to scrape first 10\n",
    "# jobs data.\n",
    "\n",
    "import selenium\n",
    "import pandas as pd\n",
    "from selenium import webdriver\n",
    "import warnings\n",
    "warnings.filterwarnings('ignore')\n",
    "from selenium.webdriver.common.by import By\n",
    "import time"
   ]
  },
  {
   "cell_type": "code",
   "execution_count": 133,
   "id": "965ca506",
   "metadata": {},
   "outputs": [],
   "source": [
    "driver=webdriver.Chrome()"
   ]
  },
  {
   "cell_type": "code",
   "execution_count": 134,
   "id": "52414d82",
   "metadata": {},
   "outputs": [],
   "source": [
    "# opening webpge\n",
    "driver.get('https://www.shine.com/')"
   ]
  },
  {
   "cell_type": "code",
   "execution_count": 135,
   "id": "d40ef0a6",
   "metadata": {},
   "outputs": [],
   "source": [
    "designation=driver.find_element(By.XPATH,'/html/body/div/div[4]/div/div[2]/div[2]/div/form/div/div[1]/ul/li[1]/div/input')\n",
    "designation.send_keys('Data Analyst')"
   ]
  },
  {
   "cell_type": "code",
   "execution_count": 136,
   "id": "234c32f0",
   "metadata": {},
   "outputs": [],
   "source": [
    "location=driver.find_element(By.XPATH,'/html/body/div/div[4]/div/div[2]/div[2]/div/form/div/div[1]/ul/li[2]/div/input')\n",
    "location.send_keys('Banglore')\n",
    "                        "
   ]
  },
  {
   "cell_type": "code",
   "execution_count": 138,
   "id": "81ad11fc",
   "metadata": {},
   "outputs": [],
   "source": [
    "search=driver.find_element(By.XPATH,'/html/body/div/div[4]/div/div[2]/div[2]/div/form/div/div[2]/div/button')\n",
    "search.click()"
   ]
  },
  {
   "cell_type": "code",
   "execution_count": 164,
   "id": "9e0cbe11",
   "metadata": {},
   "outputs": [],
   "source": [
    "Job_title=[]\n",
    "job_location=[]\n",
    "exp_required=[]"
   ]
  },
  {
   "cell_type": "code",
   "execution_count": 150,
   "id": "f6def9f3",
   "metadata": {},
   "outputs": [],
   "source": [
    "location_tags=driver.find_elements(By.XPATH,'//div[@class=\" jobCard_jobCard_lists_item__YxRkV jobCard_locationIcon__zrWt2\"]')\n",
    "for i in location_tags:\n",
    "    location=i.text\n",
    "    job_location.append(location)\n",
    "\n",
    "\n"
   ]
  },
  {
   "cell_type": "code",
   "execution_count": 151,
   "id": "720723dd",
   "metadata": {},
   "outputs": [
    {
     "data": {
      "text/plain": [
       "['Oman\\n+13',\n",
       " 'Bangalore\\n+9',\n",
       " 'Oman\\n+13',\n",
       " 'Bangalore',\n",
       " 'Bangalore',\n",
       " 'Bangalore',\n",
       " 'Bangalore',\n",
       " 'Bangalore',\n",
       " 'Bangalore',\n",
       " 'Bangalore',\n",
       " 'Bangalore',\n",
       " 'Bangalore',\n",
       " 'Bangalore\\n+9',\n",
       " 'Purnia\\n+9',\n",
       " 'Bangalore',\n",
       " 'Bangalore\\n+1',\n",
       " 'Oman\\n+14',\n",
       " 'Oman\\n+14',\n",
       " 'Mumbai City\\n+4',\n",
       " 'Oman\\n+14',\n",
       " 'Oman\\n+13',\n",
       " 'Bangalore',\n",
       " 'Oman',\n",
       " '',\n",
       " '',\n",
       " '',\n",
       " '',\n",
       " '',\n",
       " '',\n",
       " '',\n",
       " '',\n",
       " '',\n",
       " 'Bangalore',\n",
       " 'Purnia',\n",
       " '',\n",
       " 'Bangalore',\n",
       " 'Oman',\n",
       " 'Oman',\n",
       " 'Mumbai City',\n",
       " 'Oman']"
      ]
     },
     "execution_count": 151,
     "metadata": {},
     "output_type": "execute_result"
    }
   ],
   "source": [
    "job_location"
   ]
  },
  {
   "cell_type": "code",
   "execution_count": 152,
   "id": "5c6734e6",
   "metadata": {},
   "outputs": [],
   "source": [
    "job_Location=job_location[:10]"
   ]
  },
  {
   "cell_type": "code",
   "execution_count": 153,
   "id": "ed30eb4a",
   "metadata": {},
   "outputs": [
    {
     "data": {
      "text/plain": [
       "['Oman\\n+13',\n",
       " 'Bangalore\\n+9',\n",
       " 'Oman\\n+13',\n",
       " 'Bangalore',\n",
       " 'Bangalore',\n",
       " 'Bangalore',\n",
       " 'Bangalore',\n",
       " 'Bangalore',\n",
       " 'Bangalore',\n",
       " 'Bangalore']"
      ]
     },
     "execution_count": 153,
     "metadata": {},
     "output_type": "execute_result"
    }
   ],
   "source": [
    "job_Location"
   ]
  },
  {
   "cell_type": "code",
   "execution_count": 165,
   "id": "a3bac3c4",
   "metadata": {},
   "outputs": [],
   "source": [
    "job_tag=driver.find_elements(By.XPATH,'//h2[@itemprop=\"name\"]/a')\n",
    "for i in job_tag:\n",
    "    job=i.text\n",
    "    Job_title.append(job)"
   ]
  },
  {
   "cell_type": "code",
   "execution_count": 166,
   "id": "6b2c68da",
   "metadata": {},
   "outputs": [
    {
     "data": {
      "text/plain": [
       "['Data Analyst Recruitment',\n",
       " 'Data Analyst',\n",
       " 'Vacancy For Data Analyst',\n",
       " 'Project Coordinator (Data Analyst) Bangalore',\n",
       " 'Project Coordinator (Data analyst) Bangalore',\n",
       " 'Business Data Analyst - Modeling & Profiling',\n",
       " 'Data analyst - Java / Python',\n",
       " 'Data Analyst - Java/Python',\n",
       " 'Data Analyst - SQL/ Database Maintenance',\n",
       " 'Business Data Analyst - Modeling & Profiling',\n",
       " 'Data Analyst - Java/Python BANGALORE',\n",
       " 'Business Data Analyst - Modeling & Profiling',\n",
       " 'hiring for data entry analyst work',\n",
       " 'Data analyst',\n",
       " 'opening data analyst -Bangalore',\n",
       " 'Big Data Business Analyst',\n",
       " 'Data Analyst Vacancy',\n",
       " 'Data Analyst Vacancy',\n",
       " 'Clinical Data Analyst',\n",
       " 'Data Analyst Urgent Recruitment']"
      ]
     },
     "execution_count": 166,
     "metadata": {},
     "output_type": "execute_result"
    }
   ],
   "source": [
    "Job_title"
   ]
  },
  {
   "cell_type": "code",
   "execution_count": 167,
   "id": "1814cc78",
   "metadata": {},
   "outputs": [],
   "source": [
    "job_Title=Job_title[:10]"
   ]
  },
  {
   "cell_type": "code",
   "execution_count": 125,
   "id": "3a64dc7a",
   "metadata": {},
   "outputs": [
    {
     "data": {
      "text/plain": [
       "['Data Analyst Recruitment',\n",
       " 'Data Analyst',\n",
       " 'Vacancy For Data Analyst',\n",
       " 'Project Coordinator (Data Analyst) Bangalore',\n",
       " 'Project Coordinator (Data analyst) Bangalore',\n",
       " 'Business Data Analyst - Modeling & Profiling',\n",
       " 'Data analyst - Java / Python',\n",
       " 'Data Analyst - Java/Python',\n",
       " 'Data Analyst - SQL/ Database Maintenance',\n",
       " 'Business Data Analyst - Modeling & Profiling']"
      ]
     },
     "execution_count": 125,
     "metadata": {},
     "output_type": "execute_result"
    }
   ],
   "source": [
    "job_Title"
   ]
  },
  {
   "cell_type": "code",
   "execution_count": 168,
   "id": "800caa96",
   "metadata": {},
   "outputs": [],
   "source": [
    "companyy_name=[]\n",
    "company_tags=driver.find_elements(By.XPATH,'//div[@class=\"jobCard_jobCard_cName__mYnow\"]')\n",
    "for i in company_tags:\n",
    "    company=i.text\n",
    "    companyy_name.append(company)"
   ]
  },
  {
   "cell_type": "code",
   "execution_count": 169,
   "id": "b7a19285",
   "metadata": {},
   "outputs": [
    {
     "data": {
      "text/plain": [
       "['kavya interprises',\n",
       " 'hire connect',\n",
       " 'kavya interprises',\n",
       " 'futures and careers',\n",
       " 'futures and careers',\n",
       " 'boyen haddin consulting and technol...',\n",
       " 'boyen haddin consulting and technol...',\n",
       " 'boyen haddin consulting and technol...',\n",
       " 'boyen haddin consulting and technol...',\n",
       " 'boyen haddin consulting and technol...',\n",
       " 'boyen haddin consulting and technol...',\n",
       " 'boyen haddin consulting and technol...',\n",
       " 'global solutions..',\n",
       " 'ok lifecare private limited',\n",
       " 'provizor it services pvt. ltd.',\n",
       " 'cynosure corporate solutions..',\n",
       " 'divya interprises',\n",
       " 'divya interprises',\n",
       " 'quiscon biotech',\n",
       " 'divya interprises']"
      ]
     },
     "execution_count": 169,
     "metadata": {},
     "output_type": "execute_result"
    }
   ],
   "source": [
    "companyy_name"
   ]
  },
  {
   "cell_type": "code",
   "execution_count": 170,
   "id": "0d0db2b9",
   "metadata": {},
   "outputs": [],
   "source": [
    "company_Name=companyy_name[:10]"
   ]
  },
  {
   "cell_type": "code",
   "execution_count": 128,
   "id": "a838d356",
   "metadata": {},
   "outputs": [
    {
     "data": {
      "text/plain": [
       "['kavya interprises',\n",
       " 'hire connect',\n",
       " 'kavya interprises',\n",
       " 'futures and careers',\n",
       " 'futures and careers',\n",
       " 'boyen haddin consulting and technol...',\n",
       " 'boyen haddin consulting and technol...',\n",
       " 'boyen haddin consulting and technol...',\n",
       " 'boyen haddin consulting and technol...',\n",
       " 'boyen haddin consulting and technol...']"
      ]
     },
     "execution_count": 128,
     "metadata": {},
     "output_type": "execute_result"
    }
   ],
   "source": [
    "company_Name"
   ]
  },
  {
   "cell_type": "code",
   "execution_count": 171,
   "id": "612ec63a",
   "metadata": {},
   "outputs": [],
   "source": [
    "\n",
    "exp_tags=driver.find_elements(By.XPATH,'//div[@class=\" jobCard_jobCard_lists_item__YxRkV jobCard_jobIcon__3FB1t\"]')\n",
    "for i in exp_tags:\n",
    "    exp=i.text\n",
    "    exp_required.append(exp)"
   ]
  },
  {
   "cell_type": "code",
   "execution_count": 172,
   "id": "80a6e9a3",
   "metadata": {},
   "outputs": [
    {
     "data": {
      "text/plain": [
       "['0 to 4 Yrs',\n",
       " '0 to 1 Yr',\n",
       " '0 to 4 Yrs',\n",
       " '2 to 4 Yrs',\n",
       " '2 to 4 Yrs',\n",
       " '2 to 6 Yrs',\n",
       " '5 to 10 Yrs',\n",
       " '2 to 6 Yrs',\n",
       " '2 to 6 Yrs',\n",
       " '2 to 6 Yrs',\n",
       " '4 to 8 Yrs',\n",
       " '2 to 6 Yrs',\n",
       " '0 to 1 Yr',\n",
       " '1 to 5 Yrs',\n",
       " '2 to 5 Yrs',\n",
       " '7 to 12 Yrs',\n",
       " '0 to 4 Yrs',\n",
       " '0 to 4 Yrs',\n",
       " '0 to 2 Yrs',\n",
       " '0 to 4 Yrs']"
      ]
     },
     "execution_count": 172,
     "metadata": {},
     "output_type": "execute_result"
    }
   ],
   "source": [
    "exp_required"
   ]
  },
  {
   "cell_type": "code",
   "execution_count": 173,
   "id": "108fe392",
   "metadata": {},
   "outputs": [],
   "source": [
    "exp_Required=exp_required[:10]"
   ]
  },
  {
   "cell_type": "code",
   "execution_count": 118,
   "id": "04871d0f",
   "metadata": {},
   "outputs": [
    {
     "data": {
      "text/plain": [
       "['0 to 4 Yrs',\n",
       " '0 to 1 Yr',\n",
       " '0 to 4 Yrs',\n",
       " '2 to 4 Yrs',\n",
       " '2 to 4 Yrs',\n",
       " '2 to 6 Yrs',\n",
       " '5 to 10 Yrs',\n",
       " '2 to 6 Yrs',\n",
       " '2 to 6 Yrs',\n",
       " '2 to 6 Yrs']"
      ]
     },
     "execution_count": 118,
     "metadata": {},
     "output_type": "execute_result"
    }
   ],
   "source": [
    "exp_Required"
   ]
  },
  {
   "cell_type": "code",
   "execution_count": 174,
   "id": "d01fe266",
   "metadata": {},
   "outputs": [],
   "source": [
    "shine=pd.DataFrame({'Job Title':job_Title,'Job Location':job_Location,'Company Name':company_Name,'Exp Required':exp_Required})"
   ]
  },
  {
   "cell_type": "code",
   "execution_count": 175,
   "id": "45d6f6e0",
   "metadata": {},
   "outputs": [
    {
     "data": {
      "text/html": [
       "<div>\n",
       "<style scoped>\n",
       "    .dataframe tbody tr th:only-of-type {\n",
       "        vertical-align: middle;\n",
       "    }\n",
       "\n",
       "    .dataframe tbody tr th {\n",
       "        vertical-align: top;\n",
       "    }\n",
       "\n",
       "    .dataframe thead th {\n",
       "        text-align: right;\n",
       "    }\n",
       "</style>\n",
       "<table border=\"1\" class=\"dataframe\">\n",
       "  <thead>\n",
       "    <tr style=\"text-align: right;\">\n",
       "      <th></th>\n",
       "      <th>Job Title</th>\n",
       "      <th>Job Location</th>\n",
       "      <th>Company Name</th>\n",
       "      <th>Exp Required</th>\n",
       "    </tr>\n",
       "  </thead>\n",
       "  <tbody>\n",
       "    <tr>\n",
       "      <th>0</th>\n",
       "      <td>Data Analyst Recruitment</td>\n",
       "      <td>Oman\\n+13</td>\n",
       "      <td>kavya interprises</td>\n",
       "      <td>0 to 4 Yrs</td>\n",
       "    </tr>\n",
       "    <tr>\n",
       "      <th>1</th>\n",
       "      <td>Data Analyst</td>\n",
       "      <td>Bangalore\\n+9</td>\n",
       "      <td>hire connect</td>\n",
       "      <td>0 to 1 Yr</td>\n",
       "    </tr>\n",
       "    <tr>\n",
       "      <th>2</th>\n",
       "      <td>Vacancy For Data Analyst</td>\n",
       "      <td>Oman\\n+13</td>\n",
       "      <td>kavya interprises</td>\n",
       "      <td>0 to 4 Yrs</td>\n",
       "    </tr>\n",
       "    <tr>\n",
       "      <th>3</th>\n",
       "      <td>Project Coordinator (Data Analyst) Bangalore</td>\n",
       "      <td>Bangalore</td>\n",
       "      <td>futures and careers</td>\n",
       "      <td>2 to 4 Yrs</td>\n",
       "    </tr>\n",
       "    <tr>\n",
       "      <th>4</th>\n",
       "      <td>Project Coordinator (Data analyst) Bangalore</td>\n",
       "      <td>Bangalore</td>\n",
       "      <td>futures and careers</td>\n",
       "      <td>2 to 4 Yrs</td>\n",
       "    </tr>\n",
       "    <tr>\n",
       "      <th>5</th>\n",
       "      <td>Business Data Analyst - Modeling &amp; Profiling</td>\n",
       "      <td>Bangalore</td>\n",
       "      <td>boyen haddin consulting and technol...</td>\n",
       "      <td>2 to 6 Yrs</td>\n",
       "    </tr>\n",
       "    <tr>\n",
       "      <th>6</th>\n",
       "      <td>Data analyst - Java / Python</td>\n",
       "      <td>Bangalore</td>\n",
       "      <td>boyen haddin consulting and technol...</td>\n",
       "      <td>5 to 10 Yrs</td>\n",
       "    </tr>\n",
       "    <tr>\n",
       "      <th>7</th>\n",
       "      <td>Data Analyst - Java/Python</td>\n",
       "      <td>Bangalore</td>\n",
       "      <td>boyen haddin consulting and technol...</td>\n",
       "      <td>2 to 6 Yrs</td>\n",
       "    </tr>\n",
       "    <tr>\n",
       "      <th>8</th>\n",
       "      <td>Data Analyst - SQL/ Database Maintenance</td>\n",
       "      <td>Bangalore</td>\n",
       "      <td>boyen haddin consulting and technol...</td>\n",
       "      <td>2 to 6 Yrs</td>\n",
       "    </tr>\n",
       "    <tr>\n",
       "      <th>9</th>\n",
       "      <td>Business Data Analyst - Modeling &amp; Profiling</td>\n",
       "      <td>Bangalore</td>\n",
       "      <td>boyen haddin consulting and technol...</td>\n",
       "      <td>2 to 6 Yrs</td>\n",
       "    </tr>\n",
       "  </tbody>\n",
       "</table>\n",
       "</div>"
      ],
      "text/plain": [
       "                                      Job Title   Job Location  \\\n",
       "0                      Data Analyst Recruitment      Oman\\n+13   \n",
       "1                                  Data Analyst  Bangalore\\n+9   \n",
       "2                      Vacancy For Data Analyst      Oman\\n+13   \n",
       "3  Project Coordinator (Data Analyst) Bangalore      Bangalore   \n",
       "4  Project Coordinator (Data analyst) Bangalore      Bangalore   \n",
       "5  Business Data Analyst - Modeling & Profiling      Bangalore   \n",
       "6                  Data analyst - Java / Python      Bangalore   \n",
       "7                    Data Analyst - Java/Python      Bangalore   \n",
       "8      Data Analyst - SQL/ Database Maintenance      Bangalore   \n",
       "9  Business Data Analyst - Modeling & Profiling      Bangalore   \n",
       "\n",
       "                             Company Name Exp Required  \n",
       "0                       kavya interprises   0 to 4 Yrs  \n",
       "1                            hire connect    0 to 1 Yr  \n",
       "2                       kavya interprises   0 to 4 Yrs  \n",
       "3                     futures and careers   2 to 4 Yrs  \n",
       "4                     futures and careers   2 to 4 Yrs  \n",
       "5  boyen haddin consulting and technol...   2 to 6 Yrs  \n",
       "6  boyen haddin consulting and technol...  5 to 10 Yrs  \n",
       "7  boyen haddin consulting and technol...   2 to 6 Yrs  \n",
       "8  boyen haddin consulting and technol...   2 to 6 Yrs  \n",
       "9  boyen haddin consulting and technol...   2 to 6 Yrs  "
      ]
     },
     "execution_count": 175,
     "metadata": {},
     "output_type": "execute_result"
    }
   ],
   "source": [
    "shine"
   ]
  },
  {
   "cell_type": "code",
   "execution_count": 176,
   "id": "bc056a9e",
   "metadata": {},
   "outputs": [],
   "source": [
    "# Write a python program to scrape data for “Data Scientist” Job position in“Bangalore” location. You\n",
    "# have to scrape the job-title, job-location, company_name. You have to scrape first 10 jobs data.\n",
    "driver1=webdriver.Chrome()"
   ]
  },
  {
   "cell_type": "code",
   "execution_count": 178,
   "id": "1cd43ef0",
   "metadata": {},
   "outputs": [],
   "source": [
    "# opening webpge\n",
    "driver1.get('https://www.shine.com/')"
   ]
  },
  {
   "cell_type": "code",
   "execution_count": 179,
   "id": "17d3cec3",
   "metadata": {},
   "outputs": [],
   "source": [
    "\n",
    "designation=driver1.find_element(By.XPAT1H,'/html/body/div/div[4]/div/div[2]/div[2]/div/form/div/div[1]/ul/li[1]/div/input')\n",
    "designation.send_keys('Data Scientist')"
   ]
  },
  {
   "cell_type": "code",
   "execution_count": 180,
   "id": "0617af90",
   "metadata": {},
   "outputs": [],
   "source": [
    "location=driver1.find_element(By.XPATH,'/html/body/div/div[4]/div/div[2]/div[2]/div/form/div/div[1]/ul/li[2]/div/input')\n",
    "location.send_keys('Bangalore')"
   ]
  },
  {
   "cell_type": "code",
   "execution_count": 181,
   "id": "61253bf9",
   "metadata": {},
   "outputs": [],
   "source": [
    "search=driver1.find_element(By.XPATH,'/html/body/div/div[4]/div/div[2]/div[2]/div/form/div/div[2]/div/button')\n",
    "search.click()"
   ]
  },
  {
   "cell_type": "code",
   "execution_count": 189,
   "id": "17ef3c21",
   "metadata": {},
   "outputs": [],
   "source": [
    "JOB_title=[]\n",
    "JOB_location=[]\n",
    "COMPANY_name=[]\n",
    "EXP_required=[]"
   ]
  },
  {
   "cell_type": "code",
   "execution_count": 184,
   "id": "3e659be9",
   "metadata": {},
   "outputs": [],
   "source": [
    "job_tag1=driver1.find_elements(By.XPATH,'//h2[@itemprop=\"name\"]/a')\n",
    "for i in job_tag1:\n",
    "    job=i.text\n",
    "    JOB_title.append(job)"
   ]
  },
  {
   "cell_type": "code",
   "execution_count": 185,
   "id": "821b62a2",
   "metadata": {},
   "outputs": [
    {
     "data": {
      "text/plain": [
       "['Data scientist',\n",
       " 'Data Scientist - Business Intelligence',\n",
       " 'Data Scientist for Bangalore',\n",
       " 'Hiring For Data Scientist',\n",
       " 'Hiring For Data Scientist',\n",
       " 'Data Scientist - Spark/Python/Redshift',\n",
       " 'Data Scientist - Machine Learning',\n",
       " 'Data Scientist',\n",
       " 'Data Scientist- Associate',\n",
       " 'Data Scientist Vacancy',\n",
       " 'Data Scientist Urgent Recruitment',\n",
       " 'Data Scientist- Bangalore',\n",
       " 'Data Scientist - Business Intelligence',\n",
       " 'Data Scientist AI ML CV',\n",
       " 'Data Scientist AI ML NLP',\n",
       " 'Phd Data Scientist',\n",
       " 'Hiring For Data Scientist',\n",
       " 'Data Scientist-Bangalore',\n",
       " 'Staff Data Scientist & Team Lead',\n",
       " 'Data Scientist Associate Sr - NLP']"
      ]
     },
     "execution_count": 185,
     "metadata": {},
     "output_type": "execute_result"
    }
   ],
   "source": [
    "JOB_title"
   ]
  },
  {
   "cell_type": "code",
   "execution_count": 186,
   "id": "e84e6c52",
   "metadata": {},
   "outputs": [],
   "source": [
    "JOB_Title=JOB_title[:10]"
   ]
  },
  {
   "cell_type": "code",
   "execution_count": 187,
   "id": "539f8096",
   "metadata": {},
   "outputs": [
    {
     "data": {
      "text/plain": [
       "['Data scientist',\n",
       " 'Data Scientist - Business Intelligence',\n",
       " 'Data Scientist for Bangalore',\n",
       " 'Hiring For Data Scientist',\n",
       " 'Hiring For Data Scientist',\n",
       " 'Data Scientist - Spark/Python/Redshift',\n",
       " 'Data Scientist - Machine Learning',\n",
       " 'Data Scientist',\n",
       " 'Data Scientist- Associate',\n",
       " 'Data Scientist Vacancy']"
      ]
     },
     "execution_count": 187,
     "metadata": {},
     "output_type": "execute_result"
    }
   ],
   "source": [
    "JOB_Title"
   ]
  },
  {
   "cell_type": "code",
   "execution_count": 190,
   "id": "64520fd5",
   "metadata": {},
   "outputs": [],
   "source": [
    "location_tags1=driver1.find_elements(By.XPATH,'//div[@class=\" jobCard_jobCard_lists_item__YxRkV jobCard_locationIcon__zrWt2\"]')\n",
    "for i in location_tags1:\n",
    "    location=i.text\n",
    "    JOB_location.append(location)"
   ]
  },
  {
   "cell_type": "code",
   "execution_count": 191,
   "id": "855b602c",
   "metadata": {},
   "outputs": [
    {
     "data": {
      "text/plain": [
       "['Gurugram\\n+8',\n",
       " 'Bangalore',\n",
       " 'Bangalore',\n",
       " 'Oman\\n+13',\n",
       " 'Oman\\n+13',\n",
       " 'Bangalore',\n",
       " 'Bangalore',\n",
       " 'Bangalore',\n",
       " 'Bangalore',\n",
       " 'Oman\\n+14',\n",
       " 'Oman\\n+14',\n",
       " 'Bangalore',\n",
       " 'Bangalore',\n",
       " 'Bangalore',\n",
       " 'Bangalore',\n",
       " 'Bangalore',\n",
       " 'Oman\\n+14',\n",
       " 'Bangalore',\n",
       " 'Bangalore',\n",
       " 'Bangalore']"
      ]
     },
     "execution_count": 191,
     "metadata": {},
     "output_type": "execute_result"
    }
   ],
   "source": [
    "JOB_location"
   ]
  },
  {
   "cell_type": "code",
   "execution_count": 192,
   "id": "69914855",
   "metadata": {},
   "outputs": [],
   "source": [
    "JOB_Location=JOB_location[:10]"
   ]
  },
  {
   "cell_type": "code",
   "execution_count": 193,
   "id": "f0df1332",
   "metadata": {},
   "outputs": [
    {
     "data": {
      "text/plain": [
       "['Gurugram\\n+8',\n",
       " 'Bangalore',\n",
       " 'Bangalore',\n",
       " 'Oman\\n+13',\n",
       " 'Oman\\n+13',\n",
       " 'Bangalore',\n",
       " 'Bangalore',\n",
       " 'Bangalore',\n",
       " 'Bangalore',\n",
       " 'Oman\\n+14']"
      ]
     },
     "execution_count": 193,
     "metadata": {},
     "output_type": "execute_result"
    }
   ],
   "source": [
    "JOB_Location"
   ]
  },
  {
   "cell_type": "code",
   "execution_count": 196,
   "id": "290713b9",
   "metadata": {},
   "outputs": [],
   "source": [
    "\n",
    "company_tags1=driver1.find_elements(By.XPATH,'//div[@class=\"jobCard_jobCard_cName__mYnow\"]')\n",
    "for i in company_tags1:\n",
    "    company=i.text\n",
    "    COMPANY_name.append(company)"
   ]
  },
  {
   "cell_type": "code",
   "execution_count": 197,
   "id": "0e241545",
   "metadata": {},
   "outputs": [
    {
     "data": {
      "text/plain": [
       "['capgemini technology services india...',\n",
       " 'boyen haddin consulting and technol...',\n",
       " 'get hired',\n",
       " 'kavya interprises',\n",
       " 'kavya interprises',\n",
       " 'boyen haddin consulting and technol...',\n",
       " 'boyen haddin consulting and technol...',\n",
       " 'ibm india pvt. limited',\n",
       " 'jpmorgan',\n",
       " 'divya interprises',\n",
       " 'divya interprises',\n",
       " 'the fashion cosmo',\n",
       " 'boyen haddin consulting and technol...',\n",
       " 'bosch group',\n",
       " 'bosch group',\n",
       " 'bosch group',\n",
       " 'divya interprises',\n",
       " 'shiva hr services',\n",
       " 'true caller',\n",
       " 'jpmorgan']"
      ]
     },
     "execution_count": 197,
     "metadata": {},
     "output_type": "execute_result"
    }
   ],
   "source": [
    "COMPANY_name"
   ]
  },
  {
   "cell_type": "code",
   "execution_count": 198,
   "id": "931f8580",
   "metadata": {},
   "outputs": [],
   "source": [
    "COMPANY_Name=COMPANY_name[:10]"
   ]
  },
  {
   "cell_type": "code",
   "execution_count": 199,
   "id": "42d6b1d0",
   "metadata": {},
   "outputs": [
    {
     "data": {
      "text/plain": [
       "['capgemini technology services india...',\n",
       " 'boyen haddin consulting and technol...',\n",
       " 'get hired',\n",
       " 'kavya interprises',\n",
       " 'kavya interprises',\n",
       " 'boyen haddin consulting and technol...',\n",
       " 'boyen haddin consulting and technol...',\n",
       " 'ibm india pvt. limited',\n",
       " 'jpmorgan',\n",
       " 'divya interprises']"
      ]
     },
     "execution_count": 199,
     "metadata": {},
     "output_type": "execute_result"
    }
   ],
   "source": [
    "COMPANY_Name"
   ]
  },
  {
   "cell_type": "code",
   "execution_count": 200,
   "id": "e0d6d1f7",
   "metadata": {},
   "outputs": [],
   "source": [
    "exp_tags1=driver1.find_elements(By.XPATH,'//div[@class=\" jobCard_jobCard_lists_item__YxRkV jobCard_jobIcon__3FB1t\"]')\n",
    "for i in exp_tags1:\n",
    "    exp=i.text\n",
    "    EXP_required.append(exp)"
   ]
  },
  {
   "cell_type": "code",
   "execution_count": 201,
   "id": "a8245566",
   "metadata": {},
   "outputs": [
    {
     "data": {
      "text/plain": [
       "['6 to 11 Yrs',\n",
       " '2 to 6 Yrs',\n",
       " '0 to 3 Yrs',\n",
       " '0 to 4 Yrs',\n",
       " '0 to 4 Yrs',\n",
       " '4 to 8 Yrs',\n",
       " '2 to 4 Yrs',\n",
       " '10 to 12 Yrs',\n",
       " '4 to 6 Yrs',\n",
       " '0 to 4 Yrs',\n",
       " '0 to 4 Yrs',\n",
       " '0 to 3 Yrs',\n",
       " '2 to 6 Yrs',\n",
       " '3 to 5 Yrs',\n",
       " '3 to 5 Yrs',\n",
       " '2 to 5 Yrs',\n",
       " '0 to 4 Yrs',\n",
       " '0 to 3 Yrs',\n",
       " '8 to 12 Yrs',\n",
       " '3 to 5 Yrs']"
      ]
     },
     "execution_count": 201,
     "metadata": {},
     "output_type": "execute_result"
    }
   ],
   "source": [
    "EXP_required"
   ]
  },
  {
   "cell_type": "code",
   "execution_count": 202,
   "id": "6ff15188",
   "metadata": {},
   "outputs": [],
   "source": [
    "EXP_Required=EXP_required[:10]"
   ]
  },
  {
   "cell_type": "code",
   "execution_count": 203,
   "id": "b555fe2c",
   "metadata": {},
   "outputs": [
    {
     "data": {
      "text/plain": [
       "['6 to 11 Yrs',\n",
       " '2 to 6 Yrs',\n",
       " '0 to 3 Yrs',\n",
       " '0 to 4 Yrs',\n",
       " '0 to 4 Yrs',\n",
       " '4 to 8 Yrs',\n",
       " '2 to 4 Yrs',\n",
       " '10 to 12 Yrs',\n",
       " '4 to 6 Yrs',\n",
       " '0 to 4 Yrs']"
      ]
     },
     "execution_count": 203,
     "metadata": {},
     "output_type": "execute_result"
    }
   ],
   "source": [
    "EXP_Required"
   ]
  },
  {
   "cell_type": "code",
   "execution_count": 204,
   "id": "3e4226f7",
   "metadata": {},
   "outputs": [],
   "source": [
    "shine1=pd.DataFrame({'Job itle':JOB_Title,'Job Location':JOB_Location,'Company Name':COMPANY_Name,'Exp Required':EXP_Required})"
   ]
  },
  {
   "cell_type": "code",
   "execution_count": 205,
   "id": "d020b497",
   "metadata": {},
   "outputs": [
    {
     "data": {
      "text/html": [
       "<div>\n",
       "<style scoped>\n",
       "    .dataframe tbody tr th:only-of-type {\n",
       "        vertical-align: middle;\n",
       "    }\n",
       "\n",
       "    .dataframe tbody tr th {\n",
       "        vertical-align: top;\n",
       "    }\n",
       "\n",
       "    .dataframe thead th {\n",
       "        text-align: right;\n",
       "    }\n",
       "</style>\n",
       "<table border=\"1\" class=\"dataframe\">\n",
       "  <thead>\n",
       "    <tr style=\"text-align: right;\">\n",
       "      <th></th>\n",
       "      <th>Job itle</th>\n",
       "      <th>Job Location</th>\n",
       "      <th>Company Name</th>\n",
       "      <th>Exp Required</th>\n",
       "    </tr>\n",
       "  </thead>\n",
       "  <tbody>\n",
       "    <tr>\n",
       "      <th>0</th>\n",
       "      <td>Data scientist</td>\n",
       "      <td>Gurugram\\n+8</td>\n",
       "      <td>capgemini technology services india...</td>\n",
       "      <td>6 to 11 Yrs</td>\n",
       "    </tr>\n",
       "    <tr>\n",
       "      <th>1</th>\n",
       "      <td>Data Scientist - Business Intelligence</td>\n",
       "      <td>Bangalore</td>\n",
       "      <td>boyen haddin consulting and technol...</td>\n",
       "      <td>2 to 6 Yrs</td>\n",
       "    </tr>\n",
       "    <tr>\n",
       "      <th>2</th>\n",
       "      <td>Data Scientist for Bangalore</td>\n",
       "      <td>Bangalore</td>\n",
       "      <td>get hired</td>\n",
       "      <td>0 to 3 Yrs</td>\n",
       "    </tr>\n",
       "    <tr>\n",
       "      <th>3</th>\n",
       "      <td>Hiring For Data Scientist</td>\n",
       "      <td>Oman\\n+13</td>\n",
       "      <td>kavya interprises</td>\n",
       "      <td>0 to 4 Yrs</td>\n",
       "    </tr>\n",
       "    <tr>\n",
       "      <th>4</th>\n",
       "      <td>Hiring For Data Scientist</td>\n",
       "      <td>Oman\\n+13</td>\n",
       "      <td>kavya interprises</td>\n",
       "      <td>0 to 4 Yrs</td>\n",
       "    </tr>\n",
       "    <tr>\n",
       "      <th>5</th>\n",
       "      <td>Data Scientist - Spark/Python/Redshift</td>\n",
       "      <td>Bangalore</td>\n",
       "      <td>boyen haddin consulting and technol...</td>\n",
       "      <td>4 to 8 Yrs</td>\n",
       "    </tr>\n",
       "    <tr>\n",
       "      <th>6</th>\n",
       "      <td>Data Scientist - Machine Learning</td>\n",
       "      <td>Bangalore</td>\n",
       "      <td>boyen haddin consulting and technol...</td>\n",
       "      <td>2 to 4 Yrs</td>\n",
       "    </tr>\n",
       "    <tr>\n",
       "      <th>7</th>\n",
       "      <td>Data Scientist</td>\n",
       "      <td>Bangalore</td>\n",
       "      <td>ibm india pvt. limited</td>\n",
       "      <td>10 to 12 Yrs</td>\n",
       "    </tr>\n",
       "    <tr>\n",
       "      <th>8</th>\n",
       "      <td>Data Scientist- Associate</td>\n",
       "      <td>Bangalore</td>\n",
       "      <td>jpmorgan</td>\n",
       "      <td>4 to 6 Yrs</td>\n",
       "    </tr>\n",
       "    <tr>\n",
       "      <th>9</th>\n",
       "      <td>Data Scientist Vacancy</td>\n",
       "      <td>Oman\\n+14</td>\n",
       "      <td>divya interprises</td>\n",
       "      <td>0 to 4 Yrs</td>\n",
       "    </tr>\n",
       "  </tbody>\n",
       "</table>\n",
       "</div>"
      ],
      "text/plain": [
       "                                 Job itle  Job Location  \\\n",
       "0                          Data scientist  Gurugram\\n+8   \n",
       "1  Data Scientist - Business Intelligence     Bangalore   \n",
       "2            Data Scientist for Bangalore     Bangalore   \n",
       "3               Hiring For Data Scientist     Oman\\n+13   \n",
       "4               Hiring For Data Scientist     Oman\\n+13   \n",
       "5  Data Scientist - Spark/Python/Redshift     Bangalore   \n",
       "6       Data Scientist - Machine Learning     Bangalore   \n",
       "7                          Data Scientist     Bangalore   \n",
       "8               Data Scientist- Associate     Bangalore   \n",
       "9                  Data Scientist Vacancy     Oman\\n+14   \n",
       "\n",
       "                             Company Name  Exp Required  \n",
       "0  capgemini technology services india...   6 to 11 Yrs  \n",
       "1  boyen haddin consulting and technol...    2 to 6 Yrs  \n",
       "2                               get hired    0 to 3 Yrs  \n",
       "3                       kavya interprises    0 to 4 Yrs  \n",
       "4                       kavya interprises    0 to 4 Yrs  \n",
       "5  boyen haddin consulting and technol...    4 to 8 Yrs  \n",
       "6  boyen haddin consulting and technol...    2 to 4 Yrs  \n",
       "7                  ibm india pvt. limited  10 to 12 Yrs  \n",
       "8                                jpmorgan    4 to 6 Yrs  \n",
       "9                       divya interprises    0 to 4 Yrs  "
      ]
     },
     "execution_count": 205,
     "metadata": {},
     "output_type": "execute_result"
    }
   ],
   "source": [
    "shine1"
   ]
  },
  {
   "cell_type": "code",
   "execution_count": 213,
   "id": "78b27f2b",
   "metadata": {},
   "outputs": [],
   "source": [
    "#3: In this question you have to scrape data using the filters available on the webpage \n",
    " # You have to use the location and salary filter.\n",
    "# You have to scrape data for “Data Scientist” designation for first 10 job results.\n",
    "# You have to scrape the job-title, job-location, company name, experience required.\n",
    "# The location filter to be used is “Delhi/NCR”. The salary filter to be used is “3-6” lakh\n",
    "\n",
    "driver2=webdriver.Chrome()"
   ]
  },
  {
   "cell_type": "code",
   "execution_count": 214,
   "id": "d16ec4db",
   "metadata": {},
   "outputs": [],
   "source": [
    "# opening webpge\n",
    "driver2.get('https://www.shine.com/')"
   ]
  },
  {
   "cell_type": "code",
   "execution_count": 216,
   "id": "51d8073f",
   "metadata": {},
   "outputs": [],
   "source": [
    "designation=driver2.find_element(By.XPATH,'/html/body/div/div[4]/div/div[2]/div[2]/div/form/div/div[1]/ul/li[1]/div/input')\n",
    "designation.send_keys('Data Scientist')"
   ]
  },
  {
   "cell_type": "code",
   "execution_count": 217,
   "id": "e097056e",
   "metadata": {},
   "outputs": [],
   "source": [
    "location=driver2.find_element(By.XPATH,'/html/body/div/div[4]/div/div[2]/div[2]/div/form/div/div[1]/ul[1]/li[2]/div/input')\n",
    "location.send_keys('Delhi/NCR')"
   ]
  },
  {
   "cell_type": "code",
   "execution_count": 215,
   "id": "648f8b5f",
   "metadata": {},
   "outputs": [],
   "source": [
    "salary=driver2.find_element(By.XPATH,'/html/body/div/div[4]/div/div[2]/div[2]/div/form/div/div[1]/ul[2]/li[1]/div/input[1]')\n",
    "salary.send_keys('3-6 lakhs')"
   ]
  },
  {
   "cell_type": "code",
   "execution_count": 218,
   "id": "06c49a9f",
   "metadata": {},
   "outputs": [],
   "source": [
    "search=driver2.find_element(By.XPATH,'/html/body/dBiv/div[4]/div/div[2]/div[2]/div/form/div/div[2]/div/button')\n",
    "search.click()"
   ]
  },
  {
   "cell_type": "code",
   "execution_count": 219,
   "id": "72577a4e",
   "metadata": {},
   "outputs": [],
   "source": [
    "job_TITLE=[]\n",
    "job_LOCATION=[]\n",
    "company_NAME=[]\n",
    "exp_REQUIRED=[]\n"
   ]
  },
  {
   "cell_type": "code",
   "execution_count": 220,
   "id": "97825632",
   "metadata": {},
   "outputs": [],
   "source": [
    "job_tag2=driver2.find_elements(By.XPATH,'//h2[@itemprop=\"name\"]/a')\n",
    "for i in job_tag2:\n",
    "    job=i.text\n",
    "    job_TITLE.append(job)"
   ]
  },
  {
   "cell_type": "code",
   "execution_count": 221,
   "id": "dcfc793a",
   "metadata": {},
   "outputs": [],
   "source": [
    "joB_TITLE=job_TITLE[:10]"
   ]
  },
  {
   "cell_type": "code",
   "execution_count": 222,
   "id": "40db7b13",
   "metadata": {},
   "outputs": [
    {
     "data": {
      "text/plain": [
       "['Data Scientist (Big Data)',\n",
       " 'Senior Data Scientist- Data Science, Python',\n",
       " 'Engineer - Global Medical Data Scientist',\n",
       " 'Data Scientist',\n",
       " 'Data scientist',\n",
       " 'Data Scientist',\n",
       " 'Data Scientist',\n",
       " 'Data Scientist',\n",
       " 'Data Scientist Intern 0-1 Years Hyderabad | Full-Time I ...',\n",
       " 'Data Scientist-Lucknow']"
      ]
     },
     "execution_count": 222,
     "metadata": {},
     "output_type": "execute_result"
    }
   ],
   "source": [
    "joB_TITLE"
   ]
  },
  {
   "cell_type": "code",
   "execution_count": 223,
   "id": "b3466f40",
   "metadata": {},
   "outputs": [],
   "source": [
    "location_tags2=driver2.find_elements(By.XPATH,'//div[@class=\" jobCard_jobCard_lists_item__YxRkV jobCard_locationIcon__zrWt2\"]')\n",
    "for i in location_tags2:\n",
    "    location=i.text\n",
    "    job_LOCATION.append(location)"
   ]
  },
  {
   "cell_type": "code",
   "execution_count": 224,
   "id": "f6eed5b9",
   "metadata": {},
   "outputs": [],
   "source": [
    "joB_LOCATION=job_LOCATION[:10]"
   ]
  },
  {
   "cell_type": "code",
   "execution_count": 225,
   "id": "8df1652f",
   "metadata": {},
   "outputs": [
    {
     "data": {
      "text/plain": [
       "['Chennai\\n+1',\n",
       " 'Other Maharashtra',\n",
       " 'Other Karnataka',\n",
       " 'Delhi',\n",
       " 'Other Karnataka',\n",
       " 'Delhi',\n",
       " 'Other Telangana',\n",
       " 'Delhi',\n",
       " 'Other Telangana',\n",
       " 'Lucknow\\n+1']"
      ]
     },
     "execution_count": 225,
     "metadata": {},
     "output_type": "execute_result"
    }
   ],
   "source": [
    "joB_LOCATION"
   ]
  },
  {
   "cell_type": "code",
   "execution_count": 226,
   "id": "e1fa73de",
   "metadata": {},
   "outputs": [],
   "source": [
    "company_tags2=driver2.find_elements(By.XPATH,'//div[@class=\"jobCard_jobCard_cName__mYnow\"]')\n",
    "for i in company_tags2:\n",
    "    company=i.text\n",
    "    company_NAME.append(company)"
   ]
  },
  {
   "cell_type": "code",
   "execution_count": 227,
   "id": "8f81d45e",
   "metadata": {},
   "outputs": [],
   "source": [
    "companY_NAME=company_NAME[:10]"
   ]
  },
  {
   "cell_type": "code",
   "execution_count": 228,
   "id": "dfd70dc6",
   "metadata": {},
   "outputs": [
    {
     "data": {
      "text/plain": [
       "['nr consulting - india',\n",
       " 'apexon',\n",
       " 'gsk',\n",
       " 'itforte',\n",
       " 'ihcc',\n",
       " 'dataner',\n",
       " 'ispatial techno solutions pvt ltd.',\n",
       " 'plopdo',\n",
       " 'pago analytics',\n",
       " 'shiva hr services']"
      ]
     },
     "execution_count": 228,
     "metadata": {},
     "output_type": "execute_result"
    }
   ],
   "source": [
    "companY_NAME"
   ]
  },
  {
   "cell_type": "code",
   "execution_count": 229,
   "id": "946d15e2",
   "metadata": {},
   "outputs": [],
   "source": [
    "exp_tags2=driver2.find_elements(By.XPATH,'//div[@class=\" jobCard_jobCard_lists_item__YxRkV jobCard_jobIcon__3FB1t\"]')\n",
    "for i in exp_tags2:\n",
    "    exp=i.text\n",
    "    exp_REQUIRED.append(exp)"
   ]
  },
  {
   "cell_type": "code",
   "execution_count": 230,
   "id": "f8af6a49",
   "metadata": {},
   "outputs": [],
   "source": [
    "exP_REQUIRED=exp_REQUIRED[:10]"
   ]
  },
  {
   "cell_type": "code",
   "execution_count": 231,
   "id": "0a4312cb",
   "metadata": {},
   "outputs": [
    {
     "data": {
      "text/plain": [
       "['6 to 10 Yrs',\n",
       " '3 to 7 Yrs',\n",
       " '5 to 7 Yrs',\n",
       " '3 to 7 Yrs',\n",
       " '7 to 11 Yrs',\n",
       " '2 to 6 Yrs',\n",
       " '7 to 11 Yrs',\n",
       " '4 to 8 Yrs',\n",
       " '0 to 1 Yr',\n",
       " '3 to 7 Yrs']"
      ]
     },
     "execution_count": 231,
     "metadata": {},
     "output_type": "execute_result"
    }
   ],
   "source": [
    "exP_REQUIRED"
   ]
  },
  {
   "cell_type": "code",
   "execution_count": 232,
   "id": "575e8c96",
   "metadata": {},
   "outputs": [],
   "source": [
    "shine2=pd.DataFrame({'Job Title':joB_TITLE,'Job Location':joB_LOCATION,'Company Name':companY_NAME,'Exp Required':exP_REQUIRED})"
   ]
  },
  {
   "cell_type": "code",
   "execution_count": 233,
   "id": "f57e777d",
   "metadata": {},
   "outputs": [
    {
     "data": {
      "text/html": [
       "<div>\n",
       "<style scoped>\n",
       "    .dataframe tbody tr th:only-of-type {\n",
       "        vertical-align: middle;\n",
       "    }\n",
       "\n",
       "    .dataframe tbody tr th {\n",
       "        vertical-align: top;\n",
       "    }\n",
       "\n",
       "    .dataframe thead th {\n",
       "        text-align: right;\n",
       "    }\n",
       "</style>\n",
       "<table border=\"1\" class=\"dataframe\">\n",
       "  <thead>\n",
       "    <tr style=\"text-align: right;\">\n",
       "      <th></th>\n",
       "      <th>Job Title</th>\n",
       "      <th>Job Location</th>\n",
       "      <th>Company Name</th>\n",
       "      <th>Exp Required</th>\n",
       "    </tr>\n",
       "  </thead>\n",
       "  <tbody>\n",
       "    <tr>\n",
       "      <th>0</th>\n",
       "      <td>Data Scientist (Big Data)</td>\n",
       "      <td>Chennai\\n+1</td>\n",
       "      <td>nr consulting - india</td>\n",
       "      <td>6 to 10 Yrs</td>\n",
       "    </tr>\n",
       "    <tr>\n",
       "      <th>1</th>\n",
       "      <td>Senior Data Scientist- Data Science, Python</td>\n",
       "      <td>Other Maharashtra</td>\n",
       "      <td>apexon</td>\n",
       "      <td>3 to 7 Yrs</td>\n",
       "    </tr>\n",
       "    <tr>\n",
       "      <th>2</th>\n",
       "      <td>Engineer - Global Medical Data Scientist</td>\n",
       "      <td>Other Karnataka</td>\n",
       "      <td>gsk</td>\n",
       "      <td>5 to 7 Yrs</td>\n",
       "    </tr>\n",
       "    <tr>\n",
       "      <th>3</th>\n",
       "      <td>Data Scientist</td>\n",
       "      <td>Delhi</td>\n",
       "      <td>itforte</td>\n",
       "      <td>3 to 7 Yrs</td>\n",
       "    </tr>\n",
       "    <tr>\n",
       "      <th>4</th>\n",
       "      <td>Data scientist</td>\n",
       "      <td>Other Karnataka</td>\n",
       "      <td>ihcc</td>\n",
       "      <td>7 to 11 Yrs</td>\n",
       "    </tr>\n",
       "    <tr>\n",
       "      <th>5</th>\n",
       "      <td>Data Scientist</td>\n",
       "      <td>Delhi</td>\n",
       "      <td>dataner</td>\n",
       "      <td>2 to 6 Yrs</td>\n",
       "    </tr>\n",
       "    <tr>\n",
       "      <th>6</th>\n",
       "      <td>Data Scientist</td>\n",
       "      <td>Other Telangana</td>\n",
       "      <td>ispatial techno solutions pvt ltd.</td>\n",
       "      <td>7 to 11 Yrs</td>\n",
       "    </tr>\n",
       "    <tr>\n",
       "      <th>7</th>\n",
       "      <td>Data Scientist</td>\n",
       "      <td>Delhi</td>\n",
       "      <td>plopdo</td>\n",
       "      <td>4 to 8 Yrs</td>\n",
       "    </tr>\n",
       "    <tr>\n",
       "      <th>8</th>\n",
       "      <td>Data Scientist Intern 0-1 Years Hyderabad | Fu...</td>\n",
       "      <td>Other Telangana</td>\n",
       "      <td>pago analytics</td>\n",
       "      <td>0 to 1 Yr</td>\n",
       "    </tr>\n",
       "    <tr>\n",
       "      <th>9</th>\n",
       "      <td>Data Scientist-Lucknow</td>\n",
       "      <td>Lucknow\\n+1</td>\n",
       "      <td>shiva hr services</td>\n",
       "      <td>3 to 7 Yrs</td>\n",
       "    </tr>\n",
       "  </tbody>\n",
       "</table>\n",
       "</div>"
      ],
      "text/plain": [
       "                                           Job Title       Job Location  \\\n",
       "0                          Data Scientist (Big Data)        Chennai\\n+1   \n",
       "1        Senior Data Scientist- Data Science, Python  Other Maharashtra   \n",
       "2           Engineer - Global Medical Data Scientist    Other Karnataka   \n",
       "3                                     Data Scientist              Delhi   \n",
       "4                                     Data scientist    Other Karnataka   \n",
       "5                                     Data Scientist              Delhi   \n",
       "6                                     Data Scientist    Other Telangana   \n",
       "7                                     Data Scientist              Delhi   \n",
       "8  Data Scientist Intern 0-1 Years Hyderabad | Fu...    Other Telangana   \n",
       "9                             Data Scientist-Lucknow        Lucknow\\n+1   \n",
       "\n",
       "                         Company Name Exp Required  \n",
       "0               nr consulting - india  6 to 10 Yrs  \n",
       "1                              apexon   3 to 7 Yrs  \n",
       "2                                 gsk   5 to 7 Yrs  \n",
       "3                             itforte   3 to 7 Yrs  \n",
       "4                                ihcc  7 to 11 Yrs  \n",
       "5                             dataner   2 to 6 Yrs  \n",
       "6  ispatial techno solutions pvt ltd.  7 to 11 Yrs  \n",
       "7                              plopdo   4 to 8 Yrs  \n",
       "8                      pago analytics    0 to 1 Yr  \n",
       "9                   shiva hr services   3 to 7 Yrs  "
      ]
     },
     "execution_count": 233,
     "metadata": {},
     "output_type": "execute_result"
    }
   ],
   "source": [
    "shine2"
   ]
  },
  {
   "cell_type": "code",
   "execution_count": 236,
   "id": "90030366",
   "metadata": {},
   "outputs": [],
   "source": [
    "# question no 4\n",
    "# : Scrape data of first 100 sunglasses listings on flipkart.com. You have to scrape four attributes:\n",
    "#  Brand\n",
    "#  ProductDescription\n",
    "#  Price\n",
    "\n",
    "driverr=webdriver.Chrome()"
   ]
  },
  {
   "cell_type": "code",
   "execution_count": 237,
   "id": "171df71a",
   "metadata": {},
   "outputs": [],
   "source": [
    "driverr.get('https://www.flipkart.com/')"
   ]
  },
  {
   "cell_type": "code",
   "execution_count": 238,
   "id": "4c51631d",
   "metadata": {},
   "outputs": [],
   "source": [
    "product=driverr.find_element(By.XPATH,'/html/body/div[1]/div/div[1]/div/div/div/div/div[1]/div/div[1]/div/div[1]/div[1]/header/div[1]/div[2]/form/div/div/input')\n",
    "product.send_keys('Sun Glasses')"
   ]
  },
  {
   "cell_type": "code",
   "execution_count": 240,
   "id": "762b0f1b",
   "metadata": {},
   "outputs": [],
   "source": [
    "search1=driverr.find_element(By.XPATH,'/html/body/div[1]/div/div[1]/div/div/div/div/div[1]/div/div[1]/div/div[1]/div[1]/header/div[1]/div[2]/form/div/button')\n",
    "search1.click()"
   ]
  },
  {
   "cell_type": "code",
   "execution_count": 261,
   "id": "1dad24c6",
   "metadata": {},
   "outputs": [],
   "source": [
    "brand_name=[]\n",
    "Description=[]\n",
    "price=[]"
   ]
  },
  {
   "cell_type": "code",
   "execution_count": 252,
   "id": "8e558e14",
   "metadata": {},
   "outputs": [],
   "source": [
    "start=0\n",
    "end=2\n",
    "for page in range(start,end):\n",
    "    brand_tags=driverr.find_elements(By.XPATH,'//div[@class=\"_2WkVRV\"]')\n",
    "    for i in brand_tags:\n",
    "        name=i.text\n",
    "        brand_name.append(name)\n",
    "    next_button=driverr.find_element(By.XPATH,'//a[@class=\"_1LKTO3\"]')\n",
    "    next_button.click()\n",
    "    time.sleep(3)"
   ]
  },
  {
   "cell_type": "code",
   "execution_count": 253,
   "id": "84895b25",
   "metadata": {},
   "outputs": [],
   "source": [
    "brand_Name=brand_name[:100]"
   ]
  },
  {
   "cell_type": "code",
   "execution_count": 255,
   "id": "8ff93d5f",
   "metadata": {},
   "outputs": [
    {
     "data": {
      "text/plain": [
       "100"
      ]
     },
     "execution_count": 255,
     "metadata": {},
     "output_type": "execute_result"
    }
   ],
   "source": [
    "len(brand_Name) "
   ]
  },
  {
   "cell_type": "code",
   "execution_count": 262,
   "id": "ab51fcb3",
   "metadata": {},
   "outputs": [],
   "source": [
    "start=0\n",
    "end=3\n",
    "for page in range(start,end):\n",
    "    description_tag=driverr.find_elements(By.XPATH,'//a[@class=\"IRpwTa\"]')\n",
    "    for i in description_tag:\n",
    "        desc=i.text\n",
    "        Description.append(desc)\n",
    "    next_button=driverr.find_element(By.XPATH,'//a[@class=\"_1LKTO3\"]')\n",
    "    next_button.click()\n",
    "    time.sleep(3)"
   ]
  },
  {
   "cell_type": "code",
   "execution_count": 263,
   "id": "47155517",
   "metadata": {},
   "outputs": [
    {
     "data": {
      "text/plain": [
       "109"
      ]
     },
     "execution_count": 263,
     "metadata": {},
     "output_type": "execute_result"
    }
   ],
   "source": [
    "len(Description)"
   ]
  },
  {
   "cell_type": "code",
   "execution_count": 264,
   "id": "c255d02e",
   "metadata": {},
   "outputs": [],
   "source": [
    "description1=Description[:100]"
   ]
  },
  {
   "cell_type": "code",
   "execution_count": 265,
   "id": "aab0ec8d",
   "metadata": {},
   "outputs": [
    {
     "data": {
      "text/plain": [
       "100"
      ]
     },
     "execution_count": 265,
     "metadata": {},
     "output_type": "execute_result"
    }
   ],
   "source": [
    "len(description1)"
   ]
  },
  {
   "cell_type": "code",
   "execution_count": 266,
   "id": "755ce927",
   "metadata": {},
   "outputs": [],
   "source": [
    "start=0\n",
    "end=3\n",
    "for page in range(start,end):\n",
    "    price_tag=driverr.find_elements(By.XPATH,'//div[@class=\"_30jeq3\"]')\n",
    "    for i in price_tag:\n",
    "        cost=i.text\n",
    "        price.append(cost)\n",
    "    next_button=driverr.find_element(By.XPATH,'//a[@class=\"_1LKTO3\"]')\n",
    "    next_button.click()\n",
    "    time.sleep(3)"
   ]
  },
  {
   "cell_type": "code",
   "execution_count": 267,
   "id": "0203e189",
   "metadata": {},
   "outputs": [
    {
     "data": {
      "text/plain": [
       "120"
      ]
     },
     "execution_count": 267,
     "metadata": {},
     "output_type": "execute_result"
    }
   ],
   "source": [
    "len(price)"
   ]
  },
  {
   "cell_type": "code",
   "execution_count": 268,
   "id": "69176df3",
   "metadata": {},
   "outputs": [],
   "source": [
    "Price=price[:100]"
   ]
  },
  {
   "cell_type": "code",
   "execution_count": 269,
   "id": "7541fc3d",
   "metadata": {},
   "outputs": [
    {
     "data": {
      "text/plain": [
       "100"
      ]
     },
     "execution_count": 269,
     "metadata": {},
     "output_type": "execute_result"
    }
   ],
   "source": [
    "len(Price)"
   ]
  },
  {
   "cell_type": "code",
   "execution_count": 270,
   "id": "7098fc32",
   "metadata": {},
   "outputs": [],
   "source": [
    "flipkart_sunglasses=pd.DataFrame({'Brand':brand_Name,'Description':description1,'PRICE':Price})"
   ]
  },
  {
   "cell_type": "code",
   "execution_count": 271,
   "id": "6e68cf52",
   "metadata": {},
   "outputs": [
    {
     "data": {
      "text/html": [
       "<div>\n",
       "<style scoped>\n",
       "    .dataframe tbody tr th:only-of-type {\n",
       "        vertical-align: middle;\n",
       "    }\n",
       "\n",
       "    .dataframe tbody tr th {\n",
       "        vertical-align: top;\n",
       "    }\n",
       "\n",
       "    .dataframe thead th {\n",
       "        text-align: right;\n",
       "    }\n",
       "</style>\n",
       "<table border=\"1\" class=\"dataframe\">\n",
       "  <thead>\n",
       "    <tr style=\"text-align: right;\">\n",
       "      <th></th>\n",
       "      <th>Brand</th>\n",
       "      <th>Description</th>\n",
       "      <th>PRICE</th>\n",
       "    </tr>\n",
       "  </thead>\n",
       "  <tbody>\n",
       "    <tr>\n",
       "      <th>0</th>\n",
       "      <td>john jacobs</td>\n",
       "      <td>UV Protection Round Sunglasses (51)</td>\n",
       "      <td>₹2,399</td>\n",
       "    </tr>\n",
       "    <tr>\n",
       "      <th>1</th>\n",
       "      <td>john jacobs</td>\n",
       "      <td>Mirrored Aviator Sunglasses (58)</td>\n",
       "      <td>₹854</td>\n",
       "    </tr>\n",
       "    <tr>\n",
       "      <th>2</th>\n",
       "      <td>SRPM</td>\n",
       "      <td>UV Protection Wayfarer Sunglasses (50)</td>\n",
       "      <td>₹499</td>\n",
       "    </tr>\n",
       "    <tr>\n",
       "      <th>3</th>\n",
       "      <td>Elligator</td>\n",
       "      <td>UV Protection Wayfarer Sunglasses (53)</td>\n",
       "      <td>₹489</td>\n",
       "    </tr>\n",
       "    <tr>\n",
       "      <th>4</th>\n",
       "      <td>Fastrack</td>\n",
       "      <td>UV Protection Wayfarer Sunglasses (58)</td>\n",
       "      <td>₹909</td>\n",
       "    </tr>\n",
       "  </tbody>\n",
       "</table>\n",
       "</div>"
      ],
      "text/plain": [
       "         Brand                             Description   PRICE\n",
       "0  john jacobs     UV Protection Round Sunglasses (51)  ₹2,399\n",
       "1  john jacobs        Mirrored Aviator Sunglasses (58)    ₹854\n",
       "2         SRPM  UV Protection Wayfarer Sunglasses (50)    ₹499\n",
       "3    Elligator  UV Protection Wayfarer Sunglasses (53)    ₹489\n",
       "4     Fastrack  UV Protection Wayfarer Sunglasses (58)    ₹909"
      ]
     },
     "execution_count": 271,
     "metadata": {},
     "output_type": "execute_result"
    }
   ],
   "source": [
    "flipkart_sunglasses.head(5)"
   ]
  },
  {
   "cell_type": "code",
   "execution_count": 272,
   "id": "3018f87b",
   "metadata": {},
   "outputs": [],
   "source": [
    "# question no 5\n",
    "# Scrape 100 reviews data from flipkart.com for iphone11 phone. You have to go the link\n",
    "driverr=webdriver.Chrome()"
   ]
  },
  {
   "cell_type": "code",
   "execution_count": 273,
   "id": "72dfd8d4",
   "metadata": {},
   "outputs": [],
   "source": [
    "driverr.get('https://www.flipkart.com/apple-iphone-11-black-64-gb/product-reviews/itm4e5041ba101fd?pid=MOBFWQ6BXGJCEYNY&lid=LSTMOBFWQ6BXGJCEYNYZXSHRJ&market')"
   ]
  },
  {
   "cell_type": "code",
   "execution_count": 274,
   "id": "ee4d25c8",
   "metadata": {},
   "outputs": [],
   "source": [
    "rating=[]\n",
    "review=[]\n",
    "full_review=[]"
   ]
  },
  {
   "cell_type": "code",
   "execution_count": 275,
   "id": "2c3096e5",
   "metadata": {},
   "outputs": [],
   "source": [
    "start=0\n",
    "end=15\n",
    "for page in range(start,end):\n",
    "    rating_tag=driverr.find_elements(By.XPATH,'//div[@class=\"_3LWZlK _1BLPMq\"]')\n",
    "    for i in rating_tag:\n",
    "        rate=i.text\n",
    "        rating.append(rate)\n",
    "    next_button=driverr.find_element(By.XPATH,'//a[@class=\"_1LKTO3\"]')\n",
    "    next_button.click()\n",
    "    time.sleep(3)"
   ]
  },
  {
   "cell_type": "code",
   "execution_count": 276,
   "id": "4c3e42db",
   "metadata": {},
   "outputs": [
    {
     "data": {
      "text/plain": [
       "150"
      ]
     },
     "execution_count": 276,
     "metadata": {},
     "output_type": "execute_result"
    }
   ],
   "source": [
    "len(rating)"
   ]
  },
  {
   "cell_type": "code",
   "execution_count": 277,
   "id": "4896d7d4",
   "metadata": {},
   "outputs": [],
   "source": [
    "Rating=rating[:100]"
   ]
  },
  {
   "cell_type": "code",
   "execution_count": 278,
   "id": "d49f4110",
   "metadata": {},
   "outputs": [
    {
     "data": {
      "text/plain": [
       "100"
      ]
     },
     "execution_count": 278,
     "metadata": {},
     "output_type": "execute_result"
    }
   ],
   "source": [
    "len(Rating)"
   ]
  },
  {
   "cell_type": "code",
   "execution_count": 279,
   "id": "e231d9ca",
   "metadata": {},
   "outputs": [],
   "source": [
    "start=0\n",
    "end=15\n",
    "for page in range(start,end):\n",
    "    review_tag=driverr.find_elements(By.XPATH,'//p[@class=\"_2-N8zT\"]')\n",
    "    for i in review_tag:\n",
    "        review1=i.text\n",
    "        review.append(review1)\n",
    "    next_button=driverr.find_element(By.XPATH,'//a[@class=\"_1LKTO3\"]')\n",
    "    next_button.click()\n",
    "    time.sleep(3)"
   ]
  },
  {
   "cell_type": "code",
   "execution_count": 280,
   "id": "b2ef8159",
   "metadata": {},
   "outputs": [
    {
     "data": {
      "text/plain": [
       "150"
      ]
     },
     "execution_count": 280,
     "metadata": {},
     "output_type": "execute_result"
    }
   ],
   "source": [
    "len(review)"
   ]
  },
  {
   "cell_type": "code",
   "execution_count": 281,
   "id": "20d5cf9d",
   "metadata": {},
   "outputs": [],
   "source": [
    "Review=review[:100]"
   ]
  },
  {
   "cell_type": "code",
   "execution_count": 282,
   "id": "ee061915",
   "metadata": {},
   "outputs": [
    {
     "data": {
      "text/plain": [
       "100"
      ]
     },
     "execution_count": 282,
     "metadata": {},
     "output_type": "execute_result"
    }
   ],
   "source": [
    "len(Review)"
   ]
  },
  {
   "cell_type": "code",
   "execution_count": 283,
   "id": "1e206f60",
   "metadata": {},
   "outputs": [],
   "source": [
    "start=0\n",
    "end=15\n",
    "for page in range(start,end):\n",
    "    full_review_tag=driverr.find_elements(By.XPATH,'//div[@class=\"t-ZTKy\"]')\n",
    "    for i in full_review_tag:\n",
    "        review2=i.text\n",
    "        full_review.append(review2)\n",
    "    next_button=driverr.find_element(By.XPATH,'//a[@class=\"_1LKTO3\"]')\n",
    "    next_button.click()\n",
    "    time.sleep(3)"
   ]
  },
  {
   "cell_type": "code",
   "execution_count": 284,
   "id": "64fe0ee0",
   "metadata": {},
   "outputs": [
    {
     "data": {
      "text/plain": [
       "150"
      ]
     },
     "execution_count": 284,
     "metadata": {},
     "output_type": "execute_result"
    }
   ],
   "source": [
    "len(full_review)"
   ]
  },
  {
   "cell_type": "code",
   "execution_count": 285,
   "id": "34db45f1",
   "metadata": {},
   "outputs": [],
   "source": [
    "Full_review=full_review[:100]"
   ]
  },
  {
   "cell_type": "code",
   "execution_count": 286,
   "id": "d8c9614e",
   "metadata": {},
   "outputs": [
    {
     "data": {
      "text/plain": [
       "100"
      ]
     },
     "execution_count": 286,
     "metadata": {},
     "output_type": "execute_result"
    }
   ],
   "source": [
    "len(Full_review)"
   ]
  },
  {
   "cell_type": "code",
   "execution_count": 287,
   "id": "98a6ec35",
   "metadata": {},
   "outputs": [],
   "source": [
    "apple_iphone=pd.DataFrame({'Rating':Rating,'REVIEW':Review,'Full Review':Full_review})"
   ]
  },
  {
   "cell_type": "code",
   "execution_count": 288,
   "id": "e4ed9cc1",
   "metadata": {},
   "outputs": [
    {
     "data": {
      "text/html": [
       "<div>\n",
       "<style scoped>\n",
       "    .dataframe tbody tr th:only-of-type {\n",
       "        vertical-align: middle;\n",
       "    }\n",
       "\n",
       "    .dataframe tbody tr th {\n",
       "        vertical-align: top;\n",
       "    }\n",
       "\n",
       "    .dataframe thead th {\n",
       "        text-align: right;\n",
       "    }\n",
       "</style>\n",
       "<table border=\"1\" class=\"dataframe\">\n",
       "  <thead>\n",
       "    <tr style=\"text-align: right;\">\n",
       "      <th></th>\n",
       "      <th>Rating</th>\n",
       "      <th>REVIEW</th>\n",
       "      <th>Full Review</th>\n",
       "    </tr>\n",
       "  </thead>\n",
       "  <tbody>\n",
       "    <tr>\n",
       "      <th>0</th>\n",
       "      <td>5</td>\n",
       "      <td>Just wow!</td>\n",
       "      <td>Photos super</td>\n",
       "    </tr>\n",
       "    <tr>\n",
       "      <th>1</th>\n",
       "      <td>5</td>\n",
       "      <td>Terrific purchase</td>\n",
       "      <td>Camera is awesome\\nBest battery backup\\nA perf...</td>\n",
       "    </tr>\n",
       "    <tr>\n",
       "      <th>2</th>\n",
       "      <td>5</td>\n",
       "      <td>Must buy!</td>\n",
       "      <td>Good Camera</td>\n",
       "    </tr>\n",
       "    <tr>\n",
       "      <th>3</th>\n",
       "      <td>5</td>\n",
       "      <td>Perfect product!</td>\n",
       "      <td>Feeling awesome after getting the delivery of ...</td>\n",
       "    </tr>\n",
       "    <tr>\n",
       "      <th>4</th>\n",
       "      <td>5</td>\n",
       "      <td>Must buy!</td>\n",
       "      <td>This is amazing at all</td>\n",
       "    </tr>\n",
       "  </tbody>\n",
       "</table>\n",
       "</div>"
      ],
      "text/plain": [
       "  Rating             REVIEW                                        Full Review\n",
       "0      5          Just wow!                                       Photos super\n",
       "1      5  Terrific purchase  Camera is awesome\\nBest battery backup\\nA perf...\n",
       "2      5          Must buy!                                        Good Camera\n",
       "3      5   Perfect product!  Feeling awesome after getting the delivery of ...\n",
       "4      5          Must buy!                             This is amazing at all"
      ]
     },
     "execution_count": 288,
     "metadata": {},
     "output_type": "execute_result"
    }
   ],
   "source": [
    "apple_iphone.head(5)"
   ]
  },
  {
   "cell_type": "code",
   "execution_count": 289,
   "id": "437f1531",
   "metadata": {},
   "outputs": [
    {
     "data": {
      "text/plain": [
       "(100, 3)"
      ]
     },
     "execution_count": 289,
     "metadata": {},
     "output_type": "execute_result"
    }
   ],
   "source": [
    "apple_iphone.shape"
   ]
  },
  {
   "cell_type": "code",
   "execution_count": 292,
   "id": "7c4719d3",
   "metadata": {},
   "outputs": [],
   "source": [
    "# Question no 6\n",
    "# Scrape data forfirst 100 sneakers you find whenyou visit flipkart.com and search for “sneakers” inthe\n",
    "search field\n",
    "driver3=webdriver.Chrome()"
   ]
  },
  {
   "cell_type": "code",
   "execution_count": 293,
   "id": "63cc3c9a",
   "metadata": {},
   "outputs": [],
   "source": [
    "driver3.get('https://www.flipkart.com/')"
   ]
  },
  {
   "cell_type": "code",
   "execution_count": 294,
   "id": "3b899ac7",
   "metadata": {},
   "outputs": [],
   "source": [
    "product1=driver3.find_element(By.XPATH,'/html/body/div[1]/div/div[1]/div/div/div/div/div[1]/div/div[1]/div/div[1]/div[1]/header/div[1]/div[2]/form/div/div/input')\n",
    "product1.send_keys('Sneaker')"
   ]
  },
  {
   "cell_type": "code",
   "execution_count": 297,
   "id": "aaf15c83",
   "metadata": {},
   "outputs": [],
   "source": [
    "search2=driver3.find_element(By.XPATH,'/html/body/div[1]/div/div[1]/div/div/div/div/div[1]/div/div[1]/div/div[1]/div[1]/header/div[1]/div[2]/form/div/button')\n",
    "search2.click()"
   ]
  },
  {
   "cell_type": "code",
   "execution_count": 298,
   "id": "8bb4ed58",
   "metadata": {},
   "outputs": [],
   "source": [
    "Brand1=[]\n",
    "Description=[]\n",
    "Price=[]"
   ]
  },
  {
   "cell_type": "code",
   "execution_count": 299,
   "id": "01ffd609",
   "metadata": {},
   "outputs": [],
   "source": [
    "start=0\n",
    "end=12\n",
    "for page in range(start,end):\n",
    "    Brand_tag=driver3.find_elements(By.XPATH,'//div[@class=\"_2WkVRV\"]')\n",
    "    for i in Brand_tag:\n",
    "        brand=i.text\n",
    "        Brand1.append(brand)\n",
    "    next_button=driver3.find_element(By.XPATH,'//a[@class=\"_1LKTO3\"]')\n",
    "    next_button.click()\n",
    "    time.sleep(3)"
   ]
  },
  {
   "cell_type": "code",
   "execution_count": 300,
   "id": "8dc7fa7d",
   "metadata": {},
   "outputs": [
    {
     "data": {
      "text/plain": [
       "480"
      ]
     },
     "execution_count": 300,
     "metadata": {},
     "output_type": "execute_result"
    }
   ],
   "source": [
    "len(Brand1)"
   ]
  },
  {
   "cell_type": "code",
   "execution_count": 301,
   "id": "7971f0bb",
   "metadata": {},
   "outputs": [],
   "source": [
    "brand=Brand1[:100]"
   ]
  },
  {
   "cell_type": "code",
   "execution_count": 302,
   "id": "c662a9d7",
   "metadata": {},
   "outputs": [
    {
     "data": {
      "text/plain": [
       "100"
      ]
     },
     "execution_count": 302,
     "metadata": {},
     "output_type": "execute_result"
    }
   ],
   "source": [
    "len(brand)"
   ]
  },
  {
   "cell_type": "code",
   "execution_count": 303,
   "id": "82a7cb42",
   "metadata": {},
   "outputs": [],
   "source": [
    "start=0\n",
    "end=4\n",
    "for page in range(start,end):\n",
    "    descript_tag=driver3.find_elements(By.XPATH,'//a[@class=\"IRpwTa\"]')\n",
    "    for i in descript_tag:\n",
    "        descript=i.text\n",
    "        Description.append(descript)\n",
    "    next_button=driver3.find_element(By.XPATH,'//a[@class=\"_1LKTO3\"]')\n",
    "    next_button.click()\n",
    "    time.sleep(3)"
   ]
  },
  {
   "cell_type": "code",
   "execution_count": 304,
   "id": "fbc8c849",
   "metadata": {},
   "outputs": [
    {
     "data": {
      "text/plain": [
       "145"
      ]
     },
     "execution_count": 304,
     "metadata": {},
     "output_type": "execute_result"
    }
   ],
   "source": [
    "len(Description)"
   ]
  },
  {
   "cell_type": "code",
   "execution_count": 305,
   "id": "93d9b95c",
   "metadata": {},
   "outputs": [],
   "source": [
    "description=Description[:100]"
   ]
  },
  {
   "cell_type": "code",
   "execution_count": 306,
   "id": "2f3ab8ba",
   "metadata": {},
   "outputs": [
    {
     "data": {
      "text/plain": [
       "100"
      ]
     },
     "execution_count": 306,
     "metadata": {},
     "output_type": "execute_result"
    }
   ],
   "source": [
    "len(description)"
   ]
  },
  {
   "cell_type": "code",
   "execution_count": 307,
   "id": "73361e3e",
   "metadata": {},
   "outputs": [],
   "source": [
    "start=0\n",
    "end=4\n",
    "for page in range(start,end):\n",
    "    price_tag=driver3.find_elements(By.XPATH,'//div[@class=\"_30jeq3\"]')\n",
    "    for i in price_tag:\n",
    "        price=i.text\n",
    "        Price.append(price)\n",
    "    next_button=driver3.find_element(By.XPATH,'//a[@class=\"_1LKTO3\"]')\n",
    "    next_button.click()\n",
    "    time.sleep(3)"
   ]
  },
  {
   "cell_type": "code",
   "execution_count": 308,
   "id": "9532183b",
   "metadata": {},
   "outputs": [
    {
     "data": {
      "text/plain": [
       "160"
      ]
     },
     "execution_count": 308,
     "metadata": {},
     "output_type": "execute_result"
    }
   ],
   "source": [
    "len(Price)"
   ]
  },
  {
   "cell_type": "code",
   "execution_count": 309,
   "id": "fa19d2b2",
   "metadata": {},
   "outputs": [],
   "source": [
    "price=Price[:100]"
   ]
  },
  {
   "cell_type": "code",
   "execution_count": 310,
   "id": "fbda076a",
   "metadata": {},
   "outputs": [
    {
     "data": {
      "text/plain": [
       "100"
      ]
     },
     "execution_count": 310,
     "metadata": {},
     "output_type": "execute_result"
    }
   ],
   "source": [
    "len(price)"
   ]
  },
  {
   "cell_type": "code",
   "execution_count": 311,
   "id": "8d68a8db",
   "metadata": {},
   "outputs": [],
   "source": [
    "flipkart_sneaker=pd.DataFrame({'BRAND':brand,'DESCRIPTION':description,'PRICE':price})"
   ]
  },
  {
   "cell_type": "code",
   "execution_count": 312,
   "id": "7e4c620d",
   "metadata": {},
   "outputs": [
    {
     "data": {
      "text/plain": [
       "100"
      ]
     },
     "execution_count": 312,
     "metadata": {},
     "output_type": "execute_result"
    }
   ],
   "source": [
    "len(flipkart_sneaker)"
   ]
  },
  {
   "cell_type": "code",
   "execution_count": 313,
   "id": "eb39ac58",
   "metadata": {},
   "outputs": [
    {
     "data": {
      "text/html": [
       "<div>\n",
       "<style scoped>\n",
       "    .dataframe tbody tr th:only-of-type {\n",
       "        vertical-align: middle;\n",
       "    }\n",
       "\n",
       "    .dataframe tbody tr th {\n",
       "        vertical-align: top;\n",
       "    }\n",
       "\n",
       "    .dataframe thead th {\n",
       "        text-align: right;\n",
       "    }\n",
       "</style>\n",
       "<table border=\"1\" class=\"dataframe\">\n",
       "  <thead>\n",
       "    <tr style=\"text-align: right;\">\n",
       "      <th></th>\n",
       "      <th>BRAND</th>\n",
       "      <th>DESCRIPTION</th>\n",
       "      <th>PRICE</th>\n",
       "    </tr>\n",
       "  </thead>\n",
       "  <tbody>\n",
       "    <tr>\n",
       "      <th>0</th>\n",
       "      <td>BRUTON</td>\n",
       "      <td>Combo Pack Of 2 Casual Shoes Sneakers For Men</td>\n",
       "      <td>₹479</td>\n",
       "    </tr>\n",
       "    <tr>\n",
       "      <th>1</th>\n",
       "      <td>BRUTON</td>\n",
       "      <td>Combo pack of 2 Trendy Men’s Casual Shoes Snea...</td>\n",
       "      <td>₹477</td>\n",
       "    </tr>\n",
       "    <tr>\n",
       "      <th>2</th>\n",
       "      <td>Deals4you</td>\n",
       "      <td>Sneakers For Women</td>\n",
       "      <td>₹398</td>\n",
       "    </tr>\n",
       "    <tr>\n",
       "      <th>3</th>\n",
       "      <td>URBANBOX</td>\n",
       "      <td>Trending Stylish Casual Outdoor Sneakers Shoes...</td>\n",
       "      <td>₹299</td>\n",
       "    </tr>\n",
       "    <tr>\n",
       "      <th>4</th>\n",
       "      <td>aadi</td>\n",
       "      <td>Mesh| Lightweight| Premiun| Comfort| Summer Te...</td>\n",
       "      <td>₹299</td>\n",
       "    </tr>\n",
       "  </tbody>\n",
       "</table>\n",
       "</div>"
      ],
      "text/plain": [
       "       BRAND                                        DESCRIPTION PRICE\n",
       "0     BRUTON      Combo Pack Of 2 Casual Shoes Sneakers For Men  ₹479\n",
       "1     BRUTON  Combo pack of 2 Trendy Men’s Casual Shoes Snea...  ₹477\n",
       "2  Deals4you                                 Sneakers For Women  ₹398\n",
       "3   URBANBOX  Trending Stylish Casual Outdoor Sneakers Shoes...  ₹299\n",
       "4       aadi  Mesh| Lightweight| Premiun| Comfort| Summer Te...  ₹299"
      ]
     },
     "execution_count": 313,
     "metadata": {},
     "output_type": "execute_result"
    }
   ],
   "source": [
    "flipkart_sneaker.head(5)"
   ]
  },
  {
   "cell_type": "code",
   "execution_count": 371,
   "id": "31d7ee15",
   "metadata": {},
   "outputs": [],
   "source": [
    "# QUESTION NO 7\n",
    "# Go to webpage https://www.amazon.in/ Enter “Laptop” in the search field and then click the search icon. Then\n",
    "# set CPU Type filter to “Intel Core i7” \n",
    "driver4=webdriver.Chrome()"
   ]
  },
  {
   "cell_type": "code",
   "execution_count": 372,
   "id": "90b86112",
   "metadata": {},
   "outputs": [],
   "source": [
    "driver4.get('https://www.amazon.in/')"
   ]
  },
  {
   "cell_type": "code",
   "execution_count": 373,
   "id": "da8815b6",
   "metadata": {},
   "outputs": [],
   "source": [
    "product2=driver4.find_element(By.XPATH,'/html/body/div[1]/header/div/div[1]/div[2]/div/form/div[2]/div[1]/input')\n",
    "product2.send_keys('laptop')"
   ]
  },
  {
   "cell_type": "code",
   "execution_count": 374,
   "id": "90306e1c",
   "metadata": {},
   "outputs": [],
   "source": [
    "search3=driver4.find_element(By.XPATH,'/html/body/div[1]/header/div/div[1]/div[2]/div/form/div[3]/div/span/input')\n",
    "search3.click()\n"
   ]
  },
  {
   "cell_type": "code",
   "execution_count": 376,
   "id": "c149728c",
   "metadata": {},
   "outputs": [],
   "source": [
    "click1=driver4.find_element(By.XPATH,'/html/body/div[1]/div[1]/div[1]/div[2]/div/div[3]/span/div[1]/div/div/div[5]/ul[6]/span[10]/li/span/a/div/label/i')\n",
    "click1.click()"
   ]
  },
  {
   "cell_type": "code",
   "execution_count": 357,
   "id": "925c8015",
   "metadata": {},
   "outputs": [],
   "source": [
    "title=[]\n",
    "rating=[]\n",
    "price=[]"
   ]
  },
  {
   "cell_type": "code",
   "execution_count": 358,
   "id": "a8ad5c59",
   "metadata": {},
   "outputs": [],
   "source": [
    "title_tag=driver4.find_elements(By.XPATH,'//span[@class=\"a-size-medium a-color-base a-text-normal\"]')\n",
    "for i in title_tag:\n",
    "    Title=i.text\n",
    "    title.append(Title)"
   ]
  },
  {
   "cell_type": "code",
   "execution_count": 359,
   "id": "d7e031be",
   "metadata": {},
   "outputs": [
    {
     "data": {
      "text/plain": [
       "['Lenovo ThinkPad X1 Carbon (2021) Intel Core i7 11th Gen 14 inches WUXGA IPS Thin and Light Laptop (16GB RAM/1TB SSD/Windows 10 Professional/FPR/Black/1.133Kg), 20XWS03T00',\n",
       " 'ASUS TUF Gaming F15, 15.6\"(39.62 cms) FHD 144Hz, Intel Core i7-11800H 11th Gen, 4GB NVIDIA GeForce RTX 3050 Ti, Gaming Laptop (16GB/1TB SSD/Win 11/MSO/90WHrs Battery/Black/2.30 Kg), FX506HE-HN385WS',\n",
       " 'MSI Modern 14, Intel 12th Gen. i7-1255U, 36CM FHD 60Hz Laptop (16GB/512GB NVMe SSD/Windows 11 Home/Intel Iris Xe Graphics/Classic Black/1.4Kg), C12M-459IN',\n",
       " '(Refurbished) ASUS Vivobook 15, IntelCore i7-12650H 12th Gen, 15.6\" (39.62 cm) FHD, Thin and Light Laptop (16 GB RAM/512GB SSD/Win11/Office 2021/Backlit/42WHr /Silver/1.75), X1502ZA-EJ742WS',\n",
       " 'HP Pavilion X360 11th Gen Intel Core i7 14\" (35.6cm) FHD Multitouch 2in1 Laptop (16Gb Ram/512Gb Ssd/B&O/Win 11 Home/FPR/Backlit Kb/Intel Iris Xe Graphics/Pen/Alexa/Ms Office/Silver/1.52Kg)14-Dy1047Tu',\n",
       " 'MSI GF63 Thin, Intel Core i7-11800H, 40CM FHD 144Hz Gaming Laptop (8GBx2/512GB NVMe SSD/Windows 11 Home/Nvidia GeForce RTX 3050, GDDR6 4GB/Black/1.8Kg), 11UC-1293IN',\n",
       " 'Lenovo IdeaPad Slim 3 Intel Core i7 11th Gen 15.6\" (39.62cm) FHD Thin and Light Laptop (16GB/512GB SSD/Win 11/Office 2021/1 Year Warranty/Arctic Grey/1.65Kg), 82H803LPIN',\n",
       " 'Samsung Galaxy Book3 Core i7 13th Gen 1355U - (16 GB/512 GB SSD/Windows 11 Home) Galaxy Book3 Thin and Light Laptop  (15.6 Inch, Graphite, 1.58 Kg, with MS Office)',\n",
       " 'Dell Inspiron 5430 Laptop, Intel Core i7-1360P Processor/ 16GB/ 1TB SSD/14.0\" (35.56cm) FHD+ WVA AG with Comfortview 250 nits/Backlit KB + FPR/Win 11 + MSO\\'21/15 Month McAfee/Platinum Silver/ 1.59kg',\n",
       " 'Acer Aspire 5 Gaming Laptop Intel Core i7 13th Gen (Windows 11 Home/16 GB/512 GB SSD/4 GB Graphics/NVIDIA GeForce RTX 2050) A514-56GM, 14.0\" WUXGA Display, 1.56 KG',\n",
       " 'Acer Aspire Lite 11th Gen Intel Core i7-1165G7 Premium Metal Laptop (Windows 11 Home/16GB RAM/1TB SSD) AL15-51, 39.62cm (15.6\") Full HD Display, Metal Body, Steel Gray, 1.59 Kg',\n",
       " 'HP Victus Gaming Laptop, 12th Gen Intel Core i7-12650H, NVIDIA RTX 3050 GPU, 15.6-inch (39.6 cm), 75W TGP , FHD, IPS, 144Hz, 9 ms Response time, 16GB DDR4, 512GB SSD (MSO, Blue, 2.29 kg), fa0188TX',\n",
       " 'Acer Aspire Lite Premium Metal Laptop 11th Gen Intel Core Ci7-1165G7 Thin and Light Laptop (Windows 11 Home/16GB RAM/1TB SSD/MS Office) AL15-51, 39.62cm (15.6\") Full HD Display, Steel Gray, 1.59 KG',\n",
       " '(Refurbished) ASUS Vivobook 15, Intel Core i7-12650H 12th Gen, 15.6\" (39.62 cm) FHD, Thin and Light Laptop (16GB/512GB/Win11/Office 2021/Blue/1.7 kg), X1502ZA-EJ741WS',\n",
       " '(Refurbished) Acer Predator Helios Neo 16 Gaming Laptop 13th Gen Intel Core i7 Processor (16 GB/1 TB SSD/Windows 11 Home/NVIDIA ® GeForce RTX Â„¢ 4050) PHN16-71, (16 \") WUXGA Display',\n",
       " 'ASUS Vivobook 15, IntelCore i7-12650H 12th Gen, 15.6\" (39.62 cm) FHD, Thin and Light Laptop (16 GB RAM/512GB SSD/Win11/Office 2021/Backlit/42WHr /Silver/1.75), X1502ZA-EJ742WS',\n",
       " 'Acer Predator Helios Neo 16 Gaming Laptop 13th Gen Intel Core i7 Processor (16 GB/1 TB SSD/Windows 11 Home/NVIDIA ® GeForce RTX \\x84¢ 4060) PHN16-71, (16\") WQXGA Display',\n",
       " 'HP Laptop 15s, 12th Gen Intel Core i7-1255U, 15.6-inch (39.6 cm), FHD, 16GB DDR4, 512GB SSD, Intel Iris Xe Graphics, Backlit KB, Thin & Light (Win 11, MSO 2021, Silver, 1.69 kg), fq5190TU',\n",
       " '(Refurbished) MSI Modern 14, Intel 12th Gen. i7-1255U, 36CM FHD 60Hz Laptop (16GB/512GB NVMe SSD/Windows 11 Home/Intel Iris Xe Graphics/Classic Black/1.4Kg), C12M-459IN',\n",
       " 'HP Pavilion 15, 13th Gen Intel Core i7-1360P, 15.6-inch (39.6 cm), FHD, 16GB DDR4, 1TB SSD, Intel Iris Xᵉ Graphics, FPR, Backlit KB, Audio by B&O (Win 11, MSO 2021, Silver, 1.74 kg), eg3036TU',\n",
       " '(Refurbished) Acer Aspire Lite Premium Metal Laptop 11th Gen Intel Core Ci7-1165G7 Thin and Light Laptop (Windows 11 Home/16GB RAM/1TB SSD/MS Office) AL15-51, 39.62cm (15.6\") Full HD Display, Steel Gray, 1.59 KG',\n",
       " 'ASUS TUF Gaming F15 (2023) 90WHr Battery, Intel Core i7-12700H 12th Gen, 15.6\" FHD 144Hz, 8GB RTX 4060, Gaming Laptop (16GB/512GB SSD/Windows 11//1-Zone RGB/Gray/2.20 Kg), FX507ZV-LP094W',\n",
       " 'HP Pavilion 11th Gen Intel Core i7 15.6 inches FHD Gaming Laptop (16GB RAM/512GB SSD/RTX 3050 4GB Graphics/144 Hz/B&O/Windows 10/MS Office/2.23Kg), 15-dk2076TX, Black',\n",
       " 'MSI Thin GF63, Intel 12th Gen. i5-12450H, 40CM FHD 144Hz Gaming Laptop (16GB/512GB NVMe SSD/Windows 11 Home/Nvidia GeForce RTX 4050, GDDR6 6GB/Black/1.86Kg), A12VE-071IN']"
      ]
     },
     "execution_count": 359,
     "metadata": {},
     "output_type": "execute_result"
    }
   ],
   "source": [
    "title"
   ]
  },
  {
   "cell_type": "code",
   "execution_count": 325,
   "id": "4887dc8d",
   "metadata": {},
   "outputs": [],
   "source": [
    "TITLE=title[1:11]"
   ]
  },
  {
   "cell_type": "code",
   "execution_count": 326,
   "id": "f884daa4",
   "metadata": {},
   "outputs": [
    {
     "data": {
      "text/plain": [
       "['ASUS TUF Gaming F15, 15.6\"(39.62 cms) FHD 144Hz, Intel Core i7-11800H 11th Gen, 4GB NVIDIA GeForce RTX 3050 Ti, Gaming Laptop (16GB/1TB SSD/Win 11/MSO/90WHrs Battery/Black/2.30 Kg), FX506HE-HN385WS',\n",
       " 'MSI Modern 14, Intel 12th Gen. i7-1255U, 36CM FHD 60Hz Laptop (16GB/512GB NVMe SSD/Windows 11 Home/Intel Iris Xe Graphics/Classic Black/1.4Kg), C12M-459IN',\n",
       " '(Refurbished) ASUS Vivobook 15, IntelCore i7-12650H 12th Gen, 15.6\" (39.62 cm) FHD, Thin and Light Laptop (16 GB RAM/512GB SSD/Win11/Office 2021/Backlit/42WHr /Silver/1.75), X1502ZA-EJ742WS',\n",
       " 'MSI GF63 Thin, Intel Core i7-11800H, 40CM FHD 144Hz Gaming Laptop (8GBx2/512GB NVMe SSD/Windows 11 Home/Nvidia GeForce RTX 3050, GDDR6 4GB/Black/1.8Kg), 11UC-1293IN',\n",
       " 'HP Pavilion X360 11th Gen Intel Core i7 14\" (35.6cm) FHD Multitouch 2in1 Laptop (16Gb Ram/512Gb Ssd/B&O/Win 11 Home/FPR/Backlit Kb/Intel Iris Xe Graphics/Pen/Alexa/Ms Office/Silver/1.52Kg)14-Dy1047Tu',\n",
       " 'Acer Aspire 5 Gaming Laptop Intel Core i7 13th Gen (Windows 11 Home/16 GB/512 GB SSD/4 GB Graphics/NVIDIA GeForce RTX 2050) A514-56GM, 14.0\" WUXGA Display, 1.56 KG',\n",
       " 'Lenovo IdeaPad Slim 3 Intel Core i7 11th Gen 15.6\" (39.62cm) FHD Thin and Light Laptop (16GB/512GB SSD/Win 11/Office 2021/1 Year Warranty/Arctic Grey/1.65Kg), 82H803LPIN',\n",
       " 'Acer Aspire Lite 11th Gen Intel Core i7-1165G7 Premium Metal Laptop (Windows 11 Home/16GB RAM/1TB SSD) AL15-51, 39.62cm (15.6\") Full HD Display, Metal Body, Steel Gray, 1.59 Kg',\n",
       " 'HP Victus Gaming Laptop, 12th Gen Intel Core i7-12650H, NVIDIA RTX 3050 GPU, 15.6-inch (39.6 cm), 75W TGP , FHD, IPS, 144Hz, 9 ms Response time, 16GB DDR4, 512GB SSD (MSO, Blue, 2.29 kg), fa0188TX',\n",
       " 'Dell Inspiron 5430 Laptop, Intel Core i7-1360P Processor/ 16GB/ 1TB SSD/14.0\" (35.56cm) FHD+ WVA AG with Comfortview 250 nits/Backlit KB + FPR/Win 11 + MSO\\'21/15 Month McAfee/Platinum Silver/ 1.59kg']"
      ]
     },
     "execution_count": 326,
     "metadata": {},
     "output_type": "execute_result"
    }
   ],
   "source": [
    "TITLE"
   ]
  },
  {
   "cell_type": "code",
   "execution_count": 383,
   "id": "8a215942",
   "metadata": {},
   "outputs": [],
   "source": [
    "rating_tag=driver4.find_elements(By.XPATH,'//span[@class=\"a-icon-alt\"]')\n",
    "for i in rating_tag:\n",
    "    Rating=i.text\n",
    "    rating.append(Rating)"
   ]
  },
  {
   "cell_type": "code",
   "execution_count": 386,
   "id": "495a63f1",
   "metadata": {},
   "outputs": [],
   "source": [
    "RATING=rating[1:11]"
   ]
  },
  {
   "cell_type": "code",
   "execution_count": 377,
   "id": "e89e2657",
   "metadata": {},
   "outputs": [],
   "source": [
    "price_tag=driver4.find_elements(By.XPATH,'//span[@class=\"a-price-whole\"]')\n",
    "for i in price_tag:\n",
    "    Price=i.text\n",
    "    price.append(Price)"
   ]
  },
  {
   "cell_type": "code",
   "execution_count": 378,
   "id": "15848680",
   "metadata": {},
   "outputs": [
    {
     "data": {
      "text/plain": [
       "['Looking for Laptops? Shop from a wide selection of laptops from HP, Dell, Lenovo & Apple.',\n",
       " '2,48,990',\n",
       " '49,990',\n",
       " '75,990',\n",
       " '51,841',\n",
       " '85,990',\n",
       " '59,990',\n",
       " '89,990',\n",
       " '86,490',\n",
       " '74,990',\n",
       " '49,980',\n",
       " '64,990',\n",
       " '86,490',\n",
       " '49,990',\n",
       " '51,841',\n",
       " '97,741',\n",
       " '60,990',\n",
       " '1,29,900',\n",
       " '67,800',\n",
       " '42,491',\n",
       " '89,990',\n",
       " '42,491',\n",
       " '1,08,000',\n",
       " '80,500',\n",
       " '77,990']"
      ]
     },
     "execution_count": 378,
     "metadata": {},
     "output_type": "execute_result"
    }
   ],
   "source": [
    "price"
   ]
  },
  {
   "cell_type": "code",
   "execution_count": 379,
   "id": "4fc07ca1",
   "metadata": {},
   "outputs": [],
   "source": [
    "PRICE=price[1:11]"
   ]
  },
  {
   "cell_type": "code",
   "execution_count": 380,
   "id": "f9c1118f",
   "metadata": {},
   "outputs": [
    {
     "data": {
      "text/plain": [
       "['2,48,990',\n",
       " '49,990',\n",
       " '75,990',\n",
       " '51,841',\n",
       " '85,990',\n",
       " '59,990',\n",
       " '89,990',\n",
       " '86,490',\n",
       " '74,990',\n",
       " '49,980']"
      ]
     },
     "execution_count": 380,
     "metadata": {},
     "output_type": "execute_result"
    }
   ],
   "source": [
    "PRICE"
   ]
  },
  {
   "cell_type": "code",
   "execution_count": 387,
   "id": "6fae0c33",
   "metadata": {},
   "outputs": [],
   "source": [
    "amazon_laptop=pd.DataFrame({'Title':TITLE,'Rating':RATING,'Price':PRICE})"
   ]
  },
  {
   "cell_type": "code",
   "execution_count": 388,
   "id": "97e820ef",
   "metadata": {},
   "outputs": [
    {
     "data": {
      "text/html": [
       "<div>\n",
       "<style scoped>\n",
       "    .dataframe tbody tr th:only-of-type {\n",
       "        vertical-align: middle;\n",
       "    }\n",
       "\n",
       "    .dataframe tbody tr th {\n",
       "        vertical-align: top;\n",
       "    }\n",
       "\n",
       "    .dataframe thead th {\n",
       "        text-align: right;\n",
       "    }\n",
       "</style>\n",
       "<table border=\"1\" class=\"dataframe\">\n",
       "  <thead>\n",
       "    <tr style=\"text-align: right;\">\n",
       "      <th></th>\n",
       "      <th>Title</th>\n",
       "      <th>Rating</th>\n",
       "      <th>Price</th>\n",
       "    </tr>\n",
       "  </thead>\n",
       "  <tbody>\n",
       "    <tr>\n",
       "      <th>0</th>\n",
       "      <td>ASUS TUF Gaming F15, 15.6\"(39.62 cms) FHD 144H...</td>\n",
       "      <td></td>\n",
       "      <td>2,48,990</td>\n",
       "    </tr>\n",
       "    <tr>\n",
       "      <th>1</th>\n",
       "      <td>MSI Modern 14, Intel 12th Gen. i7-1255U, 36CM ...</td>\n",
       "      <td></td>\n",
       "      <td>49,990</td>\n",
       "    </tr>\n",
       "    <tr>\n",
       "      <th>2</th>\n",
       "      <td>(Refurbished) ASUS Vivobook 15, IntelCore i7-1...</td>\n",
       "      <td>Alexa Built-in</td>\n",
       "      <td>75,990</td>\n",
       "    </tr>\n",
       "    <tr>\n",
       "      <th>3</th>\n",
       "      <td>MSI GF63 Thin, Intel Core i7-11800H, 40CM FHD ...</td>\n",
       "      <td></td>\n",
       "      <td>51,841</td>\n",
       "    </tr>\n",
       "    <tr>\n",
       "      <th>4</th>\n",
       "      <td>HP Pavilion X360 11th Gen Intel Core i7 14\" (3...</td>\n",
       "      <td></td>\n",
       "      <td>85,990</td>\n",
       "    </tr>\n",
       "    <tr>\n",
       "      <th>5</th>\n",
       "      <td>Acer Aspire 5 Gaming Laptop Intel Core i7 13th...</td>\n",
       "      <td></td>\n",
       "      <td>59,990</td>\n",
       "    </tr>\n",
       "    <tr>\n",
       "      <th>6</th>\n",
       "      <td>Lenovo IdeaPad Slim 3 Intel Core i7 11th Gen 1...</td>\n",
       "      <td></td>\n",
       "      <td>89,990</td>\n",
       "    </tr>\n",
       "    <tr>\n",
       "      <th>7</th>\n",
       "      <td>Acer Aspire Lite 11th Gen Intel Core i7-1165G7...</td>\n",
       "      <td></td>\n",
       "      <td>86,490</td>\n",
       "    </tr>\n",
       "    <tr>\n",
       "      <th>8</th>\n",
       "      <td>HP Victus Gaming Laptop, 12th Gen Intel Core i...</td>\n",
       "      <td></td>\n",
       "      <td>74,990</td>\n",
       "    </tr>\n",
       "    <tr>\n",
       "      <th>9</th>\n",
       "      <td>Dell Inspiron 5430 Laptop, Intel Core i7-1360P...</td>\n",
       "      <td></td>\n",
       "      <td>49,980</td>\n",
       "    </tr>\n",
       "  </tbody>\n",
       "</table>\n",
       "</div>"
      ],
      "text/plain": [
       "                                               Title          Rating     Price\n",
       "0  ASUS TUF Gaming F15, 15.6\"(39.62 cms) FHD 144H...                  2,48,990\n",
       "1  MSI Modern 14, Intel 12th Gen. i7-1255U, 36CM ...                    49,990\n",
       "2  (Refurbished) ASUS Vivobook 15, IntelCore i7-1...  Alexa Built-in    75,990\n",
       "3  MSI GF63 Thin, Intel Core i7-11800H, 40CM FHD ...                    51,841\n",
       "4  HP Pavilion X360 11th Gen Intel Core i7 14\" (3...                    85,990\n",
       "5  Acer Aspire 5 Gaming Laptop Intel Core i7 13th...                    59,990\n",
       "6  Lenovo IdeaPad Slim 3 Intel Core i7 11th Gen 1...                    89,990\n",
       "7  Acer Aspire Lite 11th Gen Intel Core i7-1165G7...                    86,490\n",
       "8  HP Victus Gaming Laptop, 12th Gen Intel Core i...                    74,990\n",
       "9  Dell Inspiron 5430 Laptop, Intel Core i7-1360P...                    49,980"
      ]
     },
     "execution_count": 388,
     "metadata": {},
     "output_type": "execute_result"
    }
   ],
   "source": [
    "amazon_laptop"
   ]
  },
  {
   "cell_type": "code",
   "execution_count": 54,
   "id": "34a9f45d",
   "metadata": {},
   "outputs": [],
   "source": [
    "# 8: Write a python program to scrape data for Top 1000 Quotes of All Time\n",
    "driver5=webdriver.Chrome()"
   ]
  },
  {
   "cell_type": "code",
   "execution_count": 55,
   "id": "c806c80f",
   "metadata": {},
   "outputs": [],
   "source": [
    "driver5.get('https://www.azquotes.com/')"
   ]
  },
  {
   "cell_type": "code",
   "execution_count": 56,
   "id": "9d5408d7",
   "metadata": {},
   "outputs": [],
   "source": [
    "search4=driver5.find_element(By.XPATH,'/html/body/div[1]/div[1]/div[1]/div/div[3]/ul/li[5]/a')\n",
    "search4.click()\n"
   ]
  },
  {
   "cell_type": "code",
   "execution_count": 48,
   "id": "0c7261df",
   "metadata": {},
   "outputs": [],
   "source": [
    "quote=[]\n",
    "author=[]\n",
    "quote_type=[]\n"
   ]
  },
  {
   "cell_type": "code",
   "execution_count": 59,
   "id": "5ef16f79",
   "metadata": {},
   "outputs": [],
   "source": [
    "start=0\n",
    "end=10\n",
    "for page in range(start,end):\n",
    "    quote_tag=driver5.find_elements(By.XPATH,'//a[@class=\"title\"]')\n",
    "    for i in quote_tag:\n",
    "        quotes=i.text\n",
    "        quote.append(quotes)\n",
    "    button=driver5.find_element(By.XPATH,'//li[@class=\"next inactive\"]')\n",
    "    button.click()\n",
    "    time.sleep(3)"
   ]
  },
  {
   "cell_type": "code",
   "execution_count": 63,
   "id": "63b2ae70",
   "metadata": {},
   "outputs": [
    {
     "data": {
      "text/plain": [
       "['The essence of strategy is choosing what not to do.',\n",
       " 'One cannot and must not try to erase the past merely because it does not fit the present.',\n",
       " 'Patriotism means to stand by the country. It does not mean to stand by the president.',\n",
       " 'Death is something inevitable. When a man has done what he considers to be his duty to his people and his country, he can rest in peace. I believe I have made that effort and that is, therefore, why I will sleep for the eternity.',\n",
       " 'You have to love a nation that celebrates its independence every July 4, not with a parade of guns, tanks, and soldiers who file by the White House in a show of strength and muscle, but with family picnics where kids throw Frisbees, the potato salad gets iffy, and the flies die from happiness. You may think you have overeaten, but it is patriotism.']"
      ]
     },
     "execution_count": 63,
     "metadata": {},
     "output_type": "execute_result"
    }
   ],
   "source": [
    "len(quote)\n",
    "Quote=quote[:1000]\n",
    "len(Quote)\n",
    "Quote[:5]"
   ]
  },
  {
   "cell_type": "code",
   "execution_count": 64,
   "id": "43609724",
   "metadata": {},
   "outputs": [],
   "source": [
    "start=0\n",
    "end=10\n",
    "for page in range(start,end):\n",
    "    author_tag=driver5.find_elements(By.XPATH,'//div[@class=\"author\"]')\n",
    "    for i in author_tag:\n",
    "        authors=i.text\n",
    "        author.append(authors)\n",
    "    nex_button=driver5.find_element(By.XPATH,'//li[@class=\"next inactive\"]')\n",
    "    nex_button.click()\n",
    "    time.sleep(3)"
   ]
  },
  {
   "cell_type": "code",
   "execution_count": 65,
   "id": "f02cac3a",
   "metadata": {},
   "outputs": [
    {
     "data": {
      "text/plain": [
       "1100"
      ]
     },
     "execution_count": 65,
     "metadata": {},
     "output_type": "execute_result"
    }
   ],
   "source": [
    "len(author)"
   ]
  },
  {
   "cell_type": "code",
   "execution_count": 67,
   "id": "c8c05582",
   "metadata": {},
   "outputs": [],
   "source": [
    "Author=author[:1000]"
   ]
  },
  {
   "cell_type": "code",
   "execution_count": 68,
   "id": "1e911249",
   "metadata": {},
   "outputs": [
    {
     "data": {
      "text/plain": [
       "1000"
      ]
     },
     "execution_count": 68,
     "metadata": {},
     "output_type": "execute_result"
    }
   ],
   "source": [
    "len(Author)"
   ]
  },
  {
   "cell_type": "code",
   "execution_count": 69,
   "id": "38a38e33",
   "metadata": {},
   "outputs": [
    {
     "data": {
      "text/plain": [
       "['Michael Porter',\n",
       " 'Golda Meir',\n",
       " 'Theodore Roosevelt',\n",
       " 'Nelson Mandela',\n",
       " 'Erma Bombeck']"
      ]
     },
     "execution_count": 69,
     "metadata": {},
     "output_type": "execute_result"
    }
   ],
   "source": [
    "Author[:5]"
   ]
  },
  {
   "cell_type": "code",
   "execution_count": 76,
   "id": "6a6b3fca",
   "metadata": {},
   "outputs": [
    {
     "ename": "NoSuchElementException",
     "evalue": "Message: no such element: Unable to locate element: {\"method\":\"xpath\",\"selector\":\"//li[@class=\"next\"]\"}\n  (Session info: chrome=120.0.6099.71); For documentation on this error, please visit: https://www.selenium.dev/documentation/webdriver/troubleshooting/errors#no-such-element-exception\nStacktrace:\n\tGetHandleVerifier [0x00007FF64A864D02+56194]\n\t(No symbol) [0x00007FF64A7D04B2]\n\t(No symbol) [0x00007FF64A6776AA]\n\t(No symbol) [0x00007FF64A6C16D0]\n\t(No symbol) [0x00007FF64A6C17EC]\n\t(No symbol) [0x00007FF64A704D77]\n\t(No symbol) [0x00007FF64A6E5EBF]\n\t(No symbol) [0x00007FF64A702786]\n\t(No symbol) [0x00007FF64A6E5C23]\n\t(No symbol) [0x00007FF64A6B4A45]\n\t(No symbol) [0x00007FF64A6B5AD4]\n\tGetHandleVerifier [0x00007FF64ABDD5BB+3695675]\n\tGetHandleVerifier [0x00007FF64AC36197+4059159]\n\tGetHandleVerifier [0x00007FF64AC2DF63+4025827]\n\tGetHandleVerifier [0x00007FF64A8FF029+687785]\n\t(No symbol) [0x00007FF64A7DB508]\n\t(No symbol) [0x00007FF64A7D7564]\n\t(No symbol) [0x00007FF64A7D76E9]\n\t(No symbol) [0x00007FF64A7C8094]\n\tBaseThreadInitThunk [0x00007FFF98827344+20]\n\tRtlUserThreadStart [0x00007FFF9A4A26B1+33]\n",
     "output_type": "error",
     "traceback": [
      "\u001b[1;31m---------------------------------------------------------------------------\u001b[0m",
      "\u001b[1;31mNoSuchElementException\u001b[0m                    Traceback (most recent call last)",
      "Cell \u001b[1;32mIn[76], line 8\u001b[0m\n\u001b[0;32m      6\u001b[0m     quote_types\u001b[38;5;241m=\u001b[39mi\u001b[38;5;241m.\u001b[39mtext\n\u001b[0;32m      7\u001b[0m     quote_type\u001b[38;5;241m.\u001b[39mappend(quote_types)\n\u001b[1;32m----> 8\u001b[0m nex_button\u001b[38;5;241m=\u001b[39m\u001b[43mdriver5\u001b[49m\u001b[38;5;241;43m.\u001b[39;49m\u001b[43mfind_element\u001b[49m\u001b[43m(\u001b[49m\u001b[43mBy\u001b[49m\u001b[38;5;241;43m.\u001b[39;49m\u001b[43mXPATH\u001b[49m\u001b[43m,\u001b[49m\u001b[38;5;124;43m'\u001b[39;49m\u001b[38;5;124;43m//li[@class=\u001b[39;49m\u001b[38;5;124;43m\"\u001b[39;49m\u001b[38;5;124;43mnext\u001b[39;49m\u001b[38;5;124;43m\"\u001b[39;49m\u001b[38;5;124;43m]\u001b[39;49m\u001b[38;5;124;43m'\u001b[39;49m\u001b[43m)\u001b[49m\n\u001b[0;32m      9\u001b[0m nex_button\u001b[38;5;241m.\u001b[39mclick()\n\u001b[0;32m     10\u001b[0m time\u001b[38;5;241m.\u001b[39msleep(\u001b[38;5;241m3\u001b[39m)\n",
      "File \u001b[1;32m~\\anaconda3\\lib\\site-packages\\selenium\\webdriver\\remote\\webdriver.py:741\u001b[0m, in \u001b[0;36mWebDriver.find_element\u001b[1;34m(self, by, value)\u001b[0m\n\u001b[0;32m    738\u001b[0m     by \u001b[38;5;241m=\u001b[39m By\u001b[38;5;241m.\u001b[39mCSS_SELECTOR\n\u001b[0;32m    739\u001b[0m     value \u001b[38;5;241m=\u001b[39m \u001b[38;5;124mf\u001b[39m\u001b[38;5;124m'\u001b[39m\u001b[38;5;124m[name=\u001b[39m\u001b[38;5;124m\"\u001b[39m\u001b[38;5;132;01m{\u001b[39;00mvalue\u001b[38;5;132;01m}\u001b[39;00m\u001b[38;5;124m\"\u001b[39m\u001b[38;5;124m]\u001b[39m\u001b[38;5;124m'\u001b[39m\n\u001b[1;32m--> 741\u001b[0m \u001b[38;5;28;01mreturn\u001b[39;00m \u001b[38;5;28;43mself\u001b[39;49m\u001b[38;5;241;43m.\u001b[39;49m\u001b[43mexecute\u001b[49m\u001b[43m(\u001b[49m\u001b[43mCommand\u001b[49m\u001b[38;5;241;43m.\u001b[39;49m\u001b[43mFIND_ELEMENT\u001b[49m\u001b[43m,\u001b[49m\u001b[43m \u001b[49m\u001b[43m{\u001b[49m\u001b[38;5;124;43m\"\u001b[39;49m\u001b[38;5;124;43musing\u001b[39;49m\u001b[38;5;124;43m\"\u001b[39;49m\u001b[43m:\u001b[49m\u001b[43m \u001b[49m\u001b[43mby\u001b[49m\u001b[43m,\u001b[49m\u001b[43m \u001b[49m\u001b[38;5;124;43m\"\u001b[39;49m\u001b[38;5;124;43mvalue\u001b[39;49m\u001b[38;5;124;43m\"\u001b[39;49m\u001b[43m:\u001b[49m\u001b[43m \u001b[49m\u001b[43mvalue\u001b[49m\u001b[43m}\u001b[49m\u001b[43m)\u001b[49m[\u001b[38;5;124m\"\u001b[39m\u001b[38;5;124mvalue\u001b[39m\u001b[38;5;124m\"\u001b[39m]\n",
      "File \u001b[1;32m~\\anaconda3\\lib\\site-packages\\selenium\\webdriver\\remote\\webdriver.py:347\u001b[0m, in \u001b[0;36mWebDriver.execute\u001b[1;34m(self, driver_command, params)\u001b[0m\n\u001b[0;32m    345\u001b[0m response \u001b[38;5;241m=\u001b[39m \u001b[38;5;28mself\u001b[39m\u001b[38;5;241m.\u001b[39mcommand_executor\u001b[38;5;241m.\u001b[39mexecute(driver_command, params)\n\u001b[0;32m    346\u001b[0m \u001b[38;5;28;01mif\u001b[39;00m response:\n\u001b[1;32m--> 347\u001b[0m     \u001b[38;5;28;43mself\u001b[39;49m\u001b[38;5;241;43m.\u001b[39;49m\u001b[43merror_handler\u001b[49m\u001b[38;5;241;43m.\u001b[39;49m\u001b[43mcheck_response\u001b[49m\u001b[43m(\u001b[49m\u001b[43mresponse\u001b[49m\u001b[43m)\u001b[49m\n\u001b[0;32m    348\u001b[0m     response[\u001b[38;5;124m\"\u001b[39m\u001b[38;5;124mvalue\u001b[39m\u001b[38;5;124m\"\u001b[39m] \u001b[38;5;241m=\u001b[39m \u001b[38;5;28mself\u001b[39m\u001b[38;5;241m.\u001b[39m_unwrap_value(response\u001b[38;5;241m.\u001b[39mget(\u001b[38;5;124m\"\u001b[39m\u001b[38;5;124mvalue\u001b[39m\u001b[38;5;124m\"\u001b[39m, \u001b[38;5;28;01mNone\u001b[39;00m))\n\u001b[0;32m    349\u001b[0m     \u001b[38;5;28;01mreturn\u001b[39;00m response\n",
      "File \u001b[1;32m~\\anaconda3\\lib\\site-packages\\selenium\\webdriver\\remote\\errorhandler.py:229\u001b[0m, in \u001b[0;36mErrorHandler.check_response\u001b[1;34m(self, response)\u001b[0m\n\u001b[0;32m    227\u001b[0m         alert_text \u001b[38;5;241m=\u001b[39m value[\u001b[38;5;124m\"\u001b[39m\u001b[38;5;124malert\u001b[39m\u001b[38;5;124m\"\u001b[39m]\u001b[38;5;241m.\u001b[39mget(\u001b[38;5;124m\"\u001b[39m\u001b[38;5;124mtext\u001b[39m\u001b[38;5;124m\"\u001b[39m)\n\u001b[0;32m    228\u001b[0m     \u001b[38;5;28;01mraise\u001b[39;00m exception_class(message, screen, stacktrace, alert_text)  \u001b[38;5;66;03m# type: ignore[call-arg]  # mypy is not smart enough here\u001b[39;00m\n\u001b[1;32m--> 229\u001b[0m \u001b[38;5;28;01mraise\u001b[39;00m exception_class(message, screen, stacktrace)\n",
      "\u001b[1;31mNoSuchElementException\u001b[0m: Message: no such element: Unable to locate element: {\"method\":\"xpath\",\"selector\":\"//li[@class=\"next\"]\"}\n  (Session info: chrome=120.0.6099.71); For documentation on this error, please visit: https://www.selenium.dev/documentation/webdriver/troubleshooting/errors#no-such-element-exception\nStacktrace:\n\tGetHandleVerifier [0x00007FF64A864D02+56194]\n\t(No symbol) [0x00007FF64A7D04B2]\n\t(No symbol) [0x00007FF64A6776AA]\n\t(No symbol) [0x00007FF64A6C16D0]\n\t(No symbol) [0x00007FF64A6C17EC]\n\t(No symbol) [0x00007FF64A704D77]\n\t(No symbol) [0x00007FF64A6E5EBF]\n\t(No symbol) [0x00007FF64A702786]\n\t(No symbol) [0x00007FF64A6E5C23]\n\t(No symbol) [0x00007FF64A6B4A45]\n\t(No symbol) [0x00007FF64A6B5AD4]\n\tGetHandleVerifier [0x00007FF64ABDD5BB+3695675]\n\tGetHandleVerifier [0x00007FF64AC36197+4059159]\n\tGetHandleVerifier [0x00007FF64AC2DF63+4025827]\n\tGetHandleVerifier [0x00007FF64A8FF029+687785]\n\t(No symbol) [0x00007FF64A7DB508]\n\t(No symbol) [0x00007FF64A7D7564]\n\t(No symbol) [0x00007FF64A7D76E9]\n\t(No symbol) [0x00007FF64A7C8094]\n\tBaseThreadInitThunk [0x00007FFF98827344+20]\n\tRtlUserThreadStart [0x00007FFF9A4A26B1+33]\n"
     ]
    }
   ],
   "source": [
    "start=0\n",
    "end=10\n",
    "for page in range(start,end):\n",
    "    quote_type_tag=driver5.find_elements(By.XPATH,'//div[@class=\"tags\"]')\n",
    "    for i in quote_type_tag:\n",
    "        quote_types=i.text\n",
    "        quote_type.append(quote_types)\n",
    "    nex_button=driver5.find_element(By.XPATH,'//li[@class=\"next\"]')\n",
    "    nex_button.click()\n",
    "    time.sleep(3)"
   ]
  },
  {
   "cell_type": "code",
   "execution_count": null,
   "id": "62e46090",
   "metadata": {},
   "outputs": [],
   "source": [
    "# Write a python program to display list of 50 Most expensive cars in the world (i.e.\n",
    "# Car name and Price) from https://www.motor1.com\n",
    "driver10=webdriver.Chrome()"
   ]
  },
  {
   "cell_type": "code",
   "execution_count": null,
   "id": "1dedf574",
   "metadata": {},
   "outputs": [],
   "source": []
  },
  {
   "cell_type": "code",
   "execution_count": null,
   "id": "29089519",
   "metadata": {},
   "outputs": [],
   "source": [
    "driver10.get('https://www.motor1.com/')"
   ]
  },
  {
   "cell_type": "code",
   "execution_count": 10,
   "id": "10f75595",
   "metadata": {},
   "outputs": [],
   "source": [
    "expensive_cars=driver10.find_element(By.XPATH,'/html/body/div[y10]/div[2]/div/div/div[3]/div/div/div/form/input')\n",
    "expensive_cars.send_keys('50 most expensive cars')"
   ]
  },
  {
   "cell_type": "code",
   "execution_count": 11,
   "id": "517471bb",
   "metadata": {},
   "outputs": [],
   "source": [
    "search_cars=driver10.find_element(By.XPATH,'/html/body/div[10]/div[2]/div/div/div[3]/div/div/div/form/button[1]')\n",
    "search_cars.click()"
   ]
  },
  {
   "cell_type": "code",
   "execution_count": 12,
   "id": "f812c751",
   "metadata": {},
   "outputs": [],
   "source": [
    "most_expensive=driver10.find_element(By.XPATH,'/html/body/div[10]/div[9]/div/div[1]/div/div/div[2]/div/div[1]/h3/a')\n",
    "most_expensive.click()"
   ]
  },
  {
   "cell_type": "code",
   "execution_count": 13,
   "id": "14a44ea0",
   "metadata": {},
   "outputs": [],
   "source": [
    "car_name=[]\n",
    "car_price=[]"
   ]
  },
  {
   "cell_type": "code",
   "execution_count": 14,
   "id": "440edbe7",
   "metadata": {},
   "outputs": [],
   "source": [
    "car_name_tag=driver10.find_elements(By.XPATH,'//h3[@class=\"subheader\"]')\n",
    "for i in car_name_tag:\n",
    "    Name=i.text\n",
    "    car_name.append(Name)"
   ]
  },
  {
   "cell_type": "code",
   "execution_count": 15,
   "id": "ece72ae0",
   "metadata": {},
   "outputs": [
    {
     "data": {
      "text/plain": [
       "['Aston Martin Valour',\n",
       " 'McLaren Elva',\n",
       " 'Czinger 21C',\n",
       " 'Ferrari Monza',\n",
       " 'Gordon Murray T.33',\n",
       " 'Koenigsegg Gemera',\n",
       " 'Zenvo TSR-S',\n",
       " 'Hennessey Venom F5',\n",
       " 'Bentley Bacalar',\n",
       " 'Hispano Suiza Carmen Boulogne']"
      ]
     },
     "execution_count": 15,
     "metadata": {},
     "output_type": "execute_result"
    }
   ],
   "source": [
    "car_name[:10]"
   ]
  },
  {
   "cell_type": "code",
   "execution_count": null,
   "id": "ad7dd47b",
   "metadata": {},
   "outputs": [],
   "source": [
    "car_price_tag=driver10.find_elements(By.XPATH,'/html/body/div[10]/div[7]/div[2]/div[1]/div[2]/div[2]/p[4]/strong')\n",
    "for i in car_price_tag:\n",
    "    Price=i.text\n",
    "    car_price.append(Price)"
   ]
  }
 ],
 "metadata": {
  "kernelspec": {
   "display_name": "Python 3 (ipykernel)",
   "language": "python",
   "name": "python3"
  },
  "language_info": {
   "codemirror_mode": {
    "name": "ipython",
    "version": 3
   },
   "file_extension": ".py",
   "mimetype": "text/x-python",
   "name": "python",
   "nbconvert_exporter": "python",
   "pygments_lexer": "ipython3",
   "version": "3.10.9"
  }
 },
 "nbformat": 4,
 "nbformat_minor": 5
}
