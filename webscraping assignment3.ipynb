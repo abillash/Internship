{
 "cells": [
  {
   "cell_type": "code",
   "execution_count": 1,
   "id": "c632296c",
   "metadata": {
    "collapsed": true
   },
   "outputs": [
    {
     "name": "stdout",
     "output_type": "stream",
     "text": [
      "Requirement already satisfied: selenium in c:\\users\\a\\anaconda3\\lib\\site-packages (4.15.2)\n",
      "Requirement already satisfied: trio~=0.17 in c:\\users\\a\\anaconda3\\lib\\site-packages (from selenium) (0.23.1)\n",
      "Requirement already satisfied: trio-websocket~=0.9 in c:\\users\\a\\anaconda3\\lib\\site-packages (from selenium) (0.11.1)\n",
      "Requirement already satisfied: urllib3[socks]<3,>=1.26 in c:\\users\\a\\anaconda3\\lib\\site-packages (from selenium) (1.26.14)\n",
      "Requirement already satisfied: certifi>=2021.10.8 in c:\\users\\a\\anaconda3\\lib\\site-packages (from selenium) (2022.12.7)\n",
      "Requirement already satisfied: attrs>=20.1.0 in c:\\users\\a\\anaconda3\\lib\\site-packages (from trio~=0.17->selenium) (22.1.0)\n",
      "Requirement already satisfied: sniffio>=1.3.0 in c:\\users\\a\\anaconda3\\lib\\site-packages (from trio~=0.17->selenium) (1.3.0)\n",
      "Requirement already satisfied: cffi>=1.14 in c:\\users\\a\\anaconda3\\lib\\site-packages (from trio~=0.17->selenium) (1.15.1)\n",
      "Requirement already satisfied: idna in c:\\users\\a\\anaconda3\\lib\\site-packages (from trio~=0.17->selenium) (3.4)\n",
      "Requirement already satisfied: sortedcontainers in c:\\users\\a\\anaconda3\\lib\\site-packages (from trio~=0.17->selenium) (2.4.0)\n",
      "Requirement already satisfied: exceptiongroup>=1.0.0rc9 in c:\\users\\a\\anaconda3\\lib\\site-packages (from trio~=0.17->selenium) (1.2.0)\n",
      "Requirement already satisfied: outcome in c:\\users\\a\\anaconda3\\lib\\site-packages (from trio~=0.17->selenium) (1.3.0.post0)\n",
      "Requirement already satisfied: wsproto>=0.14 in c:\\users\\a\\anaconda3\\lib\\site-packages (from trio-websocket~=0.9->selenium) (1.2.0)\n",
      "Requirement already satisfied: PySocks!=1.5.7,<2.0,>=1.5.6 in c:\\users\\a\\anaconda3\\lib\\site-packages (from urllib3[socks]<3,>=1.26->selenium) (1.7.1)\n",
      "Requirement already satisfied: pycparser in c:\\users\\a\\anaconda3\\lib\\site-packages (from cffi>=1.14->trio~=0.17->selenium) (2.21)\n",
      "Requirement already satisfied: h11<1,>=0.9.0 in c:\\users\\a\\anaconda3\\lib\\site-packages (from wsproto>=0.14->trio-websocket~=0.9->selenium) (0.14.0)\n"
     ]
    }
   ],
   "source": [
    "! pip install selenium\n",
    "\n"
   ]
  },
  {
   "cell_type": "code",
   "execution_count": 2,
   "id": "cb0b8655",
   "metadata": {},
   "outputs": [],
   "source": [
    "import selenium\n",
    "import pandas as pd\n",
    "from selenium import webdriver\n",
    "import warnings\n",
    "warnings.filterwarnings('ignore')\n",
    "from selenium.webdriver.common.by import By\n",
    "import time"
   ]
  },
  {
   "cell_type": "code",
   "execution_count": 14,
   "id": "916bb11f",
   "metadata": {},
   "outputs": [],
   "source": [
    "# question 1 \n",
    "# Write a python program which searches all the product under a particular product from www.amazon.in. The \n",
    "# product to be searched will be taken as input from user. For e.g. If user input is ‘guitar’. Then search for \n",
    "# guitars.\n",
    "driver=webdriver.Chrome()\n",
    "time.sleep(10)\n",
    "driver.get('https://www.amazon.in/')"
   ]
  },
  {
   "cell_type": "code",
   "execution_count": 15,
   "id": "ee92e2d6",
   "metadata": {},
   "outputs": [
    {
     "name": "stdout",
     "output_type": "stream",
     "text": [
      "enter the product you wantwatches\n"
     ]
    }
   ],
   "source": [
    "user_input=input('enter the product you want')\n",
    "\n",
    "products=driver.find_element(By.XPATH,'/html/body/div[1]/header/div/div[1]/div[2]/div/form/div[2]/div[1]/input')\n",
    "products.send_keys(user_input)"
   ]
  },
  {
   "cell_type": "code",
   "execution_count": 16,
   "id": "1d81823b",
   "metadata": {},
   "outputs": [],
   "source": [
    "search=driver.find_element(By.XPATH,'/html/body/div[1]/header/div/div[1]/div[2]/div/form/div[3]/div/span/input')\n",
    "search.click()"
   ]
  },
  {
   "cell_type": "code",
   "execution_count": 13,
   "id": "406a26ef",
   "metadata": {},
   "outputs": [],
   "source": [
    "#In the above question, now scrape the following details of each product listed in first 3 pages of your search \n",
    "# results and save it in a data frame and csv. In case if any product has less than 3 pages in search results then \n",
    "# scrape all the products available under that product name. Details to be scraped are: \"Brand \n",
    "# Name\", \"Name of the Product\", \"Price\", \"Return/Exchange\", \"Expected Delivery\", \"Availability\" and \n",
    "# “Product URL”. In case, if any of the details are missing for any of the product then replace it by “-“\n",
    "\n",
    "brand=[]\n",
    "product=[]\n",
    "price=[]\n",
    "exp_delivery=[]\n",
    "url=[]"
   ]
  },
  {
   "cell_type": "code",
   "execution_count": 20,
   "id": "ef5ba642",
   "metadata": {},
   "outputs": [],
   "source": [
    "start=0\n",
    "end=3\n",
    "for page in range(start,end):\n",
    "    brand_tags=driver.find_elements(By.XPATH,'//span[@class=\"a-size-base-plus a-color-base\"]')\n",
    "    for i in brand_tags:\n",
    "        name=i.text\n",
    "        brand.append(name)\n",
    "    next_button=driver.find_element(By.XPATH,'//a[@class=\"s-pagination-item s-pagination-next s-pagination-button s-pagination-separator\"]')\n",
    "    next_button.click()\n",
    "    time.sleep(3)"
   ]
  },
  {
   "cell_type": "code",
   "execution_count": 49,
   "id": "4b08dd74",
   "metadata": {},
   "outputs": [],
   "source": [
    "Brand=brand[:169]"
   ]
  },
  {
   "cell_type": "code",
   "execution_count": 50,
   "id": "d53e54c9",
   "metadata": {},
   "outputs": [
    {
     "data": {
      "text/plain": [
       "169"
      ]
     },
     "execution_count": 50,
     "metadata": {},
     "output_type": "execute_result"
    }
   ],
   "source": [
    "len(Brand)"
   ]
  },
  {
   "cell_type": "code",
   "execution_count": 24,
   "id": "ad98d34e",
   "metadata": {},
   "outputs": [],
   "source": [
    "start=0\n",
    "end=3\n",
    "for page in range(start,end):\n",
    "    product_tags=driver.find_elements(By.XPATH,'//h2[@class=\"a-size-mini a-spacing-none a-color-base s-line-clamp-2\"]')\n",
    "    for i in product_tags:\n",
    "        Product=i.text\n",
    "        product.append(Product)\n",
    "    next_button=driver.find_element(By.XPATH,'//a[@class=\"s-pagination-item s-pagination-next s-pagination-button s-pagination-separator\"]')\n",
    "    next_button.click()\n",
    "    time.sleep(3)"
   ]
  },
  {
   "cell_type": "code",
   "execution_count": 51,
   "id": "86f70b06",
   "metadata": {},
   "outputs": [],
   "source": [
    "PRoduct=product[:169]"
   ]
  },
  {
   "cell_type": "code",
   "execution_count": 52,
   "id": "f100c40d",
   "metadata": {},
   "outputs": [
    {
     "data": {
      "text/plain": [
       "169"
      ]
     },
     "execution_count": 52,
     "metadata": {},
     "output_type": "execute_result"
    }
   ],
   "source": [
    "len(PRoduct)"
   ]
  },
  {
   "cell_type": "code",
   "execution_count": 27,
   "id": "c7bf5c76",
   "metadata": {},
   "outputs": [],
   "source": [
    "start=0\n",
    "end=3\n",
    "for page in range(start,end):\n",
    "    price_tags=driver.find_elements(By.XPATH,'//span[@class=\"a-price-whole\"]')\n",
    "    for i in price_tags:\n",
    "        Price=i.text\n",
    "        price.append(Price)\n",
    "    next_button=driver.find_element(By.XPATH,'//a[@class=\"s-pagination-item s-pagination-next s-pagination-button s-pagination-separator\"]')\n",
    "    next_button.click()\n",
    "    time.sleep(3)"
   ]
  },
  {
   "cell_type": "code",
   "execution_count": 53,
   "id": "52845377",
   "metadata": {},
   "outputs": [],
   "source": [
    "PRice=price[:169]"
   ]
  },
  {
   "cell_type": "code",
   "execution_count": 54,
   "id": "1b29501d",
   "metadata": {},
   "outputs": [
    {
     "data": {
      "text/plain": [
       "169"
      ]
     },
     "execution_count": 54,
     "metadata": {},
     "output_type": "execute_result"
    }
   ],
   "source": [
    "len(PRice)"
   ]
  },
  {
   "cell_type": "code",
   "execution_count": 29,
   "id": "10582fd0",
   "metadata": {},
   "outputs": [],
   "source": [
    "start=0\n",
    "end=3\n",
    "for page in range(start,end):\n",
    "    exp_delivery_tags=driver.find_elements(By.XPATH,'//span[@class=\"a-color-base a-text-bold\"]')\n",
    "    for i in exp_delivery_tags:\n",
    "        Exp_delivery=i.text\n",
    "        exp_delivery.append(Exp_delivery)\n",
    "    next_button=driver.find_element(By.XPATH,'//a[@class=\"s-pagination-item s-pagination-next s-pagination-button s-pagination-separator\"]')\n",
    "    next_button.click()\n",
    "    time.sleep(3)"
   ]
  },
  {
   "cell_type": "code",
   "execution_count": 32,
   "id": "86cb642d",
   "metadata": {},
   "outputs": [
    {
     "data": {
      "text/plain": [
       "169"
      ]
     },
     "execution_count": 32,
     "metadata": {},
     "output_type": "execute_result"
    }
   ],
   "source": [
    "len(exp_delivery)"
   ]
  },
  {
   "cell_type": "code",
   "execution_count": 45,
   "id": "6c298480",
   "metadata": {},
   "outputs": [],
   "source": [
    "product_url=[]\n",
    "start=0\n",
    "end=3\n",
    "for page in range(start,end):\n",
    "    url_tags=driver.find_elements(By.XPATH,'//h2[@class=\"a-size-mini a-spacing-none a-color-base s-line-clamp-2\"]/a')\n",
    "    for i in url_tags:\n",
    "        Url=i.get_attribute('href')\n",
    "        product_url.append(Url)\n",
    "    next_button=driver.find_element(By.XPATH,'//a[@class=\"s-pagination-item s-pagination-next s-pagination-button s-pagination-separator\"]')\n",
    "    next_button.click()\n",
    "    time.sleep(3)"
   ]
  },
  {
   "cell_type": "code",
   "execution_count": 56,
   "id": "34434ed7",
   "metadata": {},
   "outputs": [
    {
     "data": {
      "text/plain": [
       "169"
      ]
     },
     "execution_count": 56,
     "metadata": {},
     "output_type": "execute_result"
    }
   ],
   "source": [
    "len(PRoduct_url)"
   ]
  },
  {
   "cell_type": "code",
   "execution_count": 55,
   "id": "31d5ac02",
   "metadata": {},
   "outputs": [],
   "source": [
    "PRoduct_url=product_url[:169]"
   ]
  },
  {
   "cell_type": "code",
   "execution_count": 48,
   "id": "82840e0f",
   "metadata": {},
   "outputs": [
    {
     "data": {
      "text/plain": [
       "['https://www.amazon.in/sspa/click?ie=UTF8&spc=MToyODM3NDEzNDE5MTI0NzE0OjE3MDI3MjM1MDM6c3BfYXRmOjMwMDA0MTk2MDMyODkzMjo6MDo6&url=%2FSKMEI-Silicone-Mens-Watch-Analogue%2Fdp%2FB0C3HDR9PP%2Fref%3Dsr_1_1_sspa%3Fcrid%3DSQGLDZMYJ145%26keywords%3Dwatches%26qid%3D1702723503%26sprefix%3Dwatches%252Caps%252C277%26sr%3D8-1-spons%26sp_csd%3Dd2lkZ2V0TmFtZT1zcF9hdGY%26psc%3D1',\n",
       " 'https://www.amazon.in/sspa/click?ie=UTF8&spc=MToyODM3NDEzNDE5MTI0NzE0OjE3MDI3MjM1MDM6c3BfYXRmOjMwMDAwMDcxODMxNTkzMjo6MDo6&url=%2FSKMEI-Dual-Display-Electronic-Mutifunctional-1816%2Fdp%2FB0C38XJ82N%2Fref%3Dsr_1_2_sspa%3Fcrid%3DSQGLDZMYJ145%26keywords%3Dwatches%26qid%3D1702723503%26sprefix%3Dwatches%252Caps%252C277%26sr%3D8-2-spons%26sp_csd%3Dd2lkZ2V0TmFtZT1zcF9hdGY%26psc%3D1',\n",
       " 'https://www.amazon.in/sspa/click?ie=UTF8&spc=MToyODM3NDEzNDE5MTI0NzE0OjE3MDI3MjM1MDM6c3BfYXRmOjMwMDAwMDcxODMxMzgzMjo6MDo6&url=%2FSKMEI-Digital-Multi-Time-Waterproof-Stopwatch%2Fdp%2FB0B7DNC826%2Fref%3Dsr_1_3_sspa%3Fcrid%3DSQGLDZMYJ145%26keywords%3Dwatches%26qid%3D1702723503%26sprefix%3Dwatches%252Caps%252C277%26sr%3D8-3-spons%26sp_csd%3Dd2lkZ2V0TmFtZT1zcF9hdGY%26psc%3D1',\n",
       " 'https://www.amazon.in/sspa/click?ie=UTF8&spc=MToyODM3NDEzNDE5MTI0NzE0OjE3MDI3MjM1MDM6c3BfYXRmOjMwMDAwMDcxODMxNjMzMjo6MDo6&url=%2FSKMEI-Digital-Waterproof-Military-Electronic%2Fdp%2FB0BNLCN8W2%2Fref%3Dsr_1_4_sspa%3Fcrid%3DSQGLDZMYJ145%26keywords%3Dwatches%26qid%3D1702723503%26sprefix%3Dwatches%252Caps%252C277%26sr%3D8-4-spons%26sp_csd%3Dd2lkZ2V0TmFtZT1zcF9hdGY%26psc%3D1',\n",
       " 'https://www.amazon.in/LOUIS-DEVIN-Silicone-Analog-LD-BK054-BLACK/dp/B0BD5R89RQ/ref=sr_1_5?crid=SQGLDZMYJ145&keywords=watches&qid=1702723503&sprefix=watches%2Caps%2C277&sr=8-5']"
      ]
     },
     "execution_count": 48,
     "metadata": {},
     "output_type": "execute_result"
    }
   ],
   "source": [
    "product_url[:5]"
   ]
  },
  {
   "cell_type": "code",
   "execution_count": 59,
   "id": "d5561bf6",
   "metadata": {},
   "outputs": [
    {
     "name": "stdout",
     "output_type": "stream",
     "text": [
      "169 169 169 169 169\n"
     ]
    }
   ],
   "source": [
    "print(len(Brand),len(PRoduct),len(PRice),len(exp_delivery),len(PRoduct_url))"
   ]
  },
  {
   "cell_type": "code",
   "execution_count": 60,
   "id": "2aca39e4",
   "metadata": {},
   "outputs": [],
   "source": [
    "amazon_product=pd.DataFrame({'BRAND':Brand,'PRODUCT':PRoduct,'PRICE':PRice,'EXP DELIVERY':exp_delivery,'PRODUCT URL':PRoduct_url})"
   ]
  },
  {
   "cell_type": "code",
   "execution_count": 61,
   "id": "92276d6b",
   "metadata": {},
   "outputs": [
    {
     "data": {
      "text/html": [
       "<div>\n",
       "<style scoped>\n",
       "    .dataframe tbody tr th:only-of-type {\n",
       "        vertical-align: middle;\n",
       "    }\n",
       "\n",
       "    .dataframe tbody tr th {\n",
       "        vertical-align: top;\n",
       "    }\n",
       "\n",
       "    .dataframe thead th {\n",
       "        text-align: right;\n",
       "    }\n",
       "</style>\n",
       "<table border=\"1\" class=\"dataframe\">\n",
       "  <thead>\n",
       "    <tr style=\"text-align: right;\">\n",
       "      <th></th>\n",
       "      <th>BRAND</th>\n",
       "      <th>PRODUCT</th>\n",
       "      <th>PRICE</th>\n",
       "      <th>EXP DELIVERY</th>\n",
       "      <th>PRODUCT URL</th>\n",
       "    </tr>\n",
       "  </thead>\n",
       "  <tbody>\n",
       "    <tr>\n",
       "      <th>0</th>\n",
       "      <td>SKMEI</td>\n",
       "      <td>Men Watch Dual-Display Electronic Watch with L...</td>\n",
       "      <td>1,443</td>\n",
       "      <td>Monday, 18 December</td>\n",
       "      <td>https://www.amazon.in/sspa/click?ie=UTF8&amp;spc=M...</td>\n",
       "    </tr>\n",
       "    <tr>\n",
       "      <th>1</th>\n",
       "      <td>SKMEI</td>\n",
       "      <td>Men Watch Dual-Display Electronic Watch with L...</td>\n",
       "      <td>2,089</td>\n",
       "      <td>Monday, 18 December</td>\n",
       "      <td>https://www.amazon.in/sspa/click?ie=UTF8&amp;spc=M...</td>\n",
       "    </tr>\n",
       "    <tr>\n",
       "      <th>2</th>\n",
       "      <td>SKMEI</td>\n",
       "      <td>Men's Digital Sports Watch, LED Square Large F...</td>\n",
       "      <td>879</td>\n",
       "      <td>Saturday, 23 December</td>\n",
       "      <td>https://www.amazon.in/sspa/click?ie=UTF8&amp;spc=M...</td>\n",
       "    </tr>\n",
       "    <tr>\n",
       "      <th>3</th>\n",
       "      <td>SKMEI</td>\n",
       "      <td>Men's Digital Sports Watch, Waterproof LED Scr...</td>\n",
       "      <td>799</td>\n",
       "      <td>Saturday, 23 December</td>\n",
       "      <td>https://www.amazon.in/sspa/click?ie=UTF8&amp;spc=M...</td>\n",
       "    </tr>\n",
       "    <tr>\n",
       "      <th>4</th>\n",
       "      <td>LOUIS DEVIN</td>\n",
       "      <td>Silicone Strap Analog Wrist Watch for Men (Bla...</td>\n",
       "      <td>379</td>\n",
       "      <td>Monday, 18 December</td>\n",
       "      <td>https://www.amazon.in/LOUIS-DEVIN-Silicone-Ana...</td>\n",
       "    </tr>\n",
       "  </tbody>\n",
       "</table>\n",
       "</div>"
      ],
      "text/plain": [
       "         BRAND                                            PRODUCT  PRICE  \\\n",
       "0        SKMEI  Men Watch Dual-Display Electronic Watch with L...  1,443   \n",
       "1        SKMEI  Men Watch Dual-Display Electronic Watch with L...  2,089   \n",
       "2        SKMEI  Men's Digital Sports Watch, LED Square Large F...    879   \n",
       "3        SKMEI  Men's Digital Sports Watch, Waterproof LED Scr...    799   \n",
       "4  LOUIS DEVIN  Silicone Strap Analog Wrist Watch for Men (Bla...    379   \n",
       "\n",
       "            EXP DELIVERY                                        PRODUCT URL  \n",
       "0    Monday, 18 December  https://www.amazon.in/sspa/click?ie=UTF8&spc=M...  \n",
       "1    Monday, 18 December  https://www.amazon.in/sspa/click?ie=UTF8&spc=M...  \n",
       "2  Saturday, 23 December  https://www.amazon.in/sspa/click?ie=UTF8&spc=M...  \n",
       "3  Saturday, 23 December  https://www.amazon.in/sspa/click?ie=UTF8&spc=M...  \n",
       "4    Monday, 18 December  https://www.amazon.in/LOUIS-DEVIN-Silicone-Ana...  "
      ]
     },
     "execution_count": 61,
     "metadata": {},
     "output_type": "execute_result"
    }
   ],
   "source": [
    "amazon_product.head(5)"
   ]
  },
  {
   "cell_type": "code",
   "execution_count": 108,
   "id": "84478305",
   "metadata": {},
   "outputs": [],
   "source": [
    "# Question no 3 Write a python program to access the search bar and search button on images.google.com and scrape 10 \n",
    "# images each for keywords ‘fruits’, ‘cars’ and ‘Machine Learning’, ‘Guitar’, ‘Cakes’. \n",
    "\n",
    "driver=webdriver.Chrome()\n",
    "time.sleep(10)\n",
    "\n",
    "driver.get('https://www.google.com/')"
   ]
  },
  {
   "cell_type": "code",
   "execution_count": 109,
   "id": "2d9518d6",
   "metadata": {},
   "outputs": [],
   "source": [
    "key_word=driver.find_element(By.XPATH,'/html/body/div[1]/div[3]/form/div[1]/div[1]/div[1]/div/div[2]/textarea')\n",
    "key_word.send_keys('images.google.com')"
   ]
  },
  {
   "cell_type": "code",
   "execution_count": 111,
   "id": "aa02200e",
   "metadata": {},
   "outputs": [],
   "source": [
    "search=driver.find_element(By.XPATH,'/html/body/div[1]/div[3]/form/div[1]/div[1]/div[2]/div[2]/div[2]/div[1]/div/ul/li[1]/div/div[1]')\n",
    "search.click()"
   ]
  },
  {
   "cell_type": "code",
   "execution_count": 113,
   "id": "538861da",
   "metadata": {},
   "outputs": [],
   "source": [
    "search_images=driver.find_element(By.XPATH,'/html/body/div[5]/div/div[10]/div/div[2]/div[2]/div/div/div[1]/div/div/div/div[1]/div/div/span/a/h3')\n",
    "search_images.click()"
   ]
  },
  {
   "cell_type": "code",
   "execution_count": 95,
   "id": "65a9d469",
   "metadata": {},
   "outputs": [],
   "source": [
    "search_fruits=driver.find_element(By.XPATH,'/html/body/div[1]/div[3]/form/div[1]/div[1]/div[1]/div/div[2]/textarea')\n",
    "search_fruits.send_keys('fruits')"
   ]
  },
  {
   "cell_type": "code",
   "execution_count": 96,
   "id": "d8378872",
   "metadata": {},
   "outputs": [],
   "source": [
    "search=driver.find_element(By.XPATH,'/html/body/div[1]/div[3]/form/div[1]/div[1]/div[2]/div[2]/div[2]/div[1]/div/ul/li[1]/div/div[1]')\n",
    "search.click()"
   ]
  },
  {
   "cell_type": "code",
   "execution_count": 105,
   "id": "f8206f5d",
   "metadata": {},
   "outputs": [
    {
     "data": {
      "text/plain": [
       "[<selenium.webdriver.remote.webelement.WebElement (session=\"c383e9d54e72da1fb794660de5284e9f\", element=\"CE239C0EFF00611AEA0902B49CE0FC11_element_1842\")>,\n",
       " <selenium.webdriver.remote.webelement.WebElement (session=\"c383e9d54e72da1fb794660de5284e9f\", element=\"CE239C0EFF00611AEA0902B49CE0FC11_element_1912\")>,\n",
       " <selenium.webdriver.remote.webelement.WebElement (session=\"c383e9d54e72da1fb794660de5284e9f\", element=\"CE239C0EFF00611AEA0902B49CE0FC11_element_1913\")>,\n",
       " <selenium.webdriver.remote.webelement.WebElement (session=\"c383e9d54e72da1fb794660de5284e9f\", element=\"CE239C0EFF00611AEA0902B49CE0FC11_element_1914\")>,\n",
       " <selenium.webdriver.remote.webelement.WebElement (session=\"c383e9d54e72da1fb794660de5284e9f\", element=\"CE239C0EFF00611AEA0902B49CE0FC11_element_1915\")>,\n",
       " <selenium.webdriver.remote.webelement.WebElement (session=\"c383e9d54e72da1fb794660de5284e9f\", element=\"CE239C0EFF00611AEA0902B49CE0FC11_element_1916\")>,\n",
       " <selenium.webdriver.remote.webelement.WebElement (session=\"c383e9d54e72da1fb794660de5284e9f\", element=\"CE239C0EFF00611AEA0902B49CE0FC11_element_1917\")>,\n",
       " <selenium.webdriver.remote.webelement.WebElement (session=\"c383e9d54e72da1fb794660de5284e9f\", element=\"CE239C0EFF00611AEA0902B49CE0FC11_element_1918\")>,\n",
       " <selenium.webdriver.remote.webelement.WebElement (session=\"c383e9d54e72da1fb794660de5284e9f\", element=\"CE239C0EFF00611AEA0902B49CE0FC11_element_1919\")>,\n",
       " <selenium.webdriver.remote.webelement.WebElement (session=\"c383e9d54e72da1fb794660de5284e9f\", element=\"CE239C0EFF00611AEA0902B49CE0FC11_element_1920\")>]"
      ]
     },
     "execution_count": 105,
     "metadata": {},
     "output_type": "execute_result"
    }
   ],
   "source": [
    "Fruits=[]\n",
    "Fruits_images=driver.find_elements(By.XPATH,'//a[@class=\"FRuiCf islib nfEiy\"]')\n",
    "Fruits_images[:10]"
   ]
  },
  {
   "cell_type": "code",
   "execution_count": 106,
   "id": "416f79e5",
   "metadata": {},
   "outputs": [
    {
     "name": "stdout",
     "output_type": "stream",
     "text": [
      "https://www.google.com/imgres?imgurl=https%3A%2F%2Fcdn1.byjus.com%2Fwp-content%2Fuploads%2F2022%2F07%2FFruits-Names.png&tbnid=gtzR2ZSa73Mp7M&vet=12ahUKEwiAuNfcqJaDAxX9b2wGHbpNAIgQMygAegQIARBx..i&imgrefurl=https%3A%2F%2Fbyjus.com%2Fenglish%2Ffruits-names%2F&docid=iymnbZiK4yNW7M&w=750&h=950&itg=1&q=fruits%20name&hl=en&ved=2ahUKEwiAuNfcqJaDAxX9b2wGHbpNAIgQMygAegQIARBx\n",
      "None\n",
      "None\n",
      "None\n",
      "None\n",
      "None\n",
      "None\n",
      "None\n",
      "None\n",
      "None\n"
     ]
    }
   ],
   "source": [
    "for i in Fruits_images[:10]:\n",
    "    print(i.get_attribute('href'))"
   ]
  },
  {
   "cell_type": "code",
   "execution_count": null,
   "id": "2b754fa9",
   "metadata": {},
   "outputs": [],
   "source": []
  },
  {
   "cell_type": "code",
   "execution_count": 114,
   "id": "33e8afcf",
   "metadata": {},
   "outputs": [],
   "source": [
    "search_cars=driver.find_element(By.XPATH,'/html/body/div[1]/div[3]/form/div[1]/div[1]/div[1]/div/div[2]/textarea')\n",
    "search_cars.send_keys('cars')"
   ]
  },
  {
   "cell_type": "code",
   "execution_count": 115,
   "id": "3852fd2a",
   "metadata": {},
   "outputs": [],
   "source": [
    "search=driver.find_element(By.XPATH,'/html/body/div[1]/div[3]/form/div[1]/div[1]/div[2]/div[2]/div[2]/div[1]/div/ul/li[1]/div/div[1]')\n",
    "search.click()"
   ]
  },
  {
   "cell_type": "code",
   "execution_count": 117,
   "id": "539071cb",
   "metadata": {},
   "outputs": [
    {
     "data": {
      "text/plain": [
       "[<selenium.webdriver.remote.webelement.WebElement (session=\"82ddd175ad956b876fedcf410e33edf6\", element=\"9BAA7B59C9354C548B2D2EA047367C15_element_969\")>,\n",
       " <selenium.webdriver.remote.webelement.WebElement (session=\"82ddd175ad956b876fedcf410e33edf6\", element=\"9BAA7B59C9354C548B2D2EA047367C15_element_983\")>,\n",
       " <selenium.webdriver.remote.webelement.WebElement (session=\"82ddd175ad956b876fedcf410e33edf6\", element=\"9BAA7B59C9354C548B2D2EA047367C15_element_997\")>,\n",
       " <selenium.webdriver.remote.webelement.WebElement (session=\"82ddd175ad956b876fedcf410e33edf6\", element=\"9BAA7B59C9354C548B2D2EA047367C15_element_1011\")>,\n",
       " <selenium.webdriver.remote.webelement.WebElement (session=\"82ddd175ad956b876fedcf410e33edf6\", element=\"9BAA7B59C9354C548B2D2EA047367C15_element_1025\")>,\n",
       " <selenium.webdriver.remote.webelement.WebElement (session=\"82ddd175ad956b876fedcf410e33edf6\", element=\"9BAA7B59C9354C548B2D2EA047367C15_element_1039\")>,\n",
       " <selenium.webdriver.remote.webelement.WebElement (session=\"82ddd175ad956b876fedcf410e33edf6\", element=\"9BAA7B59C9354C548B2D2EA047367C15_element_1053\")>,\n",
       " <selenium.webdriver.remote.webelement.WebElement (session=\"82ddd175ad956b876fedcf410e33edf6\", element=\"9BAA7B59C9354C548B2D2EA047367C15_element_1067\")>,\n",
       " <selenium.webdriver.remote.webelement.WebElement (session=\"82ddd175ad956b876fedcf410e33edf6\", element=\"9BAA7B59C9354C548B2D2EA047367C15_element_1081\")>,\n",
       " <selenium.webdriver.remote.webelement.WebElement (session=\"82ddd175ad956b876fedcf410e33edf6\", element=\"9BAA7B59C9354C548B2D2EA047367C15_element_1095\")>]"
      ]
     },
     "execution_count": 117,
     "metadata": {},
     "output_type": "execute_result"
    }
   ],
   "source": [
    "Cars=[]\n",
    "Cars_images=driver.find_elements(By.XPATH,'//a[@class=\"FRuiCf islib nfEiy\"]')\n",
    "Cars_images[:10]"
   ]
  },
  {
   "cell_type": "code",
   "execution_count": 118,
   "id": "f47f8480",
   "metadata": {
    "collapsed": true
   },
   "outputs": [
    {
     "name": "stdout",
     "output_type": "stream",
     "text": [
      "None\n",
      "None\n",
      "None\n",
      "None\n",
      "None\n",
      "None\n",
      "None\n",
      "None\n",
      "None\n",
      "None\n"
     ]
    }
   ],
   "source": [
    "for i in Cars_images[:10]:\n",
    "    print(i.get_attribute('href'))"
   ]
  },
  {
   "cell_type": "code",
   "execution_count": 121,
   "id": "1b832365",
   "metadata": {},
   "outputs": [],
   "source": [
    "driver=webdriver.Chrome()\n",
    "time.sleep(10)\n",
    "\n",
    "driver.get('https://www.google.com/')"
   ]
  },
  {
   "cell_type": "code",
   "execution_count": 122,
   "id": "5bb30731",
   "metadata": {},
   "outputs": [],
   "source": [
    "key_word=driver.find_element(By.XPATH,'/html/body/div[1]/div[3]/form/div[1]/div[1]/div[1]/div/div[2]/textarea')\n",
    "key_word.send_keys('images.google.com')"
   ]
  },
  {
   "cell_type": "code",
   "execution_count": 123,
   "id": "a9d1960f",
   "metadata": {},
   "outputs": [],
   "source": [
    "search=driver.find_element(By.XPATH,'/html/body/div[1]/div[3]/form/div[1]/div[1]/div[2]/div[2]/div[2]/div[1]/div/ul/li[1]/div/div[1]')\n",
    "search.click()"
   ]
  },
  {
   "cell_type": "code",
   "execution_count": 124,
   "id": "15d6b678",
   "metadata": {},
   "outputs": [],
   "source": [
    "search_images=driver.find_element(By.XPATH,'/html/body/div[5]/div/div[10]/div/div[2]/div[2]/div/div/div[1]/div/div/div/div[1]/div/div/span/a/h3')\n",
    "search_images.click()"
   ]
  },
  {
   "cell_type": "code",
   "execution_count": 125,
   "id": "0e4396e2",
   "metadata": {},
   "outputs": [],
   "source": [
    "search_machine=driver.find_element(By.XPATH,'/html/body/div[1]/div[3]/form/div[1]/div[1]/div[1]/div/div[2]/textarea')\n",
    "search_machine.send_keys('machine learning')"
   ]
  },
  {
   "cell_type": "code",
   "execution_count": 126,
   "id": "93654b80",
   "metadata": {},
   "outputs": [],
   "source": [
    "search=driver.find_element(By.XPATH,'/html/body/div[1]/div[3]/form/div[1]/div[1]/div[2]/div[2]/div[2]/div[1]/div/ul/li[1]/div/div[1]')\n",
    "search.click()"
   ]
  },
  {
   "cell_type": "code",
   "execution_count": 138,
   "id": "1f1cc9cf",
   "metadata": {},
   "outputs": [
    {
     "data": {
      "text/plain": [
       "[<selenium.webdriver.remote.webelement.WebElement (session=\"920c3a55e662ee3d67ef85699e737af9\", element=\"EF9FDA3F3513EAD3A2EAFB11A6DCAA36_element_1030\")>,\n",
       " <selenium.webdriver.remote.webelement.WebElement (session=\"920c3a55e662ee3d67ef85699e737af9\", element=\"EF9FDA3F3513EAD3A2EAFB11A6DCAA36_element_898\")>,\n",
       " <selenium.webdriver.remote.webelement.WebElement (session=\"920c3a55e662ee3d67ef85699e737af9\", element=\"EF9FDA3F3513EAD3A2EAFB11A6DCAA36_element_903\")>,\n",
       " <selenium.webdriver.remote.webelement.WebElement (session=\"920c3a55e662ee3d67ef85699e737af9\", element=\"EF9FDA3F3513EAD3A2EAFB11A6DCAA36_element_908\")>,\n",
       " <selenium.webdriver.remote.webelement.WebElement (session=\"920c3a55e662ee3d67ef85699e737af9\", element=\"EF9FDA3F3513EAD3A2EAFB11A6DCAA36_element_913\")>,\n",
       " <selenium.webdriver.remote.webelement.WebElement (session=\"920c3a55e662ee3d67ef85699e737af9\", element=\"EF9FDA3F3513EAD3A2EAFB11A6DCAA36_element_916\")>,\n",
       " <selenium.webdriver.remote.webelement.WebElement (session=\"920c3a55e662ee3d67ef85699e737af9\", element=\"EF9FDA3F3513EAD3A2EAFB11A6DCAA36_element_920\")>,\n",
       " <selenium.webdriver.remote.webelement.WebElement (session=\"920c3a55e662ee3d67ef85699e737af9\", element=\"EF9FDA3F3513EAD3A2EAFB11A6DCAA36_element_941\")>,\n",
       " <selenium.webdriver.remote.webelement.WebElement (session=\"920c3a55e662ee3d67ef85699e737af9\", element=\"EF9FDA3F3513EAD3A2EAFB11A6DCAA36_element_945\")>,\n",
       " <selenium.webdriver.remote.webelement.WebElement (session=\"920c3a55e662ee3d67ef85699e737af9\", element=\"EF9FDA3F3513EAD3A2EAFB11A6DCAA36_element_948\")>]"
      ]
     },
     "execution_count": 138,
     "metadata": {},
     "output_type": "execute_result"
    }
   ],
   "source": [
    "machine_learning=[]\n",
    "machine_learning=driver.find_elements(By.XPATH,'//a[@class=\"FRuiCf islib nfEiy\"]')\n",
    "machine_learning[:10]"
   ]
  },
  {
   "cell_type": "code",
   "execution_count": 139,
   "id": "83e86ba8",
   "metadata": {},
   "outputs": [
    {
     "name": "stdout",
     "output_type": "stream",
     "text": [
      "https://www.google.com/imgres?imgurl=https%3A%2F%2Fbuiltin.com%2Fsites%2Fwww.builtin.com%2Ffiles%2Fstyles%2Fckeditor_optimize%2Fpublic%2Finline-images%2Fmachine-learning-pillar-page-overview.jpeg&tbnid=l-cGl_rCHwN1sM&vet=12ahUKEwif6qqZxpiDAxWcb2wGHbGMAnwQMygAegQIARBx..i&imgrefurl=https%3A%2F%2Fbuiltin.com%2Fmachine-learning&docid=2WRsUM8G9U-OfM&w=810&h=804&q=machine%20learning&hl=en&ved=2ahUKEwif6qqZxpiDAxWcb2wGHbGMAnwQMygAegQIARBx\n",
      "None\n",
      "None\n",
      "None\n",
      "None\n",
      "None\n",
      "None\n",
      "None\n",
      "None\n",
      "None\n"
     ]
    }
   ],
   "source": [
    "for i in machine_learning[:10]:\n",
    "    print(i.get_attribute('href'))"
   ]
  },
  {
   "cell_type": "code",
   "execution_count": 131,
   "id": "e94a909a",
   "metadata": {
    "collapsed": true
   },
   "outputs": [
    {
     "data": {
      "text/plain": [
       "[<selenium.webdriver.remote.webelement.WebElement (session=\"920c3a55e662ee3d67ef85699e737af9\", element=\"EF9FDA3F3513EAD3A2EAFB11A6DCAA36_element_896\")>,\n",
       " <selenium.webdriver.remote.webelement.WebElement (session=\"920c3a55e662ee3d67ef85699e737af9\", element=\"EF9FDA3F3513EAD3A2EAFB11A6DCAA36_element_899\")>,\n",
       " <selenium.webdriver.remote.webelement.WebElement (session=\"920c3a55e662ee3d67ef85699e737af9\", element=\"EF9FDA3F3513EAD3A2EAFB11A6DCAA36_element_904\")>,\n",
       " <selenium.webdriver.remote.webelement.WebElement (session=\"920c3a55e662ee3d67ef85699e737af9\", element=\"EF9FDA3F3513EAD3A2EAFB11A6DCAA36_element_909\")>,\n",
       " <selenium.webdriver.remote.webelement.WebElement (session=\"920c3a55e662ee3d67ef85699e737af9\", element=\"EF9FDA3F3513EAD3A2EAFB11A6DCAA36_element_914\")>,\n",
       " <selenium.webdriver.remote.webelement.WebElement (session=\"920c3a55e662ee3d67ef85699e737af9\", element=\"EF9FDA3F3513EAD3A2EAFB11A6DCAA36_element_917\")>,\n",
       " <selenium.webdriver.remote.webelement.WebElement (session=\"920c3a55e662ee3d67ef85699e737af9\", element=\"EF9FDA3F3513EAD3A2EAFB11A6DCAA36_element_921\")>,\n",
       " <selenium.webdriver.remote.webelement.WebElement (session=\"920c3a55e662ee3d67ef85699e737af9\", element=\"EF9FDA3F3513EAD3A2EAFB11A6DCAA36_element_942\")>,\n",
       " <selenium.webdriver.remote.webelement.WebElement (session=\"920c3a55e662ee3d67ef85699e737af9\", element=\"EF9FDA3F3513EAD3A2EAFB11A6DCAA36_element_1033\")>,\n",
       " <selenium.webdriver.remote.webelement.WebElement (session=\"920c3a55e662ee3d67ef85699e737af9\", element=\"EF9FDA3F3513EAD3A2EAFB11A6DCAA36_element_1034\")>,\n",
       " <selenium.webdriver.remote.webelement.WebElement (session=\"920c3a55e662ee3d67ef85699e737af9\", element=\"EF9FDA3F3513EAD3A2EAFB11A6DCAA36_element_1035\")>,\n",
       " <selenium.webdriver.remote.webelement.WebElement (session=\"920c3a55e662ee3d67ef85699e737af9\", element=\"EF9FDA3F3513EAD3A2EAFB11A6DCAA36_element_1036\")>,\n",
       " <selenium.webdriver.remote.webelement.WebElement (session=\"920c3a55e662ee3d67ef85699e737af9\", element=\"EF9FDA3F3513EAD3A2EAFB11A6DCAA36_element_1037\")>,\n",
       " <selenium.webdriver.remote.webelement.WebElement (session=\"920c3a55e662ee3d67ef85699e737af9\", element=\"EF9FDA3F3513EAD3A2EAFB11A6DCAA36_element_1038\")>,\n",
       " <selenium.webdriver.remote.webelement.WebElement (session=\"920c3a55e662ee3d67ef85699e737af9\", element=\"EF9FDA3F3513EAD3A2EAFB11A6DCAA36_element_1039\")>,\n",
       " <selenium.webdriver.remote.webelement.WebElement (session=\"920c3a55e662ee3d67ef85699e737af9\", element=\"EF9FDA3F3513EAD3A2EAFB11A6DCAA36_element_1040\")>,\n",
       " <selenium.webdriver.remote.webelement.WebElement (session=\"920c3a55e662ee3d67ef85699e737af9\", element=\"EF9FDA3F3513EAD3A2EAFB11A6DCAA36_element_1041\")>,\n",
       " <selenium.webdriver.remote.webelement.WebElement (session=\"920c3a55e662ee3d67ef85699e737af9\", element=\"EF9FDA3F3513EAD3A2EAFB11A6DCAA36_element_1042\")>,\n",
       " <selenium.webdriver.remote.webelement.WebElement (session=\"920c3a55e662ee3d67ef85699e737af9\", element=\"EF9FDA3F3513EAD3A2EAFB11A6DCAA36_element_1043\")>,\n",
       " <selenium.webdriver.remote.webelement.WebElement (session=\"920c3a55e662ee3d67ef85699e737af9\", element=\"EF9FDA3F3513EAD3A2EAFB11A6DCAA36_element_1044\")>]"
      ]
     },
     "execution_count": 131,
     "metadata": {},
     "output_type": "execute_result"
    }
   ],
   "source": [
    "machine_learning[:20]"
   ]
  },
  {
   "cell_type": "code",
   "execution_count": 140,
   "id": "de5c389b",
   "metadata": {},
   "outputs": [],
   "source": [
    "driver=webdriver.Chrome()\n",
    "time.sleep(10)\n",
    "driver.get('https://www.google.com/')"
   ]
  },
  {
   "cell_type": "code",
   "execution_count": 141,
   "id": "e6db2afe",
   "metadata": {},
   "outputs": [],
   "source": [
    "key_word=driver.find_element(By.XPATH,'/html/body/div[1]/div[3]/form/div[1]/div[1]/div[1]/div/div[2]/textarea')\n",
    "key_word.send_keys('images.google.com')"
   ]
  },
  {
   "cell_type": "code",
   "execution_count": 142,
   "id": "15827a25",
   "metadata": {},
   "outputs": [],
   "source": [
    "search=driver.find_element(By.XPATH,'/html/body/div[1]/div[3]/form/div[1]/div[1]/div[2]/div[2]/div[2]/div[1]/div/ul/li[1]/div/div[1]')\n",
    "search.click()"
   ]
  },
  {
   "cell_type": "code",
   "execution_count": 143,
   "id": "d6158665",
   "metadata": {},
   "outputs": [],
   "source": [
    "search_images=driver.find_element(By.XPATH,'/html/body/div[5]/div/div[10]/div/div[2]/div[2]/div/div/div[1]/div/div/div/div[1]/div/div/span/a/h3')\n",
    "search_images.click()"
   ]
  },
  {
   "cell_type": "code",
   "execution_count": 144,
   "id": "b4cd5ea7",
   "metadata": {},
   "outputs": [],
   "source": [
    "search_guitar=driver.find_element(By.XPATH,'/html/body/div[1]/div[3]/form/div[1]/div[1]/div[1]/div/div[2]/textarea')\n",
    "search_guitar.send_keys('guitar')"
   ]
  },
  {
   "cell_type": "code",
   "execution_count": 145,
   "id": "46ffd7c3",
   "metadata": {},
   "outputs": [],
   "source": [
    "search=driver.find_element(By.XPATH,'/html/body/div[1]/div[3]/form/div[1]/div[1]/div[2]/div[2]/div[2]/div[1]/div/ul/li[1]/div/div[1]')\n",
    "search.click()"
   ]
  },
  {
   "cell_type": "code",
   "execution_count": 146,
   "id": "6723afe4",
   "metadata": {},
   "outputs": [
    {
     "data": {
      "text/plain": [
       "[<selenium.webdriver.remote.webelement.WebElement (session=\"f0ede7cc9f444a6c58b2ee4be8b3759c\", element=\"9787E5D95D2A586902D750852C04C114_element_1655\")>,\n",
       " <selenium.webdriver.remote.webelement.WebElement (session=\"f0ede7cc9f444a6c58b2ee4be8b3759c\", element=\"9787E5D95D2A586902D750852C04C114_element_1656\")>,\n",
       " <selenium.webdriver.remote.webelement.WebElement (session=\"f0ede7cc9f444a6c58b2ee4be8b3759c\", element=\"9787E5D95D2A586902D750852C04C114_element_1657\")>,\n",
       " <selenium.webdriver.remote.webelement.WebElement (session=\"f0ede7cc9f444a6c58b2ee4be8b3759c\", element=\"9787E5D95D2A586902D750852C04C114_element_1658\")>,\n",
       " <selenium.webdriver.remote.webelement.WebElement (session=\"f0ede7cc9f444a6c58b2ee4be8b3759c\", element=\"9787E5D95D2A586902D750852C04C114_element_1659\")>,\n",
       " <selenium.webdriver.remote.webelement.WebElement (session=\"f0ede7cc9f444a6c58b2ee4be8b3759c\", element=\"9787E5D95D2A586902D750852C04C114_element_1660\")>,\n",
       " <selenium.webdriver.remote.webelement.WebElement (session=\"f0ede7cc9f444a6c58b2ee4be8b3759c\", element=\"9787E5D95D2A586902D750852C04C114_element_1661\")>,\n",
       " <selenium.webdriver.remote.webelement.WebElement (session=\"f0ede7cc9f444a6c58b2ee4be8b3759c\", element=\"9787E5D95D2A586902D750852C04C114_element_1662\")>,\n",
       " <selenium.webdriver.remote.webelement.WebElement (session=\"f0ede7cc9f444a6c58b2ee4be8b3759c\", element=\"9787E5D95D2A586902D750852C04C114_element_1663\")>,\n",
       " <selenium.webdriver.remote.webelement.WebElement (session=\"f0ede7cc9f444a6c58b2ee4be8b3759c\", element=\"9787E5D95D2A586902D750852C04C114_element_1664\")>]"
      ]
     },
     "execution_count": 146,
     "metadata": {},
     "output_type": "execute_result"
    }
   ],
   "source": [
    "guitar=[]\n",
    "guitar=driver.find_elements(By.XPATH,'//a[@class=\"bkM8m pla-link\"]')\n",
    "guitar[:10]"
   ]
  },
  {
   "cell_type": "code",
   "execution_count": 148,
   "id": "9c305915",
   "metadata": {},
   "outputs": [
    {
     "name": "stdout",
     "output_type": "stream",
     "text": [
      "https://www.ubuy.com.gh/product/4DK3Y6IW4-red-acoustic-guitar-leaned-against-a-tree-photo-photograph-cool-wall-decor-art-print-poster-12x18\n",
      "https://www.amazon.in/Childrens-Musical-Instrument-Educational-Beginners/dp/B09R4P7234?source=ps-sl-shoppingads-lpcontext&ref_=fplfs&psc=1&smid=A2E6CJT315WTTS\n",
      "https://www.amazon.in/Yamaha-F280-Acoustic-Guitar-Natural/dp/B08317Y4VP?source=ps-sl-shoppingads-lpcontext&ref_=fplfs&psc=1&smid=A1WYWER0W24N8S\n",
      "https://yamahamusicstore.in/musical-instruments/guitars/classical-nylon-guitars/yamaha-cs40-classical-guitar.html\n",
      "https://yamahamusicstore.in/case-offer-category/yamaha-f280-tbs-brown-sunburst-acoustic-guitar.html\n",
      "https://www.ubuy.com.sa/en/product/2C6K4GJ0-music-alley-ma-34-pnk-acoustic-beginner-guitar-pack-pink\n",
      "https://www.amazon.in/DOMENICO-4-String-Acoustic-Instrument-Learning/dp/B09M9VKRK8?source=ps-sl-shoppingads-lpcontext&ref_=fplfs&psc=1&smid=A34JOVU3XCN0ST\n",
      "https://www.amazon.in/Blueberry-B-D38-Acoustic-Inbuilt-Strings/dp/B07PHYZZP1?source=ps-sl-shoppingads-lpcontext&ref_=fplfs&psc=1&smid=A3HCWE0HCT5KDF\n",
      "https://www.amazon.in/Fender-FA-125CE-Dreadnought-Fingerboard-Natural/dp/B07R16NMKH?source=ps-sl-shoppingads-lpcontext&ref_=fplfs&psc=1&smid=A2E0IZ06LXDJ9X\n",
      "https://www.bajaao.com/products/fender-squier-sonic-stratocaster-electric-guitar?variant=36348021604513\n"
     ]
    }
   ],
   "source": [
    "for i in guitar[:10]:\n",
    "    print(i.get_attribute('href'))"
   ]
  },
  {
   "cell_type": "code",
   "execution_count": 149,
   "id": "ecdd469e",
   "metadata": {},
   "outputs": [],
   "source": [
    "driver=webdriver.Chrome()\n",
    "time.sleep(10)\n",
    "driver.get('https://www.google.com/')"
   ]
  },
  {
   "cell_type": "code",
   "execution_count": 150,
   "id": "56c261d5",
   "metadata": {},
   "outputs": [],
   "source": [
    "key_word=driver.find_element(By.XPATH,'/html/body/div[1]/div[3]/form/div[1]/div[1]/div[1]/div/div[2]/textarea')\n",
    "key_word.send_keys('images.google.com')"
   ]
  },
  {
   "cell_type": "code",
   "execution_count": 151,
   "id": "dba46a05",
   "metadata": {},
   "outputs": [],
   "source": [
    "search=driver.find_element(By.XPATH,'/html/body/div[1]/div[3]/form/div[1]/div[1]/div[2]/div[2]/div[2]/div[1]/div/ul/li[1]/div/div[1]')\n",
    "search.click()"
   ]
  },
  {
   "cell_type": "code",
   "execution_count": 152,
   "id": "63831102",
   "metadata": {},
   "outputs": [],
   "source": [
    "search_images=driver.find_element(By.XPATH,'/html/body/div[5]/div/div[10]/div/div[2]/div[2]/div/div/div[1]/div/div/div/div[1]/div/div/span/a/h3')\n",
    "search_images.click()"
   ]
  },
  {
   "cell_type": "code",
   "execution_count": 153,
   "id": "16de37c6",
   "metadata": {},
   "outputs": [],
   "source": [
    "search_guitar=driver.find_element(By.XPATH,'/html/body/div[1]/div[3]/form/div[1]/div[1]/div[1]/div/div[2]/textarea')\n",
    "search_guitar.send_keys('cakes')"
   ]
  },
  {
   "cell_type": "code",
   "execution_count": 154,
   "id": "d17dd751",
   "metadata": {},
   "outputs": [],
   "source": [
    "search=driver.find_element(By.XPATH,'/html/body/div[1]/div[3]/form/div[1]/div[1]/div[2]/div[2]/div[2]/div[1]/div/ul/li[1]/div/div[1]')\n",
    "search.click()"
   ]
  },
  {
   "cell_type": "code",
   "execution_count": 156,
   "id": "60bf31c8",
   "metadata": {},
   "outputs": [
    {
     "data": {
      "text/plain": [
       "[<selenium.webdriver.remote.webelement.WebElement (session=\"77d94507c4b060b42448639a7216904d\", element=\"BDA3C5D19DA0E8187D7441FE1396194C_element_291\")>,\n",
       " <selenium.webdriver.remote.webelement.WebElement (session=\"77d94507c4b060b42448639a7216904d\", element=\"BDA3C5D19DA0E8187D7441FE1396194C_element_292\")>,\n",
       " <selenium.webdriver.remote.webelement.WebElement (session=\"77d94507c4b060b42448639a7216904d\", element=\"BDA3C5D19DA0E8187D7441FE1396194C_element_293\")>,\n",
       " <selenium.webdriver.remote.webelement.WebElement (session=\"77d94507c4b060b42448639a7216904d\", element=\"BDA3C5D19DA0E8187D7441FE1396194C_element_294\")>,\n",
       " <selenium.webdriver.remote.webelement.WebElement (session=\"77d94507c4b060b42448639a7216904d\", element=\"BDA3C5D19DA0E8187D7441FE1396194C_element_295\")>,\n",
       " <selenium.webdriver.remote.webelement.WebElement (session=\"77d94507c4b060b42448639a7216904d\", element=\"BDA3C5D19DA0E8187D7441FE1396194C_element_296\")>,\n",
       " <selenium.webdriver.remote.webelement.WebElement (session=\"77d94507c4b060b42448639a7216904d\", element=\"BDA3C5D19DA0E8187D7441FE1396194C_element_297\")>,\n",
       " <selenium.webdriver.remote.webelement.WebElement (session=\"77d94507c4b060b42448639a7216904d\", element=\"BDA3C5D19DA0E8187D7441FE1396194C_element_298\")>,\n",
       " <selenium.webdriver.remote.webelement.WebElement (session=\"77d94507c4b060b42448639a7216904d\", element=\"BDA3C5D19DA0E8187D7441FE1396194C_element_299\")>,\n",
       " <selenium.webdriver.remote.webelement.WebElement (session=\"77d94507c4b060b42448639a7216904d\", element=\"BDA3C5D19DA0E8187D7441FE1396194C_element_300\")>]"
      ]
     },
     "execution_count": 156,
     "metadata": {},
     "output_type": "execute_result"
    }
   ],
   "source": [
    "cake=[]\n",
    "cake=driver.find_elements(By.XPATH,'//a[@class=\"bkM8m pla-link\"]')\n",
    "cake[:10]"
   ]
  },
  {
   "cell_type": "code",
   "execution_count": 157,
   "id": "eaa3ddd4",
   "metadata": {},
   "outputs": [
    {
     "name": "stdout",
     "output_type": "stream",
     "text": [
      "https://www.igp.com/p-christmas-theme-cake-half-kg--123441?currency=inr\n",
      "https://www.fnp.com/gift/valentine-s-heart-red-velvet-cake-half-kg\n",
      "http://www.myflowertree.com/half-kg-eggless-chocolate-cake-658\n",
      "https://www.igp.com/p-chocolate-ganache-drip-cake-half-kg--145970?currency=inr\n",
      "http://www.myflowertree.com/sugarfree-belgium-chocolate-cake-2650\n",
      "http://www.myflowertree.com/black-forest-eggless-cake-652\n",
      "https://www.fnp.com/gift/blackforest-cake-15kg\n",
      "http://www.myflowertree.com/pineapple-cake-10337\n",
      "https://www.fnp.com/gift/chocolaty-truffle-cake-half-kg\n",
      "https://www.funcorp.in/products/partycorp-gold-acrylic-happy-birthday-with-butterfly-cake-topper-1-piece?variant=43987026051372&currency=INR&utm_medium=product_sync&utm_source=google&utm_content=sag_organic&utm_campaign=sag_organic\n"
     ]
    }
   ],
   "source": [
    "for i in cake[:10]:\n",
    "    print(i.get_attribute('href'))"
   ]
  },
  {
   "cell_type": "code",
   "execution_count": null,
   "id": "2b6296c7",
   "metadata": {},
   "outputs": [],
   "source": [
    "# Question 4\n",
    "# Write a python program to search for a smartphone(e.g.: Oneplus Nord, pixel 4A, etc.) on www.flipkart.com\n",
    "# and scrape following details for all the search results displayed on 1st page. Details to be scraped: “Brand \n",
    "# Name”, “Smartphone name”, “Colour”, “RAM”, “Storage(ROM)”, “Primary Camera”, \n",
    "# “Secondary Camera”, “Display Size”, “Battery Capacity”, “Price”, “Product URL”. Incase if any of the \n",
    "# details is missing then replace it by “- “. Save your results in a dataframe and CSV. \n"
   ]
  },
  {
   "cell_type": "code",
   "execution_count": 227,
   "id": "1b9d9e52",
   "metadata": {},
   "outputs": [],
   "source": [
    "driver=webdriver.Chrome()\n",
    "time.sleep(10)\n",
    "driver.get('https://www.flipkart.com/')"
   ]
  },
  {
   "cell_type": "code",
   "execution_count": 228,
   "id": "0f54a7f9",
   "metadata": {},
   "outputs": [],
   "source": [
    "key_word=driver.find_element(By.XPATH,'/html/body/div[1]/div/div[1]/div/div/div/div/div[1]/div/div[1]/div/div[1]/div[1]/header/div[1]/div[2]/form/div/div/input')\n",
    "key_word.send_keys('oneplus nord')"
   ]
  },
  {
   "cell_type": "code",
   "execution_count": 229,
   "id": "232f7601",
   "metadata": {},
   "outputs": [],
   "source": [
    "search=driver.find_element(By.XPATH,'/html/body/div[1]/div/div[1]/div/div/div/div/div[1]/div/div[1]/div/div[1]/div[1]/header/div[1]/div[2]/form/div/button')\n",
    "search.click()"
   ]
  },
  {
   "cell_type": "code",
   "execution_count": 176,
   "id": "52924f21",
   "metadata": {},
   "outputs": [],
   "source": [
    "url=[]\n",
    "oneplus_url=driver.find_elements(By.XPATH,'//a[@class=\"_1fQZEK\"]')\n",
    "for i in oneplus_url:\n",
    "    url.append(i.get_attribute('href'))"
   ]
  },
  {
   "cell_type": "code",
   "execution_count": 177,
   "id": "93cae038",
   "metadata": {
    "collapsed": true
   },
   "outputs": [
    {
     "data": {
      "text/plain": [
       "['https://www.flipkart.com/oneplus-nord-ce-2-lite-5g-blue-tide-128-gb/p/itm7acae55b999e6?pid=MOBGMFREBAHZQGY9&lid=LSTMOBGMFREBAHZQGY9QI18PF&marketplace=FLIPKART&q=oneplus+nord&store=tyy%2F4io&spotlightTagId=BestsellerId_tyy%2F4io&srno=s_1_1&otracker=search&otracker1=search&fm=Search&iid=cca28d8f-59b2-4549-b553-1988b26955d8.MOBGMFREBAHZQGY9.SEARCH&ppt=sp&ppn=sp&ssid=q5wp7kg2i80000001702893765007&qH=e8b736bf4fa84421',\n",
       " 'https://www.flipkart.com/oneplus-nord-ce-2-lite-5g-black-dusk-128-gb/p/itm537fc2aa73747?pid=MOBGHBZHB7YJT5HF&lid=LSTMOBGHBZHB7YJT5HFP6YEZL&marketplace=FLIPKART&q=oneplus+nord&store=tyy%2F4io&srno=s_1_2&otracker=search&otracker1=search&fm=organic&iid=cca28d8f-59b2-4549-b553-1988b26955d8.MOBGHBZHB7YJT5HF.SEARCH&ppt=hp&ppn=homepage&ssid=q5wp7kg2i80000001702893765007&qH=e8b736bf4fa84421',\n",
       " 'https://www.flipkart.com/oneplus-nord-ce-3-lite-5g-pastel-lime-256-gb/p/itm2cd5a4e659035?pid=MOBGZJ3ZFQ8AKKRS&lid=LSTMOBGZJ3ZFQ8AKKRS5BKTBN&marketplace=FLIPKART&q=oneplus+nord&store=tyy%2F4io&srno=s_1_3&otracker=search&otracker1=search&fm=organic&iid=cca28d8f-59b2-4549-b553-1988b26955d8.MOBGZJ3ZFQ8AKKRS.SEARCH&ppt=hp&ppn=homepage&ssid=q5wp7kg2i80000001702893765007&qH=e8b736bf4fa84421',\n",
       " 'https://www.flipkart.com/oneplus-nord-ce-3-lite-5g-chromatic-gray-128-gb/p/itm2cd5a4e659035?pid=MOBGZJ42KHUZZKMN&lid=LSTMOBGZJ42KHUZZKMNONS2RE&marketplace=FLIPKART&q=oneplus+nord&store=tyy%2F4io&srno=s_1_4&otracker=search&otracker1=search&fm=organic&iid=cca28d8f-59b2-4549-b553-1988b26955d8.MOBGZJ42KHUZZKMN.SEARCH&ppt=hp&ppn=homepage&ssid=q5wp7kg2i80000001702893765007&qH=e8b736bf4fa84421',\n",
       " 'https://www.flipkart.com/oneplus-nord-ce-3-lite-5g-pastel-lime-128-gb/p/itm2cd5a4e659035?pid=MOBGZJ3WM5SGTGVZ&lid=LSTMOBGZJ3WM5SGTGVZOTJNOL&marketplace=FLIPKART&q=oneplus+nord&store=tyy%2F4io&srno=s_1_5&otracker=search&otracker1=search&fm=organic&iid=cca28d8f-59b2-4549-b553-1988b26955d8.MOBGZJ3WM5SGTGVZ.SEARCH&ppt=hp&ppn=homepage&ssid=q5wp7kg2i80000001702893765007&qH=e8b736bf4fa84421',\n",
       " 'https://www.flipkart.com/oneplus-nord-ce-3-lite-5g-chromatic-gray-256-gb/p/itm2cd5a4e659035?pid=MOBGZJ45PS4AQ7BA&lid=LSTMOBGZJ45PS4AQ7BAH5O4LO&marketplace=FLIPKART&q=oneplus+nord&store=tyy%2F4io&srno=s_1_6&otracker=search&otracker1=search&fm=organic&iid=cca28d8f-59b2-4549-b553-1988b26955d8.MOBGZJ45PS4AQ7BA.SEARCH&ppt=hp&ppn=homepage&ssid=q5wp7kg2i80000001702893765007&qH=e8b736bf4fa84421',\n",
       " 'https://www.flipkart.com/oneplus-nord-ce-3-lite-5g-chromatic-gray-128-gb/p/itm2cd5a4e659035?pid=MOBGQR6JSKZRFKUD&lid=LSTMOBGQR6JSKZRFKUDHQOB34&marketplace=FLIPKART&q=oneplus+nord&store=tyy%2F4io&srno=s_1_7&otracker=search&otracker1=search&fm=organic&iid=cca28d8f-59b2-4549-b553-1988b26955d8.MOBGQR6JSKZRFKUD.SEARCH&ppt=hp&ppn=homepage&ssid=q5wp7kg2i80000001702893765007&qH=e8b736bf4fa84421',\n",
       " 'https://www.flipkart.com/oneplus-nord-ce-3-lite-5g-pastel-lime-256-gb/p/itm5ed24471bde9f?pid=MOBGPRHYH4K4ZBQQ&lid=LSTMOBGPRHYH4K4ZBQQW2M70R&marketplace=FLIPKART&q=oneplus+nord&store=tyy%2F4io&srno=s_1_8&otracker=search&otracker1=search&fm=organic&iid=cca28d8f-59b2-4549-b553-1988b26955d8.MOBGPRHYH4K4ZBQQ.SEARCH&ppt=hp&ppn=homepage&ssid=q5wp7kg2i80000001702893765007&qH=e8b736bf4fa84421',\n",
       " 'https://www.flipkart.com/oneplus-nord-ce-3-lite-5g-pastel-lime-256-gb/p/itm5da8fffa73e1a?pid=MOBGTXXGSZUKT75G&lid=LSTMOBGTXXGSZUKT75G3KSSLB&marketplace=FLIPKART&q=oneplus+nord&store=tyy%2F4io&srno=s_1_9&otracker=search&otracker1=search&fm=organic&iid=cca28d8f-59b2-4549-b553-1988b26955d8.MOBGTXXGSZUKT75G.SEARCH&ppt=hp&ppn=homepage&ssid=q5wp7kg2i80000001702893765007&qH=e8b736bf4fa84421',\n",
       " 'https://www.flipkart.com/oneplus-nord-ce3-5g-aqua-surge-128-gb/p/itm95b25bfcca817?pid=MOBGS44DBDZBTUWS&lid=LSTMOBGS44DBDZBTUWSIUEUUI&marketplace=FLIPKART&q=oneplus+nord&store=tyy%2F4io&srno=s_1_10&otracker=search&otracker1=search&fm=organic&iid=cca28d8f-59b2-4549-b553-1988b26955d8.MOBGS44DBDZBTUWS.SEARCH&ppt=hp&ppn=homepage&ssid=q5wp7kg2i80000001702893765007&qH=e8b736bf4fa84421']"
      ]
     },
     "execution_count": 177,
     "metadata": {},
     "output_type": "execute_result"
    }
   ],
   "source": [
    "url[:10]"
   ]
  },
  {
   "cell_type": "code",
   "execution_count": 179,
   "id": "6316ca63",
   "metadata": {},
   "outputs": [],
   "source": [
    "brand=[]\n",
    "brand_tags=driver.find_elements(By.XPATH,'//div[@class=\"_4rR01T\"]')\n",
    "for i in brand_tags:\n",
    "    name=i.text\n",
    "    brand.append(name)"
   ]
  },
  {
   "cell_type": "code",
   "execution_count": 224,
   "id": "f89c2793",
   "metadata": {},
   "outputs": [
    {
     "data": {
      "text/plain": [
       "24"
      ]
     },
     "execution_count": 224,
     "metadata": {},
     "output_type": "execute_result"
    }
   ],
   "source": [
    "\n",
    "   len(brand)"
   ]
  },
  {
   "cell_type": "code",
   "execution_count": 191,
   "id": "23e051e2",
   "metadata": {},
   "outputs": [
    {
     "data": {
      "text/plain": [
       "0"
      ]
     },
     "execution_count": 191,
     "metadata": {},
     "output_type": "execute_result"
    }
   ],
   "source": [
    "len(oneplus)"
   ]
  },
  {
   "cell_type": "code",
   "execution_count": 210,
   "id": "01918457",
   "metadata": {},
   "outputs": [],
   "source": [
    "import regex as re\n",
    "mobile_name=[]\n",
    "\n",
    "for i in brand:\n",
    "    pattern=r'[OnePlus]'\n",
    "\n",
    "    result=re.sub(pattern,'',i)\n",
    "    mobile_name.append(result)\n",
    "    \n",
    "    "
   ]
  },
  {
   "cell_type": "code",
   "execution_count": 222,
   "id": "003cf128",
   "metadata": {},
   "outputs": [
    {
     "data": {
      "text/plain": [
       "[' Nord CE 2 Lit 5G (B Tid, 128 GB)',\n",
       " ' Nord CE 2 Lit 5G (Back Dk, 128 GB)',\n",
       " ' Nord CE 3 Lit 5G (at Lim, 256 GB)',\n",
       " ' Nord CE 3 Lit 5G (Chromatic Gray, 128 GB)',\n",
       " ' Nord CE 3 Lit 5G (at Lim, 128 GB)',\n",
       " ' Nord CE 3 Lit 5G (Chromatic Gray, 256 GB)',\n",
       " ' Nord CE 3 Lit 5G (Chromatic Gray, 128 GB)',\n",
       " ' Nord CE 3 Lit 5G (at im, 256 GB)',\n",
       " ' Nord CE 3 Lit 5G (at Lim, 256 GB)',\n",
       " ' Nord CE3 5G (Aqa Srg, 128 GB)',\n",
       " ' Nord CE3 5G (Gry Shimmr, 128 GB)',\n",
       " ' Nord CE3 5G (Gry Shimmr, 256 GB)',\n",
       " ' Nord CE 3 Lit 5G (Chromatic Gray, 128 GB)',\n",
       " ' Nord CE 3 Lit 5G (at Lim, 128 GB)',\n",
       " ' Nord CE 3 Lit 5G (Chromatic Gray, 256 GB)',\n",
       " ' Nord 3 5G (Mity Gr, 128 GB)',\n",
       " ' Nord CE3 5G (Aqa Srg, 256 GB)',\n",
       " ' Nord CE 3 Lit 5G (Chromatic Gray, 256 GB)',\n",
       " ' Nord 3 5G (Tmpt Gray, 256 GB)',\n",
       " ' Nord 3 5G (Mity Gr, 256 GB)',\n",
       " ' Nord 3 5G (Tmpt Gray, 128 GB)',\n",
       " ' Nord 2T 5G (Jad Fog, 128 GB)',\n",
       " ' Nord 2T 5G (Jad Fog, 256 GB)',\n",
       " ' Nord 2 5G (B Haz, 256 GB)']"
      ]
     },
     "execution_count": 222,
     "metadata": {},
     "output_type": "execute_result"
    }
   ],
   "source": [
    "mobile_name"
   ]
  },
  {
   "cell_type": "code",
   "execution_count": 225,
   "id": "1c7a0725",
   "metadata": {},
   "outputs": [
    {
     "data": {
      "text/plain": [
       "24"
      ]
     },
     "execution_count": 225,
     "metadata": {},
     "output_type": "execute_result"
    }
   ],
   "source": [
    "len(mobile_name)"
   ]
  },
  {
   "cell_type": "code",
   "execution_count": 240,
   "id": "dd6d9314",
   "metadata": {},
   "outputs": [],
   "source": [
    "mobile_details=[]\n",
    "mobile_tags=driver.find_elements(By.XPATH,'//div[@class=\"col col-7-12\"]')\n",
    "for i in mobile_tags:\n",
    "    mobile=i.text\n",
    "    mobile_details.append(mobile)"
   ]
  },
  {
   "cell_type": "code",
   "execution_count": 241,
   "id": "5e4b5343",
   "metadata": {
    "collapsed": true
   },
   "outputs": [
    {
     "data": {
      "text/plain": [
       "['OnePlus Nord CE 2 Lite 5G (Blue Tide, 128 GB)\\n4.41,42,568 Ratings & 9,848 Reviews\\n6 GB RAM | 128 GB ROM\\n16.74 cm (6.59 inch) Display\\n64MP Rear Camera | 16MP Front Camera\\n5000 mAh Battery\\n12 Months',\n",
       " 'OnePlus Nord CE 2 Lite 5G (Black Dusk, 128 GB)\\n4.41,42,568 Ratings & 9,848 Reviews\\n6 GB RAM | 128 GB ROM\\n16.74 cm (6.59 inch) Display\\n64MP Rear Camera | 16MP Front Camera\\n5000 mAh Battery\\n12 months',\n",
       " 'OnePlus Nord CE 3 Lite 5G (Pastel Lime, 256 GB)\\n4.433,473 Ratings & 2,361 Reviews\\n8 GB RAM | 256 GB ROM\\n17.07 cm (6.72 inch) Display\\n108MP Rear Camera\\n5000 mAh Battery\\nDomestic Warranty of 12 months on phone & 6 months on accessories',\n",
       " 'OnePlus Nord CE 3 Lite 5G (Chromatic Gray, 128 GB)\\n4.433,473 Ratings & 2,361 Reviews\\n8 GB RAM | 128 GB ROM\\n17.07 cm (6.72 inch) Display\\n108MP Rear Camera\\n5000 mAh Battery\\nDomestic Warranty of 12 months on phone & 6 months on accessories',\n",
       " 'OnePlus Nord CE 3 Lite 5G (Chromatic Gray, 128 GB)\\n4.433,473 Ratings & 2,361 Reviews\\n8 GB RAM | 128 GB ROM\\n17.07 cm (6.72 inch) Display\\n108MP Rear Camera\\n5000 mAh Battery\\nDomestic Warranty of 12 months on phone & 6 months on accessories',\n",
       " 'OnePlus Nord CE 3 Lite 5G (Pastel Lime, 128 GB)\\n4.433,473 Ratings & 2,361 Reviews\\n8 GB RAM | 128 GB ROM\\n17.07 cm (6.72 inch) Display\\n108MP Rear Camera\\n5000 mAh Battery\\nDomestic Warranty of 12 months on phone & 6 months on accessories',\n",
       " 'OnePlus Nord CE 3 Lite 5G (Chromatic Gray, 256 GB)\\n4.433,473 Ratings & 2,361 Reviews\\n8 GB RAM | 256 GB ROM\\n17.07 cm (6.72 inch) Display\\n108MP Rear Camera\\n5000 mAh Battery\\n1 Year for handset ,6 months fro accessories',\n",
       " 'OnePlus Nord CE3 5G (Aqua Surge, 256 GB)\\n4.42,376 Ratings & 207 Reviews\\n12 GB RAM | 256 GB ROM\\n17.02 cm (6.7 inch) Display\\n50MP Rear Camera\\n5000 mAh Battery\\nDomestic 1 Year of Device & 6 Months for In-Box Accessories',\n",
       " 'OnePlus Nord CE3 5G (Grey Shimmer, 128 GB)\\n4.43,238 Ratings & 304 Reviews\\n8 GB RAM | 128 GB ROM\\n17.02 cm (6.7 inch) Display\\n50MP Rear Camera\\n5000 mAh Battery\\nDomestic 1 Year of Device & 6 Months for In-Box Accessories',\n",
       " 'OnePlus Nord CE 3 Lite 5G (Pastel lime, 256 GB)\\n4.433,473 Ratings & 2,361 Reviews\\n8 GB RAM | 256 GB ROM\\n17.07 cm (6.72 inch) Display\\n108MP Rear Camera\\n5000 mAh Battery\\n1 Year for handset ,6 months fro accessories',\n",
       " 'OnePlus Nord CE 3 Lite 5G (Chromatic Gray, 256 GB)\\n4.433,473 Ratings & 2,361 Reviews\\n8 GB RAM | 256 GB ROM\\n17.07 cm (6.72 inch) Display\\n108MP Rear Camera\\n5000 mAh Battery\\nDomestic Warranty of 12 months on phone & 6 months on accessories',\n",
       " 'OnePlus Nord CE3 5G (Aqua Surge, 128 GB)\\n4.43,238 Ratings & 304 Reviews\\n8 GB RAM | 128 GB ROM\\n17.02 cm (6.7 inch) Display\\n50MP Rear Camera\\n5000 mAh Battery\\nDomestic 1 Year of Device & 6 Months for In-Box Accessories',\n",
       " 'OnePlus Nord CE 3 Lite 5G (Chromatic Gray, 256 GB)\\n4.433,473 Ratings & 2,361 Reviews\\n8 GB RAM | 256 GB ROM\\n17.07 cm (6.72 inch) Display\\n108MP Rear Camera\\n5000 mAh Battery\\nDomestic Warranty of 12 months on phone & 6 months on accessories',\n",
       " 'OnePlus Nord CE 3 Lite 5G (Chromatic Gray, 128 GB)\\n4.433,473 Ratings & 2,361 Reviews\\n8 GB RAM | 128 GB ROM\\n17.07 cm (6.72 inch) Display\\n108MP Rear Camera\\n5000 mAh Battery\\nDomestic Warranty of 12 months on phone & 6 months on accessories',\n",
       " 'OnePlus Nord CE3 5G (Grey Shimmer, 256 GB)\\n4.42,376 Ratings & 207 Reviews\\n12 GB RAM | 256 GB ROM\\n17.02 cm (6.7 inch) Display\\n50MP Rear Camera\\n5000 mAh Battery\\nDomestic 1 Year of Device & 6 Months for In-Box Accessories',\n",
       " 'OnePlus Nord 3 5G (Tempest Gray, 128 GB)\\n4.42,555 Ratings & 286 Reviews\\n8 GB RAM | 128 GB ROM\\n17.12 cm (6.74 inch) Display\\n50MP Rear Camera\\n5000 mAh Battery\\nDomestic 1 Year of Device & 6 Months for In-Box Accessories',\n",
       " 'OnePlus Nord 3 5G (Misty Green, 256 GB)\\n4.4865 Ratings & 72 Reviews\\n16 GB RAM | 256 GB ROM\\n17.12 cm (6.74 inch) Display\\n50MP Rear Camera\\n5000 mAh Battery\\nDomestic 1 Year of Device & 6 Months for In-Box Accessories',\n",
       " 'OnePlus Nord 3 5G (Misty Green, 128 GB)\\n4.42,555 Ratings & 286 Reviews\\n8 GB RAM | 128 GB ROM\\n17.12 cm (6.74 inch) Display\\n50MP Rear Camera\\n5000 mAh Battery\\nDomestic 1 Year of Device & 6 Months for In-Box Accessories',\n",
       " 'OnePlus Nord CE 3 Lite 5G (Pastel Lime, 128 GB)\\n4.433,473 Ratings & 2,361 Reviews\\n8 GB RAM | 128 GB ROM\\n17.07 cm (6.72 inch) Display\\n108MP Rear Camera\\n5000 mAh Battery\\nDomestic Warranty of 12 months on phone & 6 months on accessories',\n",
       " 'OnePlus Nord 3 5G (Tempest Gray, 256 GB)\\n4.4865 Ratings & 72 Reviews\\n16 GB RAM | 256 GB ROM\\n17.12 cm (6.74 inch) Display\\n50MP Rear Camera\\n5000 mAh Battery\\nDomestic 1 Year of Device & 6 Months for In-Box Accessories',\n",
       " 'OnePlus Nord 2T 5G (Jade Fog, 256 GB)\\n4.32,641 Ratings & 192 Reviews\\n12 GB RAM | 256 GB ROM\\n17.02 cm (6.7 inch) Display\\n50MP Rear Camera\\n4500 mAh Battery\\n12 months Warranty',\n",
       " 'OnePlus Nord CE 5G (Blue Void, 256 GB)\\n4.1361 Ratings & 32 Reviews\\n12 GB RAM | 256 GB ROM\\n16.33 cm (6.43 inch) Display\\n64MP Rear Camera\\n4500 mAh Battery\\nQualcomm Snapdragon Octa Core 750G 5G Processor Processor\\n1 Year',\n",
       " 'OnePlus Nord 2T 5G (Gray Shadow, 128 GB)\\n4.312,983 Ratings & 1,029 Reviews\\n8 GB RAM | 128 GB ROM\\n17.02 cm (6.7 inch) Display\\n50MP Rear Camera\\n4500 mAh Battery\\n12 Month',\n",
       " 'OnePlus Nord 2T 5G (Gray Shadow, 128 GB)\\n4.312,983 Ratings & 1,029 Reviews\\n8 GB RAM | 128 GB ROM\\n17.02 cm (6.7 inch) Display\\n50MP Rear Camera\\n4500 mAh Battery\\n12 Month']"
      ]
     },
     "execution_count": 241,
     "metadata": {},
     "output_type": "execute_result"
    }
   ],
   "source": [
    "mobile_details"
   ]
  },
  {
   "cell_type": "code",
   "execution_count": 242,
   "id": "3418d7cd",
   "metadata": {},
   "outputs": [],
   "source": [
    "oneplus_mobile=pd.DataFrame({'Mobile details':mobile_details})"
   ]
  },
  {
   "cell_type": "code",
   "execution_count": 243,
   "id": "7710f767",
   "metadata": {},
   "outputs": [
    {
     "data": {
      "text/html": [
       "<div>\n",
       "<style scoped>\n",
       "    .dataframe tbody tr th:only-of-type {\n",
       "        vertical-align: middle;\n",
       "    }\n",
       "\n",
       "    .dataframe tbody tr th {\n",
       "        vertical-align: top;\n",
       "    }\n",
       "\n",
       "    .dataframe thead th {\n",
       "        text-align: right;\n",
       "    }\n",
       "</style>\n",
       "<table border=\"1\" class=\"dataframe\">\n",
       "  <thead>\n",
       "    <tr style=\"text-align: right;\">\n",
       "      <th></th>\n",
       "      <th>Mobile details</th>\n",
       "    </tr>\n",
       "  </thead>\n",
       "  <tbody>\n",
       "    <tr>\n",
       "      <th>0</th>\n",
       "      <td>OnePlus Nord CE 2 Lite 5G (Blue Tide, 128 GB)\\...</td>\n",
       "    </tr>\n",
       "    <tr>\n",
       "      <th>1</th>\n",
       "      <td>OnePlus Nord CE 2 Lite 5G (Black Dusk, 128 GB)...</td>\n",
       "    </tr>\n",
       "    <tr>\n",
       "      <th>2</th>\n",
       "      <td>OnePlus Nord CE 3 Lite 5G (Pastel Lime, 256 GB...</td>\n",
       "    </tr>\n",
       "    <tr>\n",
       "      <th>3</th>\n",
       "      <td>OnePlus Nord CE 3 Lite 5G (Chromatic Gray, 128...</td>\n",
       "    </tr>\n",
       "    <tr>\n",
       "      <th>4</th>\n",
       "      <td>OnePlus Nord CE 3 Lite 5G (Chromatic Gray, 128...</td>\n",
       "    </tr>\n",
       "    <tr>\n",
       "      <th>5</th>\n",
       "      <td>OnePlus Nord CE 3 Lite 5G (Pastel Lime, 128 GB...</td>\n",
       "    </tr>\n",
       "    <tr>\n",
       "      <th>6</th>\n",
       "      <td>OnePlus Nord CE 3 Lite 5G (Chromatic Gray, 256...</td>\n",
       "    </tr>\n",
       "    <tr>\n",
       "      <th>7</th>\n",
       "      <td>OnePlus Nord CE3 5G (Aqua Surge, 256 GB)\\n4.42...</td>\n",
       "    </tr>\n",
       "    <tr>\n",
       "      <th>8</th>\n",
       "      <td>OnePlus Nord CE3 5G (Grey Shimmer, 128 GB)\\n4....</td>\n",
       "    </tr>\n",
       "    <tr>\n",
       "      <th>9</th>\n",
       "      <td>OnePlus Nord CE 3 Lite 5G (Pastel lime, 256 GB...</td>\n",
       "    </tr>\n",
       "    <tr>\n",
       "      <th>10</th>\n",
       "      <td>OnePlus Nord CE 3 Lite 5G (Chromatic Gray, 256...</td>\n",
       "    </tr>\n",
       "    <tr>\n",
       "      <th>11</th>\n",
       "      <td>OnePlus Nord CE3 5G (Aqua Surge, 128 GB)\\n4.43...</td>\n",
       "    </tr>\n",
       "    <tr>\n",
       "      <th>12</th>\n",
       "      <td>OnePlus Nord CE 3 Lite 5G (Chromatic Gray, 256...</td>\n",
       "    </tr>\n",
       "    <tr>\n",
       "      <th>13</th>\n",
       "      <td>OnePlus Nord CE 3 Lite 5G (Chromatic Gray, 128...</td>\n",
       "    </tr>\n",
       "    <tr>\n",
       "      <th>14</th>\n",
       "      <td>OnePlus Nord CE3 5G (Grey Shimmer, 256 GB)\\n4....</td>\n",
       "    </tr>\n",
       "    <tr>\n",
       "      <th>15</th>\n",
       "      <td>OnePlus Nord 3 5G (Tempest Gray, 128 GB)\\n4.42...</td>\n",
       "    </tr>\n",
       "    <tr>\n",
       "      <th>16</th>\n",
       "      <td>OnePlus Nord 3 5G (Misty Green, 256 GB)\\n4.486...</td>\n",
       "    </tr>\n",
       "    <tr>\n",
       "      <th>17</th>\n",
       "      <td>OnePlus Nord 3 5G (Misty Green, 128 GB)\\n4.42,...</td>\n",
       "    </tr>\n",
       "    <tr>\n",
       "      <th>18</th>\n",
       "      <td>OnePlus Nord CE 3 Lite 5G (Pastel Lime, 128 GB...</td>\n",
       "    </tr>\n",
       "    <tr>\n",
       "      <th>19</th>\n",
       "      <td>OnePlus Nord 3 5G (Tempest Gray, 256 GB)\\n4.48...</td>\n",
       "    </tr>\n",
       "    <tr>\n",
       "      <th>20</th>\n",
       "      <td>OnePlus Nord 2T 5G (Jade Fog, 256 GB)\\n4.32,64...</td>\n",
       "    </tr>\n",
       "    <tr>\n",
       "      <th>21</th>\n",
       "      <td>OnePlus Nord CE 5G (Blue Void, 256 GB)\\n4.1361...</td>\n",
       "    </tr>\n",
       "    <tr>\n",
       "      <th>22</th>\n",
       "      <td>OnePlus Nord 2T 5G (Gray Shadow, 128 GB)\\n4.31...</td>\n",
       "    </tr>\n",
       "    <tr>\n",
       "      <th>23</th>\n",
       "      <td>OnePlus Nord 2T 5G (Gray Shadow, 128 GB)\\n4.31...</td>\n",
       "    </tr>\n",
       "  </tbody>\n",
       "</table>\n",
       "</div>"
      ],
      "text/plain": [
       "                                       Mobile details\n",
       "0   OnePlus Nord CE 2 Lite 5G (Blue Tide, 128 GB)\\...\n",
       "1   OnePlus Nord CE 2 Lite 5G (Black Dusk, 128 GB)...\n",
       "2   OnePlus Nord CE 3 Lite 5G (Pastel Lime, 256 GB...\n",
       "3   OnePlus Nord CE 3 Lite 5G (Chromatic Gray, 128...\n",
       "4   OnePlus Nord CE 3 Lite 5G (Chromatic Gray, 128...\n",
       "5   OnePlus Nord CE 3 Lite 5G (Pastel Lime, 128 GB...\n",
       "6   OnePlus Nord CE 3 Lite 5G (Chromatic Gray, 256...\n",
       "7   OnePlus Nord CE3 5G (Aqua Surge, 256 GB)\\n4.42...\n",
       "8   OnePlus Nord CE3 5G (Grey Shimmer, 128 GB)\\n4....\n",
       "9   OnePlus Nord CE 3 Lite 5G (Pastel lime, 256 GB...\n",
       "10  OnePlus Nord CE 3 Lite 5G (Chromatic Gray, 256...\n",
       "11  OnePlus Nord CE3 5G (Aqua Surge, 128 GB)\\n4.43...\n",
       "12  OnePlus Nord CE 3 Lite 5G (Chromatic Gray, 256...\n",
       "13  OnePlus Nord CE 3 Lite 5G (Chromatic Gray, 128...\n",
       "14  OnePlus Nord CE3 5G (Grey Shimmer, 256 GB)\\n4....\n",
       "15  OnePlus Nord 3 5G (Tempest Gray, 128 GB)\\n4.42...\n",
       "16  OnePlus Nord 3 5G (Misty Green, 256 GB)\\n4.486...\n",
       "17  OnePlus Nord 3 5G (Misty Green, 128 GB)\\n4.42,...\n",
       "18  OnePlus Nord CE 3 Lite 5G (Pastel Lime, 128 GB...\n",
       "19  OnePlus Nord 3 5G (Tempest Gray, 256 GB)\\n4.48...\n",
       "20  OnePlus Nord 2T 5G (Jade Fog, 256 GB)\\n4.32,64...\n",
       "21  OnePlus Nord CE 5G (Blue Void, 256 GB)\\n4.1361...\n",
       "22  OnePlus Nord 2T 5G (Gray Shadow, 128 GB)\\n4.31...\n",
       "23  OnePlus Nord 2T 5G (Gray Shadow, 128 GB)\\n4.31..."
      ]
     },
     "execution_count": 243,
     "metadata": {},
     "output_type": "execute_result"
    }
   ],
   "source": [
    "oneplus_mobile"
   ]
  },
  {
   "cell_type": "code",
   "execution_count": null,
   "id": "14f06a15",
   "metadata": {},
   "outputs": [],
   "source": [
    "# question 6\n",
    "# Write a program to scrap all the available details of best gaming laptops from digit.in.  "
   ]
  },
  {
   "cell_type": "code",
   "execution_count": 265,
   "id": "9afa33c2",
   "metadata": {},
   "outputs": [],
   "source": [
    "driver=webdriver.Chrome()\n",
    "time.sleep(10)\n",
    "driver.get('https://www.digit.in/')"
   ]
  },
  {
   "cell_type": "code",
   "execution_count": 262,
   "id": "bdbc0f95",
   "metadata": {},
   "outputs": [],
   "source": []
  },
  {
   "cell_type": "code",
   "execution_count": 263,
   "id": "72449402",
   "metadata": {},
   "outputs": [],
   "source": []
  },
  {
   "cell_type": "code",
   "execution_count": 275,
   "id": "adfdb819",
   "metadata": {},
   "outputs": [],
   "source": [
    "search1=driver.find_element(By.XPATH,'/html/body/div[1]/header/div/div[2]/div/nav/ul/li[2]')\n",
    "search1.click()"
   ]
  },
  {
   "cell_type": "code",
   "execution_count": 276,
   "id": "c3be1c3e",
   "metadata": {},
   "outputs": [],
   "source": [
    "search2=driver.find_element(By.XPATH,'/html/body/div[1]/header/div/div[2]/div/nav/ul/li[2]/ul/li[3]/ul/li[2]/a')\n",
    "search2.click()"
   ]
  },
  {
   "cell_type": "code",
   "execution_count": 278,
   "id": "ad4106b0",
   "metadata": {},
   "outputs": [],
   "source": [
    "name=[]\n",
    "name_tag=driver.find_elements(By.XPATH,'//h3[@class=\"font130 mt0 mb10 mobilesblockdisplay \"]')\n",
    "for i in name_tag:\n",
    "    Name=i.text\n",
    "    name.append(Name)"
   ]
  },
  {
   "cell_type": "code",
   "execution_count": 279,
   "id": "9c5f10bc",
   "metadata": {},
   "outputs": [
    {
     "data": {
      "text/plain": [
       "['HP OMEN 15-en1037AX 5th Gen Ryzen 7-5800H (2021)',\n",
       " 'Acer Nitro 5 AN515-45-R3TC Ryzen 5-5600H (2021)',\n",
       " 'Dell New G15-5515 D560730WIN9W Ryzen 7-5800H',\n",
       " 'Lenovo Ideapad Gaming 3 82K200X2IN Ryzen 7-5800H (2022)']"
      ]
     },
     "execution_count": 279,
     "metadata": {},
     "output_type": "execute_result"
    }
   ],
   "source": [
    "name"
   ]
  },
  {
   "cell_type": "code",
   "execution_count": 281,
   "id": "89ecceae",
   "metadata": {},
   "outputs": [],
   "source": [
    "laptop_details=[]\n",
    "details_tag=driver.find_elements(By.XPATH,'//div[@class=\"rh_gr_middle_desc\"]')\n",
    "for i in details_tag:\n",
    "    details=i.text\n",
    "    laptop_details.append(details)\n"
   ]
  },
  {
   "cell_type": "code",
   "execution_count": 282,
   "id": "b1ec0fb1",
   "metadata": {},
   "outputs": [
    {
     "data": {
      "text/plain": [
       "['Operating System:\\nWindows 10 Home\\nDisplay Size :\\n15.6\\nResolution :\\n2560 x 1440\\nProcessor :\\n5th Gen AMD Ryzen 7-5800H',\n",
       " 'Operating System:\\nWindows 10 Home\\nDisplay Size :\\n15.6\\nResolution :\\n1920 x 1080\\nProcessor :\\nAMD Ryzen 5 Hexa Core 5600H',\n",
       " 'Operating System:\\nWindows 11 Home\\nDisplay Size :\\n15.6\\nResolution :\\n1920 x 1080\\nProcessor :\\nAMD Ryzen R7-5800H',\n",
       " 'Operating System:\\nWindows 11 Home\\nDisplay Size :\\n15.6\\nResolution :\\n1920 x 1080\\nProcessor :\\nAMD Ryzen 7-5800H']"
      ]
     },
     "execution_count": 282,
     "metadata": {},
     "output_type": "execute_result"
    }
   ],
   "source": [
    "laptop_details"
   ]
  },
  {
   "cell_type": "code",
   "execution_count": 283,
   "id": "2b3456ec",
   "metadata": {},
   "outputs": [],
   "source": [
    "import pandas as pd\n",
    "best_laptop=pd.DataFrame({'Laptop name':name,'Details':laptop_details})"
   ]
  },
  {
   "cell_type": "code",
   "execution_count": 284,
   "id": "97dbeac3",
   "metadata": {},
   "outputs": [
    {
     "data": {
      "text/html": [
       "<div>\n",
       "<style scoped>\n",
       "    .dataframe tbody tr th:only-of-type {\n",
       "        vertical-align: middle;\n",
       "    }\n",
       "\n",
       "    .dataframe tbody tr th {\n",
       "        vertical-align: top;\n",
       "    }\n",
       "\n",
       "    .dataframe thead th {\n",
       "        text-align: right;\n",
       "    }\n",
       "</style>\n",
       "<table border=\"1\" class=\"dataframe\">\n",
       "  <thead>\n",
       "    <tr style=\"text-align: right;\">\n",
       "      <th></th>\n",
       "      <th>Laptop name</th>\n",
       "      <th>Details</th>\n",
       "    </tr>\n",
       "  </thead>\n",
       "  <tbody>\n",
       "    <tr>\n",
       "      <th>0</th>\n",
       "      <td>HP OMEN 15-en1037AX 5th Gen Ryzen 7-5800H (2021)</td>\n",
       "      <td>Operating System:\\nWindows 10 Home\\nDisplay Si...</td>\n",
       "    </tr>\n",
       "    <tr>\n",
       "      <th>1</th>\n",
       "      <td>Acer Nitro 5 AN515-45-R3TC Ryzen 5-5600H (2021)</td>\n",
       "      <td>Operating System:\\nWindows 10 Home\\nDisplay Si...</td>\n",
       "    </tr>\n",
       "    <tr>\n",
       "      <th>2</th>\n",
       "      <td>Dell New G15-5515 D560730WIN9W Ryzen 7-5800H</td>\n",
       "      <td>Operating System:\\nWindows 11 Home\\nDisplay Si...</td>\n",
       "    </tr>\n",
       "    <tr>\n",
       "      <th>3</th>\n",
       "      <td>Lenovo Ideapad Gaming 3 82K200X2IN Ryzen 7-580...</td>\n",
       "      <td>Operating System:\\nWindows 11 Home\\nDisplay Si...</td>\n",
       "    </tr>\n",
       "  </tbody>\n",
       "</table>\n",
       "</div>"
      ],
      "text/plain": [
       "                                         Laptop name  \\\n",
       "0   HP OMEN 15-en1037AX 5th Gen Ryzen 7-5800H (2021)   \n",
       "1    Acer Nitro 5 AN515-45-R3TC Ryzen 5-5600H (2021)   \n",
       "2       Dell New G15-5515 D560730WIN9W Ryzen 7-5800H   \n",
       "3  Lenovo Ideapad Gaming 3 82K200X2IN Ryzen 7-580...   \n",
       "\n",
       "                                             Details  \n",
       "0  Operating System:\\nWindows 10 Home\\nDisplay Si...  \n",
       "1  Operating System:\\nWindows 10 Home\\nDisplay Si...  \n",
       "2  Operating System:\\nWindows 11 Home\\nDisplay Si...  \n",
       "3  Operating System:\\nWindows 11 Home\\nDisplay Si...  "
      ]
     },
     "execution_count": 284,
     "metadata": {},
     "output_type": "execute_result"
    }
   ],
   "source": [
    "best_laptop"
   ]
  },
  {
   "cell_type": "code",
   "execution_count": null,
   "id": "d80c85a8",
   "metadata": {},
   "outputs": [],
   "source": [
    "# Question no7 \n",
    "# Write a python program to scrape the details for all billionaires from www.forbes.com. Details to be scrapped: \n",
    "# “Rank”, “Name”, “Net worth”, “Age”, “Citizenship”, “Source”, “Industry”. "
   ]
  },
  {
   "cell_type": "code",
   "execution_count": 285,
   "id": "814e14a0",
   "metadata": {},
   "outputs": [],
   "source": [
    "driver=webdriver.Chrome()\n",
    "time.sleep(10)\n",
    "driver.get('https://forbes.com/')"
   ]
  },
  {
   "cell_type": "code",
   "execution_count": 286,
   "id": "f3e88f30",
   "metadata": {},
   "outputs": [],
   "source": [
    "search=driver.find_element(By.XPATH,'/html/body/div[1]/header/nav/div[3]/button')\n",
    "search.click()"
   ]
  },
  {
   "cell_type": "code",
   "execution_count": 287,
   "id": "272e619c",
   "metadata": {},
   "outputs": [],
   "source": [
    "keyword=driver.find_element(By.XPATH,'/html/body/div[1]/div[3]/form/input')\n",
    "keyword.send_keys('top 10 Billionaires in the world')"
   ]
  },
  {
   "cell_type": "code",
   "execution_count": 290,
   "id": "4e74f0ea",
   "metadata": {},
   "outputs": [],
   "source": [
    "search2=driver.find_element(By.XPATH,'/html/body/div[1]/div[3]/form/button')\n",
    "search2.click()"
   ]
  },
  {
   "cell_type": "code",
   "execution_count": 291,
   "id": "2f304f85",
   "metadata": {},
   "outputs": [],
   "source": [
    "search3=driver.find_element(By.XPATH,'/html/body/div[1]/main/div[1]/div[1]/div[4]/div/article[4]/div[1]/h3/a')\n",
    "search3.click()"
   ]
  },
  {
   "cell_type": "code",
   "execution_count": 295,
   "id": "da2a3f28",
   "metadata": {},
   "outputs": [],
   "source": [
    "name=[]\n",
    "name_tag=driver.find_elements(By.XPATH,'//h2[@class=\"subhead-embed color-accent bg-base font-accent font-size text-align\"]')\n",
    "for i in name_tag:\n",
    "    Name=i.text\n",
    "    name.append(Name)"
   ]
  },
  {
   "cell_type": "code",
   "execution_count": 296,
   "id": "f3e5b38c",
   "metadata": {},
   "outputs": [
    {
     "data": {
      "text/plain": [
       "['1. Elon Musk',\n",
       " '2. Bernard Arnault',\n",
       " '3. Jeff Bezos',\n",
       " '4. Larry Ellison',\n",
       " '5. Warren Buffett',\n",
       " '6. Bill Gates',\n",
       " '7. Mark Zuckerberg',\n",
       " '8. Steve Ballmer',\n",
       " '9. Larry Page',\n",
       " '10. Sergey Brin']"
      ]
     },
     "execution_count": 296,
     "metadata": {},
     "output_type": "execute_result"
    }
   ],
   "source": [
    "name"
   ]
  },
  {
   "cell_type": "code",
   "execution_count": 311,
   "id": "03ab6118",
   "metadata": {},
   "outputs": [],
   "source": [
    "nett_worth=[]\n",
    "worth_tag=driver.find_elements(By.XPATH,'//h4[@class=\"subhead4-embed color-body bg-base font-accent font-size text-align\"]')\n",
    "for i in worth_tag:\n",
    "    Worth=i.text\n",
    "    nett_worth.append(Worth)"
   ]
  },
  {
   "cell_type": "code",
   "execution_count": 343,
   "id": "a0bdbcd4",
   "metadata": {},
   "outputs": [],
   "source": [
    "Nett_worth=nett_worth[7:66]"
   ]
  },
  {
   "cell_type": "code",
   "execution_count": 352,
   "id": "72b62f6d",
   "metadata": {},
   "outputs": [
    {
     "data": {
      "text/plain": [
       "['Net worth: $245.3 billion',\n",
       " 'Source: Tesla, SpaceX, X (Twitter)',\n",
       " 'Age: 52',\n",
       " 'Residence: Austin, Texas',\n",
       " 'Citizenship: U.S.',\n",
       " '',\n",
       " 'Net worth: $191.3 billion',\n",
       " 'Source: LVMH/ luxury goods',\n",
       " 'Age: 74',\n",
       " 'Residence: Paris',\n",
       " 'Citizenship: France',\n",
       " '',\n",
       " 'Net worth: $168.4 billion',\n",
       " 'Source: Amazon',\n",
       " 'Age: 59',\n",
       " 'Residence: Medina, Washington',\n",
       " 'Citizenship: U.S.',\n",
       " '',\n",
       " 'Net worth: $146.5 billion',\n",
       " 'Source: Oracle',\n",
       " 'Age: 79',\n",
       " 'Residence: Woodside, California',\n",
       " 'Citizenship: U.S.',\n",
       " '',\n",
       " 'Net worth: $119.3 billion',\n",
       " 'Source: Berkshire Hathaway',\n",
       " 'Age: 93',\n",
       " 'Residence: Omaha, Nebraska',\n",
       " 'Citizenship: U.S.',\n",
       " '',\n",
       " '',\n",
       " 'Net worth: $117.6 billion',\n",
       " 'Source: Microsoft, investments',\n",
       " 'Age: 68',\n",
       " 'Residence: Medina, Washington',\n",
       " 'Citizenship: U.S.',\n",
       " '',\n",
       " 'Net worth: $115.9 billion',\n",
       " 'Source: Facebook/Meta',\n",
       " 'Age: 39',\n",
       " 'Residence: Palo Alto, California',\n",
       " 'Citizenship: U.S.',\n",
       " 'Net worth: $112.8 billion',\n",
       " 'Source: Microsoft, investments',\n",
       " 'Age: 67',\n",
       " 'Residence: Hunts Point, Washington',\n",
       " 'Citizenship: U.S.',\n",
       " '',\n",
       " 'Net worth: $111.7 billion',\n",
       " 'Source: Google',\n",
       " 'Age: 50',\n",
       " 'Residence: Palo Alto, California',\n",
       " 'Citizenship: U.S.',\n",
       " 'Net worth: $107.3 billion',\n",
       " 'Source: Google',\n",
       " 'Age: 50',\n",
       " 'Residence: Los Altos, California',\n",
       " 'Citizenship: U.S.',\n",
       " '']"
      ]
     },
     "execution_count": 352,
     "metadata": {},
     "output_type": "execute_result"
    }
   ],
   "source": [
    "Nett_worth\n",
    "\n",
    "    \n",
    "    "
   ]
  },
  {
   "cell_type": "code",
   "execution_count": 319,
   "id": "d7fed2d5",
   "metadata": {},
   "outputs": [],
   "source": []
  },
  {
   "cell_type": "code",
   "execution_count": 327,
   "id": "912068d4",
   "metadata": {
    "collapsed": true
   },
   "outputs": [
    {
     "data": {
      "text/html": [
       "<div>\n",
       "<style scoped>\n",
       "    .dataframe tbody tr th:only-of-type {\n",
       "        vertical-align: middle;\n",
       "    }\n",
       "\n",
       "    .dataframe tbody tr th {\n",
       "        vertical-align: top;\n",
       "    }\n",
       "\n",
       "    .dataframe thead th {\n",
       "        text-align: right;\n",
       "    }\n",
       "</style>\n",
       "<table border=\"1\" class=\"dataframe\">\n",
       "  <thead>\n",
       "    <tr style=\"text-align: right;\">\n",
       "      <th></th>\n",
       "      <th>Details</th>\n",
       "    </tr>\n",
       "  </thead>\n",
       "  <tbody>\n",
       "    <tr>\n",
       "      <th>0</th>\n",
       "      <td>Net worth: $245.3 billion</td>\n",
       "    </tr>\n",
       "    <tr>\n",
       "      <th>1</th>\n",
       "      <td>Source: Tesla, SpaceX, X (Twitter)</td>\n",
       "    </tr>\n",
       "    <tr>\n",
       "      <th>2</th>\n",
       "      <td>Age: 52</td>\n",
       "    </tr>\n",
       "    <tr>\n",
       "      <th>3</th>\n",
       "      <td>Residence: Austin, Texas</td>\n",
       "    </tr>\n",
       "    <tr>\n",
       "      <th>4</th>\n",
       "      <td>Citizenship: U.S.</td>\n",
       "    </tr>\n",
       "    <tr>\n",
       "      <th>5</th>\n",
       "      <td></td>\n",
       "    </tr>\n",
       "    <tr>\n",
       "      <th>6</th>\n",
       "      <td>Net worth: $191.3 billion</td>\n",
       "    </tr>\n",
       "    <tr>\n",
       "      <th>7</th>\n",
       "      <td>Source: LVMH/ luxury goods</td>\n",
       "    </tr>\n",
       "    <tr>\n",
       "      <th>8</th>\n",
       "      <td>Age: 74</td>\n",
       "    </tr>\n",
       "    <tr>\n",
       "      <th>9</th>\n",
       "      <td>Residence: Paris</td>\n",
       "    </tr>\n",
       "    <tr>\n",
       "      <th>10</th>\n",
       "      <td>Citizenship: France</td>\n",
       "    </tr>\n",
       "    <tr>\n",
       "      <th>11</th>\n",
       "      <td></td>\n",
       "    </tr>\n",
       "    <tr>\n",
       "      <th>12</th>\n",
       "      <td>Net worth: $168.4 billion</td>\n",
       "    </tr>\n",
       "    <tr>\n",
       "      <th>13</th>\n",
       "      <td>Source: Amazon</td>\n",
       "    </tr>\n",
       "    <tr>\n",
       "      <th>14</th>\n",
       "      <td>Age: 59</td>\n",
       "    </tr>\n",
       "    <tr>\n",
       "      <th>15</th>\n",
       "      <td>Residence: Medina, Washington</td>\n",
       "    </tr>\n",
       "    <tr>\n",
       "      <th>16</th>\n",
       "      <td>Citizenship: U.S.</td>\n",
       "    </tr>\n",
       "    <tr>\n",
       "      <th>17</th>\n",
       "      <td></td>\n",
       "    </tr>\n",
       "    <tr>\n",
       "      <th>18</th>\n",
       "      <td>Net worth: $146.5 billion</td>\n",
       "    </tr>\n",
       "    <tr>\n",
       "      <th>19</th>\n",
       "      <td>Source: Oracle</td>\n",
       "    </tr>\n",
       "    <tr>\n",
       "      <th>20</th>\n",
       "      <td>Age: 79</td>\n",
       "    </tr>\n",
       "    <tr>\n",
       "      <th>21</th>\n",
       "      <td>Residence: Woodside, California</td>\n",
       "    </tr>\n",
       "    <tr>\n",
       "      <th>22</th>\n",
       "      <td>Citizenship: U.S.</td>\n",
       "    </tr>\n",
       "    <tr>\n",
       "      <th>23</th>\n",
       "      <td></td>\n",
       "    </tr>\n",
       "    <tr>\n",
       "      <th>24</th>\n",
       "      <td>Net worth: $119.3 billion</td>\n",
       "    </tr>\n",
       "    <tr>\n",
       "      <th>25</th>\n",
       "      <td>Source: Berkshire Hathaway</td>\n",
       "    </tr>\n",
       "    <tr>\n",
       "      <th>26</th>\n",
       "      <td>Age: 93</td>\n",
       "    </tr>\n",
       "    <tr>\n",
       "      <th>27</th>\n",
       "      <td>Residence: Omaha, Nebraska</td>\n",
       "    </tr>\n",
       "    <tr>\n",
       "      <th>28</th>\n",
       "      <td>Citizenship: U.S.</td>\n",
       "    </tr>\n",
       "    <tr>\n",
       "      <th>29</th>\n",
       "      <td></td>\n",
       "    </tr>\n",
       "    <tr>\n",
       "      <th>30</th>\n",
       "      <td></td>\n",
       "    </tr>\n",
       "    <tr>\n",
       "      <th>31</th>\n",
       "      <td>Net worth: $117.6 billion</td>\n",
       "    </tr>\n",
       "    <tr>\n",
       "      <th>32</th>\n",
       "      <td>Source: Microsoft, investments</td>\n",
       "    </tr>\n",
       "    <tr>\n",
       "      <th>33</th>\n",
       "      <td>Age: 68</td>\n",
       "    </tr>\n",
       "    <tr>\n",
       "      <th>34</th>\n",
       "      <td>Residence: Medina, Washington</td>\n",
       "    </tr>\n",
       "    <tr>\n",
       "      <th>35</th>\n",
       "      <td>Citizenship: U.S.</td>\n",
       "    </tr>\n",
       "    <tr>\n",
       "      <th>36</th>\n",
       "      <td></td>\n",
       "    </tr>\n",
       "    <tr>\n",
       "      <th>37</th>\n",
       "      <td>Net worth: $115.9 billion</td>\n",
       "    </tr>\n",
       "    <tr>\n",
       "      <th>38</th>\n",
       "      <td>Source: Facebook/Meta</td>\n",
       "    </tr>\n",
       "    <tr>\n",
       "      <th>39</th>\n",
       "      <td>Age: 39</td>\n",
       "    </tr>\n",
       "    <tr>\n",
       "      <th>40</th>\n",
       "      <td>Residence: Palo Alto, California</td>\n",
       "    </tr>\n",
       "    <tr>\n",
       "      <th>41</th>\n",
       "      <td>Citizenship: U.S.</td>\n",
       "    </tr>\n",
       "    <tr>\n",
       "      <th>42</th>\n",
       "      <td>Net worth: $112.8 billion</td>\n",
       "    </tr>\n",
       "    <tr>\n",
       "      <th>43</th>\n",
       "      <td>Source: Microsoft, investments</td>\n",
       "    </tr>\n",
       "    <tr>\n",
       "      <th>44</th>\n",
       "      <td>Age: 67</td>\n",
       "    </tr>\n",
       "    <tr>\n",
       "      <th>45</th>\n",
       "      <td>Residence: Hunts Point, Washington</td>\n",
       "    </tr>\n",
       "    <tr>\n",
       "      <th>46</th>\n",
       "      <td>Citizenship: U.S.</td>\n",
       "    </tr>\n",
       "    <tr>\n",
       "      <th>47</th>\n",
       "      <td></td>\n",
       "    </tr>\n",
       "    <tr>\n",
       "      <th>48</th>\n",
       "      <td>Net worth: $111.7 billion</td>\n",
       "    </tr>\n",
       "    <tr>\n",
       "      <th>49</th>\n",
       "      <td>Source: Google</td>\n",
       "    </tr>\n",
       "    <tr>\n",
       "      <th>50</th>\n",
       "      <td>Age: 50</td>\n",
       "    </tr>\n",
       "    <tr>\n",
       "      <th>51</th>\n",
       "      <td>Residence: Palo Alto, California</td>\n",
       "    </tr>\n",
       "    <tr>\n",
       "      <th>52</th>\n",
       "      <td>Citizenship: U.S.</td>\n",
       "    </tr>\n",
       "    <tr>\n",
       "      <th>53</th>\n",
       "      <td>Net worth: $107.3 billion</td>\n",
       "    </tr>\n",
       "  </tbody>\n",
       "</table>\n",
       "</div>"
      ],
      "text/plain": [
       "                               Details\n",
       "0            Net worth: $245.3 billion\n",
       "1   Source: Tesla, SpaceX, X (Twitter)\n",
       "2                              Age: 52\n",
       "3             Residence: Austin, Texas\n",
       "4                    Citizenship: U.S.\n",
       "5                                     \n",
       "6            Net worth: $191.3 billion\n",
       "7           Source: LVMH/ luxury goods\n",
       "8                              Age: 74\n",
       "9                     Residence: Paris\n",
       "10                 Citizenship: France\n",
       "11                                    \n",
       "12           Net worth: $168.4 billion\n",
       "13                      Source: Amazon\n",
       "14                             Age: 59\n",
       "15       Residence: Medina, Washington\n",
       "16                   Citizenship: U.S.\n",
       "17                                    \n",
       "18           Net worth: $146.5 billion\n",
       "19                      Source: Oracle\n",
       "20                             Age: 79\n",
       "21     Residence: Woodside, California\n",
       "22                   Citizenship: U.S.\n",
       "23                                    \n",
       "24           Net worth: $119.3 billion\n",
       "25          Source: Berkshire Hathaway\n",
       "26                             Age: 93\n",
       "27          Residence: Omaha, Nebraska\n",
       "28                   Citizenship: U.S.\n",
       "29                                    \n",
       "30                                    \n",
       "31           Net worth: $117.6 billion\n",
       "32      Source: Microsoft, investments\n",
       "33                             Age: 68\n",
       "34       Residence: Medina, Washington\n",
       "35                   Citizenship: U.S.\n",
       "36                                    \n",
       "37           Net worth: $115.9 billion\n",
       "38               Source: Facebook/Meta\n",
       "39                             Age: 39\n",
       "40    Residence: Palo Alto, California\n",
       "41                   Citizenship: U.S.\n",
       "42           Net worth: $112.8 billion\n",
       "43      Source: Microsoft, investments\n",
       "44                             Age: 67\n",
       "45  Residence: Hunts Point, Washington\n",
       "46                   Citizenship: U.S.\n",
       "47                                    \n",
       "48           Net worth: $111.7 billion\n",
       "49                      Source: Google\n",
       "50                             Age: 50\n",
       "51    Residence: Palo Alto, California\n",
       "52                   Citizenship: U.S.\n",
       "53           Net worth: $107.3 billion"
      ]
     },
     "execution_count": 327,
     "metadata": {},
     "output_type": "execute_result"
    }
   ],
   "source": []
  },
  {
   "cell_type": "code",
   "execution_count": 365,
   "id": "30c1a2eb",
   "metadata": {},
   "outputs": [
    {
     "name": "stdout",
     "output_type": "stream",
     "text": [
      " $245.3 billion\n",
      " $191.3 billion\n",
      " $168.4 billion\n",
      " $146.5 billion\n",
      " $119.3 billion\n",
      " $117.6 billion\n",
      " $115.9 billion\n",
      " $112.8 billion\n",
      " $111.7 billion\n",
      " $107.3 billion\n"
     ]
    }
   ],
   "source": [
    "import regex as re\n",
    "import pandas as pd\n",
    "\n",
    "for i in Nett_worth:\n",
    "    if i.startswith('Net worth'):\n",
    "        networth=i.split(':')[1]\n",
    "        \n",
    "        print(networth)"
   ]
  },
  {
   "cell_type": "code",
   "execution_count": 366,
   "id": "2db57000",
   "metadata": {},
   "outputs": [
    {
     "name": "stdout",
     "output_type": "stream",
     "text": [
      " Tesla, SpaceX, X (Twitter)\n",
      " LVMH/ luxury goods\n",
      " Amazon\n",
      " Oracle\n",
      " Berkshire Hathaway\n",
      " Microsoft, investments\n",
      " Facebook/Meta\n",
      " Microsoft, investments\n",
      " Google\n",
      " Google\n"
     ]
    }
   ],
   "source": [
    "\n",
    "for i in Nett_worth:\n",
    "    if i.startswith('Source'):\n",
    "        source=i.split(':')[1]\n",
    "        \n",
    "        print(source)"
   ]
  },
  {
   "cell_type": "code",
   "execution_count": 363,
   "id": "7e311586",
   "metadata": {},
   "outputs": [
    {
     "data": {
      "text/plain": [
       "7"
      ]
     },
     "execution_count": 363,
     "metadata": {},
     "output_type": "execute_result"
    }
   ],
   "source": [
    "len(source)"
   ]
  },
  {
   "cell_type": "code",
   "execution_count": 367,
   "id": "dad63687",
   "metadata": {},
   "outputs": [
    {
     "name": "stdout",
     "output_type": "stream",
     "text": [
      " 52\n",
      " 74\n",
      " 59\n",
      " 79\n",
      " 93\n",
      " 68\n",
      " 39\n",
      " 67\n",
      " 50\n",
      " 50\n"
     ]
    }
   ],
   "source": [
    "\n",
    "for i in Nett_worth:\n",
    "    if i.startswith('Age'):\n",
    "        age=i.split(':')[1]\n",
    "        \n",
    "        print(age)"
   ]
  },
  {
   "cell_type": "code",
   "execution_count": 368,
   "id": "5abc1f84",
   "metadata": {},
   "outputs": [
    {
     "name": "stdout",
     "output_type": "stream",
     "text": [
      " Austin, Texas\n",
      " Paris\n",
      " Medina, Washington\n",
      " Woodside, California\n",
      " Omaha, Nebraska\n",
      " Medina, Washington\n",
      " Palo Alto, California\n",
      " Hunts Point, Washington\n",
      " Palo Alto, California\n",
      " Los Altos, California\n"
     ]
    }
   ],
   "source": [
    "\n",
    "for i in Nett_worth:\n",
    "    if i.startswith('Residence'):\n",
    "        residence=i.split(':')[1]\n",
    "        \n",
    "        print(residence)"
   ]
  },
  {
   "cell_type": "code",
   "execution_count": 369,
   "id": "8ce4f816",
   "metadata": {},
   "outputs": [
    {
     "name": "stdout",
     "output_type": "stream",
     "text": [
      " U.S.\n",
      " France\n",
      " U.S.\n",
      " U.S.\n",
      " U.S.\n",
      " U.S.\n",
      " U.S.\n",
      " U.S.\n",
      " U.S.\n",
      " U.S.\n"
     ]
    }
   ],
   "source": [
    "\n",
    "for i in Nett_worth:\n",
    "    if i.startswith('Citizenship'):\n",
    "        citizenship=i.split(':')[1]\n",
    "        \n",
    "        print(citizenship)"
   ]
  },
  {
   "cell_type": "code",
   "execution_count": 370,
   "id": "70bfe77b",
   "metadata": {},
   "outputs": [],
   "source": [
    "top_billionier=pd.DataFrame({'Name':name,'Net worth':networth,'Source':source,'Age':age,'Residence':residence,'Citizenship':citizenship})"
   ]
  },
  {
   "cell_type": "code",
   "execution_count": 359,
   "id": "8252d972",
   "metadata": {},
   "outputs": [
    {
     "data": {
      "text/plain": [
       "15"
      ]
     },
     "execution_count": 359,
     "metadata": {},
     "output_type": "execute_result"
    }
   ],
   "source": [
    "len(networth)"
   ]
  },
  {
   "cell_type": "code",
   "execution_count": 360,
   "id": "23d77b96",
   "metadata": {},
   "outputs": [],
   "source": []
  },
  {
   "cell_type": "code",
   "execution_count": 377,
   "id": "c6adc674",
   "metadata": {},
   "outputs": [
    {
     "data": {
      "text/plain": [
       "' $107.3 bi'"
      ]
     },
     "execution_count": 377,
     "metadata": {},
     "output_type": "execute_result"
    }
   ],
   "source": []
  },
  {
   "cell_type": "code",
   "execution_count": 374,
   "id": "440c303f",
   "metadata": {},
   "outputs": [
    {
     "data": {
      "text/plain": [
       "22"
      ]
     },
     "execution_count": 374,
     "metadata": {},
     "output_type": "execute_result"
    }
   ],
   "source": []
  },
  {
   "cell_type": "code",
   "execution_count": 375,
   "id": "6993024e",
   "metadata": {},
   "outputs": [],
   "source": []
  },
  {
   "cell_type": "code",
   "execution_count": 376,
   "id": "447c8fdc",
   "metadata": {},
   "outputs": [
    {
     "data": {
      "text/plain": [
       "' Los Altos'"
      ]
     },
     "execution_count": 376,
     "metadata": {},
     "output_type": "execute_result"
    }
   ],
   "source": []
  },
  {
   "cell_type": "code",
   "execution_count": 371,
   "id": "750bcde4",
   "metadata": {
    "collapsed": true
   },
   "outputs": [
    {
     "data": {
      "text/html": [
       "<div>\n",
       "<style scoped>\n",
       "    .dataframe tbody tr th:only-of-type {\n",
       "        vertical-align: middle;\n",
       "    }\n",
       "\n",
       "    .dataframe tbody tr th {\n",
       "        vertical-align: top;\n",
       "    }\n",
       "\n",
       "    .dataframe thead th {\n",
       "        text-align: right;\n",
       "    }\n",
       "</style>\n",
       "<table border=\"1\" class=\"dataframe\">\n",
       "  <thead>\n",
       "    <tr style=\"text-align: right;\">\n",
       "      <th></th>\n",
       "      <th>Name</th>\n",
       "      <th>Net worth</th>\n",
       "      <th>Source</th>\n",
       "      <th>Age</th>\n",
       "      <th>Residence</th>\n",
       "      <th>Citizenship</th>\n",
       "    </tr>\n",
       "  </thead>\n",
       "  <tbody>\n",
       "    <tr>\n",
       "      <th>0</th>\n",
       "      <td>1. Elon Musk</td>\n",
       "      <td>$107.3 billion</td>\n",
       "      <td>Google</td>\n",
       "      <td>50</td>\n",
       "      <td>Los Altos, California</td>\n",
       "      <td>U.S.</td>\n",
       "    </tr>\n",
       "    <tr>\n",
       "      <th>1</th>\n",
       "      <td>2. Bernard Arnault</td>\n",
       "      <td>$107.3 billion</td>\n",
       "      <td>Google</td>\n",
       "      <td>50</td>\n",
       "      <td>Los Altos, California</td>\n",
       "      <td>U.S.</td>\n",
       "    </tr>\n",
       "    <tr>\n",
       "      <th>2</th>\n",
       "      <td>3. Jeff Bezos</td>\n",
       "      <td>$107.3 billion</td>\n",
       "      <td>Google</td>\n",
       "      <td>50</td>\n",
       "      <td>Los Altos, California</td>\n",
       "      <td>U.S.</td>\n",
       "    </tr>\n",
       "    <tr>\n",
       "      <th>3</th>\n",
       "      <td>4. Larry Ellison</td>\n",
       "      <td>$107.3 billion</td>\n",
       "      <td>Google</td>\n",
       "      <td>50</td>\n",
       "      <td>Los Altos, California</td>\n",
       "      <td>U.S.</td>\n",
       "    </tr>\n",
       "    <tr>\n",
       "      <th>4</th>\n",
       "      <td>5. Warren Buffett</td>\n",
       "      <td>$107.3 billion</td>\n",
       "      <td>Google</td>\n",
       "      <td>50</td>\n",
       "      <td>Los Altos, California</td>\n",
       "      <td>U.S.</td>\n",
       "    </tr>\n",
       "    <tr>\n",
       "      <th>5</th>\n",
       "      <td>6. Bill Gates</td>\n",
       "      <td>$107.3 billion</td>\n",
       "      <td>Google</td>\n",
       "      <td>50</td>\n",
       "      <td>Los Altos, California</td>\n",
       "      <td>U.S.</td>\n",
       "    </tr>\n",
       "    <tr>\n",
       "      <th>6</th>\n",
       "      <td>7. Mark Zuckerberg</td>\n",
       "      <td>$107.3 billion</td>\n",
       "      <td>Google</td>\n",
       "      <td>50</td>\n",
       "      <td>Los Altos, California</td>\n",
       "      <td>U.S.</td>\n",
       "    </tr>\n",
       "    <tr>\n",
       "      <th>7</th>\n",
       "      <td>8. Steve Ballmer</td>\n",
       "      <td>$107.3 billion</td>\n",
       "      <td>Google</td>\n",
       "      <td>50</td>\n",
       "      <td>Los Altos, California</td>\n",
       "      <td>U.S.</td>\n",
       "    </tr>\n",
       "    <tr>\n",
       "      <th>8</th>\n",
       "      <td>9. Larry Page</td>\n",
       "      <td>$107.3 billion</td>\n",
       "      <td>Google</td>\n",
       "      <td>50</td>\n",
       "      <td>Los Altos, California</td>\n",
       "      <td>U.S.</td>\n",
       "    </tr>\n",
       "    <tr>\n",
       "      <th>9</th>\n",
       "      <td>10. Sergey Brin</td>\n",
       "      <td>$107.3 billion</td>\n",
       "      <td>Google</td>\n",
       "      <td>50</td>\n",
       "      <td>Los Altos, California</td>\n",
       "      <td>U.S.</td>\n",
       "    </tr>\n",
       "  </tbody>\n",
       "</table>\n",
       "</div>"
      ],
      "text/plain": [
       "                 Name        Net worth   Source  Age               Residence  \\\n",
       "0        1. Elon Musk   $107.3 billion   Google   50   Los Altos, California   \n",
       "1  2. Bernard Arnault   $107.3 billion   Google   50   Los Altos, California   \n",
       "2       3. Jeff Bezos   $107.3 billion   Google   50   Los Altos, California   \n",
       "3    4. Larry Ellison   $107.3 billion   Google   50   Los Altos, California   \n",
       "4   5. Warren Buffett   $107.3 billion   Google   50   Los Altos, California   \n",
       "5       6. Bill Gates   $107.3 billion   Google   50   Los Altos, California   \n",
       "6  7. Mark Zuckerberg   $107.3 billion   Google   50   Los Altos, California   \n",
       "7    8. Steve Ballmer   $107.3 billion   Google   50   Los Altos, California   \n",
       "8       9. Larry Page   $107.3 billion   Google   50   Los Altos, California   \n",
       "9     10. Sergey Brin   $107.3 billion   Google   50   Los Altos, California   \n",
       "\n",
       "  Citizenship  \n",
       "0        U.S.  \n",
       "1        U.S.  \n",
       "2        U.S.  \n",
       "3        U.S.  \n",
       "4        U.S.  \n",
       "5        U.S.  \n",
       "6        U.S.  \n",
       "7        U.S.  \n",
       "8        U.S.  \n",
       "9        U.S.  "
      ]
     },
     "execution_count": 371,
     "metadata": {},
     "output_type": "execute_result"
    }
   ],
   "source": [
    "top_billionier"
   ]
  },
  {
   "cell_type": "code",
   "execution_count": null,
   "id": "284a84ca",
   "metadata": {},
   "outputs": [],
   "source": [
    "# Question 8\n",
    "# Write a program to extract at least 500 Comments, Comment upvote and time when comment was posted \n",
    "# from any YouTube Video."
   ]
  },
  {
   "cell_type": "code",
   "execution_count": 379,
   "id": "49a5733e",
   "metadata": {},
   "outputs": [],
   "source": [
    "driver=webdriver.Chrome()\n",
    "time.sleep(10)\n",
    "driver.get('https://www.youtube.com/watch?v=HihakYi5M2I&t=1s')"
   ]
  },
  {
   "cell_type": "code",
   "execution_count": 384,
   "id": "8a716bed",
   "metadata": {},
   "outputs": [],
   "source": [
    "comment=[]\n",
    "comment_tag=driver.find_elements(By.XPATH,'//span[@class=\"style-scope yt-formatted-string\"]')\n",
    "for i in comment_tag:\n",
    "    Comment=i.text\n",
    "    comment.append(Comment)"
   ]
  },
  {
   "cell_type": "code",
   "execution_count": 385,
   "id": "7066e791",
   "metadata": {},
   "outputs": [
    {
     "data": {
      "text/plain": [
       "['',\n",
       " '',\n",
       " '',\n",
       " '',\n",
       " '68,095',\n",
       " 'Comments',\n",
       " 'Gooooosebumps Overloaded ',\n",
       " \"THANK YOU DARLING'S FOR SUPPORT, KEEP ENJOYING!\",\n",
       " 'Goosebumps is a small word for this ',\n",
       " ' dialogue is goosebumps ',\n",
       " \"I don't know why some people hate this movie but I definitely say this movie will also based on such story that all people get emotional and this movie gives a positive message like kgf gives Mother's feeling i love Prasanth neel's direction, and story writing salute to Whole Salaar and Kgf Team for spreading good message\",\n",
       " \"It's Not A Trailer, it's PURE GOOSEBUMPS \",\n",
       " '️',\n",
       " 'Luckily I was listening to the trailer on home theater in a  close room, believe me all the beat and voice literally it is a pure goosebumps',\n",
       " ' Goosebumps',\n",
       " '',\n",
       " '',\n",
       " \"It's Not A Trailer, it's PURE GOOSEBUMPS \",\n",
       " 'gossebump ',\n",
       " 'Goosebumps ',\n",
       " '',\n",
       " 'Waiting ',\n",
       " '️',\n",
       " \"It's Not A Trailer, It's PURE GOOSEBUMPS \",\n",
       " \"It's Not A trailer, it's PURE GOOSEBUMPS \",\n",
       " 'I Love This Trailer  ',\n",
       " ' Good Work Salaar Team',\n",
       " \"It's Not JUST A Trailer, it's PURE GOOSEBUMPS \",\n",
       " 'Goosebumps guaranteed ',\n",
       " 'Goosebumps Overloaded ',\n",
       " 'Yeh hai Indian cinema ka future ',\n",
       " ' pure goosebumps',\n",
       " 'What a Thriller!!! Prabhas at Top! Wait Beginns',\n",
       " \"It's not a trailer it's pure GOOSEBUMPS \",\n",
       " 'I have never experienced more Goosebumps than this ',\n",
       " '',\n",
       " '',\n",
       " 'I am stunned ',\n",
       " \"It's Not A Trailer, It's PURE GOOSEBUMPS\",\n",
       " 'SALAAR IS COMING',\n",
       " 'Kya baat h prabhas ',\n",
       " \"It's not a trailer \",\n",
       " \" it's pure goobumps\",\n",
       " \"Despite their strong bond, the thought of them turning into each other's enemies is truly heart-wrenching\",\n",
       " 'Goosebumps @',\n",
       " ' WTF pure Goosebumps ',\n",
       " '️',\n",
       " 'DIEHARD FANS OF PRABOSS',\n",
       " ' GOOSEBUMPS overloaded',\n",
       " 'Who came here after SALAAR second Trailer ',\n",
       " '',\n",
       " '',\n",
       " 'Salaar is going to...make history and change the indian cinema forever...',\n",
       " '',\n",
       " '',\n",
       " '',\n",
       " ' jaw dropping action',\n",
       " 'This film will definitely be a blockbuster...',\n",
       " ' that scene ',\n",
       " '',\n",
       " 'Literally goosebumps ']"
      ]
     },
     "execution_count": 385,
     "metadata": {},
     "output_type": "execute_result"
    }
   ],
   "source": [
    "comment"
   ]
  },
  {
   "cell_type": "code",
   "execution_count": 386,
   "id": "2d5d5e0e",
   "metadata": {},
   "outputs": [
    {
     "data": {
      "text/plain": [
       "61"
      ]
     },
     "execution_count": 386,
     "metadata": {},
     "output_type": "execute_result"
    }
   ],
   "source": [
    "len(comment)"
   ]
  },
  {
   "cell_type": "code",
   "execution_count": 387,
   "id": "7124bdb0",
   "metadata": {},
   "outputs": [],
   "source": [
    "comment_time=[]\n",
    "comment_time_tag=driver.find_elements(By.XPATH,'//a[@class=\"yt-simple-endpoint style-scope yt-formatted-string\"]')\n",
    "for i in comment_time_tag:\n",
    "    Comment_time=i.text\n",
    "    comment_time.append(Comment_time)"
   ]
  },
  {
   "cell_type": "code",
   "execution_count": 388,
   "id": "31ea02c5",
   "metadata": {},
   "outputs": [
    {
     "data": {
      "text/plain": [
       "['',\n",
       " 'Hombale Films',\n",
       " '',\n",
       " '',\n",
       " '',\n",
       " '2 weeks ago',\n",
       " '1 day ago',\n",
       " '1 day ago',\n",
       " '1 day ago',\n",
       " '3:22',\n",
       " '4 days ago',\n",
       " '1 day ago',\n",
       " '2 weeks ago',\n",
       " '10 days ago',\n",
       " '1 day ago',\n",
       " '2:32',\n",
       " '11 days ago',\n",
       " '1 day ago',\n",
       " '2 weeks ago',\n",
       " '1 day ago',\n",
       " '2 days ago',\n",
       " '4 days ago',\n",
       " '1 day ago',\n",
       " '2 weeks ago',\n",
       " '10 days ago',\n",
       " '4 days ago',\n",
       " '21 hours ago',\n",
       " '2 days ago',\n",
       " '2 weeks ago',\n",
       " '12 days ago',\n",
       " '9 days ago',\n",
       " '14 hours ago',\n",
       " '5 days ago',\n",
       " '2 days ago',\n",
       " '2 weeks ago',\n",
       " '8 days ago',\n",
       " '5 days ago',\n",
       " '1 day ago',\n",
       " '3:36',\n",
       " '19 hours ago',\n",
       " '1 day ago',\n",
       " '2:08',\n",
       " '2 weeks ago',\n",
       " '2 weeks ago',\n",
       " '9 days ago',\n",
       " '1 day ago',\n",
       " '9 days ago',\n",
       " '3:37',\n",
       " '1 day ago',\n",
       " '2 weeks ago',\n",
       " '2:10']"
      ]
     },
     "execution_count": 388,
     "metadata": {},
     "output_type": "execute_result"
    }
   ],
   "source": [
    "comment_time"
   ]
  },
  {
   "cell_type": "code",
   "execution_count": 391,
   "id": "ed9906f6",
   "metadata": {},
   "outputs": [],
   "source": [
    "comment_upvote=[]\n",
    "comment_upvote_tag=driver.find_elements(By.XPATH,'//div[@class=\"style-scope ytd-comment-action-buttons-renderer\"]')\n",
    "for i in comment_upvote_tag:\n",
    "    Comment_upvote=i.text\n",
    "    comment_upvote.append(Comment_upvote)"
   ]
  },
  {
   "cell_type": "code",
   "execution_count": 392,
   "id": "6c7afdc2",
   "metadata": {},
   "outputs": [
    {
     "data": {
      "text/plain": [
       "['18K\\nReply',\n",
       " '',\n",
       " '',\n",
       " '',\n",
       " 'Reply',\n",
       " '',\n",
       " '76\\nReply',\n",
       " '',\n",
       " '',\n",
       " '',\n",
       " 'Reply',\n",
       " '',\n",
       " '61\\nReply',\n",
       " '',\n",
       " '',\n",
       " '',\n",
       " 'Reply',\n",
       " '',\n",
       " '17\\nReply',\n",
       " '',\n",
       " '',\n",
       " '',\n",
       " 'Reply',\n",
       " '',\n",
       " '12\\nReply',\n",
       " '',\n",
       " '',\n",
       " '',\n",
       " 'Reply',\n",
       " '',\n",
       " '4\\nReply',\n",
       " '',\n",
       " '',\n",
       " '',\n",
       " 'Reply',\n",
       " '',\n",
       " '5.9K\\nReply',\n",
       " '',\n",
       " '',\n",
       " '',\n",
       " 'Reply',\n",
       " '',\n",
       " '240\\nReply',\n",
       " '',\n",
       " '',\n",
       " '',\n",
       " 'Reply',\n",
       " '',\n",
       " '40\\nReply',\n",
       " '',\n",
       " '',\n",
       " '',\n",
       " 'Reply',\n",
       " '',\n",
       " '548\\nReply',\n",
       " '',\n",
       " '',\n",
       " '',\n",
       " 'Reply',\n",
       " '',\n",
       " '4\\nReply',\n",
       " '',\n",
       " '',\n",
       " '',\n",
       " 'Reply',\n",
       " '',\n",
       " '2K\\nReply',\n",
       " '',\n",
       " '',\n",
       " '',\n",
       " 'Reply',\n",
       " '',\n",
       " '8\\nReply',\n",
       " '',\n",
       " '',\n",
       " '',\n",
       " 'Reply',\n",
       " '',\n",
       " '44\\nReply',\n",
       " '',\n",
       " '',\n",
       " '',\n",
       " 'Reply',\n",
       " '',\n",
       " '28\\nReply',\n",
       " '',\n",
       " '',\n",
       " '',\n",
       " 'Reply',\n",
       " '',\n",
       " '3\\nReply',\n",
       " '',\n",
       " '',\n",
       " '',\n",
       " 'Reply',\n",
       " '',\n",
       " '1.8K\\nReply',\n",
       " '',\n",
       " '',\n",
       " '',\n",
       " 'Reply',\n",
       " '',\n",
       " '148\\nReply',\n",
       " '',\n",
       " '',\n",
       " '',\n",
       " 'Reply',\n",
       " '',\n",
       " '157\\nReply',\n",
       " '',\n",
       " '',\n",
       " '',\n",
       " 'Reply',\n",
       " '',\n",
       " 'Reply',\n",
       " '',\n",
       " '',\n",
       " '',\n",
       " 'Reply',\n",
       " '',\n",
       " '26\\nReply',\n",
       " '',\n",
       " '',\n",
       " '',\n",
       " 'Reply',\n",
       " '',\n",
       " '1.5K\\nReply',\n",
       " '',\n",
       " '',\n",
       " '',\n",
       " 'Reply',\n",
       " '',\n",
       " '290\\nReply',\n",
       " '',\n",
       " '',\n",
       " '',\n",
       " 'Reply',\n",
       " '',\n",
       " '38\\nReply',\n",
       " '',\n",
       " '',\n",
       " '',\n",
       " 'Reply',\n",
       " '',\n",
       " 'Reply',\n",
       " '',\n",
       " '',\n",
       " '',\n",
       " 'Reply',\n",
       " '',\n",
       " '42\\nReply',\n",
       " '',\n",
       " '',\n",
       " '',\n",
       " 'Reply',\n",
       " '',\n",
       " '3\\nReply',\n",
       " '',\n",
       " '',\n",
       " '',\n",
       " 'Reply',\n",
       " '',\n",
       " '2K\\nReply',\n",
       " '',\n",
       " '',\n",
       " '',\n",
       " 'Reply',\n",
       " '',\n",
       " '75\\nReply',\n",
       " '',\n",
       " '',\n",
       " '',\n",
       " 'Reply',\n",
       " '',\n",
       " '9\\nReply',\n",
       " '',\n",
       " '',\n",
       " '',\n",
       " 'Reply',\n",
       " '',\n",
       " '26\\nReply',\n",
       " '',\n",
       " '',\n",
       " '',\n",
       " 'Reply',\n",
       " '',\n",
       " '1\\nReply',\n",
       " '',\n",
       " '',\n",
       " '',\n",
       " 'Reply',\n",
       " '',\n",
       " '8\\nReply',\n",
       " '',\n",
       " '',\n",
       " '',\n",
       " 'Reply',\n",
       " '',\n",
       " '575\\nReply',\n",
       " '',\n",
       " '',\n",
       " '',\n",
       " 'Reply',\n",
       " '',\n",
       " '48\\nReply',\n",
       " '',\n",
       " '',\n",
       " '',\n",
       " 'Reply',\n",
       " '',\n",
       " '156\\nReply',\n",
       " '',\n",
       " '',\n",
       " '',\n",
       " 'Reply',\n",
       " '',\n",
       " '2\\nReply',\n",
       " '',\n",
       " '',\n",
       " '',\n",
       " 'Reply',\n",
       " '',\n",
       " '3\\nReply',\n",
       " '',\n",
       " '',\n",
       " '',\n",
       " 'Reply',\n",
       " '',\n",
       " '1\\nReply',\n",
       " '',\n",
       " '',\n",
       " '',\n",
       " 'Reply',\n",
       " '',\n",
       " '155\\nReply',\n",
       " '',\n",
       " '',\n",
       " '',\n",
       " 'Reply',\n",
       " '']"
      ]
     },
     "execution_count": 392,
     "metadata": {},
     "output_type": "execute_result"
    }
   ],
   "source": [
    "comment_upvote"
   ]
  },
  {
   "cell_type": "code",
   "execution_count": null,
   "id": "69510cb6",
   "metadata": {},
   "outputs": [],
   "source": [
    "# question 9\n",
    "# Write a python program to scrape a data for all available Hostels from https://www.hostelworld.com/ in \n",
    "# “London” location. You have to scrape hostel name, distance from city centre, ratings, total reviews, overall \n",
    "# reviews, privates from price, dorms from price, facilities and property description.  "
   ]
  },
  {
   "cell_type": "code",
   "execution_count": 3,
   "id": "2a7225b1",
   "metadata": {},
   "outputs": [],
   "source": [
    "driver=webdriver.Chrome()\n",
    "time.sleep(10)\n",
    "driver.get('https://www.hostelworld.com/')"
   ]
  },
  {
   "cell_type": "code",
   "execution_count": 24,
   "id": "0051b999",
   "metadata": {},
   "outputs": [],
   "source": [
    "keyword=driver.find_element(By.XPATH,'/html/body/div[3]/div/div/div[2]/div[2]/div[2]/div/div/div/div[1]/div[1]/div/div[2]/input')\n",
    "keyword.send_keys('london')"
   ]
  },
  {
   "cell_type": "code",
   "execution_count": 25,
   "id": "ad597ab6",
   "metadata": {},
   "outputs": [],
   "source": [
    "search=driver.find_element(By.XPATH,'/html/body/div[3]/div/div/div[2]/div[2]/div[2]/div/div/div/div[5]/button[1]')\n",
    "search.click()"
   ]
  },
  {
   "cell_type": "code",
   "execution_count": null,
   "id": "428d3867",
   "metadata": {},
   "outputs": [],
   "source": []
  }
 ],
 "metadata": {
  "kernelspec": {
   "display_name": "Python 3 (ipykernel)",
   "language": "python",
   "name": "python3"
  },
  "language_info": {
   "codemirror_mode": {
    "name": "ipython",
    "version": 3
   },
   "file_extension": ".py",
   "mimetype": "text/x-python",
   "name": "python",
   "nbconvert_exporter": "python",
   "pygments_lexer": "ipython3",
   "version": "3.10.9"
  }
 },
 "nbformat": 4,
 "nbformat_minor": 5
}
